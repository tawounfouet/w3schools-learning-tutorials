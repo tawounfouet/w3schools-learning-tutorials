{
 "cells": [
  {
   "cell_type": "markdown",
   "id": "924e960d-0ccb-4e3b-9fdf-ca3afaf71f31",
   "metadata": {},
   "source": [
    "<link rel=\"stylesheet\" href=\"https://maxcdn.bootstrapcdn.com/bootstrap/4.5.2/css/bootstrap.min.css\">\n",
    "\n",
    "\n",
    "<link rel=\"stylesheet\" href=\"https://cdn.jsdelivr.net/npm/bootstrap@4.5.3/dist/css/bootstrap.min.css\" integrity=\"sha384-TX8t27EcRE3e/ihU7zmQxVncDAy5uIKz4rEkgIXeMed4M0jlfIDPvg6uqKI2xXr2\" crossorigin=\"anonymous\">\n",
    "\n",
    "<script src=\"https://code.jquery.com/jquery-3.5.1.slim.min.js\" integrity=\"sha384-DfXdz2htPH0lsSSs5nCTpuj/zy4C+OGpamoFVy38MVBnE+IbbVYUew+OrCXaRkfj\" crossorigin=\"anonymous\"></script>\n",
    "<script src=\"https://cdn.jsdelivr.net/npm/bootstrap@4.5.3/dist/js/bootstrap.bundle.min.js\" integrity=\"sha384-ho+j7jyWK8fNQe+A12Hb8AhRq26LrZ/JpcUGGOn+Y7RsweNrtN/tE3MoK7ZeZDyx\" crossorigin=\"anonymous\"></script>\n",
    "\n",
    "\n",
    "<div class=\"alert alert-danger\" role=\"alert\">\n",
    "  A simple danger alert—check it out!\n",
    "</div>\n",
    "\n",
    "<div class=\"alert alert-info\" role=\"alert\">\n",
    "  A simple info alert—check it out!\n",
    "</div>"
   ]
  },
  {
   "cell_type": "markdown",
   "id": "64fe8654-dd92-4ad0-bffc-9d0432d7b0d1",
   "metadata": {},
   "source": [
    "# Python Classes and Objects"
   ]
  },
  {
   "cell_type": "markdown",
   "id": "a61ba61e-3b78-44c4-8e98-47cf07dd0826",
   "metadata": {},
   "source": [
    "**Python** is an object oriented programming language.\n",
    "\n",
    "- Almost everything in Python is an object, with its `properties` and `methods`.\n",
    "\n",
    "- A **Class** is like an object constructor, or a \"`blueprint`\" for creating objects."
   ]
  },
  {
   "cell_type": "markdown",
   "id": "2069030c-0a2c-4630-8c3f-12d2de0f47f2",
   "metadata": {},
   "source": [
    "###  Create a Class\n",
    "\n",
    "To create a class, use the keyword `class`:"
   ]
  },
  {
   "cell_type": "code",
   "execution_count": 1,
   "id": "98cfc01d-adaf-4298-b8f6-d9eb963f7e2b",
   "metadata": {},
   "outputs": [],
   "source": [
    "# Example - Create a class named MyClass, with a property named x:\n",
    "\n",
    "class MyClass:\n",
    "  x = 5"
   ]
  },
  {
   "cell_type": "markdown",
   "id": "617fde5b-cda0-43c2-ab10-849badc5c882",
   "metadata": {},
   "source": [
    "### Create Object\n",
    "\n",
    "Now we can use the class named MyClass to create objects:"
   ]
  },
  {
   "cell_type": "code",
   "execution_count": 2,
   "id": "1b29b0cc-f2a7-4c8a-9e97-ec69ffef5b47",
   "metadata": {},
   "outputs": [
    {
     "name": "stdout",
     "output_type": "stream",
     "text": [
      "5\n"
     ]
    }
   ],
   "source": [
    "# Example - Create an object named p1, and print the value of x:\n",
    "\n",
    "p1 = MyClass()\n",
    "print(p1.x)"
   ]
  },
  {
   "cell_type": "markdown",
   "id": "06e89672-82cf-411b-87fc-975b923dc53b",
   "metadata": {},
   "source": [
    "### The __init__() Function\n",
    "\n",
    "The examples above are classes and objects in their simplest form, and are not really useful in real life applications.\n",
    "\n",
    "- To understand the meaning of classes we have to understand the built-in __init__() function.\n",
    "\n",
    "- All classes have a function called __init__(), which is always executed when the class is being initiated.\n",
    "\n",
    "Use the __init__() function to assign values to object properties, or other operations that are necessary to do when the object is being created:"
   ]
  },
  {
   "cell_type": "code",
   "execution_count": 3,
   "id": "275065c6-310f-4fda-9cc4-e151422deade",
   "metadata": {},
   "outputs": [
    {
     "name": "stdout",
     "output_type": "stream",
     "text": [
      "John\n",
      "36\n"
     ]
    }
   ],
   "source": [
    "# Example - Create a class named Person, use the __init__() function to assign values for name and age:\n",
    "\n",
    "class Person:\n",
    "  def __init__(self, name, age):\n",
    "    self.name = name\n",
    "    self.age = age\n",
    "\n",
    "p1 = Person(\"John\", 36)\n",
    "\n",
    "print(p1.name)\n",
    "print(p1.age)"
   ]
  },
  {
   "cell_type": "markdown",
   "id": "34cf759a-2774-4d78-8bee-0d394984aebb",
   "metadata": {},
   "source": [
    "`Note: The __init__() function is called automatically every time the class is being used to create a new object.`"
   ]
  },
  {
   "cell_type": "markdown",
   "id": "ac01590d-705a-4a07-83e8-a3347dbb9e4e",
   "metadata": {},
   "source": [
    "### The __str__() Function\n",
    "\n",
    "The __str__() function controls what should be returned when the class object is represented as a string.\n",
    "\n",
    "If the __str__() function is not set, the string representation of the object is returned:"
   ]
  },
  {
   "cell_type": "code",
   "execution_count": 4,
   "id": "674133d5-8bd8-4001-8b06-e3ca8a5d473d",
   "metadata": {},
   "outputs": [
    {
     "name": "stdout",
     "output_type": "stream",
     "text": [
      "<__main__.Person object at 0x10d41d990>\n"
     ]
    }
   ],
   "source": [
    "# Example - The string representation of an object WITHOUT the __str__() function:\n",
    "\n",
    "class Person:\n",
    "  def __init__(self, name, age):\n",
    "    self.name = name\n",
    "    self.age = age\n",
    "\n",
    "p1 = Person(\"John\", 36)\n",
    "\n",
    "print(p1)"
   ]
  },
  {
   "cell_type": "code",
   "execution_count": 12,
   "id": "6e3f6abc-08a7-4940-b672-667443a989b4",
   "metadata": {},
   "outputs": [
    {
     "name": "stdout",
     "output_type": "stream",
     "text": [
      "<Person>. Name:John | Age:36\n"
     ]
    }
   ],
   "source": [
    "# Example - The string representation of an object WITH the __str__() function:\n",
    "\n",
    "class Person:\n",
    "  def __init__(self, name, age):\n",
    "    self.name = name\n",
    "    self.age = age\n",
    "\n",
    "  def __str__(self):\n",
    "    return f\"<Person>. Name:{self.name} | Age:{self.age}\"\n",
    "\n",
    "p1 = Person(\"John\", 36)\n",
    "\n",
    "print(p1)"
   ]
  },
  {
   "cell_type": "markdown",
   "id": "93f03605-03d7-4d5f-b6e9-af5650a44be7",
   "metadata": {},
   "source": [
    "### Object Methods\n",
    "\n",
    "**Objects** can also contain methods. Methods in objects are functions that belong to the object.\n",
    "\n",
    "Let us create a method in the Person class:\n",
    "\n"
   ]
  },
  {
   "cell_type": "code",
   "execution_count": 13,
   "id": "9da0b5e1-6150-43d8-80f7-9e7f0d23060f",
   "metadata": {},
   "outputs": [
    {
     "name": "stdout",
     "output_type": "stream",
     "text": [
      "Hello my name is John\n"
     ]
    }
   ],
   "source": [
    "# Example - Insert a function that prints a greeting, and execute it on the p1 object:\n",
    "\n",
    "class Person:\n",
    "  def __init__(self, name, age):\n",
    "    self.name = name\n",
    "    self.age = age\n",
    "\n",
    "  def myfunc(self):\n",
    "    print(\"Hello my name is \" + self.name)\n",
    "\n",
    "p1 = Person(\"John\", 36)\n",
    "p1.myfunc()"
   ]
  },
  {
   "cell_type": "markdown",
   "id": "8bc44d80-e30d-4e0c-9fdb-5e1d1b46fc38",
   "metadata": {},
   "source": [
    "\n",
    "<div class=\"alert alert-info\" role=\"alert\">\n",
    "  The <strong>self</strong> parameter is a reference to the current instance of the class, and is used to access variables that belong to the class.\n",
    "</div>\n",
    "\n"
   ]
  },
  {
   "cell_type": "markdown",
   "id": "525ded98-4af2-4ab7-b485-4baf10c4985e",
   "metadata": {},
   "source": [
    "### The self Parameter\n",
    "\n",
    "The **self** parameter is a reference to the current instance of the class, and is used to access variables that belongs to the class.\n",
    "\n",
    "It does not have to be named **self** , you can call it whatever you like, but it has to be the first parameter of any function in the class:"
   ]
  },
  {
   "cell_type": "code",
   "execution_count": 19,
   "id": "68327505-c447-41b7-bc36-c9875595a5f5",
   "metadata": {},
   "outputs": [
    {
     "name": "stdout",
     "output_type": "stream",
     "text": [
      "Hello my name is John\n"
     ]
    }
   ],
   "source": [
    "# Example - Use the words mysillyobject and abc instead of self:\n",
    "\n",
    "class Person:\n",
    "  def __init__(mysillyobject, name, age):\n",
    "    mysillyobject.name = name\n",
    "    mysillyobject.age = age\n",
    "\n",
    "  def myfunc(abc):\n",
    "    print(\"Hello my name is \" + abc.name)\n",
    "\n",
    "p1 = Person(\"John\", 36)\n",
    "p1.myfunc()"
   ]
  },
  {
   "cell_type": "markdown",
   "id": "7c23f884-8b00-465a-a511-3aea900c91b4",
   "metadata": {},
   "source": [
    "### Modify Object Properties\n",
    "\n",
    "You can modify properties on objects like this:"
   ]
  },
  {
   "cell_type": "code",
   "execution_count": 16,
   "id": "ddd5431c-3f48-4176-9a3c-f458404059bf",
   "metadata": {},
   "outputs": [
    {
     "data": {
      "text/plain": [
       "40"
      ]
     },
     "execution_count": 16,
     "metadata": {},
     "output_type": "execute_result"
    }
   ],
   "source": [
    "# Example - Set the age of p1 to 40:\n",
    "\n",
    "p1.age = 40\n",
    "p1.age"
   ]
  },
  {
   "cell_type": "markdown",
   "id": "b084db12-5bad-4299-ba87-787cded5be01",
   "metadata": {},
   "source": [
    "### Delete Object Properties\n",
    "\n",
    "You can delete properties on objects by using the del keyword:"
   ]
  },
  {
   "cell_type": "code",
   "execution_count": 17,
   "id": "15b93110-a869-4b36-b969-d53e47b61763",
   "metadata": {},
   "outputs": [],
   "source": [
    "# Example - Delete the age property from the p1 object:\n",
    "\n",
    "del p1.age"
   ]
  },
  {
   "cell_type": "markdown",
   "id": "39182ad7-01fc-4369-8d23-c00f2ad7fdf8",
   "metadata": {},
   "source": [
    "### Delete Objects\n",
    "\n",
    "You can delete objects by using the *del** keyword:\n",
    "\n"
   ]
  },
  {
   "cell_type": "code",
   "execution_count": 21,
   "id": "f0e26c4c-324c-4ca7-bc23-2417646bab31",
   "metadata": {},
   "outputs": [],
   "source": [
    "# Example - Delete the p1 object:\n",
    "\n",
    "del p1"
   ]
  },
  {
   "cell_type": "markdown",
   "id": "95ae8667-aa5e-4bfa-81f3-00437fbf7348",
   "metadata": {},
   "source": [
    "### The pass Statement\n",
    "\n",
    "**class** definitions cannot be empty, but if you for some reason have a `class definition` with no content, put in the **pass** statement to avoid getting an error."
   ]
  },
  {
   "cell_type": "code",
   "execution_count": 22,
   "id": "510baa76-8785-49ff-9f12-e07f28f49660",
   "metadata": {},
   "outputs": [],
   "source": [
    "# Example \n",
    "\n",
    "class Person:\n",
    "  pass"
   ]
  },
  {
   "cell_type": "code",
   "execution_count": 23,
   "id": "0d7a8d6e-37e6-4019-b69e-ab6c39e583c6",
   "metadata": {},
   "outputs": [
    {
     "data": {
      "text/plain": [
       "__main__.Person"
      ]
     },
     "execution_count": 23,
     "metadata": {},
     "output_type": "execute_result"
    }
   ],
   "source": [
    "Person"
   ]
  },
  {
   "cell_type": "code",
   "execution_count": null,
   "id": "b7c35ae0-da0a-4545-ae5d-88dc213a387c",
   "metadata": {},
   "outputs": [],
   "source": []
  },
  {
   "cell_type": "markdown",
   "id": "6fd4eeba-9fef-429e-a8ba-b7accaeaea18",
   "metadata": {},
   "source": [
    "### Exerices"
   ]
  },
  {
   "cell_type": "code",
   "execution_count": 27,
   "id": "add911bc-6cb8-4a11-885f-a0f8757a8709",
   "metadata": {},
   "outputs": [
    {
     "data": {
      "text/plain": [
       "<__main__.MyClass at 0x10d7808b0>"
      ]
     },
     "execution_count": 27,
     "metadata": {},
     "output_type": "execute_result"
    }
   ],
   "source": [
    "#1. Create an object of MyClass called p1:\n",
    "\n",
    "\n",
    "class MyClass:\n",
    "  x = 5\n",
    "\n",
    "p1 = MyClass()\n",
    "p1"
   ]
  },
  {
   "cell_type": "code",
   "execution_count": 28,
   "id": "3e9ef566-bdfb-431b-aa9c-9e7e8fd7af85",
   "metadata": {},
   "outputs": [
    {
     "data": {
      "text/plain": [
       "__main__.MyClass"
      ]
     },
     "execution_count": 28,
     "metadata": {},
     "output_type": "execute_result"
    }
   ],
   "source": [
    "MyClass"
   ]
  },
  {
   "cell_type": "code",
   "execution_count": 29,
   "id": "97f759de-1b11-48c0-b35e-35cbfa97ebc9",
   "metadata": {},
   "outputs": [
    {
     "name": "stdout",
     "output_type": "stream",
     "text": [
      "5\n"
     ]
    }
   ],
   "source": [
    "#2. Use the p1 object to print the value of x:\n",
    "\n",
    "\n",
    "class MyClass:\n",
    "  x = 5\n",
    "\n",
    "p1 = MyClass()\n",
    "\n",
    "print(p1.x)"
   ]
  },
  {
   "cell_type": "code",
   "execution_count": 30,
   "id": "11cf8b4d-1b05-4505-8d93-d9db9aeb44a9",
   "metadata": {},
   "outputs": [],
   "source": [
    "#3. What is the correct syntax to assign a \"init\" function to a class?\n",
    "\n",
    "\n",
    "class Person:\n",
    "  def __init__(self, name, age):\n",
    "    self.name = name\n",
    "    self.age = age"
   ]
  },
  {
   "cell_type": "code",
   "execution_count": null,
   "id": "23ed41d8-c2fa-43fd-9dbc-67fec7d151fd",
   "metadata": {},
   "outputs": [],
   "source": []
  },
  {
   "cell_type": "markdown",
   "id": "99551ef5-89da-4830-a87c-9bcadec82f89",
   "metadata": {},
   "source": []
  },
  {
   "cell_type": "markdown",
   "id": "1130f9b5-31c1-46de-ba35-7c24e522aa07",
   "metadata": {},
   "source": [
    "\n",
    "\n",
    "# Python Inheritance"
   ]
  },
  {
   "cell_type": "markdown",
   "id": "c83ac5e2-b203-4581-9429-62f37294f334",
   "metadata": {},
   "source": [
    "**Inheritance** allows us to define a class that inherits all the methods and properties from another class.\n",
    "\n",
    "- **Parent** class is the class being inherited from, also called base class.\n",
    "\n",
    "- **Child** class is the class that inherits from another class, also called derived class."
   ]
  },
  {
   "cell_type": "markdown",
   "id": "85b6b8ac-a7e2-4e73-8e45-bee97584cb1e",
   "metadata": {},
   "source": [
    "### Create a Parent Class\n",
    "\n",
    "Any class can be a parent class, so the syntax is the same as creating any other class:"
   ]
  },
  {
   "cell_type": "code",
   "execution_count": 32,
   "id": "4ad6d330-7e8e-4801-b1f3-11caea0f086e",
   "metadata": {},
   "outputs": [
    {
     "name": "stdout",
     "output_type": "stream",
     "text": [
      "John Doe\n"
     ]
    }
   ],
   "source": [
    "# Example - Create a class named Person, with firstname and lastname properties, and a printname method:\n",
    "\n",
    "class Person:\n",
    "  def __init__(self, fname, lname):\n",
    "    self.firstname = fname\n",
    "    self.lastname = lname\n",
    "\n",
    "  def printname(self):\n",
    "    print(self.firstname, self.lastname)\n",
    "\n",
    "#Use the Person class to create an object, and then execute the printname method:\n",
    "\n",
    "p1 = Person(\"John\", \"Doe\")\n",
    "p1.printname()"
   ]
  },
  {
   "cell_type": "code",
   "execution_count": 33,
   "id": "7a86c119-dc9a-4d1f-b32f-18ce89839a08",
   "metadata": {},
   "outputs": [
    {
     "name": "stdout",
     "output_type": "stream",
     "text": [
      "Thomas AWOUNFOUET\n"
     ]
    }
   ],
   "source": [
    "p2 = Person(\"Thomas\", \"AWOUNFOUET\")\n",
    "p2.printname()"
   ]
  },
  {
   "cell_type": "markdown",
   "id": "3f2943b9-457c-495b-931d-ddb2338d2afe",
   "metadata": {},
   "source": [
    "### Create a Child Class\n",
    "\n",
    "To create a class that inherits the functionality from another class, send the parent class as a parameter when creating the child class:\n",
    "\n"
   ]
  },
  {
   "cell_type": "code",
   "execution_count": 35,
   "id": "7ec3d96f-6a12-4150-8fa4-4b515cc63b2b",
   "metadata": {},
   "outputs": [
    {
     "data": {
      "text/plain": [
       "__main__.Student"
      ]
     },
     "execution_count": 35,
     "metadata": {},
     "output_type": "execute_result"
    }
   ],
   "source": [
    "# Example - Create a class named Student, which will inherit the properties and methods from the Person class:\n",
    "\n",
    "class Student(Person):\n",
    "  pass\n",
    "\n",
    "Student"
   ]
  },
  {
   "cell_type": "markdown",
   "id": "f5c45603-7d95-436a-bb56-37af21547237",
   "metadata": {},
   "source": [
    "<div class=\"alert alert-info\" role=\"alert\">\n",
    "  Use the <strong>pass</strong>  keyword when you do not want to add any other properties or methods to the class.\n",
    "</div>"
   ]
  },
  {
   "cell_type": "markdown",
   "id": "79182c8a-29f9-42ff-9915-9dd32974c429",
   "metadata": {},
   "source": [
    "`Now the Student class has the same properties and methods as the Person class.`"
   ]
  },
  {
   "cell_type": "code",
   "execution_count": 37,
   "id": "0330496a-b2af-478b-a4dc-d788f56eadff",
   "metadata": {},
   "outputs": [
    {
     "name": "stdout",
     "output_type": "stream",
     "text": [
      "Mike Olsen\n"
     ]
    }
   ],
   "source": [
    "# Example - Use the Student class to create an object, and then execute the printname method:\n",
    "\n",
    "s1 = Student(\"Mike\", \"Olsen\")\n",
    "s1.printname()"
   ]
  },
  {
   "cell_type": "markdown",
   "id": "1941ca0a-64e0-4db0-9714-39ba91831b1a",
   "metadata": {},
   "source": [
    "### Add the __init__() Function\n",
    "\n",
    "So far we have created a child class that inherits the properties and methods from its parent.\n",
    "\n",
    "We want to add the __init__() function to the child class (instead of the pass keyword).\n",
    "\n",
    "<div class=\"alert alert-info\" role=\"alert\">\n",
    "  The <strong>__init__()</strong> function is called automatically every time the class is being used to create a new object.\n",
    "</div>"
   ]
  },
  {
   "cell_type": "code",
   "execution_count": 39,
   "id": "bf652b7f-8a8a-49a7-9a10-87f239d1fb58",
   "metadata": {},
   "outputs": [],
   "source": [
    "# Example - Add the __init__() function to the Student class:\n",
    "\n",
    "class Student(Person):\n",
    "  def __init__(self, fname, lname):\n",
    "      pass\n",
    "    #add properties etc."
   ]
  },
  {
   "cell_type": "markdown",
   "id": "201be266-6cc5-46ea-ba36-ccab62738870",
   "metadata": {},
   "source": [
    "- `When you add the __init__() function, the child class will no longer inherit the parent's __init__() function.\n",
    "\n"
   ]
  },
  {
   "cell_type": "markdown",
   "id": "3f5e0da7-f2f3-41c9-9c44-e02efc769597",
   "metadata": {},
   "source": [
    "<div class=\"alert alert-info\" role=\"alert\">\n",
    "  The <strong>child's __init__() </strong> function overrides the inheritance of the parent's __init__() function.\n",
    "</div>\n",
    "\n",
    "- To keep the inheritance of the parent's __init__() function, add a call to the parent's __init__() function:"
   ]
  },
  {
   "cell_type": "code",
   "execution_count": 40,
   "id": "5f76bdbf-1706-45b4-b237-13a5e4dcf018",
   "metadata": {},
   "outputs": [],
   "source": [
    "# Example\n",
    "\n",
    "class Student(Person):\n",
    "  def __init__(self, fname, lname):\n",
    "    Person.__init__(self, fname, lname)"
   ]
  },
  {
   "cell_type": "markdown",
   "id": "ca4ad215-1ca8-4819-bae1-55d4c9dfa385",
   "metadata": {},
   "source": [
    "- Now we have successfully added the __init__() function, and kept the inheritance of the parent class, and we are ready to add functionality in the __init__() function."
   ]
  },
  {
   "cell_type": "markdown",
   "id": "cbabf3fe-513d-4eb3-b4be-43154ee30c38",
   "metadata": {},
   "source": [
    "### Use the super() Function\n",
    "Python also has a **super()** function that will make the child class inherit all the methods and properties from its parent:\n",
    "\n"
   ]
  },
  {
   "cell_type": "code",
   "execution_count": 41,
   "id": "b0e2d6a8-1ac3-418e-91d3-7d3a963a3a47",
   "metadata": {},
   "outputs": [],
   "source": [
    "class Student(Person):\n",
    "  def __init__(self, fname, lname):\n",
    "    super().__init__(fname, lname)"
   ]
  },
  {
   "cell_type": "markdown",
   "id": "a388cdf8-e464-4004-a815-6b7da1b9ea8c",
   "metadata": {},
   "source": [
    "- By using the **super()** function, you do not have to use the name of the parent element, it will automatically inherit the methods and properties from its parent"
   ]
  },
  {
   "cell_type": "markdown",
   "id": "30e843ee-f030-4265-97ca-b67c92bdf0f8",
   "metadata": {},
   "source": [
    "### Add Properties"
   ]
  },
  {
   "cell_type": "code",
   "execution_count": 49,
   "id": "ccb41b04-f922-494c-afd0-7437c05a5f3c",
   "metadata": {},
   "outputs": [
    {
     "data": {
      "text/plain": [
       "<__main__.Student at 0x10dc03670>"
      ]
     },
     "execution_count": 49,
     "metadata": {},
     "output_type": "execute_result"
    }
   ],
   "source": [
    "# Example - Add a property called graduationyear to the Student class:\n",
    "\n",
    "class Student(Person):\n",
    "  def __init__(self, fname, lname):\n",
    "    super().__init__(fname, lname)\n",
    "    self.graduationyear = 2019\n",
    "\n",
    "s2 = Student(\"John\", \"Doe\") \n",
    "s2"
   ]
  },
  {
   "cell_type": "code",
   "execution_count": 51,
   "id": "49b47a28-408c-46ce-a3a5-8f9f203d2939",
   "metadata": {},
   "outputs": [
    {
     "data": {
      "text/plain": [
       "('John', 'Doe')"
      ]
     },
     "execution_count": 51,
     "metadata": {},
     "output_type": "execute_result"
    }
   ],
   "source": [
    "s2.firstname, s2.lastname"
   ]
  },
  {
   "cell_type": "code",
   "execution_count": 52,
   "id": "4e91a100-a1d6-454f-9623-f8b189b279e1",
   "metadata": {},
   "outputs": [
    {
     "name": "stdout",
     "output_type": "stream",
     "text": [
      "John Doe\n"
     ]
    }
   ],
   "source": [
    "s2.printname()"
   ]
  },
  {
   "cell_type": "code",
   "execution_count": 45,
   "id": "3743ac96-0571-464b-8f12-940cc7fe49c7",
   "metadata": {},
   "outputs": [
    {
     "data": {
      "text/plain": [
       "2019"
      ]
     },
     "execution_count": 45,
     "metadata": {},
     "output_type": "execute_result"
    }
   ],
   "source": [
    "s2.graduationyear"
   ]
  },
  {
   "cell_type": "markdown",
   "id": "c5cc092b-d2a0-4d3d-959f-0ff32f7dc734",
   "metadata": {},
   "source": [
    "- In the example below, the year 2019 should be a variable, and passed into the Student class when creating student objects. To do so, add another parameter in the __init__() function:"
   ]
  },
  {
   "cell_type": "code",
   "execution_count": 55,
   "id": "24b36ce7-9113-4b59-8705-32a0a537c532",
   "metadata": {},
   "outputs": [
    {
     "data": {
      "text/plain": [
       "<__main__.Student at 0x10dc00f40>"
      ]
     },
     "execution_count": 55,
     "metadata": {},
     "output_type": "execute_result"
    }
   ],
   "source": [
    "# Example - Add a year parameter, and pass the correct year when creating objects:\n",
    "\n",
    "class Student(Person):\n",
    "  def __init__(self, fname, lname, year):\n",
    "    super().__init__(fname, lname)\n",
    "    self.graduationyear = year\n",
    "\n",
    "s3 = Student(\"Mike\", \"Olsen\", 2019)\n",
    "s3 "
   ]
  },
  {
   "cell_type": "code",
   "execution_count": 56,
   "id": "b659fb26-ce11-4493-9b5e-52b034e2453e",
   "metadata": {},
   "outputs": [
    {
     "data": {
      "text/plain": [
       "('Mike', 'Olsen', 2019)"
      ]
     },
     "execution_count": 56,
     "metadata": {},
     "output_type": "execute_result"
    }
   ],
   "source": [
    "s3.firstname, s3.lastname, s3.graduationyear"
   ]
  },
  {
   "cell_type": "markdown",
   "id": "ae2195ff-a4bc-4521-a507-371c57b198e1",
   "metadata": {},
   "source": [
    "### Add Methods"
   ]
  },
  {
   "cell_type": "code",
   "execution_count": 57,
   "id": "8a55da72-4c2d-41bf-95b2-bf047be1118d",
   "metadata": {},
   "outputs": [],
   "source": [
    "# Example - Add a method called welcome to the Student class:\n",
    "\n",
    "class Student(Person):\n",
    "  def __init__(self, fname, lname, year):\n",
    "    super().__init__(fname, lname)\n",
    "    self.graduationyear = year\n",
    "\n",
    "  def welcome(self):\n",
    "    print(\"Welcome\", self.firstname, self.lastname, \"to the class of\", self.graduationyear)"
   ]
  },
  {
   "cell_type": "code",
   "execution_count": 58,
   "id": "040b8c7c-c6cb-47e7-9352-6de77a1d6f34",
   "metadata": {},
   "outputs": [
    {
     "data": {
      "text/plain": [
       "<__main__.Student at 0x10dc035b0>"
      ]
     },
     "execution_count": 58,
     "metadata": {},
     "output_type": "execute_result"
    }
   ],
   "source": [
    "s4 = Student(\"Mary\", \"Jane\", 2024)\n",
    "s4"
   ]
  },
  {
   "cell_type": "code",
   "execution_count": 59,
   "id": "7c6bbb5d-ca39-4d50-adaa-1bcd05802f6f",
   "metadata": {},
   "outputs": [
    {
     "data": {
      "text/plain": [
       "<bound method Student.welcome of <__main__.Student object at 0x10dc035b0>>"
      ]
     },
     "execution_count": 59,
     "metadata": {},
     "output_type": "execute_result"
    }
   ],
   "source": [
    "s4.welcome"
   ]
  },
  {
   "cell_type": "code",
   "execution_count": 60,
   "id": "1666f46c-b03a-48e9-8d12-bff9dc2a277e",
   "metadata": {},
   "outputs": [
    {
     "name": "stdout",
     "output_type": "stream",
     "text": [
      "Welcome Mary Jane to the class of 2024\n"
     ]
    }
   ],
   "source": [
    "s4.welcome()"
   ]
  },
  {
   "cell_type": "markdown",
   "id": "8fbcfc1c-cc2e-42f7-b215-9f484e32764f",
   "metadata": {},
   "source": [
    "- If you `add a method in the child class` with the **same name** as a function in the parent class, the inheritance of the parent method will be overridden.\n"
   ]
  },
  {
   "cell_type": "code",
   "execution_count": 61,
   "id": "420fdc5f-1101-4adf-b7b0-f583ecc03549",
   "metadata": {},
   "outputs": [],
   "source": [
    "# 1. Define the Parent Class Person:\n",
    "class Person:\n",
    "    def __init__(self, fname, lname):\n",
    "        self.firstname = fname\n",
    "        self.lastname = lname\n",
    "\n",
    "    def welcome(self):\n",
    "        print(\"Hello\", self.firstname, self.lastname)\n",
    "        \n",
    "\n",
    "# 2. Define the Child Class Student with an Overridden welcome Method:\n",
    "class Student(Person):\n",
    "    def __init__(self, fname, lname, year):\n",
    "        super().__init__(fname, lname)\n",
    "        self.graduationyear = year\n",
    "\n",
    "    # Overriding the welcome method\n",
    "    def welcome(self):\n",
    "        print(\"Welcome\", self.firstname, self.lastname, \"to the class of\", self.graduationyear)\n"
   ]
  },
  {
   "cell_type": "code",
   "execution_count": 62,
   "id": "dae8b6e0-5ee5-46f4-bb7c-e7fd87ad7427",
   "metadata": {},
   "outputs": [
    {
     "name": "stdout",
     "output_type": "stream",
     "text": [
      "Hello John Doe\n",
      "Welcome Jane Doe to the class of 2024\n"
     ]
    }
   ],
   "source": [
    "# 3. Verify the Overriding Behavior:\n",
    "\n",
    "# Example - Create instances of both classes and call the welcome method to see the effect of overriding.\n",
    "\n",
    "# Create an instance of Person\n",
    "person = Person(\"John\", \"Doe\")\n",
    "person.welcome()  # This should call the welcome method from the Person class\n",
    "\n",
    "# Create an instance of Student\n",
    "student = Student(\"Jane\", \"Doe\", 2024)\n",
    "student.welcome()  # This should call the overridden welcome method from the Student class\n"
   ]
  },
  {
   "cell_type": "markdown",
   "id": "cb9f376a-2221-40bf-b772-d59fbf761342",
   "metadata": {},
   "source": [
    "### Exercises \n",
    "\n"
   ]
  },
  {
   "cell_type": "code",
   "execution_count": 63,
   "id": "5c4fb1c4-071a-4a50-8189-05433872ef9a",
   "metadata": {},
   "outputs": [],
   "source": [
    "# 1. What is the correct syntax to create a class named Student that will inherit properties and methods from a class named Person?\n",
    "\n",
    "\n",
    "class Student(Person):\n",
    "    pass"
   ]
  },
  {
   "cell_type": "code",
   "execution_count": 64,
   "id": "d1c13314-a5ae-483c-9a73-094cfd96cca2",
   "metadata": {},
   "outputs": [
    {
     "name": "stdout",
     "output_type": "stream",
     "text": [
      "Mike\n"
     ]
    }
   ],
   "source": [
    "# 2. We have used the Student class to create an object named x.\n",
    "## ->  What is the correct syntax to execute the printname method of the object x?\n",
    "\n",
    "\n",
    "class Person:\n",
    "  def __init__(self, fname):\n",
    "    self.firstname = fname\n",
    "\n",
    "  def printname(self):\n",
    "    print(self.firstname)\n",
    "\n",
    "class Student(Person):\n",
    "  pass\n",
    "\n",
    "x = Student(\"Mike\")\n",
    "x.printname()"
   ]
  },
  {
   "cell_type": "markdown",
   "id": "ea2990c0-ba27-4bea-bf8f-7745a2c2af5a",
   "metadata": {},
   "source": []
  },
  {
   "cell_type": "code",
   "execution_count": null,
   "id": "b3ec5bec-c314-4d06-a306-e5b89951fe01",
   "metadata": {},
   "outputs": [],
   "source": []
  },
  {
   "cell_type": "markdown",
   "id": "0ba2175a-8daf-46e9-b6e4-b5d76b732090",
   "metadata": {},
   "source": [
    "# Python Iterators\n",
    "\n",
    "An **iterator** is an object that contains a countable number of values.\n",
    "\n",
    "- An iterator is an object that can be iterated upon, meaning that you can traverse through all the values.\n",
    "\n",
    "Technically, in Python, an iterator is an object which implements the `iterator protocol`, which consist of the methods : \n",
    "\n",
    "    - __iter__() \n",
    "    - __next__()"
   ]
  },
  {
   "cell_type": "markdown",
   "id": "eb85d513-8632-4848-b269-95a5879d7b19",
   "metadata": {},
   "source": [
    "### Iterator vs Iterable\n",
    "\n",
    "- **Lists**, **tuples**, **dictionaries**, and **sets** are all iterable objects. They are iterable containers which you can get an iterator from.\n",
    "\n",
    "- All these objects have a **iter()** method which is used to get an iterator"
   ]
  },
  {
   "cell_type": "code",
   "execution_count": 65,
   "id": "2755dca6-ba55-4e8f-8185-72de1ee981c9",
   "metadata": {},
   "outputs": [
    {
     "name": "stdout",
     "output_type": "stream",
     "text": [
      "apple\n",
      "banana\n",
      "cherry\n"
     ]
    }
   ],
   "source": [
    "# Example - Return an iterator from a tuple, and print each value:\n",
    "\n",
    "mytuple = (\"apple\", \"banana\", \"cherry\")\n",
    "myit = iter(mytuple)\n",
    "\n",
    "print(next(myit))\n",
    "print(next(myit))\n",
    "print(next(myit))"
   ]
  },
  {
   "cell_type": "code",
   "execution_count": 66,
   "id": "4c8f6e88-e9d2-4c8d-b6a2-6c5fc5295c0c",
   "metadata": {},
   "outputs": [
    {
     "data": {
      "text/plain": [
       "('apple', 'banana', 'cherry')"
      ]
     },
     "execution_count": 66,
     "metadata": {},
     "output_type": "execute_result"
    }
   ],
   "source": [
    "mytuple"
   ]
  },
  {
   "cell_type": "code",
   "execution_count": 67,
   "id": "fd41c598-4b5c-4ff1-9a71-c766eab55111",
   "metadata": {},
   "outputs": [
    {
     "data": {
      "text/plain": [
       "<tuple_iterator at 0x10dc02650>"
      ]
     },
     "execution_count": 67,
     "metadata": {},
     "output_type": "execute_result"
    }
   ],
   "source": [
    "myit"
   ]
  },
  {
   "cell_type": "code",
   "execution_count": 69,
   "id": "465180aa-6481-4c50-9dfa-5490b3ff3762",
   "metadata": {},
   "outputs": [
    {
     "data": {
      "text/plain": [
       "'apple'"
      ]
     },
     "execution_count": 69,
     "metadata": {},
     "output_type": "execute_result"
    }
   ],
   "source": [
    "myit = iter(mytuple)\n",
    "next(myit)"
   ]
  },
  {
   "cell_type": "code",
   "execution_count": 70,
   "id": "cd485f7d-a7c9-4d32-a1c2-a9107cdf69d5",
   "metadata": {},
   "outputs": [
    {
     "data": {
      "text/plain": [
       "'banana'"
      ]
     },
     "execution_count": 70,
     "metadata": {},
     "output_type": "execute_result"
    }
   ],
   "source": [
    "next(myit)"
   ]
  },
  {
   "cell_type": "code",
   "execution_count": 71,
   "id": "ceeb01a9-1428-4a08-bc24-c93f1811b180",
   "metadata": {},
   "outputs": [
    {
     "data": {
      "text/plain": [
       "'cherry'"
      ]
     },
     "execution_count": 71,
     "metadata": {},
     "output_type": "execute_result"
    }
   ],
   "source": [
    "next(myit)"
   ]
  },
  {
   "cell_type": "code",
   "execution_count": 72,
   "id": "2ccc730f-f410-453a-881b-a25b1950ba41",
   "metadata": {},
   "outputs": [
    {
     "ename": "StopIteration",
     "evalue": "",
     "output_type": "error",
     "traceback": [
      "\u001b[0;31m---------------------------------------------------------------------------\u001b[0m",
      "\u001b[0;31mStopIteration\u001b[0m                             Traceback (most recent call last)",
      "Cell \u001b[0;32mIn[72], line 1\u001b[0m\n\u001b[0;32m----> 1\u001b[0m \u001b[38;5;28;43mnext\u001b[39;49m\u001b[43m(\u001b[49m\u001b[43mmyit\u001b[49m\u001b[43m)\u001b[49m\n",
      "\u001b[0;31mStopIteration\u001b[0m: "
     ]
    }
   ],
   "source": [
    "next(myit)"
   ]
  },
  {
   "cell_type": "markdown",
   "id": "393c1362-df4b-4ce4-9915-bee2cc69f995",
   "metadata": {},
   "source": [
    "**Even strings are iterable objects, and can return an iterator:**"
   ]
  },
  {
   "cell_type": "code",
   "execution_count": 73,
   "id": "5fb73445-d288-4344-b6b3-c0fec1dd632f",
   "metadata": {},
   "outputs": [
    {
     "name": "stdout",
     "output_type": "stream",
     "text": [
      "b\n",
      "a\n",
      "n\n",
      "a\n",
      "n\n",
      "a\n"
     ]
    }
   ],
   "source": [
    "# Example - Strings are also iterable objects, containing a sequence of characters:\n",
    "\n",
    "mystr = \"banana\"\n",
    "myit = iter(mystr)\n",
    "\n",
    "print(next(myit))\n",
    "print(next(myit))\n",
    "print(next(myit))\n",
    "print(next(myit))\n",
    "print(next(myit))\n",
    "print(next(myit))"
   ]
  },
  {
   "cell_type": "markdown",
   "id": "f170a32f-1b22-4b89-a8b1-c06a6b3e15db",
   "metadata": {},
   "source": [
    "### Looping Through an Iterator\n",
    "\n",
    "We can also use a for loop to iterate through an iterable object:"
   ]
  },
  {
   "cell_type": "code",
   "execution_count": 74,
   "id": "36d878fa-5c4a-4e5f-839e-10bb025c685c",
   "metadata": {},
   "outputs": [
    {
     "name": "stdout",
     "output_type": "stream",
     "text": [
      "apple\n",
      "banana\n",
      "cherry\n"
     ]
    }
   ],
   "source": [
    "# Example - Iterate the values of a tuple:\n",
    "\n",
    "mytuple = (\"apple\", \"banana\", \"cherry\")\n",
    "\n",
    "for x in mytuple:\n",
    "  print(x)"
   ]
  },
  {
   "cell_type": "code",
   "execution_count": 75,
   "id": "a346cea4-83b0-4453-81ac-29f8b1690089",
   "metadata": {},
   "outputs": [
    {
     "name": "stdout",
     "output_type": "stream",
     "text": [
      "b\n",
      "a\n",
      "n\n",
      "a\n",
      "n\n",
      "a\n"
     ]
    }
   ],
   "source": [
    "# Example - Iterate the characters of a string:\n",
    "\n",
    "mystr = \"banana\"\n",
    "\n",
    "for x in mystr:\n",
    "  print(x)"
   ]
  },
  {
   "cell_type": "markdown",
   "id": "d8688157-72fa-445a-b873-5f89681e5020",
   "metadata": {},
   "source": [
    "- The **for loop** actually creates an iterator object and executes the next() method for each loop."
   ]
  },
  {
   "cell_type": "markdown",
   "id": "5b357b7f-756e-46af-9dd1-c5a3166772ef",
   "metadata": {},
   "source": [
    "### Create an Iterator\n",
    "\n",
    "To create an `object/class as an iterator` you have to implement the methods __iter__() and __next__() to your object.\n",
    "\n",
    "As you have learned in the Python Classes/Objects chapter, all classes have a function called __init__(), which allows you to do some initializing when the object is being created.\n",
    "\n",
    "- The __iter__() method acts similar, you can do operations (initializing etc.), but must always return the iterator object itself.\n",
    "\n",
    "- The __next__() method also allows you to do operations, and must return the next item in the sequence.\n",
    "\n"
   ]
  },
  {
   "cell_type": "code",
   "execution_count": 76,
   "id": "a745c5d8-ad68-47bf-b25a-55ab3d0da68b",
   "metadata": {},
   "outputs": [
    {
     "name": "stdout",
     "output_type": "stream",
     "text": [
      "1\n",
      "2\n",
      "3\n",
      "4\n",
      "5\n"
     ]
    }
   ],
   "source": [
    "# Example - Create an iterator that returns numbers, starting with 1, \n",
    "           # --> and each sequence will increase by one (returning 1,2,3,4,5 etc.):\n",
    "\n",
    "class MyNumbers:\n",
    "  def __iter__(self):\n",
    "    self.a = 1\n",
    "    return self\n",
    "\n",
    "  def __next__(self):\n",
    "    x = self.a\n",
    "    self.a += 1\n",
    "    return x\n",
    "\n",
    "myclass = MyNumbers()\n",
    "myiter = iter(myclass)\n",
    "\n",
    "print(next(myiter))\n",
    "print(next(myiter))\n",
    "print(next(myiter))\n",
    "print(next(myiter))\n",
    "print(next(myiter))"
   ]
  },
  {
   "cell_type": "code",
   "execution_count": 77,
   "id": "8b6d9f50-7d0e-4c8f-9ae7-47520635e1f8",
   "metadata": {},
   "outputs": [
    {
     "data": {
      "text/plain": [
       "<__main__.MyNumbers at 0x10dc73c10>"
      ]
     },
     "execution_count": 77,
     "metadata": {},
     "output_type": "execute_result"
    }
   ],
   "source": [
    "myclass = MyNumbers()\n",
    "myclass"
   ]
  },
  {
   "cell_type": "code",
   "execution_count": 80,
   "id": "9f346adb-9e44-41f6-a2ce-ad53daae6500",
   "metadata": {},
   "outputs": [
    {
     "data": {
      "text/plain": [
       "<bound method MyNumbers.__iter__ of <__main__.MyNumbers object at 0x10dc73c10>>"
      ]
     },
     "execution_count": 80,
     "metadata": {},
     "output_type": "execute_result"
    }
   ],
   "source": [
    "myclass.__iter__"
   ]
  },
  {
   "cell_type": "code",
   "execution_count": 81,
   "id": "c17629fa-af02-45d9-8427-aa30f85bccdf",
   "metadata": {},
   "outputs": [
    {
     "data": {
      "text/plain": [
       "<bound method MyNumbers.__next__ of <__main__.MyNumbers object at 0x10dc73c10>>"
      ]
     },
     "execution_count": 81,
     "metadata": {},
     "output_type": "execute_result"
    }
   ],
   "source": [
    "myclass.__next__"
   ]
  },
  {
   "cell_type": "code",
   "execution_count": 83,
   "id": "5597a4d7-51f8-44d4-ba91-b26f9108f6de",
   "metadata": {},
   "outputs": [
    {
     "data": {
      "text/plain": [
       "<__main__.MyNumbers at 0x10dc73c10>"
      ]
     },
     "execution_count": 83,
     "metadata": {},
     "output_type": "execute_result"
    }
   ],
   "source": [
    "myiter = iter(myclass)\n",
    "myiter"
   ]
  },
  {
   "cell_type": "code",
   "execution_count": 84,
   "id": "11cd28d6-644f-4010-ad00-794c5012943a",
   "metadata": {},
   "outputs": [
    {
     "data": {
      "text/plain": [
       "1"
      ]
     },
     "execution_count": 84,
     "metadata": {},
     "output_type": "execute_result"
    }
   ],
   "source": [
    "next(myiter)"
   ]
  },
  {
   "cell_type": "code",
   "execution_count": 86,
   "id": "13c1dcc5-4cd9-4f42-b1b5-38e8390ffd74",
   "metadata": {},
   "outputs": [
    {
     "data": {
      "text/plain": [
       "2"
      ]
     },
     "execution_count": 86,
     "metadata": {},
     "output_type": "execute_result"
    }
   ],
   "source": [
    "next(myiter)"
   ]
  },
  {
   "cell_type": "code",
   "execution_count": 87,
   "id": "e1bebea4-fbcb-4b47-90b8-ca9a199fb41d",
   "metadata": {},
   "outputs": [
    {
     "data": {
      "text/plain": [
       "3"
      ]
     },
     "execution_count": 87,
     "metadata": {},
     "output_type": "execute_result"
    }
   ],
   "source": [
    "next(myiter)"
   ]
  },
  {
   "cell_type": "markdown",
   "id": "c1f64875-46c5-4f9e-b9b7-16bdce0b6e87",
   "metadata": {},
   "source": [
    "### StopIteration\n",
    "\n",
    "The example above `would continue forever` if you had **enough next()** statements, or if it was used in a **for loop**.\n",
    "\n",
    "- To prevent the iteration from going on forever, we can use the **StopIteration** statement.\n",
    "\n",
    "In the __next__() method, we can add a terminating condition to raise an error if the iteration is done a specified number of times:"
   ]
  },
  {
   "cell_type": "code",
   "execution_count": 88,
   "id": "fdba17aa-a185-4e33-b09b-7f49b2cb8d05",
   "metadata": {},
   "outputs": [
    {
     "name": "stdout",
     "output_type": "stream",
     "text": [
      "1\n",
      "2\n",
      "3\n",
      "4\n",
      "5\n",
      "6\n",
      "7\n",
      "8\n",
      "9\n",
      "10\n",
      "11\n",
      "12\n",
      "13\n",
      "14\n",
      "15\n",
      "16\n",
      "17\n",
      "18\n",
      "19\n",
      "20\n"
     ]
    }
   ],
   "source": [
    "# Example - Stop after 20 iterations:\n",
    "\n",
    "class MyNumbers:\n",
    "  def __iter__(self):\n",
    "    self.a = 1\n",
    "    return self\n",
    "\n",
    "  def __next__(self):\n",
    "    if self.a <= 20:\n",
    "      x = self.a\n",
    "      self.a += 1\n",
    "      return x\n",
    "    else:\n",
    "      raise StopIteration\n",
    "\n",
    "myclass = MyNumbers()\n",
    "myiter = iter(myclass)\n",
    "\n",
    "for x in myiter:\n",
    "  print(x)"
   ]
  },
  {
   "cell_type": "markdown",
   "id": "157fc425-b821-4fc8-9fc8-6e81da94168f",
   "metadata": {},
   "source": []
  },
  {
   "cell_type": "code",
   "execution_count": null,
   "id": "96a642f6-78fb-45c0-835b-9ae6462c02ff",
   "metadata": {},
   "outputs": [],
   "source": []
  },
  {
   "cell_type": "markdown",
   "id": "30370587-01aa-479f-90ce-e0241e15bcf1",
   "metadata": {},
   "source": [
    "# Python Polymorphism\n",
    "\n",
    "The word \"**polymorphism**\" means \"**many forms**\", and in programming it refers to `methods/functions/operators with the same name` that can be executed on many objects or classes."
   ]
  },
  {
   "cell_type": "markdown",
   "id": "527203d6-7675-47ae-b9c0-93a47096a84b",
   "metadata": {},
   "source": [
    "### Function Polymorphism\n",
    "An example of a Python function that can be used on different objects is the **len()** function.\n",
    "\n",
    "#### String\n",
    "For **strings** `len()` returns the number of characters:\n",
    "\n"
   ]
  },
  {
   "cell_type": "code",
   "execution_count": 89,
   "id": "a8bd838d-f31c-4e30-ba80-3f1006783821",
   "metadata": {},
   "outputs": [
    {
     "name": "stdout",
     "output_type": "stream",
     "text": [
      "12\n"
     ]
    }
   ],
   "source": [
    "# Example \n",
    "\n",
    "x = \"Hello World!\"\n",
    "\n",
    "print(len(x))"
   ]
  },
  {
   "cell_type": "markdown",
   "id": "e61fe307-eb2b-4b92-9664-e19ce0e8748e",
   "metadata": {},
   "source": [
    "#### Tuple\n",
    "For **tuples** `len()` returns the number of items in the tuple:"
   ]
  },
  {
   "cell_type": "code",
   "execution_count": 90,
   "id": "c6482da0-9d35-42fe-91cd-cc3b0c7258d9",
   "metadata": {},
   "outputs": [
    {
     "name": "stdout",
     "output_type": "stream",
     "text": [
      "3\n"
     ]
    }
   ],
   "source": [
    "# Example\n",
    "\n",
    "mytuple = (\"apple\", \"banana\", \"cherry\")\n",
    "\n",
    "print(len(mytuple))"
   ]
  },
  {
   "cell_type": "markdown",
   "id": "7ce9b2f1-6c29-401f-95c6-c30b51f50d63",
   "metadata": {},
   "source": [
    "#### Dictionary\n",
    "For **dictionaries** `len()` returns the number of key/value pairs in the dictionary:\n",
    "\n"
   ]
  },
  {
   "cell_type": "code",
   "execution_count": 92,
   "id": "9f37b137-366a-4570-84e8-d179553b128a",
   "metadata": {},
   "outputs": [
    {
     "name": "stdout",
     "output_type": "stream",
     "text": [
      "3\n"
     ]
    }
   ],
   "source": [
    "# Example\n",
    "\n",
    "thisdict = {\n",
    "  \"brand\": \"Ford\",\n",
    "  \"model\": \"Mustang\",\n",
    "  \"year\": 1964\n",
    "}\n",
    "\n",
    "print(len(thisdict))"
   ]
  },
  {
   "cell_type": "markdown",
   "id": "082d4ead-8bcf-42cd-8404-0c891cea8dd0",
   "metadata": {},
   "source": [
    "### Class Polymorphism\n",
    "\n",
    "**Polymorphism** is often used in `Class methods`, where we can have multiple classes with the same method name.\n",
    "\n",
    "- For example, say we have three classes: `Car, Boat, and Plane`, and they all have a method called **move()**:"
   ]
  },
  {
   "cell_type": "code",
   "execution_count": 93,
   "id": "cc89216b-df33-4c01-8641-f7458320030f",
   "metadata": {},
   "outputs": [
    {
     "name": "stdout",
     "output_type": "stream",
     "text": [
      "Drive!\n",
      "Sail!\n",
      "Fly!\n"
     ]
    }
   ],
   "source": [
    "# Example - Different classes with the same method:\n",
    "\n",
    "class Car:\n",
    "  def __init__(self, brand, model):\n",
    "    self.brand = brand\n",
    "    self.model = model\n",
    "\n",
    "  def move(self):\n",
    "    print(\"Drive!\")\n",
    "\n",
    "class Boat:\n",
    "  def __init__(self, brand, model):\n",
    "    self.brand = brand\n",
    "    self.model = model\n",
    "\n",
    "  def move(self):\n",
    "    print(\"Sail!\")\n",
    "\n",
    "class Plane:\n",
    "  def __init__(self, brand, model):\n",
    "    self.brand = brand\n",
    "    self.model = model\n",
    "\n",
    "  def move(self):\n",
    "    print(\"Fly!\")\n",
    "\n",
    "car1 = Car(\"Ford\", \"Mustang\")       #Create a Car class\n",
    "boat1 = Boat(\"Ibiza\", \"Touring 20\") #Create a Boat class\n",
    "plane1 = Plane(\"Boeing\", \"747\")     #Create a Plane class\n",
    "\n",
    "for x in (car1, boat1, plane1):\n",
    "  x.move()"
   ]
  },
  {
   "cell_type": "markdown",
   "id": "10c8892d-28f3-4fb8-99bd-9d35d45d341e",
   "metadata": {},
   "source": [
    "- Look at the for loop at the end. Because of polymorphism we can execute the same method for all three classes."
   ]
  },
  {
   "cell_type": "markdown",
   "id": "e15e4035-42b3-45e0-b0ba-9139edefb6cc",
   "metadata": {},
   "source": [
    "### Inheritance Class Polymorphism\n",
    "\n",
    "- What about classes with **child** classes `with the same name`?`\n",
    "- Can we use polymorphism there?\n",
    "\n",
    "Yes. If we use the example above and make a parent class called Vehicle, and make Car, Boat, Plane child classes of Vehicle, the child classes inherits the Vehicle methods, but can override them:"
   ]
  },
  {
   "cell_type": "code",
   "execution_count": 104,
   "id": "87765a9f-a2de-45e5-a64c-8ea232487240",
   "metadata": {},
   "outputs": [
    {
     "name": "stdout",
     "output_type": "stream",
     "text": [
      "- Ford Mustang\n",
      "Move!\n",
      "\n",
      "- Ibiza Touring 20\n",
      "Sail!\n",
      "\n",
      "- Boeing 747\n",
      "Fly!\n",
      "\n"
     ]
    }
   ],
   "source": [
    "# Example - Create a class called Vehicle and make Car, Boat, Plane child classes of Vehicle:\n",
    "\n",
    "class Vehicle:\n",
    "  def __init__(self, brand, model):\n",
    "    self.brand = brand\n",
    "    self.model = model\n",
    "\n",
    "  def move(self):\n",
    "    print(\"Move!\")\n",
    "\n",
    "class Car(Vehicle):\n",
    "  pass\n",
    "\n",
    "class Boat(Vehicle):\n",
    "  def move(self):\n",
    "    print(\"Sail!\")\n",
    "\n",
    "class Plane(Vehicle):\n",
    "  def move(self):\n",
    "    print(\"Fly!\")\n",
    "\n",
    "car1 = Car(\"Ford\", \"Mustang\") #Create a Car object\n",
    "boat1 = Boat(\"Ibiza\", \"Touring 20\") #Create a Boat object\n",
    "plane1 = Plane(\"Boeing\", \"747\") #Create a Plane object\n",
    "\n",
    "for x in (car1, boat1, plane1):\n",
    "    print(f\"- {x.brand} {x.model}\")\n",
    "    x.move()\n",
    "    print()\n"
   ]
  },
  {
   "cell_type": "markdown",
   "id": "e931e05f-aab7-4f2c-9259-01590e7a6042",
   "metadata": {},
   "source": [
    "`Child classes inherits the properties and methods from the parent class`.\n",
    "\n",
    "\n",
    "- In the example above you can see that the **Car class** is empty, but it inherits brand, model, and move() from Vehicle.\n",
    "\n",
    "- The **Boat** and **Plane** classes also inherit brand, model, and move() from Vehicle, but they both override the move() method.\n",
    "\n",
    "Because of polymorphism we can execute the same method for all classes."
   ]
  },
  {
   "cell_type": "code",
   "execution_count": null,
   "id": "2baee4cf-bd0a-443d-a910-d936d17f4268",
   "metadata": {},
   "outputs": [],
   "source": []
  }
 ],
 "metadata": {
  "kernelspec": {
   "display_name": "Python 3 (ipykernel)",
   "language": "python",
   "name": "python3"
  },
  "language_info": {
   "codemirror_mode": {
    "name": "ipython",
    "version": 3
   },
   "file_extension": ".py",
   "mimetype": "text/x-python",
   "name": "python",
   "nbconvert_exporter": "python",
   "pygments_lexer": "ipython3",
   "version": "3.10.13"
  }
 },
 "nbformat": 4,
 "nbformat_minor": 5
}
