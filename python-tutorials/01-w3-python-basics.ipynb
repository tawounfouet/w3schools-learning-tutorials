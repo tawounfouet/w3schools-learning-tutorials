{
 "cells": [
  {
   "cell_type": "markdown",
   "id": "4067e77b-511e-4b98-b990-fcca07ad2949",
   "metadata": {},
   "source": [
    "## Get Started"
   ]
  },
  {
   "cell_type": "code",
   "execution_count": 46,
   "id": "19ed2625-9ff2-48cc-978a-4a1a03240e1e",
   "metadata": {},
   "outputs": [
    {
     "name": "stdout",
     "output_type": "stream",
     "text": [
      "3.10.13 (main, Mar 29 2024, 19:28:21) [Clang 15.0.0 (clang-1500.3.9.4)]\n"
     ]
    }
   ],
   "source": [
    "# Python Version\n",
    "\n",
    "import sys\n",
    "\n",
    "print(sys.version)"
   ]
  },
  {
   "cell_type": "code",
   "execution_count": 3,
   "id": "8829e635-9781-4ea6-93d9-f243ce213f60",
   "metadata": {},
   "outputs": [
    {
     "name": "stdout",
     "output_type": "stream",
     "text": [
      "Hello, World!\n"
     ]
    }
   ],
   "source": [
    "# Try our online Python :\n",
    "\n",
    "print(\"Hello, World!\")"
   ]
  },
  {
   "cell_type": "markdown",
   "id": "d61d798f-e9e1-4f65-b10c-396d07ddbe94",
   "metadata": {},
   "source": [
    "## Python Syntax"
   ]
  },
  {
   "cell_type": "markdown",
   "id": "176e00d1-653e-4d55-a9a3-40033aa7caf6",
   "metadata": {},
   "source": [
    "### Indentation"
   ]
  },
  {
   "cell_type": "code",
   "execution_count": 4,
   "id": "7a564510-f1a0-44e5-86a4-a5744a0d4f5d",
   "metadata": {},
   "outputs": [
    {
     "name": "stdout",
     "output_type": "stream",
     "text": [
      "Five is greater than two!\n"
     ]
    }
   ],
   "source": [
    "if 5 > 2:\n",
    "  print(\"Five is greater than two!\")"
   ]
  },
  {
   "cell_type": "code",
   "execution_count": 5,
   "id": "2fb4aa17-f775-4858-8684-969b547e5218",
   "metadata": {},
   "outputs": [
    {
     "ename": "IndentationError",
     "evalue": "expected an indented block after 'if' statement on line 1 (3793329317.py, line 2)",
     "output_type": "error",
     "traceback": [
      "\u001b[0;36m  Cell \u001b[0;32mIn[5], line 2\u001b[0;36m\u001b[0m\n\u001b[0;31m    print(\"Five is greater than two!\")\u001b[0m\n\u001b[0m    ^\u001b[0m\n\u001b[0;31mIndentationError\u001b[0m\u001b[0;31m:\u001b[0m expected an indented block after 'if' statement on line 1\n"
     ]
    }
   ],
   "source": [
    "if 5 > 2:\n",
    "print(\"Five is greater than two!\")"
   ]
  },
  {
   "cell_type": "markdown",
   "id": "4444c17a-051c-4147-bf62-d7dd3716f83d",
   "metadata": {},
   "source": [
    "The number of spaces is up to you as a programmer, the most common use is four, but it has to be at least one."
   ]
  },
  {
   "cell_type": "code",
   "execution_count": 6,
   "id": "4939be8b-38e1-4a3a-bd56-ebb546f063ec",
   "metadata": {},
   "outputs": [
    {
     "name": "stdout",
     "output_type": "stream",
     "text": [
      "Five is greater than two!\n",
      "Five is greater than two!\n"
     ]
    }
   ],
   "source": [
    "if 5 > 2:\n",
    " print(\"Five is greater than two!\") \n",
    "if 5 > 2:\n",
    "        print(\"Five is greater than two!\") "
   ]
  },
  {
   "cell_type": "markdown",
   "id": "afc91c8c-c806-47d4-949b-2adf2fa4e608",
   "metadata": {},
   "source": [
    "You have to use the same number of spaces in the same block of code, otherwise Python will give you an error:\n",
    "\n"
   ]
  },
  {
   "cell_type": "code",
   "execution_count": 7,
   "id": "7060c697-5b9b-421e-b319-dff24e9f0138",
   "metadata": {},
   "outputs": [
    {
     "ename": "IndentationError",
     "evalue": "unexpected indent (3430240237.py, line 3)",
     "output_type": "error",
     "traceback": [
      "\u001b[0;36m  Cell \u001b[0;32mIn[7], line 3\u001b[0;36m\u001b[0m\n\u001b[0;31m    print(\"Five is greater than two!\")\u001b[0m\n\u001b[0m    ^\u001b[0m\n\u001b[0;31mIndentationError\u001b[0m\u001b[0;31m:\u001b[0m unexpected indent\n"
     ]
    }
   ],
   "source": [
    "if 5 > 2:\n",
    " print(\"Five is greater than two!\")\n",
    "        print(\"Five is greater than two!\")"
   ]
  },
  {
   "cell_type": "code",
   "execution_count": 8,
   "id": "dff9019a-b5ae-4547-acf1-d170960754a3",
   "metadata": {},
   "outputs": [],
   "source": []
  },
  {
   "cell_type": "markdown",
   "id": "da3d701e-29c7-46b5-aaa6-0927e172d78b",
   "metadata": {},
   "source": [
    "## Python Comments\n",
    "Python has commenting capability for the purpose of in-code documentation.\n",
    "\n",
    "Comments start with a `#`, and Python will render the rest of the line as a comment:"
   ]
  },
  {
   "cell_type": "code",
   "execution_count": 9,
   "id": "d80fffac-555c-42ab-9229-99fb1a5bd2d5",
   "metadata": {},
   "outputs": [
    {
     "name": "stdout",
     "output_type": "stream",
     "text": [
      "Hello, World!\n"
     ]
    }
   ],
   "source": [
    "#This is a comment.\n",
    "print(\"Hello, World!\")"
   ]
  },
  {
   "cell_type": "code",
   "execution_count": 10,
   "id": "a299d023-fa5a-4871-8f84-7813f80f43e0",
   "metadata": {},
   "outputs": [
    {
     "name": "stdout",
     "output_type": "stream",
     "text": [
      "Hello, World!\n"
     ]
    }
   ],
   "source": [
    "print(\"Hello, World!\") #This is a comment"
   ]
  },
  {
   "cell_type": "code",
   "execution_count": 11,
   "id": "7112b1e0-6169-46b5-bd46-1e6c090cf50a",
   "metadata": {},
   "outputs": [
    {
     "name": "stdout",
     "output_type": "stream",
     "text": [
      "Cheers, Mate!\n"
     ]
    }
   ],
   "source": [
    "#print(\"Hello, World!\")\n",
    "print(\"Cheers, Mate!\")"
   ]
  },
  {
   "cell_type": "markdown",
   "id": "020b4727-ca4b-4537-9a7d-421279b9c3ff",
   "metadata": {},
   "source": [
    "#### Multiline Comments"
   ]
  },
  {
   "cell_type": "code",
   "execution_count": 12,
   "id": "a058e331-d974-4897-8e75-f64605b3293d",
   "metadata": {},
   "outputs": [
    {
     "name": "stdout",
     "output_type": "stream",
     "text": [
      "Hello, World!\n"
     ]
    }
   ],
   "source": [
    "#This is a comment\n",
    "#written in\n",
    "#more than just one line\n",
    "print(\"Hello, World!\")"
   ]
  },
  {
   "cell_type": "code",
   "execution_count": 13,
   "id": "9e5bce98-b32c-413a-9cb1-5a36a1918533",
   "metadata": {},
   "outputs": [
    {
     "name": "stdout",
     "output_type": "stream",
     "text": [
      "Hello, World!\n"
     ]
    }
   ],
   "source": [
    "\"\"\"\n",
    "This is a comment\n",
    "written in\n",
    "more than just one line\n",
    "\"\"\"\n",
    "print(\"Hello, World!\")"
   ]
  },
  {
   "cell_type": "markdown",
   "id": "77b5ae41-1b73-409e-b565-eb20a8ec5dc4",
   "metadata": {},
   "source": [
    "## Python Variables\n",
    "\n",
    "**variables** are containers for storing data values"
   ]
  },
  {
   "cell_type": "code",
   "execution_count": 16,
   "id": "a6bf4b60-2a2d-4aeb-88fc-898f9c0bdbb5",
   "metadata": {},
   "outputs": [
    {
     "name": "stdout",
     "output_type": "stream",
     "text": [
      "5\n",
      "Thomas\n"
     ]
    }
   ],
   "source": [
    "# Example of variables in python\n",
    "\n",
    "x = 5\n",
    "y = \"Thomas\"\n",
    "print(x)\n",
    "print(y)"
   ]
  },
  {
   "cell_type": "markdown",
   "id": "cf2b339c-ef41-451d-93bf-a8f7d57cf22f",
   "metadata": {},
   "source": [
    "Variables do not need to be declared with any particular type, and can even change type after they have been set."
   ]
  },
  {
   "cell_type": "code",
   "execution_count": 17,
   "id": "a70f1248-202e-4c0f-9e73-26d8286a3f01",
   "metadata": {},
   "outputs": [
    {
     "name": "stdout",
     "output_type": "stream",
     "text": [
      "Sally\n"
     ]
    }
   ],
   "source": [
    "x = 4       # x is of type int\n",
    "x = \"Sally\" # x is now of type str\n",
    "print(x)"
   ]
  },
  {
   "cell_type": "markdown",
   "id": "3c0cea3d-d796-4363-a078-5f91a9f92810",
   "metadata": {},
   "source": [
    "**Casting**\n",
    "\n",
    "If you want to specify the data type of a variable, this can be done with casting."
   ]
  },
  {
   "cell_type": "code",
   "execution_count": 18,
   "id": "4980b1a5-3567-49a6-9a64-531571959450",
   "metadata": {},
   "outputs": [],
   "source": [
    "x = str(3)    # x will be '3'\n",
    "y = int(3)    # y will be 3\n",
    "z = float(3)  # z will be 3.0"
   ]
  },
  {
   "cell_type": "markdown",
   "id": "c6dc5137-bde1-4028-9da7-5f063c6708e3",
   "metadata": {},
   "source": [
    "**Get the Type**\n",
    "\n",
    "You can get the data type of a variable with the type() function."
   ]
  },
  {
   "cell_type": "code",
   "execution_count": 20,
   "id": "2eb857f6-2ab5-4a27-bb51-f880e79fd1ee",
   "metadata": {},
   "outputs": [
    {
     "data": {
      "text/plain": [
       "(str, int, float)"
      ]
     },
     "execution_count": 20,
     "metadata": {},
     "output_type": "execute_result"
    }
   ],
   "source": [
    "type(x), type(y), type(z)"
   ]
  },
  {
   "cell_type": "markdown",
   "id": "72c16836-2e33-44e4-8028-e45995318505",
   "metadata": {},
   "source": [
    "**Single or Double Quotes?**\n",
    "\n",
    "String variables can be declared either by using single or double quotes:"
   ]
  },
  {
   "cell_type": "code",
   "execution_count": 22,
   "id": "b71bc989-45a4-4ca1-b5d4-6badef285427",
   "metadata": {},
   "outputs": [],
   "source": [
    "x = \"John\"\n",
    "# is the same as\n",
    "x = 'John'"
   ]
  },
  {
   "cell_type": "markdown",
   "id": "abee3cf0-67ab-4e10-b674-e5bbb6f780a7",
   "metadata": {},
   "source": [
    "**Case-Sensitive**\n",
    "\n",
    "Variable names are case-sensitive."
   ]
  },
  {
   "cell_type": "code",
   "execution_count": 23,
   "id": "48911396-6fef-4672-be6a-64ce351ef5ea",
   "metadata": {},
   "outputs": [],
   "source": [
    "a = 4\n",
    "A = \"Sally\"\n",
    "#A will not overwrite a"
   ]
  },
  {
   "cell_type": "code",
   "execution_count": 24,
   "id": "27ae2807-9dce-4df2-9c27-7e20327740b0",
   "metadata": {},
   "outputs": [
    {
     "data": {
      "text/plain": [
       "(4, 'Sally')"
      ]
     },
     "execution_count": 24,
     "metadata": {},
     "output_type": "execute_result"
    }
   ],
   "source": [
    "a, A"
   ]
  },
  {
   "cell_type": "markdown",
   "id": "c92c1fb6-3f71-4c73-ae79-c2f62522876f",
   "metadata": {},
   "source": [
    "### Python - Variable Names\n",
    "\n",
    "\n",
    "A variable can have a short name (like x and y) or a more descriptive name (age, carname, total_volume). Rules for Python variables:\n",
    "\n",
    "- A variable name must start with a `letter` or the `underscore character` (_)\n",
    "- A variable name cannot start with a `number`\n",
    "- A variable name can only contain `alpha-numeric` characters and `underscoresù (A-z, 0-9, and _ )\n",
    "- Variable names are `case-sensitive` (age, Age and AGE are three different variables)\n",
    "- A variable name cannot be any of the `Python keywords`."
   ]
  },
  {
   "cell_type": "code",
   "execution_count": 25,
   "id": "5535037e-d927-419c-8d50-028e961cce0a",
   "metadata": {},
   "outputs": [],
   "source": [
    "# Example - Legal variable names:\n",
    "\n",
    "myname = \"Thomas\"\n",
    "my_name = \"Thomas\"\n",
    "_my_name = \"Thomas\"\n",
    "myName = \"Thomas\"\n",
    "MYNAME = \"Thomas\"\n",
    "myname2 = \"Thomas\""
   ]
  },
  {
   "cell_type": "code",
   "execution_count": 26,
   "id": "78ff0b06-650d-44e0-ada9-276473849c64",
   "metadata": {},
   "outputs": [
    {
     "ename": "SyntaxError",
     "evalue": "invalid decimal literal (1952755524.py, line 3)",
     "output_type": "error",
     "traceback": [
      "\u001b[0;36m  Cell \u001b[0;32mIn[26], line 3\u001b[0;36m\u001b[0m\n\u001b[0;31m    2myvar = \"John\"\u001b[0m\n\u001b[0m    ^\u001b[0m\n\u001b[0;31mSyntaxError\u001b[0m\u001b[0;31m:\u001b[0m invalid decimal literal\n"
     ]
    }
   ],
   "source": [
    "# Example - Illegal variable names:\n",
    "\n",
    "2myvar = \"John\"\n",
    "my-var = \"John\"\n",
    "my var = \"John\""
   ]
  },
  {
   "cell_type": "markdown",
   "id": "23f0aaf0-cae6-48c7-b491-d902e9104553",
   "metadata": {},
   "source": [
    "**Multi Words Variable Names**\n",
    "\n",
    "Variable names with more than one word can be difficult to read.\n",
    "\n",
    "There are several techniques you can use to make them more readable:"
   ]
  },
  {
   "cell_type": "code",
   "execution_count": 27,
   "id": "7c244850-53cc-4f68-b7ba-4c4b4443df0e",
   "metadata": {},
   "outputs": [],
   "source": [
    "# Camel Case : Each word, except the first, starts with a capital letter\n",
    "myVariableName = \"John\"\n",
    "\n",
    "# Pascal Case : Each word starts with a capital letter:\n",
    "MyVariableName = \"John\"\n",
    "\n",
    "# Snake Case : Each word is separated by an underscore character\n",
    "my_variable_name = \"John\""
   ]
  },
  {
   "cell_type": "markdown",
   "id": "d6bf20c8-59f6-4373-9487-55b82d75f8c9",
   "metadata": {},
   "source": [
    "### Python Variables - Assign Multiple Values\n",
    "\n",
    "**Many Values to Multiple Variables**\n",
    "\n",
    "Python allows you to assign values to multiple variables in one line:"
   ]
  },
  {
   "cell_type": "code",
   "execution_count": 28,
   "id": "53504f91-462f-4158-8e3c-3a24cfbefcd5",
   "metadata": {},
   "outputs": [
    {
     "name": "stdout",
     "output_type": "stream",
     "text": [
      "Orange\n",
      "Banana\n",
      "Cherry\n"
     ]
    }
   ],
   "source": [
    "x, y, z = \"Orange\", \"Banana\", \"Cherry\"\n",
    "print(x)\n",
    "print(y)\n",
    "print(z)"
   ]
  },
  {
   "cell_type": "code",
   "execution_count": 29,
   "id": "03d55665-1761-49f7-ba33-b203d79bfcfd",
   "metadata": {},
   "outputs": [
    {
     "data": {
      "text/plain": [
       "('Orange', 'Banana', 'Cherry')"
      ]
     },
     "execution_count": 29,
     "metadata": {},
     "output_type": "execute_result"
    }
   ],
   "source": [
    "x, y, z"
   ]
  },
  {
   "cell_type": "markdown",
   "id": "736fc0bf-0b8a-4729-8b9c-56c6fd74976c",
   "metadata": {},
   "source": [
    "**One Value to Multiple Variables**\n",
    "\n",
    "And you can assign the same value to multiple variables in one line:\n"
   ]
  },
  {
   "cell_type": "code",
   "execution_count": 30,
   "id": "eb0dd63c-17bf-4000-8a0c-dbe10412730e",
   "metadata": {},
   "outputs": [
    {
     "name": "stdout",
     "output_type": "stream",
     "text": [
      "Orange\n",
      "Orange\n",
      "Orange\n"
     ]
    }
   ],
   "source": [
    "x = y = z = \"Orange\"\n",
    "print(x)\n",
    "print(y)\n",
    "print(z)"
   ]
  },
  {
   "cell_type": "code",
   "execution_count": 32,
   "id": "cc1fca24-4b2a-4416-9d4d-09d739869dc1",
   "metadata": {},
   "outputs": [
    {
     "data": {
      "text/plain": [
       "('Orange', 'Orange', 'Orange')"
      ]
     },
     "execution_count": 32,
     "metadata": {},
     "output_type": "execute_result"
    }
   ],
   "source": [
    "x, y, z"
   ]
  },
  {
   "cell_type": "markdown",
   "id": "3c9e1b70-5aae-4db7-9b3c-ccb2a7af8c52",
   "metadata": {},
   "source": [
    "**Unpack a Collection**\n",
    "\n",
    "If you have a collection of values in a list, tuple etc. Python allows you to extract the values into variables. This is called **unpacking**.\n",
    "\n"
   ]
  },
  {
   "cell_type": "code",
   "execution_count": 33,
   "id": "01eebcc3-db39-4d46-b042-2a0809a20551",
   "metadata": {},
   "outputs": [
    {
     "name": "stdout",
     "output_type": "stream",
     "text": [
      "apple\n",
      "banana\n",
      "cherry\n"
     ]
    }
   ],
   "source": [
    "fruits = [\"apple\", \"banana\", \"cherry\"]\n",
    "x, y, z = fruits\n",
    "print(x)\n",
    "print(y)\n",
    "print(z)"
   ]
  },
  {
   "cell_type": "code",
   "execution_count": 34,
   "id": "c26be3e1-d679-4da0-84ad-7640d988f4ab",
   "metadata": {},
   "outputs": [
    {
     "data": {
      "text/plain": [
       "('apple', 'banana', 'cherry')"
      ]
     },
     "execution_count": 34,
     "metadata": {},
     "output_type": "execute_result"
    }
   ],
   "source": [
    "x, y, z"
   ]
  },
  {
   "cell_type": "markdown",
   "id": "e6f88cd5-2db3-45b7-b2a7-99e89d8448c9",
   "metadata": {},
   "source": [
    "### Python - Output Variables\n",
    "\n",
    "The Python `print()` function is often used to output variables."
   ]
  },
  {
   "cell_type": "code",
   "execution_count": 35,
   "id": "6779c654-9734-406e-a9e9-b69a48b55f0f",
   "metadata": {},
   "outputs": [
    {
     "name": "stdout",
     "output_type": "stream",
     "text": [
      "Python is awesome\n"
     ]
    }
   ],
   "source": [
    "x = \"Python is awesome\"\n",
    "print(x)"
   ]
  },
  {
   "cell_type": "markdown",
   "id": "69a9b4c7-3c9d-4f61-b4fc-da8fa8a54548",
   "metadata": {},
   "source": []
  },
  {
   "cell_type": "code",
   "execution_count": 37,
   "id": "f4a0bf72-11ec-4f03-8388-c35ea1532a1a",
   "metadata": {},
   "outputs": [
    {
     "name": "stdout",
     "output_type": "stream",
     "text": [
      "Python is awesome\n"
     ]
    }
   ],
   "source": [
    "# In the print() function, you output multiple variables, separated by a comma:\n",
    "\n",
    "x = \"Python\"\n",
    "y = \"is\"\n",
    "z = \"awesome\"\n",
    "print(x, y, z)"
   ]
  },
  {
   "cell_type": "code",
   "execution_count": 38,
   "id": "d528e851-ef31-4b1c-9532-cd93e19d6afd",
   "metadata": {},
   "outputs": [
    {
     "name": "stdout",
     "output_type": "stream",
     "text": [
      "Python is awesome\n"
     ]
    }
   ],
   "source": [
    "# You can also use the + operator to output multiple variables:\n",
    "\n",
    "x = \"Python \"\n",
    "y = \"is \"\n",
    "z = \"awesome\"\n",
    "print(x + y + z)"
   ]
  },
  {
   "cell_type": "markdown",
   "id": "bc9bc6e0-052b-4031-8ab3-810fb62cb5a5",
   "metadata": {},
   "source": [
    "Notice the space character after `\"Python \"` and `\"is \"`, without them the result would be `\"Pythonisawesome\"`."
   ]
  },
  {
   "cell_type": "code",
   "execution_count": 39,
   "id": "51f5c55e-889a-4b11-be12-e3f41df4f209",
   "metadata": {},
   "outputs": [
    {
     "name": "stdout",
     "output_type": "stream",
     "text": [
      "15\n"
     ]
    }
   ],
   "source": [
    "# For numbers, the + character works as a mathematical operator:\n",
    "\n",
    "x = 5\n",
    "y = 10\n",
    "print(x + y)"
   ]
  },
  {
   "cell_type": "markdown",
   "id": "398a0e0d-c50f-4d4a-ae72-0a633d29ad9e",
   "metadata": {},
   "source": [
    "In the print() function, when you try to combine a string and a number with the + operator, Python will give you an error:"
   ]
  },
  {
   "cell_type": "code",
   "execution_count": 40,
   "id": "184e9ef5-59db-4a13-b49c-194b395d0128",
   "metadata": {},
   "outputs": [
    {
     "ename": "TypeError",
     "evalue": "unsupported operand type(s) for +: 'int' and 'str'",
     "output_type": "error",
     "traceback": [
      "\u001b[0;31m---------------------------------------------------------------------------\u001b[0m",
      "\u001b[0;31mTypeError\u001b[0m                                 Traceback (most recent call last)",
      "Cell \u001b[0;32mIn[40], line 3\u001b[0m\n\u001b[1;32m      1\u001b[0m x \u001b[38;5;241m=\u001b[39m \u001b[38;5;241m5\u001b[39m\n\u001b[1;32m      2\u001b[0m y \u001b[38;5;241m=\u001b[39m \u001b[38;5;124m\"\u001b[39m\u001b[38;5;124mJohn\u001b[39m\u001b[38;5;124m\"\u001b[39m\n\u001b[0;32m----> 3\u001b[0m \u001b[38;5;28mprint\u001b[39m(\u001b[43mx\u001b[49m\u001b[43m \u001b[49m\u001b[38;5;241;43m+\u001b[39;49m\u001b[43m \u001b[49m\u001b[43my\u001b[49m)\n",
      "\u001b[0;31mTypeError\u001b[0m: unsupported operand type(s) for +: 'int' and 'str'"
     ]
    }
   ],
   "source": [
    "x = 5\n",
    "y = \"John\"\n",
    "print(x + y)"
   ]
  },
  {
   "cell_type": "markdown",
   "id": "9ed9b2d1-56b9-4c04-9ce6-38fd6de4f6c2",
   "metadata": {},
   "source": [
    "The best way to output multiple variables in the print() function is to separate them with commas, which even support different data types:"
   ]
  },
  {
   "cell_type": "code",
   "execution_count": 41,
   "id": "63874779-d49b-4f0c-86da-b12b40cae387",
   "metadata": {},
   "outputs": [
    {
     "name": "stdout",
     "output_type": "stream",
     "text": [
      "5 John\n"
     ]
    }
   ],
   "source": [
    "x = 5\n",
    "y = \"John\"\n",
    "print(x, y)"
   ]
  },
  {
   "cell_type": "markdown",
   "id": "5d75a575-3aed-443a-b72a-f1060305bd8c",
   "metadata": {},
   "source": [
    "### Python - Global Variables\n",
    "\n",
    "Variables that are created outside of a function (as in all of the examples above) are known as global variables.\n",
    "\n",
    "Global variables can be used by everyone, both inside of functions and outside."
   ]
  },
  {
   "cell_type": "code",
   "execution_count": 42,
   "id": "b69ad79f-8717-4deb-a78e-e44d04c2d6ca",
   "metadata": {},
   "outputs": [
    {
     "name": "stdout",
     "output_type": "stream",
     "text": [
      "Python is awesome\n"
     ]
    }
   ],
   "source": [
    "# Example : Create a variable outside of a function, and use it inside the function\n",
    "\n",
    "x = \"awesome\"\n",
    "\n",
    "def myfunc():\n",
    "  print(\"Python is \" + x)\n",
    "\n",
    "myfunc()"
   ]
  },
  {
   "cell_type": "markdown",
   "id": "b033e0b9-a49e-4b81-81f7-9faa1459a642",
   "metadata": {},
   "source": [
    "If you create a variable with the same name inside a function, this variable will be local, and can only be used inside the function. The global variable with the same name will remain as it was, global and with the original value.\n",
    "\n"
   ]
  },
  {
   "cell_type": "code",
   "execution_count": 43,
   "id": "af955af4-e08f-455a-acf8-1fc273f428b2",
   "metadata": {},
   "outputs": [
    {
     "name": "stdout",
     "output_type": "stream",
     "text": [
      "Python is fantastic\n",
      "Python is awesome\n"
     ]
    }
   ],
   "source": [
    "# Example - Create a variable inside a function, with the same name as the global variable\n",
    "\n",
    "x = \"awesome\"\n",
    "\n",
    "def myfunc():\n",
    "  x = \"fantastic\"\n",
    "  print(\"Python is \" + x)\n",
    "\n",
    "myfunc()\n",
    "\n",
    "print(\"Python is \" + x)"
   ]
  },
  {
   "cell_type": "markdown",
   "id": "919c038f-5600-450b-aad6-9d1f570428aa",
   "metadata": {},
   "source": [
    "**The global Keyword**\n",
    "\n",
    "Normally, when you create a variable inside a function, that variable is local, and can only be used inside that function.\n",
    "\n",
    "To create a global variable inside a function, you can use the **global** keyword.\n",
    "\n"
   ]
  },
  {
   "cell_type": "code",
   "execution_count": 44,
   "id": "601af206-2f3c-4cab-928c-5992b29bcfbb",
   "metadata": {},
   "outputs": [
    {
     "name": "stdout",
     "output_type": "stream",
     "text": [
      "Python is fantastic\n"
     ]
    }
   ],
   "source": [
    "# Example  - If you use the global keyword, the variable belongs to the global scope:\n",
    "\n",
    "\n",
    "def myfunc():\n",
    "  global x\n",
    "  x = \"fantastic\"\n",
    "\n",
    "myfunc()\n",
    "\n",
    "print(\"Python is \" + x)"
   ]
  },
  {
   "cell_type": "markdown",
   "id": "83dcf117-62dd-4b6f-9fb4-eba1831bffd8",
   "metadata": {},
   "source": [
    "Also, use the global keyword if you want to change a global variable inside a function.\n",
    "\n",
    "To change the value of a global variable inside a function, refer to the variable by using the global keyword:"
   ]
  },
  {
   "cell_type": "code",
   "execution_count": 45,
   "id": "6dde0e98-b099-4064-8906-4f623328ed15",
   "metadata": {},
   "outputs": [
    {
     "name": "stdout",
     "output_type": "stream",
     "text": [
      "Python is fantastic\n"
     ]
    }
   ],
   "source": [
    "x = \"awesome\"\n",
    "\n",
    "def myfunc():\n",
    "  global x\n",
    "  x = \"fantastic\"\n",
    "\n",
    "myfunc()\n",
    "\n",
    "print(\"Python is \" + x)"
   ]
  },
  {
   "cell_type": "markdown",
   "id": "d07dbc17-c674-426e-b002-380f49d9c4bd",
   "metadata": {},
   "source": [
    "## Python - Variable Exercises"
   ]
  },
  {
   "cell_type": "code",
   "execution_count": 48,
   "id": "211dc5dd-0ca7-40ee-8edc-c498ab74d23f",
   "metadata": {},
   "outputs": [],
   "source": [
    "# Create a variable named carname and assign the value Volvo to it.\n",
    "carname = \"Volvo\""
   ]
  },
  {
   "cell_type": "code",
   "execution_count": 47,
   "id": "4c1b0817-833f-427d-b040-725be4533278",
   "metadata": {},
   "outputs": [],
   "source": [
    "# Create a variable named x and assign the value 50 to it.\n",
    "x = 50"
   ]
  },
  {
   "cell_type": "code",
   "execution_count": 49,
   "id": "1f988499-0e91-47ce-bbbe-8bf2bdd55a11",
   "metadata": {},
   "outputs": [
    {
     "name": "stdout",
     "output_type": "stream",
     "text": [
      "15\n"
     ]
    }
   ],
   "source": [
    "# Display the sum of 5 + 10, using two variables: x and y.\n",
    "\n",
    "x = 5\n",
    "y = 10\n",
    "print(x + y)"
   ]
  },
  {
   "cell_type": "code",
   "execution_count": 50,
   "id": "837da50a-5cfa-483a-9dff-2592ad1e8915",
   "metadata": {},
   "outputs": [
    {
     "name": "stdout",
     "output_type": "stream",
     "text": [
      "15\n"
     ]
    }
   ],
   "source": [
    "# Create a variable called z, assign x + y to it, and display the result.\n",
    "\n",
    "x = 5\n",
    "y = 10\n",
    "\n",
    "z = x + y\n",
    "\n",
    "print(z)"
   ]
  },
  {
   "cell_type": "code",
   "execution_count": 51,
   "id": "646a8191-2cf7-46b4-9cbf-f1d2ad2c6177",
   "metadata": {},
   "outputs": [],
   "source": [
    "#  Insert the correct syntax to assign values to multiple variables in one line:\n",
    "\n",
    "x, y, z = \"Orange\", \"Banana\", \"Cherry\""
   ]
  },
  {
   "cell_type": "code",
   "execution_count": 52,
   "id": "f603badb-d9f4-410b-9795-b4bd5abb71e5",
   "metadata": {},
   "outputs": [
    {
     "data": {
      "text/plain": [
       "('Orange', 'Banana', 'Cherry')"
      ]
     },
     "execution_count": 52,
     "metadata": {},
     "output_type": "execute_result"
    }
   ],
   "source": [
    "x, y, z"
   ]
  },
  {
   "cell_type": "code",
   "execution_count": 54,
   "id": "fcccec00-d32f-42d4-b780-df05433e6e74",
   "metadata": {},
   "outputs": [
    {
     "data": {
      "text/plain": [
       "('Orange', 'Orange', 'Orange')"
      ]
     },
     "execution_count": 54,
     "metadata": {},
     "output_type": "execute_result"
    }
   ],
   "source": [
    "# Insert the correct syntax to assign the same value to all three variables in one code line.\n",
    "\n",
    "x = y = z = \"Orange\"\n",
    "\n",
    "x, y, z"
   ]
  },
  {
   "cell_type": "code",
   "execution_count": 55,
   "id": "459847eb-d724-4658-b99d-3a4b118a09fc",
   "metadata": {},
   "outputs": [],
   "source": [
    "# Insert the correct keyword to make the variable x belong to the global scope.\n",
    "\n",
    "def myfunc():\n",
    "    global x\n",
    "    x = \"fantastic\""
   ]
  },
  {
   "cell_type": "markdown",
   "id": "60bd1243-5b33-4232-aebf-64f396b7178b",
   "metadata": {},
   "source": [
    "## Python Data Types"
   ]
  },
  {
   "cell_type": "markdown",
   "id": "8ae0a246-6261-4ebf-960d-911b19838279",
   "metadata": {},
   "source": [
    "### Built-in Data Types\n",
    "\n",
    "In programming, data type is an important concept.\n",
    "\n",
    "Variables can store data of different types, and different types can do different things.\n",
    "\n",
    "Python has the following data types built-in by default, in these categories:\n",
    "\n",
    "- `Text Type`:\tstr\n",
    "- `Numeric Types`:\tint, float, complex\n",
    "- `Sequence Types`:\tlist, tuple, range\n",
    "- `Mapping Type`:\tdict\n",
    "- `Set Types`:\tset, frozenset\n",
    "- `Boolean Type`:\tbool\n",
    "- `Binary Types`:\tbytes, bytearray, memoryview\n",
    "- `None Type`:\tNoneType"
   ]
  },
  {
   "cell_type": "markdown",
   "id": "e8ce48f6-dce2-4749-bf00-69948ce7fa32",
   "metadata": {},
   "source": [
    "### Getting the Data Type"
   ]
  },
  {
   "cell_type": "code",
   "execution_count": 56,
   "id": "bdbe8846-0017-4ea9-b273-18130df94c98",
   "metadata": {},
   "outputs": [
    {
     "name": "stdout",
     "output_type": "stream",
     "text": [
      "<class 'int'>\n"
     ]
    }
   ],
   "source": [
    "# Print the data type of the variable x\n",
    "\n",
    "x = 5\n",
    "print(type(x))"
   ]
  },
  {
   "cell_type": "code",
   "execution_count": 60,
   "id": "96267f6d-6a8c-4c12-8acc-a8740d80867e",
   "metadata": {},
   "outputs": [
    {
     "data": {
      "text/plain": [
       "int"
      ]
     },
     "execution_count": 60,
     "metadata": {},
     "output_type": "execute_result"
    }
   ],
   "source": [
    "type(x)"
   ]
  },
  {
   "cell_type": "code",
   "execution_count": 58,
   "id": "59856cb7-9376-4637-abe8-ae7ef6676673",
   "metadata": {},
   "outputs": [
    {
     "name": "stdout",
     "output_type": "stream",
     "text": [
      "<class 'str'>\n"
     ]
    }
   ],
   "source": [
    "myName = \"Thomas\"\n",
    "print(type(myName))"
   ]
  },
  {
   "cell_type": "code",
   "execution_count": 59,
   "id": "059cb670-7775-49ae-8bbf-6f83f103b18b",
   "metadata": {},
   "outputs": [
    {
     "data": {
      "text/plain": [
       "str"
      ]
     },
     "execution_count": 59,
     "metadata": {},
     "output_type": "execute_result"
    }
   ],
   "source": [
    "type(myName)"
   ]
  },
  {
   "cell_type": "markdown",
   "id": "699e6bcd-cc53-4e19-9753-8aab0d45e9c1",
   "metadata": {},
   "source": [
    "### Setting the Data Type\n",
    "\n",
    "In Python, the data type is set when you assign a value to a variable:"
   ]
  },
  {
   "cell_type": "code",
   "execution_count": 62,
   "id": "acbd9f7e-656a-465a-b170-11b64e27aa49",
   "metadata": {},
   "outputs": [],
   "source": [
    "# Example                             # Data Type\n",
    "\n",
    "x = \"Hello World\"\t                  # str\n",
    "x = 20                                # int\n",
    "x = 20.5                              # float\n",
    "\n"
   ]
  },
  {
   "cell_type": "code",
   "execution_count": 78,
   "id": "71c1edf2-e7d3-4f55-a251-7779e15d1691",
   "metadata": {},
   "outputs": [
    {
     "name": "stdout",
     "output_type": "stream",
     "text": [
      "<class 'complex'>\n"
     ]
    }
   ],
   "source": [
    "x = 1j                                # complex\n",
    "print(type(x))"
   ]
  },
  {
   "cell_type": "code",
   "execution_count": null,
   "id": "c208e644-b099-42fa-a3dd-f649c6a0fc4f",
   "metadata": {},
   "outputs": [],
   "source": [
    "x = [\"apple\", \"banana\", \"cherry\"]     # list \n",
    "x = (\"apple\", \"banana\", \"cherry\")     # tuple"
   ]
  },
  {
   "cell_type": "code",
   "execution_count": 72,
   "id": "a5d5610e-c8e9-4cf2-9c23-30505fbb9b1a",
   "metadata": {},
   "outputs": [
    {
     "name": "stdout",
     "output_type": "stream",
     "text": [
      "<class 'set'>\n"
     ]
    }
   ],
   "source": [
    "x = {\"apple\", \"banana\", \"cherry\"}\n",
    "print(type(x))"
   ]
  },
  {
   "cell_type": "code",
   "execution_count": 70,
   "id": "fde01568-876a-4e0b-abd2-705181a41a61",
   "metadata": {},
   "outputs": [
    {
     "name": "stdout",
     "output_type": "stream",
     "text": [
      "<class 'range'>\n"
     ]
    }
   ],
   "source": [
    "x = range(6)                          # range\n",
    "print(type(x))"
   ]
  },
  {
   "cell_type": "code",
   "execution_count": 71,
   "id": "4701938e-d365-4b3e-b004-77f18126650c",
   "metadata": {},
   "outputs": [
    {
     "name": "stdout",
     "output_type": "stream",
     "text": [
      "<class 'bool'>\n"
     ]
    }
   ],
   "source": [
    "x = True                             # bool\n",
    "print(type(x))"
   ]
  },
  {
   "cell_type": "code",
   "execution_count": 74,
   "id": "cd48bff5-6f88-4919-9492-b5858c213e58",
   "metadata": {},
   "outputs": [
    {
     "name": "stdout",
     "output_type": "stream",
     "text": [
      "<class 'dict'>\n"
     ]
    }
   ],
   "source": [
    "x = {\"name\": \"Thomas\", \"age\": 29}     # dict\n",
    "print(type(x))"
   ]
  },
  {
   "cell_type": "code",
   "execution_count": 75,
   "id": "e5ded648-f54f-4b38-8e8f-7345924d468f",
   "metadata": {},
   "outputs": [
    {
     "name": "stdout",
     "output_type": "stream",
     "text": [
      "<class 'frozenset'>\n"
     ]
    }
   ],
   "source": [
    "x = frozenset({\"apple\", \"banana\", \"cherry\"})\n",
    "print(type(x))"
   ]
  },
  {
   "cell_type": "code",
   "execution_count": 65,
   "id": "f40b15df-460b-4900-b5bf-42add03c43ad",
   "metadata": {},
   "outputs": [
    {
     "name": "stdout",
     "output_type": "stream",
     "text": [
      "<class 'bytes'>\n"
     ]
    }
   ],
   "source": [
    "x = b\"Hello\" # bytes\n",
    "print(type(x))"
   ]
  },
  {
   "cell_type": "code",
   "execution_count": 66,
   "id": "a8db7f13-41e7-4487-a194-25581fac25a3",
   "metadata": {},
   "outputs": [
    {
     "name": "stdout",
     "output_type": "stream",
     "text": [
      "<class 'bytearray'>\n"
     ]
    }
   ],
   "source": [
    "x = bytearray(5) # bytearray\n",
    "print(type(x))"
   ]
  },
  {
   "cell_type": "code",
   "execution_count": 68,
   "id": "66a15c84-7924-45e2-a83c-0ae3d3905b49",
   "metadata": {},
   "outputs": [
    {
     "name": "stdout",
     "output_type": "stream",
     "text": [
      "<class 'memoryview'>\n"
     ]
    }
   ],
   "source": [
    "x = memoryview(bytes(5)) # memoryview\n",
    "print(type(x))"
   ]
  },
  {
   "cell_type": "code",
   "execution_count": 69,
   "id": "3076b5f0-56e9-4e62-a8ef-7c6b7a9e55bf",
   "metadata": {},
   "outputs": [
    {
     "name": "stdout",
     "output_type": "stream",
     "text": [
      "<class 'NoneType'>\n"
     ]
    }
   ],
   "source": [
    "x = None # NoneType\n",
    "print(type(x))"
   ]
  },
  {
   "cell_type": "markdown",
   "id": "d3dc2608-0bf3-44d0-9119-67f79296c891",
   "metadata": {},
   "source": [
    "###  Setting the Specific Data Type\n",
    "\n",
    "If you want to specify the data type, you can use the following constructor functions:"
   ]
  },
  {
   "cell_type": "code",
   "execution_count": 77,
   "id": "2d8fe1cf-dcba-4954-a1d5-f3ed05e50ea9",
   "metadata": {},
   "outputs": [],
   "source": [
    "x = str(\"Hello World\")"
   ]
  },
  {
   "cell_type": "code",
   "execution_count": 76,
   "id": "0000e642-0c87-4571-8d3c-2e33789e5fbb",
   "metadata": {},
   "outputs": [],
   "source": [
    "x = str(\"Hello World\")\t#str\t\n",
    "x = int(20)\t# int\t\n",
    "x = float(20.5)\t# float\t\n",
    "x = complex(1j)\t# complex\t\n",
    "x = list((\"apple\", \"banana\", \"cherry\"))\t# list\t\n",
    "x = tuple((\"apple\", \"banana\", \"cherry\"))\t# tuple\t\n",
    "x = range(6)\t# range\t\n",
    "x = dict(name=\"John\", age=36)\t# dict\t\n",
    "x = set((\"apple\", \"banana\", \"cherry\"))\t# set\t\n",
    "x = frozenset((\"apple\", \"banana\", \"cherry\"))\t# frozenset\t\n",
    "x = bool(5) #bool\t\n",
    "x = bytes(5)\t# bytes\t\n",
    "x = bytearray(5)\t# bytearray\t\n",
    "x = memoryview(bytes(5))\t# memoryview"
   ]
  },
  {
   "cell_type": "markdown",
   "id": "b8a6a2f3-2b98-40ef-a39b-7df621bd3df6",
   "metadata": {},
   "source": [
    "## Python Numbers\n",
    "\n",
    "There are three numeric types in Python:\n",
    "\n",
    "- int\n",
    "- float\n",
    "- complex\n",
    "\n",
    "Variables of numeric types are created when you assign a value to them:"
   ]
  },
  {
   "cell_type": "code",
   "execution_count": 79,
   "id": "5ddb56c5-d753-4b8f-8686-ccb5094041a5",
   "metadata": {},
   "outputs": [],
   "source": [
    "x = 1    # int\n",
    "y = 2.8  # float\n",
    "z = 1j   # complex"
   ]
  },
  {
   "cell_type": "code",
   "execution_count": 80,
   "id": "699829c0-3324-49eb-a82c-39e166dd987b",
   "metadata": {},
   "outputs": [
    {
     "name": "stdout",
     "output_type": "stream",
     "text": [
      "<class 'int'>\n",
      "<class 'float'>\n",
      "<class 'complex'>\n"
     ]
    }
   ],
   "source": [
    "print(type(x))\n",
    "print(type(y))\n",
    "print(type(z))"
   ]
  },
  {
   "cell_type": "markdown",
   "id": "c91b9a4d-e691-4894-851c-1537ae2473d6",
   "metadata": {},
   "source": [
    "### Int\n",
    "\n",
    "**Int**, or integer, is a whole number, positive or negative, without decimals, of unlimited length."
   ]
  },
  {
   "cell_type": "code",
   "execution_count": 81,
   "id": "c09f7733-e739-4f25-a092-5e2811d97362",
   "metadata": {},
   "outputs": [
    {
     "name": "stdout",
     "output_type": "stream",
     "text": [
      "<class 'int'>\n",
      "<class 'int'>\n",
      "<class 'int'>\n"
     ]
    }
   ],
   "source": [
    "x = 1\n",
    "y = 35656222554887711\n",
    "z = -3255522\n",
    "\n",
    "print(type(x))\n",
    "print(type(y))\n",
    "print(type(z))"
   ]
  },
  {
   "cell_type": "markdown",
   "id": "867c1cf5-3335-4ea8-982b-9eadbc6a3cf7",
   "metadata": {},
   "source": [
    "### Float\n",
    "**Float**, or \"floating point number\" is a number, positive or negative, containing one or more decimals."
   ]
  },
  {
   "cell_type": "code",
   "execution_count": 82,
   "id": "79c55b21-c961-4fa9-9a1d-1aeb9216987b",
   "metadata": {},
   "outputs": [
    {
     "name": "stdout",
     "output_type": "stream",
     "text": [
      "<class 'float'>\n",
      "<class 'float'>\n",
      "<class 'float'>\n"
     ]
    }
   ],
   "source": [
    "x = 1.10\n",
    "y = 1.0\n",
    "z = -35.59\n",
    "\n",
    "print(type(x))\n",
    "print(type(y))\n",
    "print(type(z))"
   ]
  },
  {
   "cell_type": "markdown",
   "id": "c578a1a2-c82c-4df0-858c-2788449fe377",
   "metadata": {},
   "source": [
    "Float can also be scientific numbers with an \"e\" to indicate the power of 10."
   ]
  },
  {
   "cell_type": "code",
   "execution_count": 83,
   "id": "fb26a30b-5e0d-4c66-aabf-be32be1d0d4c",
   "metadata": {},
   "outputs": [
    {
     "name": "stdout",
     "output_type": "stream",
     "text": [
      "<class 'float'>\n",
      "<class 'float'>\n",
      "<class 'float'>\n"
     ]
    }
   ],
   "source": [
    "x = 35e3\n",
    "y = 12E4\n",
    "z = -87.7e100\n",
    "\n",
    "print(type(x))\n",
    "print(type(y))\n",
    "print(type(z))"
   ]
  },
  {
   "cell_type": "markdown",
   "id": "19ce8529-ace2-4554-bad6-f04224a6288a",
   "metadata": {},
   "source": [
    "### Complex\n",
    "Complex numbers are written with a \"j\" as the imaginary part:"
   ]
  },
  {
   "cell_type": "code",
   "execution_count": 84,
   "id": "e4345d1f-0303-4aff-bff9-187e40fc125f",
   "metadata": {},
   "outputs": [
    {
     "name": "stdout",
     "output_type": "stream",
     "text": [
      "<class 'complex'>\n",
      "<class 'complex'>\n",
      "<class 'complex'>\n"
     ]
    }
   ],
   "source": [
    "x = 3+5j\n",
    "y = 5j\n",
    "z = -5j\n",
    "\n",
    "print(type(x))\n",
    "print(type(y))\n",
    "print(type(z))"
   ]
  },
  {
   "cell_type": "code",
   "execution_count": 85,
   "id": "679b166f-17e3-4e4b-9d10-cf4738e22c3e",
   "metadata": {},
   "outputs": [
    {
     "data": {
      "text/plain": [
       "(3+5j)"
      ]
     },
     "execution_count": 85,
     "metadata": {},
     "output_type": "execute_result"
    }
   ],
   "source": [
    "x"
   ]
  },
  {
   "cell_type": "code",
   "execution_count": 86,
   "id": "c3aa38c4-bd66-43ac-9a8f-27e9e455fa63",
   "metadata": {},
   "outputs": [
    {
     "data": {
      "text/plain": [
       "5j"
      ]
     },
     "execution_count": 86,
     "metadata": {},
     "output_type": "execute_result"
    }
   ],
   "source": [
    "y"
   ]
  },
  {
   "cell_type": "code",
   "execution_count": 87,
   "id": "ed5babed-681f-494e-bb2f-a16dcc3b6a85",
   "metadata": {},
   "outputs": [
    {
     "data": {
      "text/plain": [
       "(-0-5j)"
      ]
     },
     "execution_count": 87,
     "metadata": {},
     "output_type": "execute_result"
    }
   ],
   "source": [
    "z"
   ]
  },
  {
   "cell_type": "markdown",
   "id": "8b882bf2-70c8-4ad9-9339-1f3528a84b9c",
   "metadata": {},
   "source": [
    "# Type Conversion\n",
    "\n",
    "You can convert from one type to another with the int(), float(), and complex() methods:\n"
   ]
  },
  {
   "cell_type": "code",
   "execution_count": 88,
   "id": "cac093c4-e039-4808-9c69-8e2b4b8a32a4",
   "metadata": {},
   "outputs": [
    {
     "name": "stdout",
     "output_type": "stream",
     "text": [
      "1.0\n",
      "2\n",
      "(1+0j)\n",
      "<class 'float'>\n",
      "<class 'int'>\n",
      "<class 'complex'>\n"
     ]
    }
   ],
   "source": [
    "x = 1    # int\n",
    "y = 2.8  # float\n",
    "z = 1j   # complex\n",
    "\n",
    "#convert from int to float:\n",
    "a = float(x)\n",
    "\n",
    "#convert from float to int:\n",
    "b = int(y)\n",
    "\n",
    "#convert from int to complex:\n",
    "c = complex(x)\n",
    "\n",
    "print(a)\n",
    "print(b)\n",
    "print(c)\n",
    "\n",
    "print(type(a))\n",
    "print(type(b))\n",
    "print(type(c))"
   ]
  },
  {
   "cell_type": "markdown",
   "id": "7ac5e84e-e3c9-4e9e-b44e-a67eb21b9265",
   "metadata": {},
   "source": [
    "**Note**: You cannot convert complex numbers into another number type."
   ]
  },
  {
   "cell_type": "markdown",
   "id": "130d4e2e-a3be-4929-b533-336e1714a2dd",
   "metadata": {},
   "source": [
    "### Random Number\n",
    "\n",
    "Python does not have a random() function to make a random number, but Python has a built-in module called random that can be used to make random numbers:"
   ]
  },
  {
   "cell_type": "code",
   "execution_count": 89,
   "id": "e98cd5ec-0521-4f0a-b859-b9c14c209a65",
   "metadata": {},
   "outputs": [
    {
     "data": {
      "text/plain": [
       "3"
      ]
     },
     "execution_count": 89,
     "metadata": {},
     "output_type": "execute_result"
    }
   ],
   "source": [
    "import random\n",
    "\n",
    "random.randrange(1, 10)"
   ]
  },
  {
   "cell_type": "code",
   "execution_count": 90,
   "id": "df576856-699d-4d50-a77a-c4fd9848e6a4",
   "metadata": {},
   "outputs": [
    {
     "name": "stdout",
     "output_type": "stream",
     "text": [
      "7\n"
     ]
    }
   ],
   "source": [
    "print(random.randrange(1, 10))"
   ]
  },
  {
   "cell_type": "markdown",
   "id": "59d308f9-fe70-4340-a879-a780020d1de2",
   "metadata": {},
   "source": [
    "##  Python Casting\n",
    "\n",
    "### Specify a Variable Type\n",
    "\n",
    "There may be times when you want to specify a type on to a variable. This can be done with casting. Python is an object-orientated language, and as such it uses classes to define data types, including its primitive types.\n",
    "\n",
    "Casting in python is therefore done using constructor functions:\n",
    "\n",
    "- `int()` - constructs an integer number from an integer literal, a float literal (by removing all decimals), or a string literal (providing the string represents a whole number)\n",
    "- `float()` - constructs a float number from an integer literal, a float literal or a string literal (providing the string represents a float or an integer)\n",
    "- `str()` - constructs a string from a wide variety of data types, including strings, integer literals and float literals"
   ]
  },
  {
   "cell_type": "code",
   "execution_count": 91,
   "id": "1c1d2d1b-4030-460a-8592-5c900f28ea9f",
   "metadata": {},
   "outputs": [],
   "source": [
    "# Example - cast into Integers\n",
    "\n",
    "x = int(1)   # x will be 1\n",
    "y = int(2.8) # y will be 2\n",
    "z = int(\"3\") # z will be 3"
   ]
  },
  {
   "cell_type": "code",
   "execution_count": 92,
   "id": "81add764-e676-4672-92df-e0ce709dece5",
   "metadata": {},
   "outputs": [
    {
     "data": {
      "text/plain": [
       "(1, 2, 3)"
      ]
     },
     "execution_count": 92,
     "metadata": {},
     "output_type": "execute_result"
    }
   ],
   "source": [
    "x, y, z"
   ]
  },
  {
   "cell_type": "code",
   "execution_count": 93,
   "id": "17649d24-224c-4c32-bd0c-35329e995f90",
   "metadata": {},
   "outputs": [],
   "source": [
    "# Example - cast into Floats\n",
    "\n",
    "x = float(1)     # x will be 1.0\n",
    "y = float(2.8)   # y will be 2.8\n",
    "z = float(\"3\")   # z will be 3.0\n",
    "w = float(\"4.2\") # w will be 4.2"
   ]
  },
  {
   "cell_type": "code",
   "execution_count": 94,
   "id": "48e8e8a6-d304-4c4d-ace4-b4e1888ddf89",
   "metadata": {},
   "outputs": [
    {
     "data": {
      "text/plain": [
       "(1.0, 2.8, 3.0, 4.2)"
      ]
     },
     "execution_count": 94,
     "metadata": {},
     "output_type": "execute_result"
    }
   ],
   "source": [
    "x, y, z, w"
   ]
  },
  {
   "cell_type": "code",
   "execution_count": 95,
   "id": "e3bd8b5f-264f-466c-9e82-93ee15fa3b42",
   "metadata": {},
   "outputs": [],
   "source": [
    "# Example - cast into String\n",
    "\n",
    "x = str(\"s1\") # x will be 's1'\n",
    "y = str(2)    # y will be '2'\n",
    "z = str(3.0)  # z will be '3.0'"
   ]
  },
  {
   "cell_type": "code",
   "execution_count": 96,
   "id": "c41578bb-0a42-4cda-b6ab-7ecaffb7831e",
   "metadata": {},
   "outputs": [
    {
     "data": {
      "text/plain": [
       "('s1', '2', '3.0')"
      ]
     },
     "execution_count": 96,
     "metadata": {},
     "output_type": "execute_result"
    }
   ],
   "source": [
    "x, y, z"
   ]
  },
  {
   "cell_type": "code",
   "execution_count": null,
   "id": "36576ac3-03ce-45fe-bd18-776514e9fbea",
   "metadata": {},
   "outputs": [],
   "source": []
  },
  {
   "cell_type": "markdown",
   "id": "83f76f7f-7a37-4422-8cc5-00c626f8c814",
   "metadata": {},
   "source": [
    "## Python Strings\n",
    "\n",
    "**Strings**\n",
    "\n",
    "Strings in python are surrounded by either single quotation marks, or double quotation marks.\n",
    "\n",
    "'hello' is the same as \"hello\".\n",
    "\n",
    "You can display a string literal with the print() function:"
   ]
  },
  {
   "cell_type": "code",
   "execution_count": 98,
   "id": "29bbb2fd-c464-460e-881b-5f824e084fed",
   "metadata": {},
   "outputs": [
    {
     "name": "stdout",
     "output_type": "stream",
     "text": [
      "Hello\n",
      "Hello\n"
     ]
    }
   ],
   "source": [
    "# example\n",
    "print(\"Hello\")\n",
    "print('Hello')"
   ]
  },
  {
   "cell_type": "markdown",
   "id": "46942a63-ffc8-438c-99b0-20d67258bd93",
   "metadata": {},
   "source": [
    "**Quotes Inside Quotes**\n",
    "\n",
    "You can use quotes inside a string, as long as they don't match the quotes surrounding the string:"
   ]
  },
  {
   "cell_type": "code",
   "execution_count": 99,
   "id": "caa83429-9a3f-4d78-bdda-b4fc9541f9d7",
   "metadata": {},
   "outputs": [
    {
     "name": "stdout",
     "output_type": "stream",
     "text": [
      "It's alright\n",
      "He is called 'Johnny'\n",
      "He is called \"Johnny\"\n"
     ]
    }
   ],
   "source": [
    "print(\"It's alright\")\n",
    "print(\"He is called 'Johnny'\")\n",
    "print('He is called \"Johnny\"')"
   ]
  },
  {
   "cell_type": "markdown",
   "id": "04819bd1-d3d6-4916-b09b-cb15095fc77b",
   "metadata": {},
   "source": [
    "**Assign String to a Variable**\n",
    "\n",
    "Assigning a string to a variable is done with the variable name followed by an equal sign and the string:"
   ]
  },
  {
   "cell_type": "code",
   "execution_count": 100,
   "id": "61b15fe8-5e31-46ea-badb-8315eff3bc4f",
   "metadata": {},
   "outputs": [
    {
     "name": "stdout",
     "output_type": "stream",
     "text": [
      "Hello\n"
     ]
    }
   ],
   "source": [
    "a = \"Hello\"\n",
    "print(a)"
   ]
  },
  {
   "cell_type": "markdown",
   "id": "4a241ede-b376-4b95-b1cd-037d3eb74ca0",
   "metadata": {},
   "source": [
    "**Multiline Strings**\n",
    "  \n",
    "You can assign a multiline string to a variable by using three quotes:"
   ]
  },
  {
   "cell_type": "code",
   "execution_count": 103,
   "id": "af5c0466-5b56-4c08-ae12-739e31111f06",
   "metadata": {},
   "outputs": [
    {
     "name": "stdout",
     "output_type": "stream",
     "text": [
      "Lorem ipsum dolor sit amet,\n",
      "consectetur adipiscing elit,\n",
      "sed do eiusmod tempor incididunt\n",
      "ut labore et dolore magna aliqua.\n"
     ]
    }
   ],
   "source": [
    "a = \"\"\"Lorem ipsum dolor sit amet,\n",
    "consectetur adipiscing elit,\n",
    "sed do eiusmod tempor incididunt\n",
    "ut labore et dolore magna aliqua.\"\"\"\n",
    "\n",
    "print(a)"
   ]
  },
  {
   "cell_type": "code",
   "execution_count": 104,
   "id": "74246274-ee53-4dd5-a749-8610e947d5b7",
   "metadata": {},
   "outputs": [
    {
     "name": "stdout",
     "output_type": "stream",
     "text": [
      "Lorem ipsum dolor sit amet,\n",
      "consectetur adipiscing elit,\n",
      "sed do eiusmod tempor incididunt\n",
      "ut labore et dolore magna aliqua.\n"
     ]
    }
   ],
   "source": [
    "# Or three single quotes:\n",
    "\n",
    "a = '''Lorem ipsum dolor sit amet,\n",
    "consectetur adipiscing elit,\n",
    "sed do eiusmod tempor incididunt\n",
    "ut labore et dolore magna aliqua.'''\n",
    "print(a)"
   ]
  },
  {
   "cell_type": "markdown",
   "id": "aef17999-0144-49b9-ba6b-95245feead0d",
   "metadata": {},
   "source": [
    "**Strings are Arrays**\n",
    "\n",
    "Like many other popular programming languages, strings in Python are arrays of bytes representing unicode characters.\n",
    "\n",
    "However, Python does not have a character data type, a single character is simply a string with a length of 1.\n",
    "\n",
    "Square brackets can be used to access elements of the string."
   ]
  },
  {
   "cell_type": "code",
   "execution_count": 105,
   "id": "a51dabfb-7816-4d21-9494-cc72661f813a",
   "metadata": {},
   "outputs": [
    {
     "name": "stdout",
     "output_type": "stream",
     "text": [
      "e\n"
     ]
    }
   ],
   "source": [
    "# Get the character at position 1 (remember that the first character has the position 0):\n",
    "\n",
    "a = \"Hello, World!\"\n",
    "print(a[1])"
   ]
  },
  {
   "cell_type": "markdown",
   "id": "6130b206-cf41-4759-a67c-12aecdafc131",
   "metadata": {},
   "source": [
    "**Looping Through a String**\n",
    "\n",
    "Since strings are arrays, we can loop through the characters in a string, with a for loop."
   ]
  },
  {
   "cell_type": "code",
   "execution_count": 107,
   "id": "f3969c58-cb07-4c76-a3eb-f967593bdf3c",
   "metadata": {},
   "outputs": [
    {
     "name": "stdout",
     "output_type": "stream",
     "text": [
      "b\n",
      "a\n",
      "n\n",
      "a\n",
      "n\n",
      "a\n"
     ]
    }
   ],
   "source": [
    "# Loops through the letters in the world \"banana\"\n",
    "\n",
    "for x in  \"banana\":\n",
    "    print(x)"
   ]
  },
  {
   "cell_type": "code",
   "execution_count": 108,
   "id": "641fef50-601a-45e5-89bc-bc56e8ddd17e",
   "metadata": {},
   "outputs": [
    {
     "data": {
      "text/plain": [
       "['b', 'a', 'n', 'a', 'n', 'a']"
      ]
     },
     "execution_count": 108,
     "metadata": {},
     "output_type": "execute_result"
    }
   ],
   "source": [
    "banana_car = [x for x in \"banana\"]\n",
    "banana_car"
   ]
  },
  {
   "cell_type": "markdown",
   "id": "cce00310-97ed-457b-a133-a97bc9f22481",
   "metadata": {},
   "source": [
    "**String Length**\n",
    "\n",
    "To get the length of a string, use the **len()** function."
   ]
  },
  {
   "cell_type": "code",
   "execution_count": 109,
   "id": "bd70b35a-4cbf-4d4c-9dd8-65b0c80bd8dc",
   "metadata": {},
   "outputs": [
    {
     "data": {
      "text/plain": [
       "11"
      ]
     },
     "execution_count": 109,
     "metadata": {},
     "output_type": "execute_result"
    }
   ],
   "source": [
    "greet = \"Hello World\"\n",
    "len(greet)"
   ]
  },
  {
   "cell_type": "code",
   "execution_count": 110,
   "id": "6b4bdca8-c940-407d-8248-9575b849edb1",
   "metadata": {},
   "outputs": [
    {
     "name": "stdout",
     "output_type": "stream",
     "text": [
      "11\n"
     ]
    }
   ],
   "source": [
    "print(len(greet))"
   ]
  },
  {
   "cell_type": "markdown",
   "id": "84936829-fbb1-4e28-aff8-d7211eedeb85",
   "metadata": {},
   "source": [
    "**Check String**\n",
    "\n",
    "To check if a certain phrase or character is present in a string, we can use the keyword **in**."
   ]
  },
  {
   "cell_type": "code",
   "execution_count": 111,
   "id": "e8479e75-e4b0-47c4-8f03-a7ab04c801f6",
   "metadata": {},
   "outputs": [
    {
     "name": "stdout",
     "output_type": "stream",
     "text": [
      "True\n"
     ]
    }
   ],
   "source": [
    "text = \"The best things in life are free!\"\n",
    "\n",
    "print(\"free\" in text)"
   ]
  },
  {
   "cell_type": "markdown",
   "id": "60e12177-59c2-45f6-a5f0-5f951075af5d",
   "metadata": {},
   "source": [
    "**Use it in an `if` statement:**"
   ]
  },
  {
   "cell_type": "code",
   "execution_count": 117,
   "id": "88beaf06-706c-43a5-afff-f5de90a826be",
   "metadata": {},
   "outputs": [
    {
     "name": "stdout",
     "output_type": "stream",
     "text": [
      "Yes, 'free' is present.\n"
     ]
    }
   ],
   "source": [
    "# Print only if \"free\" is present:\n",
    "\n",
    "txt = \"The best things in life are free!\"\n",
    "if \"free\" in txt:\n",
    "  print(\"Yes, 'free' is present.\")"
   ]
  },
  {
   "cell_type": "code",
   "execution_count": 118,
   "id": "50c2f2a2-3e88-49f4-8e9c-55bb6d2b9b9d",
   "metadata": {},
   "outputs": [
    {
     "data": {
      "text/plain": [
       "1"
      ]
     },
     "execution_count": 118,
     "metadata": {},
     "output_type": "execute_result"
    }
   ],
   "source": [
    "# count the num of free\n",
    "\n",
    "num_free = 0\n",
    "\n",
    "if \"free\" in text:\n",
    "    num_free += 1\n",
    "\n",
    "num_free"
   ]
  },
  {
   "cell_type": "markdown",
   "id": "a3682de5-23af-4921-8392-5bac5c275c34",
   "metadata": {},
   "source": [
    "**Check if NOT**\n",
    "\n",
    "To check if a certain phrase or character is NOT present in a string, we can use the keyword not in.\n",
    "\n"
   ]
  },
  {
   "cell_type": "code",
   "execution_count": 119,
   "id": "b6c2ef99-28a8-4b2d-87bf-c934e06e4afb",
   "metadata": {},
   "outputs": [
    {
     "name": "stdout",
     "output_type": "stream",
     "text": [
      "True\n"
     ]
    }
   ],
   "source": [
    "# Check if \"expensive\" is NOT present in the following text:\n",
    "\n",
    "txt = \"The best things in life are free!\"\n",
    "print(\"expensive\" not in txt)"
   ]
  },
  {
   "cell_type": "code",
   "execution_count": 120,
   "id": "57a3bd62-3948-4988-ac76-9836c175b821",
   "metadata": {},
   "outputs": [
    {
     "name": "stdout",
     "output_type": "stream",
     "text": [
      "No, 'expensive' is NOT present.\n"
     ]
    }
   ],
   "source": [
    "# Use it in an if statement -  print only if \"expensive\" is NOT present:\n",
    "\n",
    "txt = \"The best things in life are free!\"\n",
    "if \"expensive\" not in txt:\n",
    "  print(\"No, 'expensive' is NOT present.\")"
   ]
  },
  {
   "cell_type": "markdown",
   "id": "f253f797-6fa0-41c9-a1b1-b4377f6a8c15",
   "metadata": {},
   "source": [
    "### Python - Slicing Strings"
   ]
  },
  {
   "cell_type": "markdown",
   "id": "49698e14-2622-4eaf-b473-179b66823892",
   "metadata": {},
   "source": [
    "**Slicing**\n",
    "\n",
    "You can return a range of characters by using the slice syntax.\n",
    "\n",
    "Specify the start index and the end index, separated by a colon, to return a part of the string."
   ]
  },
  {
   "cell_type": "code",
   "execution_count": 121,
   "id": "a5ba03e5-21ca-4281-a4fa-6669075ebd5c",
   "metadata": {},
   "outputs": [
    {
     "data": {
      "text/plain": [
       "'llo'"
      ]
     },
     "execution_count": 121,
     "metadata": {},
     "output_type": "execute_result"
    }
   ],
   "source": [
    "# Example - Get the characters from position 2 to position 5 (not included):\n",
    "# Note: The first character has index 0.\n",
    "\n",
    "b = \"Hello world\"\n",
    "b[2:5]"
   ]
  },
  {
   "cell_type": "markdown",
   "id": "d0f8adf7-33ed-4c51-a268-efd39c3c533d",
   "metadata": {},
   "source": [
    "**Slice From the Start** \n",
    "\n",
    "By leaving out the start index, the range will start at the first character:"
   ]
  },
  {
   "cell_type": "code",
   "execution_count": 122,
   "id": "8f441e34-edf8-4e66-9e4a-c18a4b341267",
   "metadata": {},
   "outputs": [
    {
     "data": {
      "text/plain": [
       "'Hello'"
      ]
     },
     "execution_count": 122,
     "metadata": {},
     "output_type": "execute_result"
    }
   ],
   "source": [
    "# Get the characters from the start to position 5 (not included):\n",
    "\n",
    "b = \"Hello, World!\"\n",
    "b[:5]"
   ]
  },
  {
   "cell_type": "markdown",
   "id": "43b7b587-bb12-481f-a6d6-99b5f9a86b1e",
   "metadata": {},
   "source": [
    "**Slice To the End**\n",
    "\n",
    "By leaving out the end index, the range will go to the end:"
   ]
  },
  {
   "cell_type": "code",
   "execution_count": 123,
   "id": "52f5a351-0178-4658-9655-f86c2990b705",
   "metadata": {},
   "outputs": [
    {
     "data": {
      "text/plain": [
       "'llo, World!'"
      ]
     },
     "execution_count": 123,
     "metadata": {},
     "output_type": "execute_result"
    }
   ],
   "source": [
    "b = \"Hello, World!\"\n",
    "\n",
    "b[2:]"
   ]
  },
  {
   "cell_type": "markdown",
   "id": "07d8dc80-d313-4f07-bc5d-7947725d6ed4",
   "metadata": {},
   "source": [
    "**Negative Indexing**\n",
    "\n",
    "Use negative indexes to start the slice from the end of the string:"
   ]
  },
  {
   "cell_type": "code",
   "execution_count": 124,
   "id": "cf13e531-3427-4127-ae9c-308c40131a4f",
   "metadata": {},
   "outputs": [
    {
     "data": {
      "text/plain": [
       "'orl'"
      ]
     },
     "execution_count": 124,
     "metadata": {},
     "output_type": "execute_result"
    }
   ],
   "source": [
    "b = \"Hello, World!\"\n",
    "\n",
    "b[-5:-2]"
   ]
  },
  {
   "cell_type": "markdown",
   "id": "d425eee2-7a9a-41fd-94ad-b0bf12860a13",
   "metadata": {},
   "source": [
    "### Python - Modify Strings\n",
    "\n",
    "Python has a set of built-in methods that you can use on strings.\n"
   ]
  },
  {
   "cell_type": "markdown",
   "id": "145866e3-0fa6-428f-857c-0d0a16e93c4e",
   "metadata": {},
   "source": [
    "#### Upper Case"
   ]
  },
  {
   "cell_type": "code",
   "execution_count": 126,
   "id": "3753878e-a529-4445-8887-3c965dffecb8",
   "metadata": {},
   "outputs": [
    {
     "name": "stdout",
     "output_type": "stream",
     "text": [
      "HELLO, WORLD!\n"
     ]
    }
   ],
   "source": [
    "# The upper() method returns the string in upper case:\n",
    "\n",
    "a = \"Hello, World!\"\n",
    "print(a.upper())"
   ]
  },
  {
   "cell_type": "code",
   "execution_count": 127,
   "id": "2d6279d5-73c9-4fa0-b755-eb476e9ddb56",
   "metadata": {},
   "outputs": [
    {
     "data": {
      "text/plain": [
       "'HELLO, WORLD!'"
      ]
     },
     "execution_count": 127,
     "metadata": {},
     "output_type": "execute_result"
    }
   ],
   "source": [
    "a.upper()"
   ]
  },
  {
   "cell_type": "markdown",
   "id": "2749dc94-70cf-46d3-abd1-ded42399ba36",
   "metadata": {},
   "source": [
    "#### Lower Case"
   ]
  },
  {
   "cell_type": "code",
   "execution_count": 128,
   "id": "dedc2cad-2c1b-4eee-9ef2-27944d49748f",
   "metadata": {},
   "outputs": [
    {
     "name": "stdout",
     "output_type": "stream",
     "text": [
      "hello, world!\n"
     ]
    }
   ],
   "source": [
    "# The lower() method returns the string in lower case:\n",
    "\n",
    "a = \"Hello, World!\"\n",
    "print(a.lower())"
   ]
  },
  {
   "cell_type": "code",
   "execution_count": 135,
   "id": "7b59ed9e-827b-4c20-8dc1-205149ef494a",
   "metadata": {},
   "outputs": [
    {
     "data": {
      "text/plain": [
       "'hello, world!'"
      ]
     },
     "execution_count": 135,
     "metadata": {},
     "output_type": "execute_result"
    }
   ],
   "source": [
    "a.lower()"
   ]
  },
  {
   "cell_type": "markdown",
   "id": "6ca3436d-5ff9-489a-aa58-cca0141af069",
   "metadata": {},
   "source": [
    "#### Remove Whitespace\n",
    "\n",
    "Whitespace is the space before and/or after the actual text, and very often you want to remove this space."
   ]
  },
  {
   "cell_type": "code",
   "execution_count": 129,
   "id": "04334e44-8e10-4f00-966e-2bb6b92d7048",
   "metadata": {},
   "outputs": [
    {
     "name": "stdout",
     "output_type": "stream",
     "text": [
      "Hello, World!\n"
     ]
    }
   ],
   "source": [
    "# The strip() method removes any whitespace from the beginning or the end:\n",
    "\n",
    "a = \" Hello, World! \"\n",
    "print(a.strip()) # returns \"Hello, World!\""
   ]
  },
  {
   "cell_type": "code",
   "execution_count": 130,
   "id": "72a8e285-ab85-4344-b0b4-ef40fa764f28",
   "metadata": {},
   "outputs": [
    {
     "data": {
      "text/plain": [
       "'Hello, World!'"
      ]
     },
     "execution_count": 130,
     "metadata": {},
     "output_type": "execute_result"
    }
   ],
   "source": [
    "a.strip()"
   ]
  },
  {
   "cell_type": "markdown",
   "id": "b63d162d-47dd-466f-8349-af2594cb52f7",
   "metadata": {},
   "source": [
    "#### Replace String"
   ]
  },
  {
   "cell_type": "code",
   "execution_count": 131,
   "id": "06a618ac-4315-421a-bf21-15d8f82d0a1e",
   "metadata": {},
   "outputs": [
    {
     "name": "stdout",
     "output_type": "stream",
     "text": [
      "Jello, World!\n"
     ]
    }
   ],
   "source": [
    "# The replace() method replaces a string with another string:\n",
    "\n",
    "a = \"Hello, World!\"\n",
    "print(a.replace(\"H\", \"J\"))"
   ]
  },
  {
   "cell_type": "code",
   "execution_count": 132,
   "id": "6ae987fc-b73f-4b82-92a8-45c8aca489c8",
   "metadata": {},
   "outputs": [
    {
     "data": {
      "text/plain": [
       "'Jello, World!'"
      ]
     },
     "execution_count": 132,
     "metadata": {},
     "output_type": "execute_result"
    }
   ],
   "source": [
    "a.replace(\"H\", \"J\")"
   ]
  },
  {
   "cell_type": "markdown",
   "id": "3ad11ad3-7847-4588-b174-4d4a34df75b4",
   "metadata": {},
   "source": [
    "#### Split String\n",
    "\n",
    "The split() method returns a list where the text between the specified separator becomes the list items."
   ]
  },
  {
   "cell_type": "code",
   "execution_count": 133,
   "id": "7d5d1a50-be0b-4cd4-82eb-01962155a32b",
   "metadata": {},
   "outputs": [
    {
     "name": "stdout",
     "output_type": "stream",
     "text": [
      "['Hello', ' World!']\n"
     ]
    }
   ],
   "source": [
    "# The split() method splits the string into substrings if it finds instances of the separator:\n",
    "\n",
    "a = \"Hello, World!\"\n",
    "print(a.split(\",\")) # returns ['Hello', ' World!']"
   ]
  },
  {
   "cell_type": "code",
   "execution_count": 134,
   "id": "1adc2dfc-1888-4afb-8283-1feb50b16508",
   "metadata": {},
   "outputs": [
    {
     "data": {
      "text/plain": [
       "['Hello', ' World!']"
      ]
     },
     "execution_count": 134,
     "metadata": {},
     "output_type": "execute_result"
    }
   ],
   "source": [
    "a.split(\",\")"
   ]
  },
  {
   "cell_type": "markdown",
   "id": "98117555-806e-4c6a-9f28-102a12bed18b",
   "metadata": {},
   "source": [
    "### Python - String Concatenation\n",
    "\n",
    "\n",
    "To concatenate, or combine, two strings you can use the + operator"
   ]
  },
  {
   "cell_type": "code",
   "execution_count": 136,
   "id": "e8e0c742-fb6a-4da5-b9a8-c9620f5a31b1",
   "metadata": {},
   "outputs": [
    {
     "name": "stdout",
     "output_type": "stream",
     "text": [
      "HelloWorld\n"
     ]
    }
   ],
   "source": [
    "# Merge variable a with variable b into variable c:\n",
    "\n",
    "a = \"Hello\"\n",
    "b = \"World\"\n",
    "c = a + b\n",
    "print(c)"
   ]
  },
  {
   "cell_type": "code",
   "execution_count": 137,
   "id": "d79ce596-08ee-4ac5-8a27-0d6e5a550144",
   "metadata": {},
   "outputs": [
    {
     "name": "stdout",
     "output_type": "stream",
     "text": [
      "Hello World\n"
     ]
    }
   ],
   "source": [
    "# To add a space between them, add a \" \":\n",
    "\n",
    "a = \"Hello\"\n",
    "b = \"World\"\n",
    "c = a + \" \" + b\n",
    "print(c)"
   ]
  },
  {
   "cell_type": "markdown",
   "id": "a8fa1975-c9f3-4b7c-b7dd-e1a1b93475c0",
   "metadata": {},
   "source": [
    "### Python - Format - Strings\n",
    "\n",
    "As we learned in the Python Variables chapter, we cannot combine strings and numbers like this:"
   ]
  },
  {
   "cell_type": "code",
   "execution_count": 138,
   "id": "c8ef2043-ffc3-4025-bed7-2c5da2daea40",
   "metadata": {},
   "outputs": [
    {
     "ename": "TypeError",
     "evalue": "can only concatenate str (not \"int\") to str",
     "output_type": "error",
     "traceback": [
      "\u001b[0;31m---------------------------------------------------------------------------\u001b[0m",
      "\u001b[0;31mTypeError\u001b[0m                                 Traceback (most recent call last)",
      "Cell \u001b[0;32mIn[138], line 2\u001b[0m\n\u001b[1;32m      1\u001b[0m age \u001b[38;5;241m=\u001b[39m \u001b[38;5;241m36\u001b[39m\n\u001b[0;32m----> 2\u001b[0m txt \u001b[38;5;241m=\u001b[39m \u001b[38;5;124;43m\"\u001b[39;49m\u001b[38;5;124;43mMy name is John, I am \u001b[39;49m\u001b[38;5;124;43m\"\u001b[39;49m\u001b[43m \u001b[49m\u001b[38;5;241;43m+\u001b[39;49m\u001b[43m \u001b[49m\u001b[43mage\u001b[49m\n\u001b[1;32m      3\u001b[0m \u001b[38;5;28mprint\u001b[39m(txt)\n",
      "\u001b[0;31mTypeError\u001b[0m: can only concatenate str (not \"int\") to str"
     ]
    }
   ],
   "source": [
    "age = 36\n",
    "txt = \"My name is John, I am \" + age\n",
    "print(txt)"
   ]
  },
  {
   "cell_type": "markdown",
   "id": "08f91f01-1d6f-45f3-ad12-4aff35587569",
   "metadata": {},
   "source": [
    "But we can combine strings and numbers by using `f-strings` or the `format()` method!"
   ]
  },
  {
   "cell_type": "markdown",
   "id": "954437bb-f8dc-4f79-b0cd-0a86e653e962",
   "metadata": {},
   "source": [
    "#### F-Strings\n",
    "\n",
    "`F-String` was introduced in Python 3.6, and is now the preferred way of formatting strings.\n",
    "\n",
    "To specify a string as an **f-string**, simply put an `f` in front of the string literal, and add curly brackets `{ }` as placeholders for variables and other operations."
   ]
  },
  {
   "cell_type": "code",
   "execution_count": 140,
   "id": "4c52e8a5-321c-4919-bc1c-c3d7fb214a84",
   "metadata": {},
   "outputs": [
    {
     "data": {
      "text/plain": [
       "'My name is Thomas , I am 36'"
      ]
     },
     "execution_count": 140,
     "metadata": {},
     "output_type": "execute_result"
    }
   ],
   "source": [
    "age = 36 \n",
    "text = f\"My name is Thomas , I am {age}\"\n",
    "text"
   ]
  },
  {
   "cell_type": "code",
   "execution_count": 141,
   "id": "52742225-c37a-481b-8ee3-1352877ef1d5",
   "metadata": {},
   "outputs": [
    {
     "name": "stdout",
     "output_type": "stream",
     "text": [
      "My name is Thomas , I am 36\n"
     ]
    }
   ],
   "source": [
    "print(text)"
   ]
  },
  {
   "cell_type": "code",
   "execution_count": 142,
   "id": "6bac031c-4f90-4c66-9d1e-fd12247f9ee3",
   "metadata": {},
   "outputs": [
    {
     "name": "stdout",
     "output_type": "stream",
     "text": [
      "My name is Thomas, I'm 36.\n"
     ]
    }
   ],
   "source": [
    "print(f\"My name is Thomas, I'm {age}.\")"
   ]
  },
  {
   "cell_type": "markdown",
   "id": "8f8da68c-a66b-42e6-acca-469acd391c67",
   "metadata": {},
   "source": [
    "### Placeholders and Modifiers\n",
    "\n",
    "A placeholder can contain **variables**, **operations**, **functions**, and **modifiers** to format the value.\n"
   ]
  },
  {
   "cell_type": "code",
   "execution_count": 143,
   "id": "1415757d-fb62-4d89-bfaf-183cddba8466",
   "metadata": {},
   "outputs": [
    {
     "name": "stdout",
     "output_type": "stream",
     "text": [
      "The price is 59 dollars\n"
     ]
    }
   ],
   "source": [
    "#  Add a placeholder for the price variable:\n",
    "                 \n",
    "price = 59\n",
    "txt = f\"The price is {price} dollars\"\n",
    "print(txt)"
   ]
  },
  {
   "cell_type": "markdown",
   "id": "a8303eba-0e96-432a-83e3-38d6520f10be",
   "metadata": {},
   "source": [
    "A placeholder can include a modifier to format the value.\n",
    "\n",
    "A modifier is included by adding a **colon** `:` followed by a legal formatting type, like `.2f` which means fixed point number with `2 decimals` :"
   ]
  },
  {
   "cell_type": "code",
   "execution_count": 144,
   "id": "da4f865b-8ba1-468c-bfff-05bdc798a518",
   "metadata": {},
   "outputs": [
    {
     "data": {
      "text/plain": [
       "'The price is 59.00 dollars'"
      ]
     },
     "execution_count": 144,
     "metadata": {},
     "output_type": "execute_result"
    }
   ],
   "source": [
    "price = 59\n",
    "\n",
    "text = f\"The price is {price:.2f} dollars\"\n",
    "text"
   ]
  },
  {
   "cell_type": "markdown",
   "id": "d775e861-dc6a-4a13-8925-3dec5e63448c",
   "metadata": {},
   "source": [
    "A placeholder can contain Python code, like math operations:"
   ]
  },
  {
   "cell_type": "code",
   "execution_count": 145,
   "id": "7fde4c81-c273-4228-afed-1645d6fb7c66",
   "metadata": {},
   "outputs": [
    {
     "name": "stdout",
     "output_type": "stream",
     "text": [
      "The price is 1180 dollars\n"
     ]
    }
   ],
   "source": [
    "# Perform a math operation in the placeholder, and return the result:\n",
    "\n",
    "txt = f\"The price is {20 * 59} dollars\"\n",
    "print(txt)"
   ]
  },
  {
   "cell_type": "markdown",
   "id": "126d562e-a764-4095-9481-64760d603d7c",
   "metadata": {},
   "source": [
    "### Escape Character\n",
    "\n",
    "To insert characters that are illegal in a string, use an escape character.\n",
    "\n",
    "An escape character is a **backslash** `\\` followed by the character you want to insert.\n",
    "\n",
    "An example of an illegal character is a double quote inside a string that is surrounded by double quotes:"
   ]
  },
  {
   "cell_type": "code",
   "execution_count": 147,
   "id": "ca347022-e294-4662-b07b-177c501e806f",
   "metadata": {},
   "outputs": [
    {
     "ename": "SyntaxError",
     "evalue": "invalid syntax (583263010.py, line 3)",
     "output_type": "error",
     "traceback": [
      "\u001b[0;36m  Cell \u001b[0;32mIn[147], line 3\u001b[0;36m\u001b[0m\n\u001b[0;31m    txt = \"We are the so-called \"Vikings\" from the north.\"\u001b[0m\n\u001b[0m                                 ^\u001b[0m\n\u001b[0;31mSyntaxError\u001b[0m\u001b[0;31m:\u001b[0m invalid syntax\n"
     ]
    }
   ],
   "source": [
    "# You will get an error if you use double quotes inside a string that is surrounded by double quotes\n",
    "\n",
    "txt = \"We are the so-called \"Vikings\" from the north.\""
   ]
  },
  {
   "cell_type": "markdown",
   "id": "fd687b3a-167a-469c-acfc-6b99f03adc48",
   "metadata": {},
   "source": [
    "To fix this problem, use the **escape character** `\\` \":"
   ]
  },
  {
   "cell_type": "code",
   "execution_count": 149,
   "id": "a4334329-1d43-4137-94be-f5280dfc21db",
   "metadata": {},
   "outputs": [
    {
     "data": {
      "text/plain": [
       "'We are the so-called \"Vikings\" from the north.'"
      ]
     },
     "execution_count": 149,
     "metadata": {},
     "output_type": "execute_result"
    }
   ],
   "source": [
    "txt = \"We are the so-called \\\"Vikings\\\" from the north.\"\n",
    "txt"
   ]
  },
  {
   "cell_type": "markdown",
   "id": "64b033c6-29cc-4547-b1b2-b109e8b0861f",
   "metadata": {},
   "source": [
    "### Escape Characters List :\n",
    "\n",
    "**Code**  : \t**Result\tTry it**\n",
    "- \\'  : Single Quote\t\n",
    "- \\\\  :\t  Backslash\t\n",
    "- \\n  :\t  New Line\t\n",
    "- \\r  :\t  Carriage Return\t\n",
    "- \\t  :   Tab\t\n",
    "- \\b  :\t  Backspace\t\n",
    "- \\f  :\t  Form Feed\t\n",
    "- \\ooo  : Octal value\t\n",
    "- \\xhh  : Hex value"
   ]
  },
  {
   "cell_type": "code",
   "execution_count": 160,
   "id": "1210b8a6-eef4-4886-8fba-c80a27999bb7",
   "metadata": {},
   "outputs": [
    {
     "name": "stdout",
     "output_type": "stream",
     "text": [
      "It's a beautiful day!\n"
     ]
    }
   ],
   "source": [
    "# Single Quote (')\n",
    "\n",
    "print('It\\'s a beautiful day!')"
   ]
  },
  {
   "cell_type": "code",
   "execution_count": 161,
   "id": "e828d350-0d79-4111-a9ea-ffa50265adfa",
   "metadata": {},
   "outputs": [
    {
     "name": "stdout",
     "output_type": "stream",
     "text": [
      "This is a backslash: \\\n"
     ]
    }
   ],
   "source": [
    "# Backslash (\\)\n",
    "\n",
    "print('This is a backslash: \\\\')"
   ]
  },
  {
   "cell_type": "code",
   "execution_count": 162,
   "id": "1e0ea67f-6412-4836-9491-e7fc9aa2cfb9",
   "metadata": {},
   "outputs": [
    {
     "name": "stdout",
     "output_type": "stream",
     "text": [
      "First line\n",
      "Second line\n"
     ]
    }
   ],
   "source": [
    "# New Line (\\n)\n",
    "\n",
    "print('First line\\nSecond line')"
   ]
  },
  {
   "cell_type": "code",
   "execution_count": 153,
   "id": "de8ed615-e400-457e-941b-706620ce3ccc",
   "metadata": {},
   "outputs": [
    {
     "name": "stdout",
     "output_type": "stream",
     "text": [
      "PythonWorld\n"
     ]
    }
   ],
   "source": [
    "print('Hello World\\rPython')"
   ]
  },
  {
   "cell_type": "markdown",
   "id": "3f43abb6-ddce-46ff-af2f-fd884335d7ee",
   "metadata": {},
   "source": [
    "This returns the cursor to the beginning of the line and overwrites some or all of the existing text, depending on the length of the following string."
   ]
  },
  {
   "cell_type": "code",
   "execution_count": 163,
   "id": "3a91de1d-2b3f-45b1-820a-7f071c972088",
   "metadata": {},
   "outputs": [
    {
     "name": "stdout",
     "output_type": "stream",
     "text": [
      "Red\tApple\n"
     ]
    }
   ],
   "source": [
    "# Tab (\\t)\n",
    "\n",
    "print('Red\\tApple')"
   ]
  },
  {
   "cell_type": "code",
   "execution_count": 164,
   "id": "6bc4f4ff-f81f-40d9-9c78-645cceebca3d",
   "metadata": {},
   "outputs": [
    {
     "name": "stdout",
     "output_type": "stream",
     "text": [
      "abdef\n"
     ]
    }
   ],
   "source": [
    "# Backspace (\\b)\n",
    "\n",
    "print('abc\\bdef')"
   ]
  },
  {
   "cell_type": "code",
   "execution_count": 156,
   "id": "32d2c321-6469-493a-8bd5-6ebb25cb1f84",
   "metadata": {},
   "outputs": [
    {
     "name": "stdout",
     "output_type": "stream",
     "text": [
      "Hello\f",
      "World\n"
     ]
    }
   ],
   "source": [
    "# Form Feed (\\f)\n",
    "\n",
    "print('Hello\\fWorld')"
   ]
  },
  {
   "cell_type": "code",
   "execution_count": 157,
   "id": "9ace99e9-ebc6-4e83-ac0b-a4d899cbf96d",
   "metadata": {},
   "outputs": [
    {
     "name": "stdout",
     "output_type": "stream",
     "text": [
      "abc\n"
     ]
    }
   ],
   "source": [
    "# Octal value (\\ooo)\n",
    "\n",
    "print('\\141\\142\\143')"
   ]
  },
  {
   "cell_type": "code",
   "execution_count": 165,
   "id": "a6439475-fa42-441a-9b4b-58e82d835230",
   "metadata": {},
   "outputs": [
    {
     "name": "stdout",
     "output_type": "stream",
     "text": [
      "Hello\n"
     ]
    }
   ],
   "source": [
    "# Hex value (\\xhh)\n",
    "\n",
    "print('\\x48\\x65\\x6c\\x6c\\x6f')"
   ]
  },
  {
   "cell_type": "markdown",
   "id": "e1163183-4ab5-4161-afcc-b019721c28d9",
   "metadata": {},
   "source": [
    "### Python - String Methods\n",
    "\n",
    "Python has a set of built-in methods that you can use on strings.\n",
    "\n",
    "**Note**: \n",
    "\n",
    "All string methods return new values. They do not change the original string.\n",
    "\n",
    "| Method        | Description |\n",
    "|---------------|-------------|\n",
    "| `capitalize()`| Converts the first character to upper case |\n",
    "| `casefold()`  | Converts string into lower case |\n",
    "| `center()`    | Returns a centered string |\n",
    "| `count()`     | Returns the number of times a specified value occurs in a string |\n",
    "| `encode()`    | Returns an encoded version of the string |\n",
    "| `endswith()`  | Returns true if the string ends with the specified value |\n",
    "| `expandtabs()`| Sets the tab size of the string |\n",
    "| `find()`      | Searches the string for a specified value and returns the position of where it was found |\n",
    "| `format()`    | Formats specified values in a string |\n",
    "| `format_map()`| Formats specified values in a string |\n",
    "| `index()`     | Searches the string for a specified value and returns the position of where it was found |\n",
    "| `isalnum()`   | Returns True if all characters in the string are alphanumeric |\n",
    "| `isalpha()`   | Returns True if all characters in the string are in the alphabet |\n",
    "| `isascii()`   | Returns True if all characters in the string are ascii characters |\n",
    "| `isdecimal()` | Returns True if all characters in the string are decimals |\n",
    "| `isdigit()`   | Returns True if all characters in the string are digits |\n",
    "| `isidentifier()` | Returns True if the string is an identifier |\n",
    "| `islower()`   | Returns True if all characters in the string are lower case |\n",
    "| `isnumeric()` | Returns True if all characters in the string are numeric |\n",
    "| `isprintable()` | Returns True if all characters in the string are printable |\n",
    "| `isspace()`   | Returns True if all characters in the string are whitespaces |\n",
    "| `istitle()`   | Returns True if the string follows the rules of a title |\n",
    "| `isupper()`   | Returns True if all characters in the string are upper case |\n",
    "| `join()`      | Joins the elements of an iterable to the end of the string |\n",
    "| `ljust()`     | Returns a left justified version of the string |\n",
    "| `lower()`     | Converts a string into lower case |\n",
    "| `lstrip()`    | Returns a left trim version of the string |\n",
    "| `maketrans()` | Returns a translation table to be used in translations |\n",
    "| `partition()` | Returns a tuple where the string is parted into three parts |\n",
    "| `replace()`   | Returns a string where a specified value is replaced with a specified value |\n",
    "| `rfind()`     | Searches the string for a specified value and returns the last position of where it was found |\n",
    "| `rindex()`    | Searches the string for a specified value and returns the last position of where it was found |\n",
    "| `rjust()`     | Returns a right justified version of the string |\n",
    "| `rpartition()`| Returns a tuple where the string is parted into three parts |\n",
    "| `rsplit()`    | Splits the string at the specified separator, and returns a list |\n",
    "| `rstrip()`    | Returns a right trim version of the string |\n",
    "| `split()`     | Splits the string at the specified separator, and returns a list |\n",
    "| `splitlines()`| Splits the string at line breaks and returns a list |\n",
    "| `startswith()`| Returns true if the string starts with the specified value |\n",
    "| `strip()`     | Returns a trimmed version of the string |\n",
    "| `swapcase()`  | Swaps cases, lower case becomes upper case and vice versa |\n",
    "| `title()`     | Converts the first character of each word to upper case |\n",
    "| `translate()` | Returns a translated string |\n",
    "| `upper()`     | Converts a string into upper case |\n",
    "| `zfill()`     | Fills the string with a specified number of 0 values at the beginning |\n"
   ]
  },
  {
   "cell_type": "markdown",
   "id": "23eaeaea-fc92-4856-8d65-94dba8c96ceb",
   "metadata": {},
   "source": [
    "| Méthode         | Description |\n",
    "|-----------------|-------------|\n",
    "| `capitalize()`  | Convertit le premier caractère en majuscule |\n",
    "| `casefold()`    | Convertit la chaîne en minuscules |\n",
    "| `center()`      | Centre la chaîne |\n",
    "| `count()`       | Renvoie le nombre de fois qu'une valeur spécifiée apparaît dans la chaîne |\n",
    "| `encode()`      | Renvoie une version encodée de la chaîne |\n",
    "| `endswith()`    | Renvoie vrai si la chaîne se termine par la valeur spécifiée |\n",
    "| `expandtabs()`  | Définit la taille de la tabulation dans la chaîne |\n",
    "| `find()`        | Recherche une valeur spécifiée dans la chaîne et renvoie la position où elle a été trouvée |\n",
    "| `format()`      | Formate les valeurs spécifiées dans une chaîne |\n",
    "| `format_map()`  | Formate les valeurs spécifiées dans une chaîne |\n",
    "| `index()`       | Recherche une valeur spécifiée dans la chaîne et renvoie la position où elle a été trouvée |\n",
    "| `isalnum()`     | Renvoie Vrai si tous les caractères de la chaîne sont alphanumériques |\n",
    "| `isalpha()`     | Renvoie Vrai si tous les caractères de la chaîne sont alphabétiques |\n",
    "| `isascii()`     | Renvoie Vrai si tous les caractères de la chaîne sont des caractères ASCII |\n",
    "| `isdecimal()`   | Renvoie Vrai si tous les caractères de la chaîne sont des décimales |\n",
    "| `isdigit()`     | Renvoie Vrai si tous les caractères de la chaîne sont des chiffres |\n",
    "| `isidentifier()`| Renvoie Vrai si la chaîne est un identifiant |\n",
    "| `islower()`     | Renvoie Vrai si tous les caractères de la chaîne sont en minuscules |\n",
    "| `isnumeric()`   | Renvoie Vrai si tous les caractères de la chaîne sont numériques |\n",
    "| `isprintable()` | Renvoie Vrai si tous les caractères de la chaîne sont imprimables |\n",
    "| `isspace()`     | Renvoie Vrai si tous les caractères de la chaîne sont des espaces blancs |\n",
    "| `istitle()`     | Renvoie Vrai si la chaîne suit les règles d'un titre |\n",
    "| `isupper()`     | Renvoie Vrai si tous les caractères de la chaîne sont en majuscules |\n",
    "| `join()`        | Joint les éléments d'un itérable à la fin de la chaîne |\n",
    "| `ljust()`       | Renvoie une version de la chaîne justifiée à gauche |\n",
    "| `lower()`       | Convertit la chaîne en minuscules |\n",
    "| `lstrip()`      | Renvoie une version de la chaîne avec les espaces de début supprimés |\n",
    "| `maketrans()`   | Renvoie un tableau de traduction à utiliser dans les traductions |\n",
    "| `partition()`   | Renvoie un tuple où la chaîne est divisée en trois parties |\n",
    "| `replace()`     | Renvoie une chaîne où une valeur spécifiée est remplacée par une autre valeur spécifiée |\n",
    "| `rfind()`       | Recherche une valeur spécifiée dans la chaîne et renvoie la dernière position où elle a été trouvée |\n",
    "| `rindex()`      | Recherche une valeur spécifiée dans la chaîne et renvoie la dernière position où elle a été trouvée |\n",
    "| `rjust()`       | Renvoie une version de la chaîne justifiée à droite |\n",
    "| `rpartition()`  | Renvoie un tuple où la chaîne est divisée en trois parties |\n",
    "| `rsplit()`      | Divise la chaîne au séparateur spécifié et renvoie une liste |\n",
    "| `rstrip()`      | Renvoie une version de la chaîne avec les espaces de fin supprimés |\n",
    "| `split()`       | Divise la chaîne au séparateur spécifié et renvoie une liste |\n",
    "| `splitlines()`  | Divise la chaîne aux sauts de ligne et renvoie une liste |\n",
    "| `startswith()`  | Renvoie vrai si la chaîne commence par la valeur spécifiée |\n",
    "| `strip()`       | Renvoie une version de la chaîne épurée |\n",
    "| `swapcase()`    | Échange les cas, les minuscules deviennent majuscules et vice versa |\n",
    "| `title()`       | Convertit le premier caractère de chaque mot en majuscule |\n",
    "| `translate()`   | Renvoie une chaîne traduite |\n",
    "| `upper()`       | Convertit la chaîne en majuscules |\n",
    "| `zfill()`       | Remplit la chaîne avec un nombre spécifié de zéros au début |\n"
   ]
  },
  {
   "cell_type": "markdown",
   "id": "e8abbf46-c0f9-4189-8777-50c92759fbf8",
   "metadata": {},
   "source": [
    "### Python Booleans\n",
    "\n",
    "\n",
    "Booleans represent one of two values: True or False."
   ]
  },
  {
   "cell_type": "markdown",
   "id": "2a1bff02-0894-430e-845c-fc164ac63a90",
   "metadata": {},
   "source": [
    "### Boolean Values\n",
    "\n",
    "In programming you often need to know if an expression is `True` or `False`.\n",
    "\n",
    "You can evaluate any expression in Python, and get one of two answers, True or False.\n",
    "\n",
    "When you compare two values, the expression is evaluated and Python returns the Boolean answer:"
   ]
  },
  {
   "cell_type": "code",
   "execution_count": 166,
   "id": "e4da0cee-d898-42fa-a035-459c8f579651",
   "metadata": {},
   "outputs": [
    {
     "name": "stdout",
     "output_type": "stream",
     "text": [
      "True\n",
      "False\n",
      "False\n"
     ]
    }
   ],
   "source": [
    "print(10 > 9)\n",
    "print(10 == 9)\n",
    "print(10 < 9)"
   ]
  },
  {
   "cell_type": "markdown",
   "id": "b9bb93bd-ecbf-4e07-b405-4603fd4e1c64",
   "metadata": {},
   "source": [
    "When you run a condition in an if statement, Python returns **True** or **False**:"
   ]
  },
  {
   "cell_type": "code",
   "execution_count": 167,
   "id": "6ad60f29-df78-44a7-b676-3e9170f7beae",
   "metadata": {},
   "outputs": [
    {
     "name": "stdout",
     "output_type": "stream",
     "text": [
      "b is not greater than a\n"
     ]
    }
   ],
   "source": [
    "# Print a message based on whether the condition is True or False:\n",
    "\n",
    "a = 200\n",
    "b = 33\n",
    "\n",
    "if b > a:\n",
    "  print(\"b is greater than a\")\n",
    "else:\n",
    "  print(\"b is not greater than a\")"
   ]
  },
  {
   "cell_type": "markdown",
   "id": "baa8ce94-998f-4856-89b9-4cd20780a1e8",
   "metadata": {},
   "source": [
    "### Evaluate Values and Variables\n",
    "\n",
    "The bool() function allows you to evaluate any value, and give you True or False in return,"
   ]
  },
  {
   "cell_type": "code",
   "execution_count": 168,
   "id": "7031a986-43d7-46f0-8db1-0a4a1b36152b",
   "metadata": {},
   "outputs": [
    {
     "name": "stdout",
     "output_type": "stream",
     "text": [
      "True\n",
      "True\n"
     ]
    }
   ],
   "source": [
    "# Evaluate a string and a number:\n",
    "\n",
    "print(bool(\"Hello\"))\n",
    "print(bool(15))"
   ]
  },
  {
   "cell_type": "code",
   "execution_count": 170,
   "id": "41a9ed16-a70f-48a6-9cc3-ad84b5859546",
   "metadata": {},
   "outputs": [
    {
     "name": "stdout",
     "output_type": "stream",
     "text": [
      "True\n",
      "True\n"
     ]
    }
   ],
   "source": [
    "# Evaluate two variables:\n",
    "\n",
    "x = \"Hello\"\n",
    "y = 15\n",
    "\n",
    "print(bool(x))\n",
    "print(bool(y))"
   ]
  },
  {
   "cell_type": "markdown",
   "id": "7ea045dc-3ff9-408f-9d1b-0d965b0354f1",
   "metadata": {},
   "source": [
    "### Most Values are True\n",
    "\n",
    "Almost any value is evaluated to True if it has some sort of content.\n",
    "\n",
    "- Any `string` is True, except empty strings.\n",
    "\n",
    "- Any `number` is True, except 0.\n",
    "\n",
    "- Any `list`, `tuple`, `set`, and `dictionary` are True, except empty ones.\n",
    "\n"
   ]
  },
  {
   "cell_type": "code",
   "execution_count": 174,
   "id": "c44bf2fd-a70b-40c9-8cd8-00a3b2c188ef",
   "metadata": {},
   "outputs": [
    {
     "name": "stdout",
     "output_type": "stream",
     "text": [
      "True\n",
      "True\n",
      "True\n"
     ]
    }
   ],
   "source": [
    "# The following will return True:\n",
    "\n",
    "print(bool(\"abc\"))\n",
    "print(bool(123))\n",
    "print(bool([\"apple\", \"cherry\", \"banana\"]))"
   ]
  },
  {
   "cell_type": "markdown",
   "id": "626ed29c-a63b-422e-b200-8d5369c3b884",
   "metadata": {},
   "source": [
    "### Some Values are False\n",
    "In fact, there are not many values that evaluate to False, except empty values, such as `( )`, `[ ]`, `{ }`, `\" \"`, the `number 0`, and the `value None`. And of course the `value False` evaluates to False."
   ]
  },
  {
   "cell_type": "code",
   "execution_count": 173,
   "id": "f1ee715c-735c-4142-bc27-97e2efc60b67",
   "metadata": {},
   "outputs": [
    {
     "name": "stdout",
     "output_type": "stream",
     "text": [
      "False\n",
      "False\n",
      "False\n",
      "False\n",
      "False\n",
      "False\n",
      "False\n"
     ]
    }
   ],
   "source": [
    "print(bool(False))\n",
    "print(bool(None))\n",
    "print(bool(0))\n",
    "print(bool(\"\"))\n",
    "print(bool(()))\n",
    "print(bool([]))\n",
    "print(bool({}))"
   ]
  },
  {
   "cell_type": "markdown",
   "id": "cd7d26f4-6f65-4d68-bfb4-39ddc6a4fbb1",
   "metadata": {},
   "source": [
    "One more value, or object in this case, evaluates to `False`, and that is if you have an object that is made from a class with a` __len__ `function that `returns 0` or `False`:\n"
   ]
  },
  {
   "cell_type": "code",
   "execution_count": 175,
   "id": "6f06b148-1b07-4303-adfb-215e8a04fa4a",
   "metadata": {},
   "outputs": [
    {
     "name": "stdout",
     "output_type": "stream",
     "text": [
      "False\n"
     ]
    }
   ],
   "source": [
    "class myclass():\n",
    "  def __len__(self):\n",
    "    return 0\n",
    "\n",
    "myobj = myclass()\n",
    "print(bool(myobj))"
   ]
  },
  {
   "cell_type": "markdown",
   "id": "543e4a22-00cb-4f58-bd33-e9db0357da96",
   "metadata": {},
   "source": [
    "### Functions can Return a Boolean\n",
    "\n",
    "You can create functions that returns a Boolean Value:"
   ]
  },
  {
   "cell_type": "code",
   "execution_count": 176,
   "id": "bfaeb1cf-0b6d-40e9-abca-7b02ce38e16f",
   "metadata": {},
   "outputs": [
    {
     "name": "stdout",
     "output_type": "stream",
     "text": [
      "True\n"
     ]
    }
   ],
   "source": [
    "# Print the answer of a function:\n",
    "\n",
    "def myFunction() :\n",
    "  return True\n",
    "\n",
    "print(myFunction())"
   ]
  },
  {
   "cell_type": "markdown",
   "id": "0f82ca44-2bfc-42d0-8ee3-de8c3683165d",
   "metadata": {},
   "source": [
    "You can execute code based on the Boolean answer of a function:"
   ]
  },
  {
   "cell_type": "code",
   "execution_count": 177,
   "id": "84789d2b-edf2-47a8-9328-c94f856f75a8",
   "metadata": {},
   "outputs": [
    {
     "name": "stdout",
     "output_type": "stream",
     "text": [
      "YES!\n"
     ]
    }
   ],
   "source": [
    "# Print \"YES!\" if the function returns True, otherwise print \"NO!\":\n",
    "\n",
    "def myFunction() :\n",
    "  return True\n",
    "\n",
    "if myFunction():\n",
    "  print(\"YES!\")\n",
    "else:\n",
    "  print(\"NO!\")"
   ]
  },
  {
   "cell_type": "markdown",
   "id": "6d918042-5537-453e-a8e2-288b8036c22a",
   "metadata": {},
   "source": [
    "Python also has many **built-in functions** that return a boolean value, like the `isinstance()` function, which can be used to determine if an object is of a certain data type:"
   ]
  },
  {
   "cell_type": "code",
   "execution_count": 178,
   "id": "134b6ac6-0259-424c-a3d1-11e071af6833",
   "metadata": {},
   "outputs": [
    {
     "name": "stdout",
     "output_type": "stream",
     "text": [
      "True\n"
     ]
    }
   ],
   "source": [
    "# Check if an object is an integer or not:\n",
    "\n",
    "\n",
    "x = 200\n",
    "print(isinstance(x, int))"
   ]
  },
  {
   "cell_type": "markdown",
   "id": "f9bfb445-05b4-44bc-b531-6b345d1b9d57",
   "metadata": {},
   "source": [
    "### `isinstance()`\n",
    "\n",
    "La fonction **isinstance()** en Python est utilisée pour vérifier si un objet est une instance d'une classe spécifique ou d'un tuple de classes. C'est un outil très utile pour assurer la sécurité du type dans un programme, permettant au développeur de s'assurer que les objets manipulés correspondent bien aux types attendus.\n",
    "\n",
    "**Syntaxe de isinstance()**\n",
    "La fonction isinstance() prend deux arguments :\n",
    "\n",
    "- `objet` : l'objet dont le type doit être vérifié.\n",
    "- `classe ou tuple de classes` : la classe, ou le tuple contenant des classes, auquel l'objet doit correspondre.\n",
    "\n",
    "**Retour de la fonction**\n",
    "\n",
    "isinstance() renvoie **True** si l'objet est une instance de la classe spécifiée, ou de n'importe quelle sous-classe de celle-ci. Sinon, elle renvoie False."
   ]
  },
  {
   "cell_type": "code",
   "execution_count": 181,
   "id": "243a5f80-fd27-427e-b68f-340bfada4e14",
   "metadata": {},
   "outputs": [
    {
     "data": {
      "text/plain": [
       "True"
      ]
     },
     "execution_count": 181,
     "metadata": {},
     "output_type": "execute_result"
    }
   ],
   "source": [
    "# Vérification simple :\n",
    "\n",
    "x = 5\n",
    "\n",
    "isinstance(x, int)  # Renvoie True"
   ]
  },
  {
   "cell_type": "code",
   "execution_count": 182,
   "id": "ab328b75-fa5f-4ef3-b1d8-9e5908bea482",
   "metadata": {},
   "outputs": [
    {
     "name": "stdout",
     "output_type": "stream",
     "text": [
      "True\n",
      "True\n",
      "False\n"
     ]
    }
   ],
   "source": [
    "# Vérification avec des classes personnalisées :\n",
    "\n",
    "class Fruit:\n",
    "    pass\n",
    "\n",
    "class Apple(Fruit):\n",
    "    pass\n",
    "\n",
    "f = Fruit()\n",
    "a = Apple()\n",
    "\n",
    "print(isinstance(f, Fruit))  # Renvoie True\n",
    "print(isinstance(a, Fruit))  # Renvoie True car Apple est une sous-classe de Fruit\n",
    "print(isinstance(f, Apple))  # Renvoie False\n"
   ]
  },
  {
   "cell_type": "code",
   "execution_count": 183,
   "id": "c0d8ccf7-77dd-406a-891f-69f6b26cfda0",
   "metadata": {},
   "outputs": [
    {
     "name": "stdout",
     "output_type": "stream",
     "text": [
      "True\n",
      "False\n"
     ]
    }
   ],
   "source": [
    "# Utilisation avec un tuple de classes :\n",
    "\n",
    "\n",
    "print(isinstance(a, (list, tuple, Apple)))  # Renvoie True car a est une instance de Apple\n",
    "print(isinstance(a, (list, tuple)))         # Renvoie False car a n'est ni une liste ni un tuple"
   ]
  },
  {
   "cell_type": "markdown",
   "id": "f73b8508-3b5f-4bc8-995e-35d0b67a1fd7",
   "metadata": {},
   "source": [
    "**Pourquoi utiliser isinstance()?**\n",
    "\n",
    "**isinstance()** est particulièrement utile dans des scénarios où le type de données peut varier, et où le comportement du programme doit s'adapter au type d'objet qu'il manipule. Par exemple, lors de l'écriture de fonctions qui peuvent accepter plusieurs types de données, vous pouvez utiliser isinstance() pour séparer la logique en fonction du type de l'objet passé à la fonction.\n",
    "\n",
    "Voici un exemple simple :"
   ]
  },
  {
   "cell_type": "code",
   "execution_count": 184,
   "id": "289ab38d-ee8f-442d-a558-73755c15ed6c",
   "metadata": {},
   "outputs": [],
   "source": [
    "def adder(a, b):\n",
    "    if isinstance(a, int) and isinstance(b, int):\n",
    "        return a + b  # addition pour les entiers\n",
    "    elif isinstance(a, str) and isinstance(b, str):\n",
    "        return a + \" \" + b  # concaténation pour les chaînes\n",
    "    else:\n",
    "        raise ValueError(\"Invalid input types\")"
   ]
  },
  {
   "cell_type": "markdown",
   "id": "74e35f59-18bb-4f12-a9dd-321a234f1d3c",
   "metadata": {},
   "source": [
    "Cette fonction utilise isinstance() pour s'assurer que les opérations sont effectuées sur des types compatibles, sinon elle lève une exception.\n",
    "\n",
    "**En résumé**, isinstance() est un moyen efficace de gérer la validation des types dans vos programmes Python, permettant ainsi une programmation plus robuste et flexible."
   ]
  },
  {
   "cell_type": "code",
   "execution_count": null,
   "id": "2e7c6998-25d1-48af-93cb-72e2e57f5cbb",
   "metadata": {},
   "outputs": [],
   "source": []
  }
 ],
 "metadata": {
  "kernelspec": {
   "display_name": "Python 3 (ipykernel)",
   "language": "python",
   "name": "python3"
  },
  "language_info": {
   "codemirror_mode": {
    "name": "ipython",
    "version": 3
   },
   "file_extension": ".py",
   "mimetype": "text/x-python",
   "name": "python",
   "nbconvert_exporter": "python",
   "pygments_lexer": "ipython3",
   "version": "3.10.13"
  }
 },
 "nbformat": 4,
 "nbformat_minor": 5
}
