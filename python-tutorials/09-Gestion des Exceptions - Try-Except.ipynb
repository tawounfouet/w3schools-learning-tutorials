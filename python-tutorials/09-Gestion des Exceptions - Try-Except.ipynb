{
 "cells": [
  {
   "cell_type": "markdown",
   "id": "1f57452b-dfbd-49e5-9d20-a4e4d5d723e3",
   "metadata": {},
   "source": [
    "# Python Try Except"
   ]
  },
  {
   "cell_type": "markdown",
   "id": "8033fa27-5553-4984-a261-a27e746efd22",
   "metadata": {},
   "source": [
    "- The **try** block lets you test a block of code for errors.\n",
    "\n",
    "- The **except** block lets you handle the error.\n",
    "\n",
    "- The **else** block lets you execute code when there is no error.\n",
    "\n",
    "- The **finally** block lets you execute code, regardless of the result of the try- and except blocks."
   ]
  },
  {
   "cell_type": "markdown",
   "id": "f33c8d9c-6e2a-439b-a6dd-9063dba1b733",
   "metadata": {},
   "source": [
    "### Exception Handling\n",
    "\n",
    "When an error occurs, or exception as we call it, Python will normally stop and generate an error message.\n",
    "\n",
    "These exceptions can be handled using the try statement:"
   ]
  },
  {
   "cell_type": "code",
   "execution_count": 1,
   "id": "fcd63f19-5dc0-4cbc-accf-1d195cf02723",
   "metadata": {},
   "outputs": [
    {
     "name": "stdout",
     "output_type": "stream",
     "text": [
      "An exception occurred\n"
     ]
    }
   ],
   "source": [
    "# Example - The try block will generate an exception, because x is not defined:\n",
    "\n",
    "try:\n",
    "  print(x)\n",
    "except:\n",
    "  print(\"An exception occurred\")"
   ]
  },
  {
   "cell_type": "markdown",
   "id": "2ee295ff-15d5-4b9d-9462-20d65bc273f9",
   "metadata": {},
   "source": [
    "- Since the `try block raises an error`, the except block will be executed.\n",
    "\n",
    "- Without the **try block**, the `program will crash and raise an error`:"
   ]
  },
  {
   "cell_type": "code",
   "execution_count": 2,
   "id": "17cec525-8539-403f-a1a6-365e871c52af",
   "metadata": {},
   "outputs": [
    {
     "ename": "NameError",
     "evalue": "name 'x' is not defined",
     "output_type": "error",
     "traceback": [
      "\u001b[0;31m---------------------------------------------------------------------------\u001b[0m",
      "\u001b[0;31mNameError\u001b[0m                                 Traceback (most recent call last)",
      "Cell \u001b[0;32mIn[2], line 3\u001b[0m\n\u001b[1;32m      1\u001b[0m \u001b[38;5;66;03m# Example - This statement will raise an error, because x is not defined:\u001b[39;00m\n\u001b[0;32m----> 3\u001b[0m \u001b[38;5;28mprint\u001b[39m(\u001b[43mx\u001b[49m)\n",
      "\u001b[0;31mNameError\u001b[0m: name 'x' is not defined"
     ]
    }
   ],
   "source": [
    "# Example - This statement will raise an error, because x is not defined:\n",
    "\n",
    "print(x)"
   ]
  },
  {
   "cell_type": "markdown",
   "id": "949810f3-0506-434f-84aa-309ea4df3c49",
   "metadata": {},
   "source": [
    "### Many Exceptions\n",
    "\n",
    "You can define as many exception blocks as you want, e.g. if you want to execute a special block of code for a special kind of error:"
   ]
  },
  {
   "cell_type": "code",
   "execution_count": 3,
   "id": "18f0abfc-99ca-40fc-96bf-349eea3245a0",
   "metadata": {},
   "outputs": [
    {
     "name": "stdout",
     "output_type": "stream",
     "text": [
      "Variable x is not defined\n"
     ]
    }
   ],
   "source": [
    "# Example - Print one message if the try block raises a NameError and another for other errors:\n",
    "\n",
    "try:\n",
    "  print(x)\n",
    "except NameError:\n",
    "  print(\"Variable x is not defined\")\n",
    "except:\n",
    "  print(\"Something else went wrong\")"
   ]
  },
  {
   "cell_type": "markdown",
   "id": "5a986ec7-4228-4bf3-a411-f1d710b79444",
   "metadata": {},
   "source": [
    "### Else\n",
    "\n",
    "You can use the **else** keyword to define a block of code to be executed if no errors were raised:"
   ]
  },
  {
   "cell_type": "code",
   "execution_count": 4,
   "id": "3f8b86fe-b1e8-41f9-bc9a-2212693bac88",
   "metadata": {},
   "outputs": [
    {
     "name": "stdout",
     "output_type": "stream",
     "text": [
      "Hello\n",
      "Nothing went wrong\n"
     ]
    }
   ],
   "source": [
    "# Example - In this example, the try block does not generate any error:\n",
    "\n",
    "try:\n",
    "  print(\"Hello\")\n",
    "except:\n",
    "  print(\"Something went wrong\")\n",
    "else:\n",
    "  print(\"Nothing went wrong\")"
   ]
  },
  {
   "cell_type": "markdown",
   "id": "4eccdadc-5446-4158-aeae-fbecc5d57ceb",
   "metadata": {},
   "source": [
    "### Finally\n",
    "\n",
    "The **finally** block, if specified, will be executed regardless if the try block raises an error or not."
   ]
  },
  {
   "cell_type": "code",
   "execution_count": 5,
   "id": "8483af4d-ae64-431e-b038-3ee34d697395",
   "metadata": {},
   "outputs": [
    {
     "name": "stdout",
     "output_type": "stream",
     "text": [
      "Something went wrong\n",
      "The 'try except' is finished\n"
     ]
    }
   ],
   "source": [
    "try:\n",
    "  print(x)\n",
    "except:\n",
    "  print(\"Something went wrong\")\n",
    "finally:\n",
    "  print(\"The 'try except' is finished\")"
   ]
  },
  {
   "cell_type": "markdown",
   "id": "e5b6b289-2420-45dc-a1a9-e675a69fb3a0",
   "metadata": {},
   "source": [
    "**This can be useful to close objects and clean up resources:**"
   ]
  },
  {
   "cell_type": "code",
   "execution_count": 6,
   "id": "15cad503-f431-4c1e-b968-ead811904810",
   "metadata": {},
   "outputs": [
    {
     "name": "stdout",
     "output_type": "stream",
     "text": [
      "Something went wrong when opening the file\n"
     ]
    }
   ],
   "source": [
    "# Example - Try to open and write to a file that is not writable:\n",
    "\n",
    "try:\n",
    "    f = open(\"demofile.txt\")\n",
    "    try:\n",
    "        f.write(\"Lorum Ipsum\")\n",
    "    except:\n",
    "        print(\"Something went wrong when writing to the file\")\n",
    "    finally:\n",
    "        f.close()\n",
    "except:\n",
    "    print(\"Something went wrong when opening the file\")"
   ]
  },
  {
   "cell_type": "markdown",
   "id": "3494dfde-b208-401e-b764-9733442deeee",
   "metadata": {},
   "source": [
    "### Raise an exception\n",
    "\n",
    "As a Python developer you can choose to throw an exception if a condition occurs.\n",
    "\n",
    "To throw (or raise) an exception, use the **raise** keyword."
   ]
  },
  {
   "cell_type": "code",
   "execution_count": 7,
   "id": "5a197454-db6e-40be-8563-646adb30f2c0",
   "metadata": {},
   "outputs": [
    {
     "ename": "Exception",
     "evalue": "Sorry, no numbers below zero",
     "output_type": "error",
     "traceback": [
      "\u001b[0;31m---------------------------------------------------------------------------\u001b[0m",
      "\u001b[0;31mException\u001b[0m                                 Traceback (most recent call last)",
      "Cell \u001b[0;32mIn[7], line 6\u001b[0m\n\u001b[1;32m      3\u001b[0m x \u001b[38;5;241m=\u001b[39m \u001b[38;5;241m-\u001b[39m\u001b[38;5;241m1\u001b[39m\n\u001b[1;32m      5\u001b[0m \u001b[38;5;28;01mif\u001b[39;00m x \u001b[38;5;241m<\u001b[39m \u001b[38;5;241m0\u001b[39m:\n\u001b[0;32m----> 6\u001b[0m   \u001b[38;5;28;01mraise\u001b[39;00m \u001b[38;5;167;01mException\u001b[39;00m(\u001b[38;5;124m\"\u001b[39m\u001b[38;5;124mSorry, no numbers below zero\u001b[39m\u001b[38;5;124m\"\u001b[39m)\n",
      "\u001b[0;31mException\u001b[0m: Sorry, no numbers below zero"
     ]
    }
   ],
   "source": [
    "# Example - Raise an error and stop the program if x is lower than 0:\n",
    "\n",
    "x = -1\n",
    "\n",
    "if x < 0:\n",
    "  raise Exception(\"Sorry, no numbers below zero\")"
   ]
  },
  {
   "cell_type": "code",
   "execution_count": 9,
   "id": "039ea4cb-fc5e-404b-85c5-cdf63f7c15c7",
   "metadata": {},
   "outputs": [
    {
     "name": "stdout",
     "output_type": "stream",
     "text": [
      "x is negatif\n"
     ]
    }
   ],
   "source": [
    "x = -1\n",
    "\n",
    "if x < 0:\n",
    "    #raise Exception(\"Sorry, no numbers below zero\")\n",
    "    print(\"x is negatif\")"
   ]
  },
  {
   "cell_type": "markdown",
   "id": "ba21f150-6fbd-4966-81a3-cf451367abae",
   "metadata": {},
   "source": [
    "The **raise** keyword is used to raise an exception.\n",
    "\n",
    "You can define what kind of error to raise, and the text to print to the user."
   ]
  },
  {
   "cell_type": "code",
   "execution_count": 10,
   "id": "312144d2-6c0f-4f4e-9f1e-e4b014011a40",
   "metadata": {},
   "outputs": [
    {
     "ename": "TypeError",
     "evalue": "Only integers are allowed",
     "output_type": "error",
     "traceback": [
      "\u001b[0;31m---------------------------------------------------------------------------\u001b[0m",
      "\u001b[0;31mTypeError\u001b[0m                                 Traceback (most recent call last)",
      "Cell \u001b[0;32mIn[10], line 6\u001b[0m\n\u001b[1;32m      3\u001b[0m x \u001b[38;5;241m=\u001b[39m \u001b[38;5;124m\"\u001b[39m\u001b[38;5;124mhello\u001b[39m\u001b[38;5;124m\"\u001b[39m\n\u001b[1;32m      5\u001b[0m \u001b[38;5;28;01mif\u001b[39;00m \u001b[38;5;129;01mnot\u001b[39;00m \u001b[38;5;28mtype\u001b[39m(x) \u001b[38;5;129;01mis\u001b[39;00m \u001b[38;5;28mint\u001b[39m:\n\u001b[0;32m----> 6\u001b[0m   \u001b[38;5;28;01mraise\u001b[39;00m \u001b[38;5;167;01mTypeError\u001b[39;00m(\u001b[38;5;124m\"\u001b[39m\u001b[38;5;124mOnly integers are allowed\u001b[39m\u001b[38;5;124m\"\u001b[39m)\n",
      "\u001b[0;31mTypeError\u001b[0m: Only integers are allowed"
     ]
    }
   ],
   "source": [
    "# Example - Raise a TypeError if x is not an integer:\n",
    "\n",
    "x = \"hello\"\n",
    "\n",
    "if not type(x) is int:\n",
    "  raise TypeError(\"Only integers are allowed\")"
   ]
  },
  {
   "cell_type": "code",
   "execution_count": null,
   "id": "de0f31b1-59d2-48ff-bae1-d73db9e3bff8",
   "metadata": {},
   "outputs": [],
   "source": []
  },
  {
   "cell_type": "code",
   "execution_count": null,
   "id": "4be0cfb8-8aa0-4c88-af49-68c368390c09",
   "metadata": {},
   "outputs": [],
   "source": []
  },
  {
   "cell_type": "markdown",
   "id": "3305a4fc-3a0d-4c3d-a5bb-68a89167e826",
   "metadata": {},
   "source": [
    "# Python User Input"
   ]
  },
  {
   "cell_type": "markdown",
   "id": "79af984b-fc99-46d6-af84-d99a6df50c44",
   "metadata": {},
   "source": [
    "User Input\n",
    "\n",
    "- Python allows for user input.\n",
    "\n",
    "- That means we are able to ask the user for input.\n",
    "\n",
    "- The method is a bit different in Python 3.6 than Python 2.7.\n",
    "    - Python 3.6 uses the input() method.\n",
    "    - Python 2.7 uses the raw_input() method.\n",
    "\n",
    "The following example asks for the username, and when you entered the username, it gets printed on the screen:\n",
    "\n"
   ]
  },
  {
   "cell_type": "code",
   "execution_count": 11,
   "id": "5d54571d-4a5e-47ec-a1e8-e0b8be43d6a4",
   "metadata": {},
   "outputs": [
    {
     "name": "stdin",
     "output_type": "stream",
     "text": [
      "Enter username: Thomas\n"
     ]
    },
    {
     "name": "stdout",
     "output_type": "stream",
     "text": [
      "Username is: Thomas\n"
     ]
    }
   ],
   "source": [
    "# Python 3.6\n",
    "\n",
    "username = input(\"Enter username:\")\n",
    "print(\"Username is: \" + username)"
   ]
  },
  {
   "cell_type": "code",
   "execution_count": 12,
   "id": "729960bb-1a45-4a48-a1f6-f5d13ecbd16b",
   "metadata": {},
   "outputs": [
    {
     "ename": "NameError",
     "evalue": "name 'raw_input' is not defined",
     "output_type": "error",
     "traceback": [
      "\u001b[0;31m---------------------------------------------------------------------------\u001b[0m",
      "\u001b[0;31mNameError\u001b[0m                                 Traceback (most recent call last)",
      "Cell \u001b[0;32mIn[12], line 3\u001b[0m\n\u001b[1;32m      1\u001b[0m \u001b[38;5;66;03m# Python 2.7\u001b[39;00m\n\u001b[0;32m----> 3\u001b[0m username \u001b[38;5;241m=\u001b[39m \u001b[43mraw_input\u001b[49m(\u001b[38;5;124m\"\u001b[39m\u001b[38;5;124mEnter username:\u001b[39m\u001b[38;5;124m\"\u001b[39m)\n\u001b[1;32m      4\u001b[0m \u001b[38;5;28mprint\u001b[39m(\u001b[38;5;124m\"\u001b[39m\u001b[38;5;124mUsername is: \u001b[39m\u001b[38;5;124m\"\u001b[39m \u001b[38;5;241m+\u001b[39m username)\n",
      "\u001b[0;31mNameError\u001b[0m: name 'raw_input' is not defined"
     ]
    }
   ],
   "source": [
    "# Python 2.7\n",
    "\n",
    "username = raw_input(\"Enter username:\")\n",
    "print(\"Username is: \" + username)"
   ]
  },
  {
   "cell_type": "markdown",
   "id": "08d9f37c-df38-4be3-9897-bdf059eb1c4a",
   "metadata": {},
   "source": [
    "`Python stops executing when it comes to the input() function, and continues when the user has given some input.`"
   ]
  },
  {
   "cell_type": "code",
   "execution_count": null,
   "id": "b8db4669-34c4-41e4-9463-14d5a320692a",
   "metadata": {},
   "outputs": [],
   "source": []
  },
  {
   "cell_type": "markdown",
   "id": "e8d56240-3d00-421b-9c04-c2d1f3277734",
   "metadata": {},
   "source": [
    "# Python String Formatting\n",
    "\n",
    "**F-String** was introduced in Python 3.6, and is now the preferred way of formatting strings.\n",
    "\n",
    "Before Python 3.6 we had to use the format() method.\n",
    "\n"
   ]
  },
  {
   "cell_type": "markdown",
   "id": "7db2093b-9f0d-44df-b4d7-8370ca1f1c2b",
   "metadata": {},
   "source": [
    "### F-Strings\n",
    "\n",
    "F-string allows you to format selected parts of a string.\n",
    "\n",
    "To specify a string as an f-string, simply put an f in front of the string literal, like this:\n",
    "\n"
   ]
  },
  {
   "cell_type": "code",
   "execution_count": 13,
   "id": "3c6fc1c9-f4ca-4b08-a16c-c986b55d29d7",
   "metadata": {},
   "outputs": [
    {
     "name": "stdout",
     "output_type": "stream",
     "text": [
      "The price is 49 dollars\n"
     ]
    }
   ],
   "source": [
    "# Example - Create an f-string:\n",
    "\n",
    "txt = f\"The price is 49 dollars\"\n",
    "print(txt)"
   ]
  },
  {
   "cell_type": "code",
   "execution_count": null,
   "id": "00095080-5c14-4a46-a44f-89269039acea",
   "metadata": {},
   "outputs": [],
   "source": []
  },
  {
   "cell_type": "markdown",
   "id": "44bc35bb-0059-4c72-a2fb-a76231697f93",
   "metadata": {},
   "source": [
    "### Placeholders and Modifiers\n",
    "\n",
    "To format values in an f-string, add placeholders {}, a placeholder can contain variables, operations, functions, and modifiers to format the value."
   ]
  },
  {
   "cell_type": "code",
   "execution_count": null,
   "id": "1144cc71-1ef8-4094-91e6-5f1b0603ad5f",
   "metadata": {},
   "outputs": [],
   "source": []
  },
  {
   "cell_type": "markdown",
   "id": "3908ac66-6755-48cd-a4af-d728b39df6d0",
   "metadata": {},
   "source": [
    "### Perform Operations in F-Strings\n",
    "\n",
    "You can perform Python operations inside the placeholders.\n",
    "\n",
    "You can do math operations:\n",
    "\n"
   ]
  },
  {
   "cell_type": "code",
   "execution_count": null,
   "id": "e0f05f63-696c-4303-88b7-94c5a4bdd67f",
   "metadata": {},
   "outputs": [],
   "source": []
  },
  {
   "cell_type": "markdown",
   "id": "c7279401-c3dd-4912-9b8a-b340f9380ee7",
   "metadata": {},
   "source": [
    "### Execute Functions in F-Strings\n",
    "You can execute functions inside the placeholder:"
   ]
  },
  {
   "cell_type": "code",
   "execution_count": null,
   "id": "47d2263b-e74e-4eea-93e1-5327c4a64e70",
   "metadata": {},
   "outputs": [],
   "source": []
  },
  {
   "cell_type": "markdown",
   "id": "52b4b8e9-732c-46ce-9aa2-83a875aabcfc",
   "metadata": {},
   "source": [
    "### More Modifiers\n",
    "\n",
    "At the beginning of this chapter we explained how to use the .2f modifier to format a number into a fixed point number with 2 decimals.\n",
    "\n",
    "There are several other modifiers that can be used to format values:"
   ]
  },
  {
   "cell_type": "code",
   "execution_count": null,
   "id": "d2819fa8-f437-407f-97b8-38e13ce53cf6",
   "metadata": {},
   "outputs": [],
   "source": []
  },
  {
   "cell_type": "markdown",
   "id": "d2a4abeb-e636-4d93-8a38-5037716316f9",
   "metadata": {},
   "source": [
    "### String format()\n",
    "\n",
    "Before Python 3.6 we used the format() method to format strings.\n",
    "\n",
    "The format() method can still be used, but f-strings are faster and the preferred way to format strings.\n",
    "\n",
    "The next examples in this page demonstrates how to format strings with the format() method.\n",
    "\n",
    "The format() method also uses curly brackets as placeholders {}, but the syntax is slightly different:\n",
    "\n"
   ]
  },
  {
   "cell_type": "code",
   "execution_count": null,
   "id": "62612fc6-a3e7-48c0-b8b7-98acdbff52af",
   "metadata": {},
   "outputs": [],
   "source": []
  },
  {
   "cell_type": "markdown",
   "id": "a8c192e7-9e13-4b9d-bfe5-c24c12298861",
   "metadata": {},
   "source": [
    "###  Multiple Values\n",
    "\n",
    "If you want to use more values, just add more values to the format() method:"
   ]
  },
  {
   "cell_type": "code",
   "execution_count": null,
   "id": "1cbcd146-5e24-4ed0-a7d6-bc90bb51c1ae",
   "metadata": {},
   "outputs": [],
   "source": []
  },
  {
   "cell_type": "markdown",
   "id": "6a9749ea-02dd-42f4-8146-6c0d7d94c3a5",
   "metadata": {},
   "source": [
    "### Index Numbers\n",
    "\n",
    "You can use index numbers (a number inside the curly brackets {0}) to be sure the values are placed in the correct placeholders:"
   ]
  },
  {
   "cell_type": "code",
   "execution_count": null,
   "id": "a3bfd2b1-fd53-4d28-8944-232246dbd2bf",
   "metadata": {},
   "outputs": [],
   "source": []
  },
  {
   "cell_type": "markdown",
   "id": "941391d7-b1d0-4800-a158-aed9c946c039",
   "metadata": {},
   "source": [
    "### Named Indexes\n",
    "\n",
    "You can also use named indexes by entering a name inside the curly brackets {carname}, but then you must use names when you pass the parameter values txt.format(carname = \"Ford\"):"
   ]
  }
 ],
 "metadata": {
  "kernelspec": {
   "display_name": "Python 3 (ipykernel)",
   "language": "python",
   "name": "python3"
  },
  "language_info": {
   "codemirror_mode": {
    "name": "ipython",
    "version": 3
   },
   "file_extension": ".py",
   "mimetype": "text/x-python",
   "name": "python",
   "nbconvert_exporter": "python",
   "pygments_lexer": "ipython3",
   "version": "3.10.13"
  }
 },
 "nbformat": 4,
 "nbformat_minor": 5
}
