{
 "cells": [
  {
   "cell_type": "code",
   "execution_count": null,
   "id": "b40c0b34-b30c-4b76-98e9-9badcc8a11e6",
   "metadata": {},
   "outputs": [],
   "source": []
  },
  {
   "cell_type": "markdown",
   "id": "f6e66fca-8481-4386-913b-d65578485610",
   "metadata": {
    "panel-layout": {
     "height": 60.5957,
     "visible": true,
     "width": 100
    }
   },
   "source": [
    "# Python Lists"
   ]
  },
  {
   "cell_type": "code",
   "execution_count": 4,
   "id": "b4a8b199-86bc-4fb0-9a51-1a8e770f160a",
   "metadata": {
    "panel-layout": {
     "height": 100.615,
     "visible": true,
     "width": 100
    }
   },
   "outputs": [
    {
     "data": {
      "text/plain": [
       "['apple', 'banana', 'cherry']"
      ]
     },
     "execution_count": 4,
     "metadata": {},
     "output_type": "execute_result"
    }
   ],
   "source": [
    "mylist = [\"apple\", \"banana\", \"cherry\"]\n",
    "mylist"
   ]
  },
  {
   "cell_type": "markdown",
   "id": "2f1c8f0f-ff64-4965-8bf7-51f51af8eed1",
   "metadata": {
    "panel-layout": {
     "height": 218.252,
     "visible": true,
     "width": 100
    }
   },
   "source": [
    "### List\n",
    "\n",
    "Lists are used to store multiple items in a single variable.\n",
    "\n",
    "Lists are one of 4 built-in data types in Python used to store `collections of data`, the other 3 are \n",
    "- Tuple,\n",
    "- Set, and\n",
    "- Dictionary,\n",
    "all with different qualities and usage.\n",
    "\n",
    "Lists are created using square brackets: `[]`"
   ]
  },
  {
   "cell_type": "code",
   "execution_count": 3,
   "id": "ac7d423f-1d70-4bd0-b014-558e02f3300e",
   "metadata": {
    "panel-layout": {
     "height": 0,
     "visible": true,
     "width": 100
    }
   },
   "outputs": [
    {
     "name": "stdout",
     "output_type": "stream",
     "text": [
      "['apple', 'banana', 'cherry']\n"
     ]
    }
   ],
   "source": [
    "# Create a List:\n",
    "\n",
    "thislist = [\"apple\", \"banana\", \"cherry\"]\n",
    "print(thislist)"
   ]
  },
  {
   "cell_type": "markdown",
   "id": "d91b3023-f8e3-44c4-9767-836956525531",
   "metadata": {
    "panel-layout": {
     "height": 153.594,
     "visible": true,
     "width": 100
    }
   },
   "source": [
    "### List Items\n",
    "\n",
    "List items are ordered, changeable, and allow duplicate values.\n",
    "\n",
    "List items are indexed, \n",
    "- the first item has index [0],\n",
    "- the second item has index [1] etc.\n",
    "\n"
   ]
  },
  {
   "cell_type": "markdown",
   "id": "c88c87e7-b344-4f4d-9cb9-d6f6a07fa994",
   "metadata": {
    "panel-layout": {
     "height": 107.324,
     "visible": true,
     "width": 100
    }
   },
   "source": [
    "### Ordered\n",
    "\n",
    "When we say that lists are ordered, it means that the items have a defined order, and that order will not change.\n",
    "\n",
    "If you add new items to a list, the new items will be placed at the end of the list."
   ]
  },
  {
   "cell_type": "markdown",
   "id": "fe140f75-525f-4494-9d5d-a8dccacd516e",
   "metadata": {
    "panel-layout": {
     "height": 78.1934,
     "visible": true,
     "width": 100
    }
   },
   "source": [
    "### Changeable\n",
    "\n",
    "The list is changeable, meaning that we can change, add, and remove items in a list after it has been created."
   ]
  },
  {
   "cell_type": "markdown",
   "id": "c464224a-eb6f-4b0e-81a1-6555e62e3482",
   "metadata": {
    "panel-layout": {
     "height": 78.1934,
     "visible": true,
     "width": 100
    }
   },
   "source": [
    "### Allow Duplicates\n",
    "\n",
    "Since lists are indexed, lists can have items with the same value:\n"
   ]
  },
  {
   "cell_type": "code",
   "execution_count": 6,
   "id": "de789ed7-a6fb-4c47-bdb0-fca12b8085a2",
   "metadata": {
    "panel-layout": {
     "height": 0,
     "visible": true,
     "width": 100
    }
   },
   "outputs": [
    {
     "name": "stdout",
     "output_type": "stream",
     "text": [
      "['apple', 'banana', 'cherry', 'apple', 'cherry']\n"
     ]
    }
   ],
   "source": [
    "# Lists allow duplicate values:\n",
    "\n",
    "thislist = [\"apple\", \"banana\", \"cherry\", \"apple\", \"cherry\"]\n",
    "print(thislist)"
   ]
  },
  {
   "cell_type": "markdown",
   "id": "ec2048be-f7c8-45ef-bbde-96751acd377f",
   "metadata": {
    "panel-layout": {
     "height": 78.1934,
     "visible": true,
     "width": 100
    }
   },
   "source": [
    "### List Length\n",
    "\n",
    "To determine how many items a list has, use the len() function:"
   ]
  },
  {
   "cell_type": "code",
   "execution_count": 7,
   "id": "2adce13c-3c5d-42c2-ad09-a3cd0af09b0a",
   "metadata": {
    "panel-layout": {
     "height": 0,
     "visible": true,
     "width": 100
    }
   },
   "outputs": [
    {
     "name": "stdout",
     "output_type": "stream",
     "text": [
      "3\n"
     ]
    }
   ],
   "source": [
    "# Print the number of items in the list:\n",
    "\n",
    "thislist = [\"apple\", \"banana\", \"cherry\"]\n",
    "print(len(thislist))"
   ]
  },
  {
   "cell_type": "code",
   "execution_count": 8,
   "id": "0410f9f1-9ddb-4f29-bbad-37b1732f71aa",
   "metadata": {
    "panel-layout": {
     "height": 27.1387,
     "visible": true,
     "width": 100
    }
   },
   "outputs": [
    {
     "data": {
      "text/plain": [
       "3"
      ]
     },
     "execution_count": 8,
     "metadata": {},
     "output_type": "execute_result"
    }
   ],
   "source": [
    "len(thislist)"
   ]
  },
  {
   "cell_type": "markdown",
   "id": "397d4203-6f8a-408c-813d-0d5c5b40cce3",
   "metadata": {
    "panel-layout": {
     "height": 78.1934,
     "visible": true,
     "width": 100
    }
   },
   "source": [
    "### List Items - Data Types\n",
    "\n",
    "List items can be of any data type:"
   ]
  },
  {
   "cell_type": "code",
   "execution_count": 9,
   "id": "77ddac5b-a114-4234-ad0b-cdbdf8a81228",
   "metadata": {},
   "outputs": [],
   "source": [
    "# String, int and boolean data types:\n",
    "\n",
    "list1 = [\"apple\", \"banana\", \"cherry\"]\n",
    "list2 = [1, 5, 7, 9, 3]\n",
    "list3 = [True, False, False]"
   ]
  },
  {
   "cell_type": "markdown",
   "id": "9a44863e-9dc4-4c08-8c28-e86dabced0c9",
   "metadata": {
    "panel-layout": {
     "height": 51.123,
     "visible": true,
     "width": 100
    }
   },
   "source": [
    "**A list can contain different data types:**"
   ]
  },
  {
   "cell_type": "code",
   "execution_count": 11,
   "id": "c40ae91b-2bba-4cdd-b6dd-4ad460e6a0d9",
   "metadata": {
    "panel-layout": {
     "height": 134.893,
     "visible": true,
     "width": 100
    }
   },
   "outputs": [
    {
     "data": {
      "text/plain": [
       "['abc', 34, True, 40, 'male']"
      ]
     },
     "execution_count": 11,
     "metadata": {},
     "output_type": "execute_result"
    }
   ],
   "source": [
    "# A list with strings, integers and boolean values:\n",
    "\n",
    "list1 = [\"abc\", 34, True, 40, \"male\"]\n",
    "list1"
   ]
  },
  {
   "cell_type": "markdown",
   "id": "2630f0fb-9a19-4406-aa97-8d4e78102bf3",
   "metadata": {
    "panel-layout": {
     "height": 147.324,
     "visible": true,
     "width": 100
    }
   },
   "source": [
    "### type()\n",
    "\n",
    "From Python's perspective, lists are defined as objects with the data type 'list':\n",
    "```python\n",
    "<class 'list'>\n",
    "```"
   ]
  },
  {
   "cell_type": "code",
   "execution_count": 12,
   "id": "02a285a2-d48f-48b5-8917-5444dd94a67d",
   "metadata": {
    "panel-layout": {
     "height": 0,
     "visible": true,
     "width": 100
    }
   },
   "outputs": [
    {
     "name": "stdout",
     "output_type": "stream",
     "text": [
      "<class 'list'>\n"
     ]
    }
   ],
   "source": [
    "# What is the data type of a list?\n",
    "\n",
    "mylist = [\"apple\", \"banana\", \"cherry\"]\n",
    "print(type(mylist))"
   ]
  },
  {
   "cell_type": "code",
   "execution_count": 13,
   "id": "0b568a73-2c8e-4f45-a4c6-12c1e51eccd2",
   "metadata": {
    "panel-layout": {
     "height": 10,
     "visible": true,
     "width": 100
    }
   },
   "outputs": [
    {
     "data": {
      "text/plain": [
       "list"
      ]
     },
     "execution_count": 13,
     "metadata": {},
     "output_type": "execute_result"
    }
   ],
   "source": [
    "type(mylist)"
   ]
  },
  {
   "cell_type": "markdown",
   "id": "2b235964-a098-4897-99b4-1317f151151d",
   "metadata": {
    "panel-layout": {
     "height": 78.1934,
     "visible": true,
     "width": 100
    }
   },
   "source": [
    "### The list() Constructor\n",
    "\n",
    "It is also possible to use the list() constructor when creating a new list."
   ]
  },
  {
   "cell_type": "code",
   "execution_count": 14,
   "id": "4453d68d-7a8a-4af4-b22f-b7ae158645be",
   "metadata": {
    "panel-layout": {
     "height": 0,
     "visible": true,
     "width": 100
    }
   },
   "outputs": [
    {
     "name": "stdout",
     "output_type": "stream",
     "text": [
      "['apple', 'banana', 'cherry']\n"
     ]
    }
   ],
   "source": [
    "# Example - Using the list() constructor to make a List:\n",
    "\n",
    "thislist = list((\"apple\", \"banana\", \"cherry\")) # note the double round-brackets\n",
    "print(thislist)"
   ]
  },
  {
   "cell_type": "code",
   "execution_count": 15,
   "id": "43bc4afa-96f9-4cfc-9c16-99a024807846",
   "metadata": {
    "panel-layout": {
     "height": 100.615,
     "visible": true,
     "width": 100
    }
   },
   "outputs": [
    {
     "data": {
      "text/plain": [
       "['apple', 'banana', 'cherry']"
      ]
     },
     "execution_count": 15,
     "metadata": {},
     "output_type": "execute_result"
    }
   ],
   "source": [
    "thislist"
   ]
  },
  {
   "cell_type": "markdown",
   "id": "825d28b2-5464-404f-a9cb-ce2f452555a3",
   "metadata": {
    "panel-layout": {
     "height": 246.133,
     "visible": true,
     "width": 100
    }
   },
   "source": [
    "### Python Collections (Arrays)\n",
    "\n",
    "There are four collection data types in the Python programming language:\n",
    "\n",
    "- **List** is a collection which is ordered and changeable. Allows duplicate members.\n",
    "- **Tuple** is a collection which is ordered and unchangeable. Allows duplicate members.\n",
    "- **Set** is a collection which is unordered, unchangeable*, and unindexed. No duplicate members.\n",
    "- **Dictionary** is a collection which is ordered** and changeable. No duplicate members.\n",
    "\n",
    "\n",
    "*Set items are unchangeable, but you can remove and/or add items whenever you like.\n",
    "\n",
    "**As of Python version 3.7, dictionaries are ordered. In Python 3.6 and earlier, dictionaries are unordered.\n",
    "\n",
    "\n",
    "When choosing a collection type, it is useful to understand the properties of that type. Choosing the right type for a particular data set could mean retention of meaning, and, it could mean an increase in efficiency or security."
   ]
  },
  {
   "cell_type": "markdown",
   "id": "a11a2cbe-2bed-4b69-a45f-46cf0846cbf7",
   "metadata": {
    "panel-layout": {
     "height": 60.5957,
     "visible": true,
     "width": 100
    }
   },
   "source": [
    "# Python - Access List Items"
   ]
  },
  {
   "cell_type": "markdown",
   "id": "330694c8-7e8e-4d57-9c18-831bddecdb4e",
   "metadata": {
    "panel-layout": {
     "height": 78.1934,
     "visible": true,
     "width": 100
    }
   },
   "source": [
    "### Access Items\n",
    "\n",
    "List items are indexed and you can access them by referring to the index number:"
   ]
  },
  {
   "cell_type": "code",
   "execution_count": 17,
   "id": "b4c19472-dcbb-4f43-adfd-3eecd400b083",
   "metadata": {
    "panel-layout": {
     "height": 0,
     "visible": true,
     "width": 100
    }
   },
   "outputs": [
    {
     "name": "stdout",
     "output_type": "stream",
     "text": [
      "banana\n"
     ]
    }
   ],
   "source": [
    "# Example - Print the second item of the list:\n",
    "# Note: The first item has index 0.\n",
    "\n",
    "thislist = [\"apple\", \"banana\", \"cherry\"]\n",
    "print(thislist[1])"
   ]
  },
  {
   "cell_type": "code",
   "execution_count": 18,
   "id": "e1c89b48-de32-43a5-8fd8-d4302b8c81b0",
   "metadata": {
    "panel-layout": {
     "height": 51.123,
     "visible": true,
     "width": 100
    }
   },
   "outputs": [
    {
     "data": {
      "text/plain": [
       "'apple'"
      ]
     },
     "execution_count": 18,
     "metadata": {},
     "output_type": "execute_result"
    }
   ],
   "source": [
    "thislist[0]"
   ]
  },
  {
   "cell_type": "code",
   "execution_count": 19,
   "id": "5bf6b643-2b9f-43a5-ac2d-20ed6f53fe45",
   "metadata": {
    "panel-layout": {
     "height": 51.123,
     "visible": true,
     "width": 100
    }
   },
   "outputs": [
    {
     "data": {
      "text/plain": [
       "'cherry'"
      ]
     },
     "execution_count": 19,
     "metadata": {},
     "output_type": "execute_result"
    }
   ],
   "source": [
    "thislist[2]"
   ]
  },
  {
   "cell_type": "markdown",
   "id": "a8cf7d01-dc58-478d-b3dd-04ed9e7a71aa",
   "metadata": {
    "panel-layout": {
     "height": 125.713,
     "visible": true,
     "width": 100
    }
   },
   "source": [
    "### Negative Indexing\n",
    "\n",
    "Negative indexing means start from the end\n",
    "\n",
    "- `-1` refers to the last item,\n",
    "-  `-2` refers to the second last item etc.\n"
   ]
  },
  {
   "cell_type": "code",
   "execution_count": 20,
   "id": "a59443ee-22ca-45d5-b6ee-2644dc9b08e9",
   "metadata": {
    "panel-layout": {
     "height": 0,
     "visible": true,
     "width": 100
    }
   },
   "outputs": [
    {
     "name": "stdout",
     "output_type": "stream",
     "text": [
      "cherry\n"
     ]
    }
   ],
   "source": [
    "# Example - Print the last item of the list:\n",
    "\n",
    "thislist = [\"apple\", \"banana\", \"cherry\"]\n",
    "print(thislist[-1])"
   ]
  },
  {
   "cell_type": "code",
   "execution_count": 21,
   "id": "ef8fdffc-0a30-4810-a49b-c777f2081569",
   "metadata": {
    "panel-layout": {
     "height": 51.123,
     "visible": true,
     "width": 100
    }
   },
   "outputs": [
    {
     "data": {
      "text/plain": [
       "'banana'"
      ]
     },
     "execution_count": 21,
     "metadata": {},
     "output_type": "execute_result"
    }
   ],
   "source": [
    "thislist[-2]"
   ]
  },
  {
   "cell_type": "code",
   "execution_count": 22,
   "id": "c6101c3e-0f9f-46ed-a6f0-42218992d5bc",
   "metadata": {
    "panel-layout": {
     "height": 51.123,
     "visible": true,
     "width": 100
    }
   },
   "outputs": [
    {
     "data": {
      "text/plain": [
       "'apple'"
      ]
     },
     "execution_count": 22,
     "metadata": {},
     "output_type": "execute_result"
    }
   ],
   "source": [
    "thislist[-3]"
   ]
  },
  {
   "cell_type": "markdown",
   "id": "26acf731-e532-429c-991a-a1c64a077a55",
   "metadata": {
    "panel-layout": {
     "height": 107.324,
     "visible": true,
     "width": 100
    }
   },
   "source": [
    "### Range of Indexes\n",
    "\n",
    "You can specify a range of indexes by specifying where to start and where to end the range.\n",
    "\n",
    "When specifying a range, the return value will be a new list with the specified items.\n",
    "\n"
   ]
  },
  {
   "cell_type": "code",
   "execution_count": 24,
   "id": "8cd21324-7fca-4866-9f88-0d9f830bfc14",
   "metadata": {
    "panel-layout": {
     "height": 0,
     "visible": true,
     "width": 100
    }
   },
   "outputs": [
    {
     "name": "stdout",
     "output_type": "stream",
     "text": [
      "['cherry', 'orange', 'kiwi']\n"
     ]
    }
   ],
   "source": [
    "# Example - Return the third, fourth, and fifth item:\n",
    "\n",
    "thislist = [\"apple\", \"banana\", \"cherry\", \"orange\", \"kiwi\", \"melon\", \"mango\"]\n",
    "print(thislist[2:5])"
   ]
  },
  {
   "cell_type": "code",
   "execution_count": 25,
   "id": "9572e17a-0500-4b5b-a47c-e311b93707db",
   "metadata": {
    "panel-layout": {
     "height": 100.615,
     "visible": true,
     "width": 100
    }
   },
   "outputs": [
    {
     "data": {
      "text/plain": [
       "['cherry', 'orange', 'kiwi']"
      ]
     },
     "execution_count": 25,
     "metadata": {},
     "output_type": "execute_result"
    }
   ],
   "source": [
    "thislist[2:5]"
   ]
  },
  {
   "cell_type": "markdown",
   "id": "d81295b0-b4ca-4298-955f-4fa36f7a603a",
   "metadata": {
    "panel-layout": {
     "height": 80.8789,
     "visible": true,
     "width": 100
    }
   },
   "source": [
    "`Note: The search will start at index 2 (included) and end at index 5 (not included)`.\n",
    "\n",
    "By leaving out the start value, the range will start at the first item:"
   ]
  },
  {
   "cell_type": "code",
   "execution_count": 26,
   "id": "095e6230-fad2-4cac-9d76-37c2ed120e07",
   "metadata": {
    "panel-layout": {
     "height": 0,
     "visible": true,
     "width": 100
    }
   },
   "outputs": [
    {
     "name": "stdout",
     "output_type": "stream",
     "text": [
      "['apple', 'banana', 'cherry', 'orange']\n"
     ]
    }
   ],
   "source": [
    "# Example - This example returns the items from the beginning to, but NOT including, \"kiwi\":\n",
    "\n",
    "thislist = [\"apple\", \"banana\", \"cherry\", \"orange\", \"kiwi\", \"melon\", \"mango\"]\n",
    "print(thislist[:4])"
   ]
  },
  {
   "cell_type": "markdown",
   "id": "86adee1d-bee6-4320-b218-67441ed4beb1",
   "metadata": {
    "panel-layout": {
     "height": 51.123,
     "visible": true,
     "width": 100
    }
   },
   "source": [
    "By leaving out the end value, the range will go on to the end of the list:"
   ]
  },
  {
   "cell_type": "code",
   "execution_count": 28,
   "id": "72921bba-bb5d-412e-bf56-11bc9b6b17a4",
   "metadata": {
    "panel-layout": {
     "height": 0,
     "visible": true,
     "width": 100
    }
   },
   "outputs": [
    {
     "name": "stdout",
     "output_type": "stream",
     "text": [
      "['cherry', 'orange', 'kiwi', 'melon', 'mango']\n"
     ]
    }
   ],
   "source": [
    "# Example - This example returns the items from \"cherry\" to the end:\n",
    "\n",
    "thislist = [\"apple\", \"banana\", \"cherry\", \"orange\", \"kiwi\", \"melon\", \"mango\"]\n",
    "print(thislist[2:])"
   ]
  },
  {
   "cell_type": "markdown",
   "id": "6ff584a4-5ebc-4735-84ae-a93efce1cb7e",
   "metadata": {
    "panel-layout": {
     "height": 78.1934,
     "visible": true,
     "width": 100
    }
   },
   "source": [
    "### Range of Negative Indexes\n",
    "\n",
    "Specify negative indexes if you want to start the search from the end of the list:"
   ]
  },
  {
   "cell_type": "code",
   "execution_count": 29,
   "id": "1988e634-ff9d-4366-8152-e05890657e74",
   "metadata": {
    "panel-layout": {
     "height": 0,
     "visible": true,
     "width": 100
    }
   },
   "outputs": [
    {
     "name": "stdout",
     "output_type": "stream",
     "text": [
      "['orange', 'kiwi', 'melon']\n"
     ]
    }
   ],
   "source": [
    "# Example - This example returns the items from \"orange\" (-4) to, but NOT including \"mango\" (-1):\n",
    "\n",
    "thislist = [\"apple\", \"banana\", \"cherry\", \"orange\", \"kiwi\", \"melon\", \"mango\"]\n",
    "print(thislist[-4:-1])"
   ]
  },
  {
   "cell_type": "markdown",
   "id": "31d29e8e-c42a-4e62-adf5-f7a6cf5f27fd",
   "metadata": {
    "panel-layout": {
     "height": 78.1934,
     "visible": true,
     "width": 100
    }
   },
   "source": [
    "### Check if Item Exists\n",
    "\n",
    "To determine if a specified item is present in a list use the in keyword:"
   ]
  },
  {
   "cell_type": "code",
   "execution_count": 30,
   "id": "27141583-b707-463a-8a23-3051dcc3edd4",
   "metadata": {},
   "outputs": [
    {
     "name": "stdout",
     "output_type": "stream",
     "text": [
      "Yes, 'apple' is in the fruits list\n"
     ]
    }
   ],
   "source": [
    "# Example - Check if \"apple\" is present in the list:\n",
    "\n",
    "thislist = [\"apple\", \"banana\", \"cherry\"]\n",
    "\n",
    "if \"apple\" in thislist:\n",
    "  print(\"Yes, 'apple' is in the fruits list\")"
   ]
  },
  {
   "cell_type": "markdown",
   "id": "5059d7db-bfac-4453-acff-17567e2a7b56",
   "metadata": {
    "panel-layout": {
     "height": 60.5957,
     "visible": true,
     "width": 100
    }
   },
   "source": [
    "# Python - Change List Items"
   ]
  },
  {
   "cell_type": "markdown",
   "id": "8588913b-a6c6-4ba9-93df-1544068e87b4",
   "metadata": {
    "panel-layout": {
     "height": 78.1934,
     "visible": true,
     "width": 100
    }
   },
   "source": [
    "### Change Item Value\n",
    "\n",
    "To change the value of a specific item, refer to the index number:"
   ]
  },
  {
   "cell_type": "code",
   "execution_count": 31,
   "id": "2bdff571-618d-4ffb-a8d4-83978555b790",
   "metadata": {
    "panel-layout": {
     "height": 0,
     "visible": true,
     "width": 100
    }
   },
   "outputs": [
    {
     "name": "stdout",
     "output_type": "stream",
     "text": [
      "['apple', 'banana', 'cherry'] \n",
      "\n",
      "['apple', 'blackcurrant', 'cherry']\n"
     ]
    }
   ],
   "source": [
    "# Example - Get your own Python Server\n",
    "\n",
    "thislist = [\"apple\", \"banana\", \"cherry\"]\n",
    "print(thislist, '\\n')\n",
    "\n",
    "thislist[1] = \"blackcurrant\"\n",
    "print(thislist)"
   ]
  },
  {
   "cell_type": "markdown",
   "id": "d7bb94fe-ad6a-4f1c-8340-d9cc86c342b5",
   "metadata": {
    "panel-layout": {
     "height": 78.1934,
     "visible": true,
     "width": 100
    }
   },
   "source": [
    "### Change a Range of Item Values\n",
    "\n",
    "To change the value of items within a specific range, define a list with the new values, and refer to the range of index numbers where you want to insert the new values:"
   ]
  },
  {
   "cell_type": "code",
   "execution_count": 33,
   "id": "9619fc57-e2c2-47d5-9114-abcc21531899",
   "metadata": {
    "panel-layout": {
     "height": 0,
     "visible": true,
     "width": 100
    }
   },
   "outputs": [
    {
     "name": "stdout",
     "output_type": "stream",
     "text": [
      "['apple', 'banana', 'cherry', 'orange', 'kiwi', 'mango']\n",
      "['apple', 'blackcurrant', 'watermelon', 'orange', 'kiwi', 'mango']\n"
     ]
    }
   ],
   "source": [
    "# Example - Change the values \"banana\" and \"cherry\" with the values \"blackcurrant\" and \"watermelon\":\n",
    "\n",
    "thislist = [\"apple\", \"banana\", \"cherry\", \"orange\", \"kiwi\", \"mango\"]\n",
    "print(thislist)\n",
    "thislist[1:3] = [\"blackcurrant\", \"watermelon\"]\n",
    "print(thislist)"
   ]
  },
  {
   "cell_type": "markdown",
   "id": "2bc66599-2b6e-43b7-9e4c-30fdd68772c4",
   "metadata": {
    "panel-layout": {
     "height": 51.123,
     "visible": true,
     "width": 100
    }
   },
   "source": [
    "If you insert more items than you replace, the new items will be inserted where you specified, and the remaining items will move accordingly:"
   ]
  },
  {
   "cell_type": "code",
   "execution_count": null,
   "id": "29be515e-71b3-477c-9a37-9047ab9004f2",
   "metadata": {
    "panel-layout": {
     "height": 0,
     "visible": true,
     "width": 100
    }
   },
   "outputs": [],
   "source": [
    "# Example - Change the second value by replacing it with two new values:\n",
    "\n",
    "thislist = [\"apple\", \"banana\", \"cherry\"]\n",
    "thislist[1:2] = [\"blackcurrant\", \"watermelon\"]\n",
    "print(thislist)"
   ]
  },
  {
   "cell_type": "markdown",
   "id": "aadaea55-a919-43b2-a87b-6e73c1d73c48",
   "metadata": {
    "panel-layout": {
     "height": 109.385,
     "visible": true,
     "width": 100
    }
   },
   "source": [
    "**Note**: \n",
    "\n",
    "The length of the list will change when the number of items inserted does not match the number of items replaced.\n",
    "\n",
    "If you insert less items than you replace, the new items will be inserted where you specified, and the remaining items will move accordingly:"
   ]
  },
  {
   "cell_type": "code",
   "execution_count": 36,
   "id": "1ca2dd97-ed44-46f7-81fe-4902f381bc41",
   "metadata": {
    "panel-layout": {
     "height": 0,
     "visible": true,
     "width": 100
    }
   },
   "outputs": [
    {
     "name": "stdout",
     "output_type": "stream",
     "text": [
      "['apple', 'watermelon']\n"
     ]
    }
   ],
   "source": [
    "# Example - Change the second and third value by replacing it with one value:\n",
    "\n",
    "thislist = [\"apple\", \"banana\", \"cherry\"]\n",
    "thislist[1:3] = [\"watermelon\"]\n",
    "print(thislist)"
   ]
  },
  {
   "cell_type": "markdown",
   "id": "0a500adf-d3b5-4e5c-b1cc-f008a872ec7a",
   "metadata": {
    "panel-layout": {
     "height": 107.324,
     "visible": true,
     "width": 100
    }
   },
   "source": [
    "### Insert Items\n",
    "\n",
    "To insert a new list item, without replacing any of the existing values, we can use the insert() method.\n",
    "\n",
    "The insert() method inserts an item at the specified index:"
   ]
  },
  {
   "cell_type": "code",
   "execution_count": 37,
   "id": "7ffe76bb-20de-41fe-ac59-3b50e4c919b8",
   "metadata": {
    "panel-layout": {
     "height": 0,
     "visible": true,
     "width": 100
    }
   },
   "outputs": [
    {
     "name": "stdout",
     "output_type": "stream",
     "text": [
      "['apple', 'banana', 'cherry']\n",
      "['apple', 'banana', 'watermelon', 'cherry']\n"
     ]
    }
   ],
   "source": [
    "# Example - Insert \"watermelon\" as the third item:\n",
    "\n",
    "thislist = [\"apple\", \"banana\", \"cherry\"]\n",
    "print(thislist)\n",
    "\n",
    "thislist.insert(2, \"watermelon\")\n",
    "print(thislist)"
   ]
  },
  {
   "cell_type": "markdown",
   "id": "1dba42c6-6cc6-4522-a905-82f22d68dd70",
   "metadata": {
    "panel-layout": {
     "height": 51.748,
     "visible": true,
     "width": 100
    }
   },
   "source": [
    "`Note: As a result of the example above, the list will now contain 4 items.`"
   ]
  },
  {
   "cell_type": "markdown",
   "id": "7419fc55-bd7f-41fa-b436-638c6be3f252",
   "metadata": {
    "panel-layout": {
     "height": 60.5957,
     "visible": true,
     "width": 100
    }
   },
   "source": [
    "# Python - Add List Items"
   ]
  },
  {
   "cell_type": "markdown",
   "id": "05b25563-88d7-4b4d-9768-62ac67345cb7",
   "metadata": {
    "panel-layout": {
     "height": 78.8184,
     "visible": true,
     "width": 100
    }
   },
   "source": [
    "### Append Items\n",
    "\n",
    "To add an item to the end of the list, use the `append()` method:"
   ]
  },
  {
   "cell_type": "code",
   "execution_count": 39,
   "id": "395f789e-c516-426a-b060-fb990fd1861f",
   "metadata": {
    "panel-layout": {
     "height": 0,
     "visible": true,
     "width": 100
    }
   },
   "outputs": [
    {
     "name": "stdout",
     "output_type": "stream",
     "text": [
      "['apple', 'banana', 'cherry']\n",
      "['apple', 'banana', 'cherry', 'orange']\n"
     ]
    }
   ],
   "source": [
    "# Example - Using the append() method to append an item:\n",
    "\n",
    "thislist = [\"apple\", \"banana\", \"cherry\"]\n",
    "print(thislist)\n",
    "\n",
    "thislist.append(\"orange\")\n",
    "print(thislist)"
   ]
  },
  {
   "cell_type": "markdown",
   "id": "ac1b1a4c-2e35-4b1b-9a01-95485aa55367",
   "metadata": {
    "panel-layout": {
     "height": 107.949,
     "visible": true,
     "width": 100
    }
   },
   "source": [
    "### Insert Items\n",
    "\n",
    "To insert a list item at a specified index, use the `insert()` method.\n",
    "\n",
    "The insert() method inserts an item at the specified index:"
   ]
  },
  {
   "cell_type": "code",
   "execution_count": 40,
   "id": "7f7f90e3-b11f-46de-8ef6-c27333c7eb5f",
   "metadata": {
    "panel-layout": {
     "height": 0,
     "visible": true,
     "width": 100
    }
   },
   "outputs": [
    {
     "name": "stdout",
     "output_type": "stream",
     "text": [
      "['apple', 'banana', 'cherry']\n",
      "['apple', 'orange', 'banana', 'cherry']\n"
     ]
    }
   ],
   "source": [
    "# Example - Insert an item as the second position:\n",
    "\n",
    "thislist = [\"apple\", \"banana\", \"cherry\"]\n",
    "print(thislist)\n",
    "\n",
    "thislist.insert(1, \"orange\")\n",
    "print(thislist)"
   ]
  },
  {
   "cell_type": "markdown",
   "id": "029b184c-e8fd-4367-bbc8-00196ba71b6e",
   "metadata": {
    "panel-layout": {
     "height": 78.8184,
     "visible": true,
     "width": 100
    }
   },
   "source": [
    "### Extend List\n",
    "\n",
    "To append elements from another list to the current list, use the `extend()` method."
   ]
  },
  {
   "cell_type": "code",
   "execution_count": 41,
   "id": "2dd2320e-9fad-42be-8af5-fea98afeb184",
   "metadata": {
    "panel-layout": {
     "height": 0,
     "visible": true,
     "width": 100
    }
   },
   "outputs": [
    {
     "name": "stdout",
     "output_type": "stream",
     "text": [
      "['apple', 'banana', 'cherry', 'mango', 'pineapple', 'papaya']\n"
     ]
    }
   ],
   "source": [
    "# Example - Add the elements of tropical to thislist:\n",
    "\n",
    "thislist = [\"apple\", \"banana\", \"cherry\"]\n",
    "tropical = [\"mango\", \"pineapple\", \"papaya\"]\n",
    "\n",
    "thislist.extend(tropical)\n",
    "print(thislist)"
   ]
  },
  {
   "cell_type": "markdown",
   "id": "06cb7479-0a4f-414b-92a2-1360435f0db9",
   "metadata": {
    "panel-layout": {
     "height": 78.8184,
     "visible": true,
     "width": 100
    }
   },
   "source": [
    "### Add Any Iterable\n",
    "\n",
    "The `extend()` method does not have to append lists, you can add any iterable object (tuples, sets, dictionaries etc.)."
   ]
  },
  {
   "cell_type": "code",
   "execution_count": 42,
   "id": "14e88661-c8c3-4cae-b3ef-24023d1e2b81",
   "metadata": {
    "panel-layout": {
     "height": 0,
     "visible": true,
     "width": 100
    }
   },
   "outputs": [
    {
     "name": "stdout",
     "output_type": "stream",
     "text": [
      "['apple', 'banana', 'cherry', 'kiwi', 'orange']\n"
     ]
    }
   ],
   "source": [
    "# Example - Add elements of a tuple to a list:\n",
    "\n",
    "thislist = [\"apple\", \"banana\", \"cherry\"]\n",
    "thistuple = (\"kiwi\", \"orange\")\n",
    "thislist.extend(thistuple)\n",
    "print(thislist)"
   ]
  },
  {
   "cell_type": "markdown",
   "id": "41212c5c-a6ef-4938-aefa-736bb6b1a778",
   "metadata": {
    "panel-layout": {
     "height": 60.5957,
     "visible": true,
     "width": 100
    }
   },
   "source": [
    "# Python - Remove List Items"
   ]
  },
  {
   "cell_type": "markdown",
   "id": "496820f8-3c1e-4421-a3cf-73c9487317f4",
   "metadata": {
    "panel-layout": {
     "height": 78.8184,
     "visible": true,
     "width": 100
    }
   },
   "source": [
    "### Remove Specified Item\n",
    "\n",
    "The `remove()` method removes the specified item."
   ]
  },
  {
   "cell_type": "code",
   "execution_count": 43,
   "id": "122035aa-65fa-47b1-8d8d-52049f1bac95",
   "metadata": {
    "panel-layout": {
     "height": 0,
     "visible": true,
     "width": 100
    }
   },
   "outputs": [
    {
     "name": "stdout",
     "output_type": "stream",
     "text": [
      "['apple', 'cherry']\n"
     ]
    }
   ],
   "source": [
    "# Example - Remove \"banana\":\n",
    "\n",
    "thislist = [\"apple\", \"banana\", \"cherry\"]\n",
    "thislist.remove(\"banana\")\n",
    "print(thislist)"
   ]
  },
  {
   "cell_type": "markdown",
   "id": "177dbc1a-34a4-41d7-a25d-4a2e7445a20e",
   "metadata": {
    "panel-layout": {
     "height": 51.123,
     "visible": true,
     "width": 100
    }
   },
   "source": [
    "If there are more than one item with the specified value, the remove() method removes the first occurance:"
   ]
  },
  {
   "cell_type": "code",
   "execution_count": 47,
   "id": "d3fea908-9c20-4de2-becf-1f3dcc8e26e4",
   "metadata": {
    "panel-layout": {
     "height": 0,
     "visible": true,
     "width": 100
    }
   },
   "outputs": [
    {
     "name": "stdout",
     "output_type": "stream",
     "text": [
      "['apple', 'banana', 'cherry', 'banana', 'kiwi']\n",
      "['apple', 'cherry', 'banana', 'kiwi']\n"
     ]
    }
   ],
   "source": [
    "# Example - Remove the first occurance of \"banana\":\n",
    "\n",
    "thislist = [\"apple\", \"banana\", \"cherry\", \"banana\", \"kiwi\"]\n",
    "print(thislist)\n",
    "thislist.remove(\"banana\")\n",
    "print(thislist)"
   ]
  },
  {
   "cell_type": "markdown",
   "id": "4bf7be3d-a2d8-4d6d-91e9-f1d41652ac5a",
   "metadata": {
    "panel-layout": {
     "height": 78.8184,
     "visible": true,
     "width": 100
    }
   },
   "source": [
    "### Remove Specified Index\n",
    "The `pop()` method removes the specified index.\n"
   ]
  },
  {
   "cell_type": "code",
   "execution_count": 46,
   "id": "a9269ceb-e239-49ed-9790-77a32336c9b8",
   "metadata": {
    "panel-layout": {
     "height": 0,
     "visible": true,
     "width": 100
    }
   },
   "outputs": [
    {
     "name": "stdout",
     "output_type": "stream",
     "text": [
      "['apple', 'banana', 'cherry']\n",
      "['apple', 'cherry']\n"
     ]
    }
   ],
   "source": [
    "# Example - Remove the second item:\n",
    "\n",
    "thislist = [\"apple\", \"banana\", \"cherry\"]\n",
    "print(thislist)\n",
    "thislist.pop(1)\n",
    "print(thislist)"
   ]
  },
  {
   "cell_type": "markdown",
   "id": "35469df0-04b2-4f81-be2d-51508a9b565c",
   "metadata": {
    "panel-layout": {
     "height": 51.123,
     "visible": true,
     "width": 100
    }
   },
   "source": [
    "**If you do not specify the index, the pop() method removes the last item.**"
   ]
  },
  {
   "cell_type": "code",
   "execution_count": 49,
   "id": "46bea92f-19d3-4ca2-9a7c-c99e987a8089",
   "metadata": {
    "panel-layout": {
     "height": 0,
     "visible": true,
     "width": 100
    }
   },
   "outputs": [
    {
     "name": "stdout",
     "output_type": "stream",
     "text": [
      "['apple', 'banana', 'cherry']\n",
      "['apple', 'banana']\n"
     ]
    }
   ],
   "source": [
    "# Example - Remove the last item:\n",
    "\n",
    "thislist = [\"apple\", \"banana\", \"cherry\"]\n",
    "print(thislist)\n",
    "thislist.pop()\n",
    "print(thislist)"
   ]
  },
  {
   "cell_type": "markdown",
   "id": "ad3e6c72-d00e-40b9-a014-6c67d52de0e9",
   "metadata": {
    "panel-layout": {
     "height": 51.123,
     "visible": true,
     "width": 100
    }
   },
   "source": [
    "**The del keyword also removes the specified index:**"
   ]
  },
  {
   "cell_type": "code",
   "execution_count": 51,
   "id": "2b63a356-e61b-4dc4-b687-a5e3c5a5a14c",
   "metadata": {
    "panel-layout": {
     "height": 0,
     "visible": true,
     "width": 100
    }
   },
   "outputs": [
    {
     "name": "stdout",
     "output_type": "stream",
     "text": [
      "['apple', 'banana', 'cherry']\n",
      "['banana', 'cherry']\n"
     ]
    }
   ],
   "source": [
    "# Example - Remove the first item:\n",
    "\n",
    "thislist = [\"apple\", \"banana\", \"cherry\"]\n",
    "print(thislist)\n",
    "del thislist[0]\n",
    "print(thislist)"
   ]
  },
  {
   "cell_type": "markdown",
   "id": "c6211d85-e700-47d8-8a44-2a06efbafc5e",
   "metadata": {
    "panel-layout": {
     "height": 51.123,
     "visible": true,
     "width": 100
    }
   },
   "source": [
    "**The del keyword can also delete the list completely.**"
   ]
  },
  {
   "cell_type": "code",
   "execution_count": 55,
   "id": "57aa8c76-1531-4b8a-a5c1-2cac0e7370fe",
   "metadata": {},
   "outputs": [],
   "source": [
    "# Example - Delete the entire list:\n",
    "\n",
    "thislist = [\"apple\", \"banana\", \"cherry\"]\n",
    "del thislist\n",
    "#print(thislist)"
   ]
  },
  {
   "cell_type": "markdown",
   "id": "0f4ba3f3-1bec-4e75-b957-3ce8fa089a47",
   "metadata": {
    "panel-layout": {
     "height": 107.324,
     "visible": true,
     "width": 100
    }
   },
   "source": [
    "### Clear the List\n",
    "\n",
    "The clear() method empties the list.\n",
    "\n",
    "The list still remains, but it has no content."
   ]
  },
  {
   "cell_type": "code",
   "execution_count": 53,
   "id": "63c9170b-25f4-4dbe-94da-74ec85f6f4c3",
   "metadata": {
    "panel-layout": {
     "height": 0,
     "visible": true,
     "width": 100
    }
   },
   "outputs": [
    {
     "name": "stdout",
     "output_type": "stream",
     "text": [
      "['apple', 'banana', 'cherry']\n",
      "[]\n"
     ]
    }
   ],
   "source": [
    "# Example - Clear the list content:\n",
    "\n",
    "thislist = [\"apple\", \"banana\", \"cherry\"]\n",
    "print(thislist)\n",
    "thislist.clear()\n",
    "print(thislist)"
   ]
  },
  {
   "cell_type": "markdown",
   "id": "28156a0e-e5c9-4b32-9c40-e2274a8740ad",
   "metadata": {},
   "source": [
    "# Python - Loop Lists"
   ]
  },
  {
   "cell_type": "markdown",
   "id": "5dfad91c-9e07-40de-8d77-1135802f54eb",
   "metadata": {},
   "source": [
    "### Loop Through a List\n",
    "\n",
    "You can loop through the list items by using a **for loop**:"
   ]
  },
  {
   "cell_type": "code",
   "execution_count": 95,
   "id": "851df43e-cb29-4b94-90e0-3043fe9466b8",
   "metadata": {},
   "outputs": [
    {
     "name": "stdout",
     "output_type": "stream",
     "text": [
      "apple\n",
      "banana\n",
      "cherry\n"
     ]
    }
   ],
   "source": [
    "# Print all items in the list, one by one:\n",
    "\n",
    "thislist = [\"apple\", \"banana\", \"cherry\"]\n",
    "\n",
    "for x in thislist:\n",
    "  print(x)"
   ]
  },
  {
   "cell_type": "code",
   "execution_count": 96,
   "id": "a7b0d375-f6af-4acd-be1f-a7313214ea04",
   "metadata": {},
   "outputs": [
    {
     "name": "stdout",
     "output_type": "stream",
     "text": [
      "- apple\n",
      "- banana\n",
      "- cherry\n"
     ]
    }
   ],
   "source": [
    "for x in thislist:\n",
    "  print(f\"- {x}\")"
   ]
  },
  {
   "cell_type": "markdown",
   "id": "90d0a7a7-edff-4d54-95a3-856745a81d85",
   "metadata": {},
   "source": [
    "### Loop Through the Index Numbers\n",
    "\n",
    "You can also loop through the list items by referring to their index number.\n",
    "\n",
    "Use the `range()` and `len()` functions to create a suitable iterable."
   ]
  },
  {
   "cell_type": "code",
   "execution_count": 97,
   "id": "2c742496-5ef4-44fa-8027-f9dc8e672f8d",
   "metadata": {},
   "outputs": [
    {
     "data": {
      "text/plain": [
       "3"
      ]
     },
     "execution_count": 97,
     "metadata": {},
     "output_type": "execute_result"
    }
   ],
   "source": [
    "# Example - Print all items by referring to their index number:\n",
    "\n",
    "thislist = [\"apple\", \"banana\", \"cherry\"]\n",
    "\n",
    "len(thislist)"
   ]
  },
  {
   "cell_type": "code",
   "execution_count": 99,
   "id": "807f1439-0e48-4f3f-84f9-6e4d2e288144",
   "metadata": {},
   "outputs": [
    {
     "data": {
      "text/plain": [
       "[0, 1, 2]"
      ]
     },
     "execution_count": 99,
     "metadata": {},
     "output_type": "execute_result"
    }
   ],
   "source": [
    "list(range(3))"
   ]
  },
  {
   "cell_type": "code",
   "execution_count": 100,
   "id": "71fce699-8d0b-4089-90b4-4d447c08ee9c",
   "metadata": {},
   "outputs": [
    {
     "name": "stdout",
     "output_type": "stream",
     "text": [
      "apple\n",
      "banana\n",
      "cherry\n"
     ]
    }
   ],
   "source": [
    "for i in range(len(thislist)):\n",
    "  print(thislist[i])"
   ]
  },
  {
   "cell_type": "markdown",
   "id": "b1dd079f-516b-4b78-929e-95e42d23b6e5",
   "metadata": {},
   "source": [
    "The iterable created in the example above is [0, 1, 2]."
   ]
  },
  {
   "cell_type": "markdown",
   "id": "cde02f2e-1267-4664-ba0a-25b42eeb570e",
   "metadata": {},
   "source": [
    "### Using a While Loop\n",
    "\n",
    "You can loop through the list items by using a **while loop**.\n",
    "\n",
    "Use the `len()` function to determine the length of the list, then start at 0 and loop your way through the list items by referring to their indexes.\n",
    "\n",
    "Remember to `increase the index by 1` after each iteration."
   ]
  },
  {
   "cell_type": "code",
   "execution_count": 101,
   "id": "e5bd45ee-b6fd-4e95-adec-549c042f9184",
   "metadata": {},
   "outputs": [
    {
     "name": "stdout",
     "output_type": "stream",
     "text": [
      "apple\n",
      "banana\n",
      "cherry\n"
     ]
    }
   ],
   "source": [
    "# Example - Print all items, using a while loop to go through all the index numbers\n",
    "\n",
    "thislist = [\"apple\", \"banana\", \"cherry\"]\n",
    "\n",
    "i = 0\n",
    "while i < len(thislist):\n",
    "  print(thislist[i])\n",
    "  i = i + 1"
   ]
  },
  {
   "cell_type": "markdown",
   "id": "3023a2d9-687c-4f9c-b927-e5024dda2bc9",
   "metadata": {},
   "source": [
    "### Looping Using List Comprehension\n",
    "\n",
    "List Comprehension offers the shortest syntax for looping through lists:"
   ]
  },
  {
   "cell_type": "code",
   "execution_count": 102,
   "id": "1080fbab-bd96-4f70-bb0c-2c8a3c8d63fa",
   "metadata": {},
   "outputs": [
    {
     "name": "stdout",
     "output_type": "stream",
     "text": [
      "apple\n",
      "banana\n",
      "cherry\n"
     ]
    },
    {
     "data": {
      "text/plain": [
       "[None, None, None]"
      ]
     },
     "execution_count": 102,
     "metadata": {},
     "output_type": "execute_result"
    }
   ],
   "source": [
    "# Example - A short hand for loop that will print all items in a list:\n",
    "\n",
    "thislist = [\"apple\", \"banana\", \"cherry\"]\n",
    "[print(x) for x in thislist]"
   ]
  },
  {
   "cell_type": "code",
   "execution_count": 103,
   "id": "74eb7463-000c-4318-b9d5-8203141935d8",
   "metadata": {},
   "outputs": [
    {
     "data": {
      "text/plain": [
       "['apple', 'banana', 'cherry']"
      ]
     },
     "execution_count": 103,
     "metadata": {},
     "output_type": "execute_result"
    }
   ],
   "source": [
    "[x for x in thislist]"
   ]
  },
  {
   "cell_type": "markdown",
   "id": "1c13824d-9d3b-4639-828b-358e78196eb9",
   "metadata": {},
   "source": [
    "# Python - List Comprehension"
   ]
  },
  {
   "cell_type": "markdown",
   "id": "b8eb0f04-9b77-4ed7-8c58-45b6b530fdf2",
   "metadata": {},
   "source": [
    "### List Comprehension\n",
    "\n",
    "List comprehension offers a shorter syntax when you want to create a new list based on the values of an existing list.\n",
    "\n",
    "**Example**:\n",
    "\n",
    "- Based on a list of fruits, you want a new list, containing only the `fruits with the letter \"a\"` in the name.\n",
    "- Without list comprehension you will have `to write a for statement` with a conditional test inside:"
   ]
  },
  {
   "cell_type": "code",
   "execution_count": 104,
   "id": "77386c3b-c6cc-44f9-85cc-9fdc1236ab4d",
   "metadata": {},
   "outputs": [
    {
     "name": "stdout",
     "output_type": "stream",
     "text": [
      "['apple', 'banana', 'mango']\n"
     ]
    }
   ],
   "source": [
    "# Example\n",
    "\n",
    "fruits = [\"apple\", \"banana\", \"cherry\", \"kiwi\", \"mango\"]\n",
    "newlist = []\n",
    "\n",
    "for x in fruits:\n",
    "  if \"a\" in x:\n",
    "    newlist.append(x)\n",
    "\n",
    "print(newlist)"
   ]
  },
  {
   "cell_type": "markdown",
   "id": "b76193d4-bc94-4753-925d-892e3a707022",
   "metadata": {},
   "source": [
    "**With list comprehension you can do all that with only one line of code:**"
   ]
  },
  {
   "cell_type": "code",
   "execution_count": 105,
   "id": "75ffd752-4ab4-4ea4-a37c-3b25d6a092c4",
   "metadata": {},
   "outputs": [
    {
     "data": {
      "text/plain": [
       "['apple', 'banana', 'mango']"
      ]
     },
     "execution_count": 105,
     "metadata": {},
     "output_type": "execute_result"
    }
   ],
   "source": [
    "fruits = [\"apple\", \"banana\", \"cherry\", \"kiwi\", \"mango\"]\n",
    "\n",
    "newlistComp = [x for x in fruits if \"a\" in x]\n",
    "newlistComp"
   ]
  },
  {
   "cell_type": "markdown",
   "id": "7e3a1f7e-1bfb-442f-85b6-9ee1f5af303c",
   "metadata": {},
   "source": [
    "### The Syntax\n",
    "\n",
    "`newlist = [expression for item in iterable if condition == True]`\n",
    "\n",
    "The return value is a new list, leaving the old list unchanged.\n",
    "\n",
    "### Condition\n",
    "The **condition** is like a filter that only accepts the items that valuate to True."
   ]
  },
  {
   "cell_type": "code",
   "execution_count": 106,
   "id": "199c5a78-e564-4460-95d1-104eb81ba740",
   "metadata": {},
   "outputs": [
    {
     "data": {
      "text/plain": [
       "['banana', 'cherry', 'kiwi', 'mango']"
      ]
     },
     "execution_count": 106,
     "metadata": {},
     "output_type": "execute_result"
    }
   ],
   "source": [
    "# Example - Only accept items that are not \"apple\":\n",
    "\n",
    "fruits = [\"apple\", \"banana\", \"cherry\", \"kiwi\", \"mango\"]\n",
    "\n",
    "newlist = [x for x in fruits if x != \"apple\"]\n",
    "newlist"
   ]
  },
  {
   "cell_type": "markdown",
   "id": "cd9c27f5-0be1-46e7-9417-d175e1e8d069",
   "metadata": {},
   "source": [
    "`The condition if x != \"apple\"  will return True for all elements other than \"apple\", making the new list contain all fruits except \"apple\".`\n",
    "\n",
    "`The condition is optional and can be omitted:`"
   ]
  },
  {
   "cell_type": "code",
   "execution_count": 107,
   "id": "bc759d80-0063-4799-bafb-1d7863efe250",
   "metadata": {},
   "outputs": [
    {
     "data": {
      "text/plain": [
       "['apple', 'banana', 'cherry', 'kiwi', 'mango']"
      ]
     },
     "execution_count": 107,
     "metadata": {},
     "output_type": "execute_result"
    }
   ],
   "source": [
    "# Example - With no if statement:\n",
    "\n",
    "newlist = [x for x in fruits]\n",
    "newlist"
   ]
  },
  {
   "cell_type": "markdown",
   "id": "ebf0a2a1-159e-472e-83e8-f0d7e243d613",
   "metadata": {},
   "source": [
    "### Iterable \n",
    "\n",
    "The iterable can be any iterable object, like a list, tuple, set etc."
   ]
  },
  {
   "cell_type": "code",
   "execution_count": 108,
   "id": "0be89893-d6af-40de-99b0-ac2df0359275",
   "metadata": {},
   "outputs": [
    {
     "data": {
      "text/plain": [
       "[0, 1, 2, 3, 4, 5, 6, 7, 8, 9]"
      ]
     },
     "execution_count": 108,
     "metadata": {},
     "output_type": "execute_result"
    }
   ],
   "source": [
    "# Example - You can use the range() function to create an iterable:\n",
    "\n",
    "newlist = [x for x in range(10)]\n",
    "newlist"
   ]
  },
  {
   "cell_type": "markdown",
   "id": "8a22019d-725a-4700-a0c2-1dbda4395aa9",
   "metadata": {},
   "source": [
    "`Same example, but with a condition:`"
   ]
  },
  {
   "cell_type": "code",
   "execution_count": 109,
   "id": "436db4ba-67f3-4877-920d-0bef97a4f26d",
   "metadata": {},
   "outputs": [
    {
     "data": {
      "text/plain": [
       "[0, 1, 2, 3, 4]"
      ]
     },
     "execution_count": 109,
     "metadata": {},
     "output_type": "execute_result"
    }
   ],
   "source": [
    "# Example - Accept only numbers lower than 5:\n",
    "\n",
    "newlist = [x for x in range(10) if x < 5]\n",
    "newlist"
   ]
  },
  {
   "cell_type": "markdown",
   "id": "e57cc2ad-b13f-43ce-b5d9-2f40dbeea34d",
   "metadata": {},
   "source": [
    "### Expression\n",
    "\n",
    "The expression is the current item in the iteration, but it is also the outcome, which you can manipulate before it ends up like a list item in the new list:\n",
    "\n"
   ]
  },
  {
   "cell_type": "code",
   "execution_count": 110,
   "id": "18400f9e-5ac2-442c-8a5c-14791a11c9b8",
   "metadata": {},
   "outputs": [
    {
     "data": {
      "text/plain": [
       "['APPLE', 'BANANA', 'CHERRY', 'KIWI', 'MANGO']"
      ]
     },
     "execution_count": 110,
     "metadata": {},
     "output_type": "execute_result"
    }
   ],
   "source": [
    "# Example - Set the values in the new list to upper case:\n",
    "\n",
    "newlist = [x.upper() for x in fruits]\n",
    "newlist"
   ]
  },
  {
   "cell_type": "markdown",
   "id": "942da5ef-0ced-4d61-b4fe-d1e220d79291",
   "metadata": {},
   "source": [
    "**You can set the outcome to whatever you like:**"
   ]
  },
  {
   "cell_type": "code",
   "execution_count": 111,
   "id": "5677ccfc-3b4c-47ad-a303-75885cec6bf5",
   "metadata": {},
   "outputs": [
    {
     "data": {
      "text/plain": [
       "['hello', 'hello', 'hello', 'hello', 'hello']"
      ]
     },
     "execution_count": 111,
     "metadata": {},
     "output_type": "execute_result"
    }
   ],
   "source": [
    "# Example - Set all values in the new list to 'hello':\n",
    "\n",
    "newlist = ['hello' for x in fruits]\n",
    "newlist"
   ]
  },
  {
   "cell_type": "markdown",
   "id": "269c7dde-02cd-4025-a6eb-04c41669b413",
   "metadata": {},
   "source": [
    "The expression can also contain conditions, not like a filter, but as a way to manipulate the outcome:"
   ]
  },
  {
   "cell_type": "code",
   "execution_count": 112,
   "id": "5575a23c-4452-46b0-99bc-22cc5375159a",
   "metadata": {},
   "outputs": [
    {
     "name": "stdout",
     "output_type": "stream",
     "text": [
      "['apple', 'banana', 'cherry', 'kiwi', 'mango']\n",
      "['apple', 'orange', 'cherry', 'kiwi', 'mango']\n"
     ]
    }
   ],
   "source": [
    "# Example - Return \"orange\" instead of \"banana\":\n",
    "\n",
    "fruits = [\"apple\", \"banana\", \"cherry\", \"kiwi\", \"mango\"]\n",
    "print(fruits)\n",
    "\n",
    "newlist = [x if x != \"banana\" else \"orange\" for x in fruits]\n",
    "print(newlist)"
   ]
  },
  {
   "cell_type": "markdown",
   "id": "230b27a8-7840-4ac7-9502-d88b75d409eb",
   "metadata": {},
   "source": [
    "# Python - Sort Lists"
   ]
  },
  {
   "cell_type": "markdown",
   "id": "bb885aaa-b511-453b-a87a-e2a7fb1b0296",
   "metadata": {},
   "source": [
    "### Sort List Alphanumerically\n",
    "\n",
    "List objects have a **sort()** method that will `sort the list alphanumerically, ascending`, by default:"
   ]
  },
  {
   "cell_type": "code",
   "execution_count": 114,
   "id": "f5b50eb9-8a40-4ef2-b515-27ce3894399a",
   "metadata": {},
   "outputs": [
    {
     "name": "stdout",
     "output_type": "stream",
     "text": [
      "['banana', 'kiwi', 'mango', 'orange', 'pineapple']\n"
     ]
    }
   ],
   "source": [
    "# Example - Sort the list alphabetically:\n",
    "\n",
    "thislist = [\"orange\", \"mango\", \"kiwi\", \"pineapple\", \"banana\"]\n",
    "thislist.sort()\n",
    "print(thislist)"
   ]
  },
  {
   "cell_type": "code",
   "execution_count": 115,
   "id": "5fcf71f3-8765-49d5-aabe-4922a42ee70f",
   "metadata": {},
   "outputs": [
    {
     "name": "stdout",
     "output_type": "stream",
     "text": [
      "[23, 50, 65, 82, 100]\n"
     ]
    }
   ],
   "source": [
    "# Example - Sort the list numerically:\n",
    "\n",
    "thislist = [100, 50, 65, 82, 23]\n",
    "thislist.sort()\n",
    "print(thislist)"
   ]
  },
  {
   "cell_type": "markdown",
   "id": "fcc2e450-0cb0-4ac2-919c-027207e19777",
   "metadata": {},
   "source": [
    "### Sort Descending\n",
    "\n",
    "To sort descending, use the keyword argument `reverse = True`:"
   ]
  },
  {
   "cell_type": "code",
   "execution_count": 117,
   "id": "c63cb976-7a8e-4861-b8b3-fd4b81bb8f4b",
   "metadata": {},
   "outputs": [
    {
     "name": "stdout",
     "output_type": "stream",
     "text": [
      "['pineapple', 'orange', 'mango', 'kiwi', 'banana']\n"
     ]
    }
   ],
   "source": [
    "# Example - Sort the list descending:\n",
    "\n",
    "thislist = [\"orange\", \"mango\", \"kiwi\", \"pineapple\", \"banana\"]\n",
    "thislist.sort(reverse = True)\n",
    "print(thislist)"
   ]
  },
  {
   "cell_type": "code",
   "execution_count": 118,
   "id": "ed42c354-bc4e-48de-95cb-73ce33b20fb2",
   "metadata": {},
   "outputs": [
    {
     "name": "stdout",
     "output_type": "stream",
     "text": [
      "[100, 82, 65, 50, 23]\n"
     ]
    }
   ],
   "source": [
    "# Example - Sort the list descending:\n",
    "\n",
    "thislist = [100, 50, 65, 82, 23]\n",
    "thislist.sort(reverse = True)\n",
    "print(thislist)"
   ]
  },
  {
   "cell_type": "markdown",
   "id": "04210e16-97e7-44f6-8f50-c06a3646266c",
   "metadata": {},
   "source": [
    "### Customize Sort Function\n",
    "\n",
    "You can also customize your own function by using the keyword argument **key = function**.\n",
    "\n",
    "The function will return a number that will be used to `sort the list (the lowest number first)`"
   ]
  },
  {
   "cell_type": "code",
   "execution_count": 120,
   "id": "7c3b422a-f85d-4301-84ee-cbbc33ad78ba",
   "metadata": {},
   "outputs": [
    {
     "name": "stdout",
     "output_type": "stream",
     "text": [
      "[50, 65, 23, 82, 100]\n"
     ]
    }
   ],
   "source": [
    "# Example - Sort the list based on how close the number is to 50:\n",
    "\n",
    "def myfunc(n):\n",
    "  return abs(n - 50)\n",
    "\n",
    "thislist = [100, 50, 65, 82, 23]\n",
    "\n",
    "thislist.sort(key = myfunc)\n",
    "print(thislist)"
   ]
  },
  {
   "cell_type": "markdown",
   "id": "98b43917-1fd4-4a53-a43f-c7d3ff822469",
   "metadata": {},
   "source": [
    "### Case Insensitive Sort\n",
    "\n",
    "By default the sort() method is **case sensitive**, resulting in all capital letters being sorted before lower case letters:"
   ]
  },
  {
   "cell_type": "code",
   "execution_count": 121,
   "id": "a78e936f-91b8-45ef-891c-c5070e4facc1",
   "metadata": {},
   "outputs": [
    {
     "name": "stdout",
     "output_type": "stream",
     "text": [
      "['Kiwi', 'Orange', 'banana', 'cherry']\n"
     ]
    }
   ],
   "source": [
    "# Example - Case sensitive sorting can give an unexpected result:\n",
    "\n",
    "thislist = [\"banana\", \"Orange\", \"Kiwi\", \"cherry\"]\n",
    "thislist.sort()\n",
    "print(thislist)"
   ]
  },
  {
   "cell_type": "markdown",
   "id": "35925fa5-f9d8-4852-bf85-a2f9f7b11e4e",
   "metadata": {},
   "source": [
    "Luckily we can use `built-in functions as key functions` when sorting a list.\n",
    "\n",
    "So if you want a case-insensitive sort function, use **str.lower** as a key function:"
   ]
  },
  {
   "cell_type": "code",
   "execution_count": 122,
   "id": "bbc6d5a3-108a-4fb1-815a-f0ddec63c0b6",
   "metadata": {},
   "outputs": [
    {
     "name": "stdout",
     "output_type": "stream",
     "text": [
      "['banana', 'cherry', 'Kiwi', 'Orange']\n"
     ]
    }
   ],
   "source": [
    "# Example - Perform a case-insensitive sort of the list:\n",
    "\n",
    "thislist = [\"banana\", \"Orange\", \"Kiwi\", \"cherry\"]\n",
    "thislist.sort(key = str.lower)\n",
    "print(thislist)"
   ]
  },
  {
   "cell_type": "markdown",
   "id": "e13568a6-01ac-4517-aab8-57cd88f496bd",
   "metadata": {},
   "source": [
    "### Reverse Order\n",
    "What if you want to reverse the order of a list, regardless of the alphabet?\n",
    "\n",
    "The **reverse()** method reverses the current sorting order of the elements."
   ]
  },
  {
   "cell_type": "code",
   "execution_count": 123,
   "id": "816ac09e-cabc-4a07-9fc2-e3a7ab5e6d95",
   "metadata": {},
   "outputs": [
    {
     "name": "stdout",
     "output_type": "stream",
     "text": [
      "['cherry', 'Kiwi', 'Orange', 'banana']\n"
     ]
    }
   ],
   "source": [
    "# Example - Reverse the order of the list items:\n",
    "\n",
    "thislist = [\"banana\", \"Orange\", \"Kiwi\", \"cherry\"]\n",
    "thislist.reverse()\n",
    "print(thislist)"
   ]
  },
  {
   "cell_type": "markdown",
   "id": "c9d651c9-8073-45ad-8c8b-3e0f532b7aa4",
   "metadata": {},
   "source": [
    "# Python - Copy Lists"
   ]
  },
  {
   "cell_type": "markdown",
   "id": "3e93ed9e-74af-4ffe-adca-af0b571b46b5",
   "metadata": {},
   "source": [
    "### Copy a List\n",
    "\n",
    "You cannot copy a list simply by typing **list2 = list1**, because: list2 will only be a reference to list1, and changes made in list1 will automatically also be made in list2.\n",
    "\n",
    "There are ways to make a copy, one way is to use the built-in List method **copy()**."
   ]
  },
  {
   "cell_type": "code",
   "execution_count": 124,
   "id": "55b593f7-b749-4244-81cc-75c48d13fc22",
   "metadata": {},
   "outputs": [
    {
     "name": "stdout",
     "output_type": "stream",
     "text": [
      "['apple', 'banana', 'cherry']\n"
     ]
    }
   ],
   "source": [
    "# Example -  Make a copy of a list with the copy() method:\n",
    "\n",
    "thislist = [\"apple\", \"banana\", \"cherry\"]\n",
    "mylist = thislist.copy()\n",
    "print(mylist)"
   ]
  },
  {
   "cell_type": "markdown",
   "id": "1e28ac8f-412c-425e-81a3-51991df900d5",
   "metadata": {},
   "source": [
    "**Another way to make a copy is to use the built-in method list()**"
   ]
  },
  {
   "cell_type": "code",
   "execution_count": 125,
   "id": "014efb68-ff28-4639-b388-b1fd5c2b5cfb",
   "metadata": {},
   "outputs": [
    {
     "name": "stdout",
     "output_type": "stream",
     "text": [
      "['apple', 'banana', 'cherry']\n"
     ]
    }
   ],
   "source": [
    "# Example - Make a copy of a list with the list() method:\n",
    "\n",
    "thislist = [\"apple\", \"banana\", \"cherry\"]\n",
    "mylist = list(thislist)\n",
    "print(mylist)"
   ]
  },
  {
   "cell_type": "markdown",
   "id": "22753c5a-9da9-4801-b00a-9ad09a97eaec",
   "metadata": {},
   "source": [
    "# Python - Join Lists"
   ]
  },
  {
   "cell_type": "markdown",
   "id": "ca003907-c1ed-4dcd-8fab-a851b3b4fe47",
   "metadata": {},
   "source": [
    "### Join Two Lists\n",
    "\n",
    "There are several ways to `join, or concatenate`, two or more lists in Python.\n",
    "\n",
    "One of the easiest ways are by using the **+** operator."
   ]
  },
  {
   "cell_type": "code",
   "execution_count": 128,
   "id": "4647c00c-1a67-4526-8289-4d9acfcb796b",
   "metadata": {},
   "outputs": [
    {
     "name": "stdout",
     "output_type": "stream",
     "text": [
      "['a', 'b', 'c', 1, 2, 3]\n"
     ]
    }
   ],
   "source": [
    "# Example - Join two list:\n",
    "\n",
    "list1 = [\"a\", \"b\", \"c\"]\n",
    "list2 = [1, 2, 3]\n",
    "\n",
    "list3 = list1 + list2\n",
    "print(list3)"
   ]
  },
  {
   "cell_type": "markdown",
   "id": "a2700849-7cd7-4831-95af-005bd1cbffa7",
   "metadata": {},
   "source": [
    "**Another way to join two lists is by appending all the items from list2 into list1, one by one:**"
   ]
  },
  {
   "cell_type": "code",
   "execution_count": 126,
   "id": "b9107f3e-4b0e-4ea3-9d68-2ab8a378f0d6",
   "metadata": {},
   "outputs": [
    {
     "name": "stdout",
     "output_type": "stream",
     "text": [
      "['a', 'b', 'c', 1, 2, 3]\n"
     ]
    }
   ],
   "source": [
    "# Example - Append list2 into list1:\n",
    "\n",
    "list1 = [\"a\", \"b\" , \"c\"]\n",
    "list2 = [1, 2, 3]\n",
    "\n",
    "for x in list2:\n",
    "  list1.append(x)\n",
    "\n",
    "print(list1)"
   ]
  },
  {
   "cell_type": "markdown",
   "id": "e053bc3c-1240-4339-a00b-2e1357e16b54",
   "metadata": {},
   "source": [
    "Or you can use the **extend() method**, where the purpose is to add elements from one list to another list:"
   ]
  },
  {
   "cell_type": "code",
   "execution_count": 127,
   "id": "c7be4de4-82c2-4438-a5c0-1038980a14d9",
   "metadata": {},
   "outputs": [
    {
     "name": "stdout",
     "output_type": "stream",
     "text": [
      "['a', 'b', 'c', 1, 2, 3]\n"
     ]
    }
   ],
   "source": [
    "# Example - Use the extend() method to add list2 at the end of list1:\n",
    "\n",
    "list1 = [\"a\", \"b\" , \"c\"]\n",
    "list2 = [1, 2, 3]\n",
    "\n",
    "list1.extend(list2)\n",
    "print(list1)"
   ]
  },
  {
   "cell_type": "markdown",
   "id": "995ba14e-9e4f-44a5-bac2-e7f20a69c554",
   "metadata": {},
   "source": [
    "# List Methods\n",
    "\n",
    "Python has a set of built-in methods that you can use on lists."
   ]
  },
  {
   "cell_type": "markdown",
   "id": "c03a574a-2fd7-4785-b1ed-f02b982b5fbf",
   "metadata": {},
   "source": [
    "| Method   | Description                                                              |\n",
    "|----------|--------------------------------------------------------------------------|\n",
    "| `append()` | Adds an element at the end of the list                                 |\n",
    "| `clear()`  | Removes all the elements from the list                                  |\n",
    "| `copy()`   | Returns a copy of the list                                              |\n",
    "| `count()`  | Returns the number of elements with the specified value                 |\n",
    "| `extend()` | Add the elements of a list (or any iterable), to the end of the current list |\n",
    "| `index()`  | Returns the index of the first element with the specified value         |\n",
    "| `insert()` | Adds an element at the specified position                               |\n",
    "| `pop()`    | Removes the element at the specified position                           |\n",
    "| `remove()` | Removes the item with the specified value                               |\n",
    "| `reverse()`| Reverses the order of the list                                          |\n",
    "| `sort()`   | Sorts the list                                                          |\n"
   ]
  },
  {
   "cell_type": "markdown",
   "id": "202b9171-c9b0-4d87-ab89-a712a60b1cff",
   "metadata": {},
   "source": [
    "| Méthode    | Description                                                        |\n",
    "|------------|--------------------------------------------------------------------|\n",
    "| `append()` | Ajoute un élément à la fin de la liste                             |\n",
    "| `clear()`  | Supprime tous les éléments de la liste                             |\n",
    "| `copy()`   | Renvoie une copie de la liste                                      |\n",
    "| `count()`  | Renvoie le nombre d'éléments ayant la valeur spécifiée             |\n",
    "| `extend()` | Ajoute les éléments d'une liste (ou de tout itérable) à la fin de la liste actuelle |\n",
    "| `index()`  | Renvoie l'indice du premier élément ayant la valeur spécifiée      |\n",
    "| `insert()` | Ajoute un élément à la position spécifiée                          |\n",
    "| `pop()`    | Supprime l'élément à la position spécifiée                         |\n",
    "| `remove()` | Supprime l'élément ayant la valeur spécifiée                       |\n",
    "| `reverse()`| Inverse l'ordre des éléments de la liste                           |\n",
    "| `sort()`   | Trie les éléments de la liste                                      |\n"
   ]
  },
  {
   "cell_type": "markdown",
   "id": "8961f56d-e5db-4349-aa7d-114db5cb8944",
   "metadata": {},
   "source": [
    "# Exercices"
   ]
  },
  {
   "cell_type": "code",
   "execution_count": 129,
   "id": "8ce16766-10d1-46a0-9fd6-b10627cfd48f",
   "metadata": {},
   "outputs": [
    {
     "name": "stdout",
     "output_type": "stream",
     "text": [
      "banana\n"
     ]
    }
   ],
   "source": [
    "# 1 - Print the second item in the fruits list.\n",
    "\n",
    "\n",
    "fruits = [\"apple\", \"banana\", \"cherry\"]\n",
    "print(fruits[1])"
   ]
  },
  {
   "cell_type": "code",
   "execution_count": 131,
   "id": "048388b9-adcf-4d47-8493-f0b25b10969b",
   "metadata": {},
   "outputs": [
    {
     "data": {
      "text/plain": [
       "['kiwi', 'banana', 'cherry']"
      ]
     },
     "execution_count": 131,
     "metadata": {},
     "output_type": "execute_result"
    }
   ],
   "source": [
    "# 2 - Change the value from \"apple\" to \"kiwi\", in the fruits list.\n",
    "\n",
    "fruits = [\"apple\", \"banana\", \"cherry\"]\n",
    "fruits[0] = \"kiwi\"\n",
    "fruits"
   ]
  },
  {
   "cell_type": "code",
   "execution_count": 134,
   "id": "a53cddae-9bc4-42b6-ba9f-002118ca7532",
   "metadata": {},
   "outputs": [
    {
     "data": {
      "text/plain": [
       "['apple', 'banana', 'cherry', 'orange']"
      ]
     },
     "execution_count": 134,
     "metadata": {},
     "output_type": "execute_result"
    }
   ],
   "source": [
    "# 3 -  Use the append method to add \"orange\" to the fruits list.\n",
    "\n",
    "fruits = [\"apple\", \"banana\", \"cherry\"]\n",
    "fruits.append(\"orange\")\n",
    "fruits"
   ]
  },
  {
   "cell_type": "code",
   "execution_count": 135,
   "id": "544a2018-d273-43cf-b35e-e8f567dba6d1",
   "metadata": {},
   "outputs": [
    {
     "data": {
      "text/plain": [
       "['apple', 'lemon', 'banana', 'cherry']"
      ]
     },
     "execution_count": 135,
     "metadata": {},
     "output_type": "execute_result"
    }
   ],
   "source": [
    "# 4 - Use the insert method to add \"lemon\" as the second item in the fruits list.\n",
    "\n",
    "fruits = [\"apple\", \"banana\", \"cherry\"]\n",
    "fruits.insert(1, \"lemon\")\n",
    "fruits"
   ]
  },
  {
   "cell_type": "code",
   "execution_count": 136,
   "id": "0b621a59-ba25-450f-a3e3-0cde4668c8de",
   "metadata": {},
   "outputs": [
    {
     "data": {
      "text/plain": [
       "['apple', 'cherry']"
      ]
     },
     "execution_count": 136,
     "metadata": {},
     "output_type": "execute_result"
    }
   ],
   "source": [
    "# 5 - Use the remove method to remove \"banana\" from the fruits list.\n",
    "\n",
    "fruits = [\"apple\", \"banana\", \"cherry\"]\n",
    "fruits.remove(\"banana\")\n",
    "fruits"
   ]
  },
  {
   "cell_type": "code",
   "execution_count": 137,
   "id": "3aedfed1-7272-4696-bc91-7ef52b00cfb0",
   "metadata": {},
   "outputs": [
    {
     "name": "stdout",
     "output_type": "stream",
     "text": [
      "cherry\n"
     ]
    }
   ],
   "source": [
    "# 6 - Use negative indexing to print the last item in the list.\n",
    "\n",
    "fruits = [\"apple\", \"banana\", \"cherry\"]\n",
    "print(fruits[-1])"
   ]
  },
  {
   "cell_type": "code",
   "execution_count": 139,
   "id": "229c9ca4-4989-4e0e-9298-06ef5ca41585",
   "metadata": {},
   "outputs": [
    {
     "name": "stdout",
     "output_type": "stream",
     "text": [
      "['cherry', 'orange', 'kiwi']\n"
     ]
    }
   ],
   "source": [
    "# 7 - Use a range of indexes to print the third, fourth, and fifth item in the list.\n",
    "\n",
    "\n",
    "fruits = [\"apple\", \"banana\", \"cherry\", \"orange\", \"kiwi\", \"melon\", \"mango\"]\n",
    "print(fruits[2:5])"
   ]
  },
  {
   "cell_type": "code",
   "execution_count": 141,
   "id": "d1c3b336-32a8-4993-843d-a3ae260f1edf",
   "metadata": {},
   "outputs": [
    {
     "name": "stdout",
     "output_type": "stream",
     "text": [
      "3\n"
     ]
    }
   ],
   "source": [
    "# 8 - Use the correct syntax to print the number of items in the list.\n",
    "\n",
    "\n",
    "fruits = [\"apple\", \"banana\", \"cherry\"]\n",
    "print(len(fruits))"
   ]
  },
  {
   "cell_type": "code",
   "execution_count": null,
   "id": "dd7a9bdb-de9c-4f74-9fcb-0e50f68e700a",
   "metadata": {},
   "outputs": [],
   "source": []
  }
 ],
 "metadata": {
  "kernelspec": {
   "display_name": "Python 3 (ipykernel)",
   "language": "python",
   "name": "python3"
  },
  "language_info": {
   "codemirror_mode": {
    "name": "ipython",
    "version": 3
   },
   "file_extension": ".py",
   "mimetype": "text/x-python",
   "name": "python",
   "nbconvert_exporter": "python",
   "pygments_lexer": "ipython3",
   "version": "3.10.13"
  },
  "panel-cell-order": [
   "f6e66fca-8481-4386-913b-d65578485610",
   "b4a8b199-86bc-4fb0-9a51-1a8e770f160a",
   "2f1c8f0f-ff64-4965-8bf7-51f51af8eed1",
   "ac7d423f-1d70-4bd0-b014-558e02f3300e",
   "d91b3023-f8e3-44c4-9767-836956525531",
   "c88c87e7-b344-4f4d-9cb9-d6f6a07fa994",
   "fe140f75-525f-4494-9d5d-a8dccacd516e",
   "c464224a-eb6f-4b0e-81a1-6555e62e3482",
   "de789ed7-a6fb-4c47-bdb0-fca12b8085a2",
   "ec2048be-f7c8-45ef-bbde-96751acd377f",
   "2adce13c-3c5d-42c2-ad09-a3cd0af09b0a",
   "0410f9f1-9ddb-4f29-bbad-37b1732f71aa",
   "397d4203-6f8a-408c-813d-0d5c5b40cce3",
   "9a44863e-9dc4-4c08-8c28-e86dabced0c9",
   "c40ae91b-2bba-4cdd-b6dd-4ad460e6a0d9",
   "2630f0fb-9a19-4406-aa97-8d4e78102bf3",
   "02a285a2-d48f-48b5-8917-5444dd94a67d",
   "0b568a73-2c8e-4f45-a4c6-12c1e51eccd2",
   "2b235964-a098-4897-99b4-1317f151151d",
   "4453d68d-7a8a-4af4-b22f-b7ae158645be",
   "43bc4afa-96f9-4cfc-9c16-99a024807846",
   "825d28b2-5464-404f-a9cb-ce2f452555a3",
   "a11a2cbe-2bed-4b69-a45f-46cf0846cbf7",
   "330694c8-7e8e-4d57-9c18-831bddecdb4e",
   "b4c19472-dcbb-4f43-adfd-3eecd400b083",
   "e1c89b48-de32-43a5-8fd8-d4302b8c81b0",
   "5bf6b643-2b9f-43a5-ac2d-20ed6f53fe45",
   "a8cf7d01-dc58-478d-b3dd-04ed9e7a71aa",
   "a59443ee-22ca-45d5-b6ee-2644dc9b08e9",
   "ef8fdffc-0a30-4810-a49b-c777f2081569",
   "c6101c3e-0f9f-46ed-a6f0-42218992d5bc",
   "26acf731-e532-429c-991a-a1c64a077a55",
   "8cd21324-7fca-4866-9f88-0d9f830bfc14",
   "9572e17a-0500-4b5b-a47c-e311b93707db",
   "d81295b0-b4ca-4298-955f-4fa36f7a603a",
   "095e6230-fad2-4cac-9d76-37c2ed120e07",
   "86adee1d-bee6-4320-b218-67441ed4beb1",
   "72921bba-bb5d-412e-bf56-11bc9b6b17a4",
   "6ff584a4-5ebc-4735-84ae-a93efce1cb7e",
   "1988e634-ff9d-4366-8152-e05890657e74",
   "31d29e8e-c42a-4e62-adf5-f7a6cf5f27fd",
   "5059d7db-bfac-4453-acff-17567e2a7b56",
   "8588913b-a6c6-4ba9-93df-1544068e87b4",
   "2bdff571-618d-4ffb-a8d4-83978555b790",
   "d7bb94fe-ad6a-4f1c-8340-d9cc86c342b5",
   "9619fc57-e2c2-47d5-9114-abcc21531899",
   "2bc66599-2b6e-43b7-9e4c-30fdd68772c4",
   "29be515e-71b3-477c-9a37-9047ab9004f2",
   "aadaea55-a919-43b2-a87b-6e73c1d73c48",
   "1ca2dd97-ed44-46f7-81fe-4902f381bc41",
   "0a500adf-d3b5-4e5c-b1cc-f008a872ec7a",
   "7ffe76bb-20de-41fe-ac59-3b50e4c919b8",
   "1dba42c6-6cc6-4522-a905-82f22d68dd70",
   "7419fc55-bd7f-41fa-b436-638c6be3f252",
   "05b25563-88d7-4b4d-9768-62ac67345cb7",
   "395f789e-c516-426a-b060-fb990fd1861f",
   "ac1b1a4c-2e35-4b1b-9a01-95485aa55367",
   "7f7f90e3-b11f-46de-8ef6-c27333c7eb5f",
   "029b184c-e8fd-4367-bbc8-00196ba71b6e",
   "2dd2320e-9fad-42be-8af5-fea98afeb184",
   "06cb7479-0a4f-414b-92a2-1360435f0db9",
   "14e88661-c8c3-4cae-b3ef-24023d1e2b81",
   "41212c5c-a6ef-4938-aefa-736bb6b1a778",
   "496820f8-3c1e-4421-a3cf-73c9487317f4",
   "122035aa-65fa-47b1-8d8d-52049f1bac95",
   "177dbc1a-34a4-41d7-a25d-4a2e7445a20e",
   "d3fea908-9c20-4de2-becf-1f3dcc8e26e4",
   "4bf7be3d-a2d8-4d6d-91e9-f1d41652ac5a",
   "a9269ceb-e239-49ed-9790-77a32336c9b8",
   "35469df0-04b2-4f81-be2d-51508a9b565c",
   "46bea92f-19d3-4ca2-9a7c-c99e987a8089",
   "ad3e6c72-d00e-40b9-a014-6c67d52de0e9",
   "2b63a356-e61b-4dc4-b687-a5e3c5a5a14c",
   "c6211d85-e700-47d8-8a44-2a06efbafc5e",
   "0f4ba3f3-1bec-4e75-b957-3ce8fa089a47",
   "63c9170b-25f4-4dbe-94da-74ec85f6f4c3"
  ]
 },
 "nbformat": 4,
 "nbformat_minor": 5
}
