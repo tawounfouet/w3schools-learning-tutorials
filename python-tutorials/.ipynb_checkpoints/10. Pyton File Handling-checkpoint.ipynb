{
 "cells": [
  {
   "cell_type": "code",
   "execution_count": null,
   "id": "63ff791a-d3f0-482c-bbc1-d8723b4e96de",
   "metadata": {},
   "outputs": [],
   "source": []
  },
  {
   "cell_type": "markdown",
   "id": "6004d32b-7713-428e-af89-e1042830113b",
   "metadata": {},
   "source": [
    "# Python File Handling"
   ]
  },
  {
   "cell_type": "markdown",
   "id": "86b7471f-6f58-43f4-ab09-bcddcc6b47fa",
   "metadata": {},
   "source": [
    "### Python File Open\n",
    "\n",
    "File handling is an important part of any web application.\n",
    "\n",
    "Python has several functions for creating, reading, updating, and deleting files.\n",
    "\n"
   ]
  },
  {
   "cell_type": "markdown",
   "id": "0ac42703-8c51-4dbd-aaf8-07e7137d8a0b",
   "metadata": {},
   "source": [
    "### File Handling\n",
    "\n",
    "The key function for working with files in Python is the open() function.\n",
    "\n",
    "The open() function takes two parameters: **filename** and **mode**.\n",
    "\n",
    "There are four different methods (`modes`) for opening a file:\n",
    "\n",
    "- `\"r\"` - Read - Default value. Opens a file for reading, error if the file does not exist\n",
    "\n",
    "- `\"a\"` - Append - Opens a file for appending, creates the file if it does not exist\n",
    "\n",
    "- `\"w\"` - Write - Opens a file for writing, creates the file if it does not exist\n",
    "\n",
    "- `\"x\"` - Create - Creates the specified file, returns an error if the file exists\n",
    "\n",
    "In addition you can specify if the file should be handled as binary or text mode\n",
    "\n",
    "- `\"t\"` - Text - Default value. Text mode\n",
    "- `\"b\"` - Binary - Binary mode (e.g. images)"
   ]
  },
  {
   "cell_type": "markdown",
   "id": "878cf49d-66c6-408b-84b5-44deabc8989b",
   "metadata": {},
   "source": [
    "### Syntax\n",
    "To open a file for reading it is enough to specify the name of the file:"
   ]
  },
  {
   "cell_type": "code",
   "execution_count": 18,
   "id": "fbc882d4-77c1-4b58-b873-869b4cacb569",
   "metadata": {},
   "outputs": [],
   "source": [
    "!touch demofile.txt"
   ]
  },
  {
   "cell_type": "code",
   "execution_count": 23,
   "id": "1adc60a5-7766-4d1f-a02a-0392404331dc",
   "metadata": {},
   "outputs": [],
   "source": [
    "f = open(\"demofile.txt\")"
   ]
  },
  {
   "cell_type": "markdown",
   "id": "513a32aa-94bc-4221-8d16-38fb21ac2e29",
   "metadata": {},
   "source": [
    "The code above is the same as:"
   ]
  },
  {
   "cell_type": "code",
   "execution_count": 24,
   "id": "3bebe9b2-67d8-444e-b20f-0236b0c65d26",
   "metadata": {},
   "outputs": [],
   "source": [
    "f = open(\"demofile.txt\", \"rt\")"
   ]
  },
  {
   "cell_type": "markdown",
   "id": "3d0df648-9c4f-4b5a-811c-fef14684ef4e",
   "metadata": {},
   "source": [
    "Because `\"r\"` for read, and `\"t\"` for text are the default values, you do not need to specify them."
   ]
  },
  {
   "cell_type": "markdown",
   "id": "3dce3f99-2846-4e96-b4f5-f237b7da39a0",
   "metadata": {},
   "source": [
    "**Note**: Make sure the file exists, or else you will get an error."
   ]
  },
  {
   "cell_type": "code",
   "execution_count": null,
   "id": "c5eb9808-552b-4016-854c-c8abc15a9a3a",
   "metadata": {},
   "outputs": [],
   "source": []
  },
  {
   "cell_type": "markdown",
   "id": "44ddead7-1e79-446f-957d-91ebc12b4695",
   "metadata": {},
   "source": [
    "# Python Read Files"
   ]
  },
  {
   "cell_type": "markdown",
   "id": "5d9a049a-effa-4b8c-b236-528119c5c043",
   "metadata": {},
   "source": [
    "### Open a File on the Server\n",
    "\n",
    "Assume we have the following file, located in the same folder as Python:\n",
    "```txt\n",
    "demofile.txt\n",
    "\n",
    "Hello! Welcome to demofile.txt\n",
    "This file is for testing purposes.\n",
    "Good Luck!\n",
    "```\n",
    "\n",
    "To open the file, use the built-in open() function.\n",
    "\n",
    "The open() function returns a `file object`, which has a `read() method` for reading the content of the file:"
   ]
  },
  {
   "cell_type": "code",
   "execution_count": 25,
   "id": "978564dd-90f8-4623-a029-5d4af38771e7",
   "metadata": {},
   "outputs": [
    {
     "name": "stdout",
     "output_type": "stream",
     "text": [
      "Hello! Welcome to demofile.txt\n",
      "This file is for testing purposes.\n",
      "Good Luck!\n",
      "\n"
     ]
    }
   ],
   "source": [
    "# Example\n",
    "\n",
    "f = open(\"demofile.txt\", \"r\")\n",
    "print(f.read())"
   ]
  },
  {
   "cell_type": "markdown",
   "id": "52eb37be-f019-4519-a3fe-f8da0eceb765",
   "metadata": {},
   "source": [
    "If the file is located in a different location, you will have to specify the file path, like this:"
   ]
  },
  {
   "cell_type": "code",
   "execution_count": null,
   "id": "9d9a5d7f-a309-461f-b5a2-23bca5e52287",
   "metadata": {},
   "outputs": [],
   "source": [
    "# Example - Open a file on a different location:\n",
    "\n",
    "f = open(\"D:\\\\myfiles\\welcome.txt\", \"r\")\n",
    "print(f.read())"
   ]
  },
  {
   "cell_type": "markdown",
   "id": "9ec6254d-8e12-4f42-8564-a0acfa97ac97",
   "metadata": {},
   "source": [
    "### Read Only Parts of the File\n",
    "\n",
    "By default the `read()` method returns the whole text, but you can also specify how many characters you want to return:"
   ]
  },
  {
   "cell_type": "code",
   "execution_count": 26,
   "id": "973146ee-dbf1-4f6b-b529-a29dae80c8fb",
   "metadata": {},
   "outputs": [
    {
     "name": "stdout",
     "output_type": "stream",
     "text": [
      "Hello\n"
     ]
    }
   ],
   "source": [
    "# Example - Return the 5 first characters of the file:\n",
    "\n",
    "f = open(\"demofile.txt\", \"r\")\n",
    "print(f.read(5))"
   ]
  },
  {
   "cell_type": "markdown",
   "id": "a8ac0c24-f2ee-487b-b630-e82fc1a16929",
   "metadata": {},
   "source": [
    "### Read Lines\n",
    "You can return one line by using the readline() method:"
   ]
  },
  {
   "cell_type": "code",
   "execution_count": 29,
   "id": "6a5ce731-6ed9-45c5-93ec-46cba654b60f",
   "metadata": {},
   "outputs": [
    {
     "name": "stdout",
     "output_type": "stream",
     "text": [
      "Hello! Welcome to demofile.txt\n",
      "\n"
     ]
    }
   ],
   "source": [
    "f = open(\"demofile.txt\", \"r\")\n",
    "print(f.readline())"
   ]
  },
  {
   "cell_type": "markdown",
   "id": "209d27f9-7a63-4723-96e4-f36c010213d8",
   "metadata": {},
   "source": [
    "By calling `readline()` two times, you can read the two first lines:"
   ]
  },
  {
   "cell_type": "code",
   "execution_count": 31,
   "id": "98a7751c-143b-4b45-88f6-92254f140729",
   "metadata": {},
   "outputs": [
    {
     "name": "stdout",
     "output_type": "stream",
     "text": [
      "Hello! Welcome to demofile.txt\n",
      "\n",
      "This file is for testing purposes.\n",
      "\n"
     ]
    }
   ],
   "source": [
    "# Example - Read two lines of the file:\n",
    "\n",
    "f = open(\"demofile.txt\", \"r\")\n",
    "print(f.readline())\n",
    "print(f.readline())"
   ]
  },
  {
   "cell_type": "markdown",
   "id": "f6eba0eb-8d99-4faa-850b-a72016447b7b",
   "metadata": {},
   "source": [
    "By looping through the lines of the file, you can read the whole file, line by line:"
   ]
  },
  {
   "cell_type": "code",
   "execution_count": 32,
   "id": "abd8a098-ee51-496a-b078-284dd10e88e8",
   "metadata": {},
   "outputs": [
    {
     "name": "stdout",
     "output_type": "stream",
     "text": [
      "Hello! Welcome to demofile.txt\n",
      "\n",
      "This file is for testing purposes.\n",
      "\n",
      "Good Luck!\n",
      "\n"
     ]
    }
   ],
   "source": [
    "# Example - Loop through the file line by line:\n",
    "\n",
    "f = open(\"demofile.txt\", \"r\")\n",
    "for x in f:\n",
    "  print(x)"
   ]
  },
  {
   "cell_type": "code",
   "execution_count": 33,
   "id": "a14e5b48-1483-4ab2-b4a2-c70fb5b79846",
   "metadata": {},
   "outputs": [
    {
     "data": {
      "text/plain": [
       "_io.TextIOWrapper"
      ]
     },
     "execution_count": 33,
     "metadata": {},
     "output_type": "execute_result"
    }
   ],
   "source": [
    "type(f) "
   ]
  },
  {
   "cell_type": "code",
   "execution_count": 35,
   "id": "8b8f9d65-e1e5-4ca1-911f-29c37d5ff38c",
   "metadata": {},
   "outputs": [
    {
     "data": {
      "text/plain": [
       "''"
      ]
     },
     "execution_count": 35,
     "metadata": {},
     "output_type": "execute_result"
    }
   ],
   "source": [
    "f.read()"
   ]
  },
  {
   "cell_type": "code",
   "execution_count": 36,
   "id": "924ae9ee-c362-4d5f-8abe-f9dee7e030d7",
   "metadata": {},
   "outputs": [
    {
     "data": {
      "text/plain": [
       "'Hello! Welcome to demofile.txt\\nThis file is for testing purposes.\\nGood Luck!\\n'"
      ]
     },
     "execution_count": 36,
     "metadata": {},
     "output_type": "execute_result"
    }
   ],
   "source": [
    "f = open(\"demofile.txt\", \"r\")\n",
    "f.read()"
   ]
  },
  {
   "cell_type": "code",
   "execution_count": 37,
   "id": "699c21e9-c5c8-4f7d-85d0-3cff96d2c39b",
   "metadata": {},
   "outputs": [
    {
     "data": {
      "text/plain": [
       "''"
      ]
     },
     "execution_count": 37,
     "metadata": {},
     "output_type": "execute_result"
    }
   ],
   "source": [
    "f.read()"
   ]
  },
  {
   "cell_type": "code",
   "execution_count": 38,
   "id": "484eacbe-64e4-4b10-87f4-1862cbc09424",
   "metadata": {},
   "outputs": [
    {
     "name": "stdout",
     "output_type": "stream",
     "text": [
      "Hello! Welcome to demofile.txt\n",
      "This file is for testing purposes.\n",
      "Good Luck!\n",
      "\n"
     ]
    }
   ],
   "source": [
    "f = open(\"demofile.txt\", \"r\")\n",
    "print(f.read())"
   ]
  },
  {
   "cell_type": "markdown",
   "id": "0035d8f0-b60d-4960-a088-866bd4faa5f7",
   "metadata": {},
   "source": [
    "### Close Files \n",
    "\n",
    "It is a good practice to always close the file when you are done with it."
   ]
  },
  {
   "cell_type": "code",
   "execution_count": 39,
   "id": "38a81d10-58ef-461a-aead-3e5be4477de8",
   "metadata": {},
   "outputs": [
    {
     "name": "stdout",
     "output_type": "stream",
     "text": [
      "Hello! Welcome to demofile.txt\n",
      "\n"
     ]
    }
   ],
   "source": [
    "# Example - Close the file when you are finish with it:\n",
    "\n",
    "f = open(\"demofile.txt\", \"r\")\n",
    "print(f.readline())\n",
    "f.close()"
   ]
  },
  {
   "cell_type": "markdown",
   "id": "1ad5eee1-4e36-43bc-a223-b0da428004c4",
   "metadata": {},
   "source": [
    "# Python  Write/Create Files"
   ]
  },
  {
   "cell_type": "markdown",
   "id": "c1fb1d9a-84a9-4a25-afe7-d27976ebacb1",
   "metadata": {},
   "source": [
    "### Write to an Existing File\n",
    "To write to an existing file, you must add a parameter to the open() function:\n",
    "\n",
    "- `\"a\"` - **Append** - will append to the end of the file\n",
    "- `\"w\"` - **Write** - will overwrite any existing content"
   ]
  },
  {
   "cell_type": "code",
   "execution_count": 27,
   "id": "9577c135-edef-4b23-ba09-96d95a2fafb9",
   "metadata": {},
   "outputs": [],
   "source": [
    "# Example - Open the file \"demofile2.txt\" and append content to the file:\n",
    "\n",
    "f = open(\"demofile2.txt\", \"a\")\n",
    "f.write(\"Now the file has more content!\")\n",
    "f.close()"
   ]
  },
  {
   "cell_type": "code",
   "execution_count": 28,
   "id": "447143e9-2e28-4ba2-a7c7-54d4f510df81",
   "metadata": {},
   "outputs": [
    {
     "name": "stdout",
     "output_type": "stream",
     "text": [
      "Now the file has more content!Now the file has more content!\n"
     ]
    }
   ],
   "source": [
    "#open and read the file after the appending:\n",
    "f = open(\"demofile2.txt\", \"r\")\n",
    "print(f.read())"
   ]
  },
  {
   "cell_type": "markdown",
   "id": "51474197-22e0-465e-8b82-d1ed90a98fc5",
   "metadata": {},
   "source": [
    "### Create a New File\n",
    "To create a new file in Python, use the `open() method`, with one of the following parameters:\n",
    "- `\"x\"` - **Create** - will create a file, returns an error if the file exist\n",
    "- `\"a\"` - **Append** - will create a file if the specified file does not exist\n",
    "- `\"w\"` - **Write** - will create a file if the specified file does not exist"
   ]
  },
  {
   "cell_type": "code",
   "execution_count": 9,
   "id": "b736562e-fa79-4ca4-9d02-b0839ffcb4a3",
   "metadata": {},
   "outputs": [],
   "source": [
    "# Example - Create a file called \"myfile.txt\":\n",
    "\n",
    "f = open(\"myfile.txt\", \"x\")"
   ]
  },
  {
   "cell_type": "code",
   "execution_count": 10,
   "id": "5f43bf7a-7dd2-4a8d-90d2-a95ea4268ec8",
   "metadata": {},
   "outputs": [
    {
     "ename": "FileExistsError",
     "evalue": "[Errno 17] File exists: 'myfile.txt'",
     "output_type": "error",
     "traceback": [
      "\u001b[0;31m---------------------------------------------------------------------------\u001b[0m",
      "\u001b[0;31mFileExistsError\u001b[0m                           Traceback (most recent call last)",
      "Cell \u001b[0;32mIn[10], line 1\u001b[0m\n\u001b[0;32m----> 1\u001b[0m f \u001b[38;5;241m=\u001b[39m \u001b[38;5;28;43mopen\u001b[39;49m\u001b[43m(\u001b[49m\u001b[38;5;124;43m\"\u001b[39;49m\u001b[38;5;124;43mmyfile.txt\u001b[39;49m\u001b[38;5;124;43m\"\u001b[39;49m\u001b[43m,\u001b[49m\u001b[43m \u001b[49m\u001b[38;5;124;43m\"\u001b[39;49m\u001b[38;5;124;43mx\u001b[39;49m\u001b[38;5;124;43m\"\u001b[39;49m\u001b[43m)\u001b[49m\n",
      "File \u001b[0;32m~/.pyenv/versions/3.10.13/lib/python3.10/site-packages/IPython/core/interactiveshell.py:324\u001b[0m, in \u001b[0;36m_modified_open\u001b[0;34m(file, *args, **kwargs)\u001b[0m\n\u001b[1;32m    317\u001b[0m \u001b[38;5;28;01mif\u001b[39;00m file \u001b[38;5;129;01min\u001b[39;00m {\u001b[38;5;241m0\u001b[39m, \u001b[38;5;241m1\u001b[39m, \u001b[38;5;241m2\u001b[39m}:\n\u001b[1;32m    318\u001b[0m     \u001b[38;5;28;01mraise\u001b[39;00m \u001b[38;5;167;01mValueError\u001b[39;00m(\n\u001b[1;32m    319\u001b[0m         \u001b[38;5;124mf\u001b[39m\u001b[38;5;124m\"\u001b[39m\u001b[38;5;124mIPython won\u001b[39m\u001b[38;5;124m'\u001b[39m\u001b[38;5;124mt let you open fd=\u001b[39m\u001b[38;5;132;01m{\u001b[39;00mfile\u001b[38;5;132;01m}\u001b[39;00m\u001b[38;5;124m by default \u001b[39m\u001b[38;5;124m\"\u001b[39m\n\u001b[1;32m    320\u001b[0m         \u001b[38;5;124m\"\u001b[39m\u001b[38;5;124mas it is likely to crash IPython. If you know what you are doing, \u001b[39m\u001b[38;5;124m\"\u001b[39m\n\u001b[1;32m    321\u001b[0m         \u001b[38;5;124m\"\u001b[39m\u001b[38;5;124myou can use builtins\u001b[39m\u001b[38;5;124m'\u001b[39m\u001b[38;5;124m open.\u001b[39m\u001b[38;5;124m\"\u001b[39m\n\u001b[1;32m    322\u001b[0m     )\n\u001b[0;32m--> 324\u001b[0m \u001b[38;5;28;01mreturn\u001b[39;00m \u001b[43mio_open\u001b[49m\u001b[43m(\u001b[49m\u001b[43mfile\u001b[49m\u001b[43m,\u001b[49m\u001b[43m \u001b[49m\u001b[38;5;241;43m*\u001b[39;49m\u001b[43margs\u001b[49m\u001b[43m,\u001b[49m\u001b[43m \u001b[49m\u001b[38;5;241;43m*\u001b[39;49m\u001b[38;5;241;43m*\u001b[39;49m\u001b[43mkwargs\u001b[49m\u001b[43m)\u001b[49m\n",
      "\u001b[0;31mFileExistsError\u001b[0m: [Errno 17] File exists: 'myfile.txt'"
     ]
    }
   ],
   "source": [
    "f = open(\"myfile.txt\", \"x\")"
   ]
  },
  {
   "cell_type": "markdown",
   "id": "7e0a8ab5-072b-4c2c-ac60-a684bfa89a3e",
   "metadata": {},
   "source": [
    "`Result: a new empty file is created!`"
   ]
  },
  {
   "cell_type": "code",
   "execution_count": 11,
   "id": "f3f11959-872d-43bb-a21f-bb9dad6fbe92",
   "metadata": {},
   "outputs": [],
   "source": [
    "# Example - Create a new file if it does not exist:\n",
    "\n",
    "f = open(\"myfile1.txt\", \"w\")"
   ]
  },
  {
   "cell_type": "code",
   "execution_count": 12,
   "id": "bdb6ec70-a2f5-44c3-8611-e6cf74947992",
   "metadata": {},
   "outputs": [],
   "source": [
    "f = open(\"myfile1.txt\", \"w\")"
   ]
  },
  {
   "cell_type": "markdown",
   "id": "dce94a4c-c730-4bbd-966b-6ebfafe041d8",
   "metadata": {},
   "source": []
  },
  {
   "cell_type": "markdown",
   "id": "4c7f4f6b-ebeb-4154-a879-f9e34a38ce4b",
   "metadata": {},
   "source": [
    "# Python Delete Files"
   ]
  },
  {
   "cell_type": "markdown",
   "id": "39aa106c-96fe-497e-86c8-dcba8688f673",
   "metadata": {},
   "source": [
    "### Delete a File\n",
    "\n",
    "To delete a file, you must import the OS module, and run its `os.remove()` function:\n"
   ]
  },
  {
   "cell_type": "code",
   "execution_count": null,
   "id": "dce8e968-c73b-4b4c-b763-c25edfb0310c",
   "metadata": {},
   "outputs": [],
   "source": [
    "# Example - Remove the file \"demofile.txt\":\n",
    "\n",
    "import os\n",
    "os.remove(\"demofile.txt\")"
   ]
  },
  {
   "cell_type": "markdown",
   "id": "b03d09cc-e118-40b0-b75c-f0ba75496ff4",
   "metadata": {},
   "source": [
    "## Check if File exist:\n",
    "To avoid getting an error, you might want to check if the file exists before you try to delete it:"
   ]
  },
  {
   "cell_type": "code",
   "execution_count": 13,
   "id": "e45254e2-fd9b-44d9-84c6-5b2570c19a08",
   "metadata": {},
   "outputs": [],
   "source": [
    "# Example - Check if file exists, then delete it:\n",
    "\n",
    "import os\n",
    "if os.path.exists(\"demofile.txt\"):\n",
    "  os.remove(\"demofile.txt\")\n",
    "else:\n",
    "  print(\"The file does not exist\")"
   ]
  },
  {
   "cell_type": "markdown",
   "id": "459ace10-68af-46a9-beba-01795477eb2f",
   "metadata": {},
   "source": [
    "### Delete Folder\n",
    "To delete an entire folder, use the os.rmdir() method:"
   ]
  },
  {
   "cell_type": "code",
   "execution_count": 15,
   "id": "35d30d23-74ad-4362-8a1d-b073d019b79e",
   "metadata": {},
   "outputs": [],
   "source": [
    "!mkdir myfolder"
   ]
  },
  {
   "cell_type": "code",
   "execution_count": 16,
   "id": "2e391569-116e-4444-902f-72f4c48dc98a",
   "metadata": {},
   "outputs": [],
   "source": [
    "# Example - Remove the folder \"myfolder\":\n",
    "\n",
    "import os\n",
    "os.rmdir(\"myfolder\")"
   ]
  },
  {
   "cell_type": "code",
   "execution_count": null,
   "id": "c70fbf5e-abd2-482d-bde6-4378e62dbaeb",
   "metadata": {},
   "outputs": [],
   "source": []
  },
  {
   "cell_type": "code",
   "execution_count": 40,
   "id": "c86e004e-bc7a-4084-89ae-fb582da4cb1f",
   "metadata": {},
   "outputs": [
    {
     "name": "stdout",
     "output_type": "stream",
     "text": [
      "[5, 7, 9, 11]\n"
     ]
    }
   ],
   "source": [
    "x = [1, 2, 3, 4]\n",
    "y = [4, 5, 6, 7]\n",
    "z = []\n",
    "\n",
    "for i, j in zip(x, y):\n",
    "  z.append(i + j)\n",
    "print(z)"
   ]
  },
  {
   "cell_type": "code",
   "execution_count": 42,
   "id": "fba98df3-17dc-430c-af45-ef955cfcd3fb",
   "metadata": {},
   "outputs": [
    {
     "name": "stdout",
     "output_type": "stream",
     "text": [
      "1 4\n",
      "2 5\n",
      "3 6\n",
      "4 7\n"
     ]
    }
   ],
   "source": [
    "x = [1, 2, 3, 4]\n",
    "y = [4, 5, 6, 7]\n",
    "z = []\n",
    "\n",
    "for i, j in zip(x, y):\n",
    "    print(i, j)"
   ]
  },
  {
   "cell_type": "code",
   "execution_count": 46,
   "id": "c0a6a750-0f6a-4a39-9c51-07429d9dd738",
   "metadata": {},
   "outputs": [
    {
     "name": "stdout",
     "output_type": "stream",
     "text": [
      "1 4\n",
      "2 5\n",
      "3 6\n",
      "4 7\n",
      "[5, 7, 9, 11]\n"
     ]
    }
   ],
   "source": [
    "x = [1, 2, 3, 4]\n",
    "y = [4, 5, 6, 7]\n",
    "z = []\n",
    "\n",
    "for i, j in zip(x, y):\n",
    "    print(i, j)\n",
    "    z.append(i + j)\n",
    "    #break\n",
    "print(z)"
   ]
  },
  {
   "cell_type": "code",
   "execution_count": null,
   "id": "ef756fc5-e9f7-4bc7-8e58-9e626435fd89",
   "metadata": {},
   "outputs": [],
   "source": []
  },
  {
   "cell_type": "code",
   "execution_count": 50,
   "id": "9a71cefe-9e64-41e4-860d-2c1ebad79056",
   "metadata": {},
   "outputs": [
    {
     "data": {
      "image/png": "[encoded data removed]",
      "text/plain": [
       "<Figure size 640x480 with 1 Axes>"
      ]
     },
     "metadata": {},
     "output_type": "display_data"
    }
   ],
   "source": [
    "import numpy as np\n",
    "import matplotlib.pyplot as plt\n",
    "\n",
    "x = np.array([80, 85, 90, 95, 100, 105, 110, 115, 120, 125])\n",
    "y = np.array([240, 250, 260, 270, 280, 290, 300, 310, 320, 330])\n",
    "\n",
    "font1 = {'family':'serif','color':'blue','size':16}\n",
    "font2 = {'family':'serif','color':'#04AA6D','size':12}\n",
    "\n",
    "plt.title(\"Sports Watch Data\", fontdict = font1)\n",
    "plt.xlabel(\"Average Pulse\", fontdict = font2)\n",
    "plt.ylabel(\"Calorie Burnage\", fontdict = font2)\n",
    "\n",
    "plt.plot(x, y)\n",
    "plt.show()"
   ]
  },
  {
   "cell_type": "code",
   "execution_count": 53,
   "id": "241b3950-f0e0-4808-843d-5b5579bd4e96",
   "metadata": {},
   "outputs": [
    {
     "data": {
      "image/png": "[encoded data removed]",
      "text/plain": [
       "<Figure size 640x480 with 1 Axes>"
      ]
     },
     "metadata": {},
     "output_type": "display_data"
    }
   ],
   "source": [
    "import numpy as np\n",
    "import matplotlib.pyplot as plt\n",
    "\n",
    "x = np.array([80, 85, 90, 95, 100, 105, 110, 115, 120, 125])\n",
    "y = np.array([240, 250, 260, 270, 280, 290, 300, 310, 320, 330])\n",
    "\n",
    "font1 = {'family':'serif','color':'blue','size':16}\n",
    "font2 = {'family':'serif','color':'#04AA6D','size':12}\n",
    "\n",
    "# Ajouter de l'espace après le titre, xlabel et ylabel avec l'argument `pad`\n",
    "plt.title(\"Sports Watch Data\", fontdict=font1, pad=15)\n",
    "plt.xlabel(\"Average Pulse\", fontdict=font2, labelpad=10)\n",
    "plt.ylabel(\"Calorie Burnage\", fontdict=font2, labelpad=10)\n",
    "\n",
    "plt.plot(x, y)\n",
    "plt.show()"
   ]
  },
  {
   "cell_type": "code",
   "execution_count": null,
   "id": "64e6cb96-5571-4180-b429-df9a292ea192",
   "metadata": {},
   "outputs": [],
   "source": []
  },
  {
   "cell_type": "code",
   "execution_count": 57,
   "id": "a22dfb37-f3f5-4611-b5a8-39edc62aeb76",
   "metadata": {},
   "outputs": [
    {
     "name": "stdout",
     "output_type": "stream",
     "text": [
      "dlroW olleH\n"
     ]
    }
   ],
   "source": [
    "txt = \"Hello World\"[::-1]\n",
    "print(txt)"
   ]
  },
  {
   "cell_type": "code",
   "execution_count": 55,
   "id": "f790f4c7-67bb-4946-a28e-ab7bc6f69d0e",
   "metadata": {},
   "outputs": [
    {
     "data": {
      "text/plain": [
       "'apap'"
      ]
     },
     "execution_count": 55,
     "metadata": {},
     "output_type": "execute_result"
    }
   ],
   "source": [
    "\"papa\"[::-1]"
   ]
  },
  {
   "cell_type": "code",
   "execution_count": 56,
   "id": "53c475a0-4be0-4dac-b097-3ca730931a0a",
   "metadata": {},
   "outputs": [
    {
     "name": "stdout",
     "output_type": "stream",
     "text": [
      "sdrawkcab ekil skool txet siht woh rednow I\n"
     ]
    }
   ],
   "source": [
    "def my_function(x):\n",
    "  return x[::-1]\n",
    "\n",
    "mytxt = my_function(\"I wonder how this text looks like backwards\")\n",
    "\n",
    "print(mytxt)"
   ]
  },
  {
   "cell_type": "code",
   "execution_count": null,
   "id": "ad6b197c-3428-47ff-8cf8-1fe617951bc4",
   "metadata": {},
   "outputs": [],
   "source": []
  }
 ],
 "metadata": {
  "kernelspec": {
   "display_name": "Python 3 (ipykernel)",
   "language": "python",
   "name": "python3"
  },
  "language_info": {
   "codemirror_mode": {
    "name": "ipython",
    "version": 3
   },
   "file_extension": ".py",
   "mimetype": "text/x-python",
   "name": "python",
   "nbconvert_exporter": "python",
   "pygments_lexer": "ipython3",
   "version": "3.10.13"
  }
 },
 "nbformat": 4,
 "nbformat_minor": 5
}
