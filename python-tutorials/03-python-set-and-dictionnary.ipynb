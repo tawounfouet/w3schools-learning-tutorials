{
 "cells": [
  {
   "cell_type": "code",
   "execution_count": null,
   "id": "f5c80606-3fca-4df6-90b0-9cf4f52f6963",
   "metadata": {},
   "outputs": [],
   "source": []
  },
  {
   "cell_type": "markdown",
   "id": "66cd8325-c295-420d-b828-aa1c9806827a",
   "metadata": {},
   "source": [
    " # Python Sets"
   ]
  },
  {
   "cell_type": "markdown",
   "id": "8bd67644-f8ee-46d3-9daa-246d6f8d882d",
   "metadata": {},
   "source": [
    "### Set\n",
    "\n",
    "Sets are used to store multiple items in a single variable.\n",
    "\n",
    "Set is one of 4 built-in data types in Python used to store collections of data, the other 3 are List, Tuple, and Dictionary, all with different qualities and usage.\n",
    "\n",
    "A **set** is a collection which is `unordered`, `unchangeable*`, and `unindexed`.\n",
    "\n",
    "**Note**:\n",
    "\n",
    "- Set items are unchangeable, but you can remove items and add new items.\n",
    "- Sets are written with curly brackets `{ }`\n",
    "\n",
    "`*` Note: Set items are unchangeable, but you can remove items and add new items."
   ]
  },
  {
   "cell_type": "code",
   "execution_count": 1,
   "id": "800690fd-7c3b-4a39-92b7-d748329e109f",
   "metadata": {},
   "outputs": [
    {
     "name": "stdout",
     "output_type": "stream",
     "text": [
      "{'apple', 'banana', 'cherry'}\n"
     ]
    }
   ],
   "source": [
    "# Example Create a Set:\n",
    "\n",
    "thisset = {\"apple\", \"banana\", \"cherry\"}\n",
    "print(thisset)"
   ]
  },
  {
   "cell_type": "markdown",
   "id": "abdbdc64-8972-4d25-9b5c-c154ba90be3b",
   "metadata": {},
   "source": [
    "**Set Items**\n",
    "Set items are unordered, unchangeable, and do not allow duplicate values.\n",
    "\n",
    "**Unordered**\n",
    "`Unordered` means that the items in a set do not have a defined order.\n",
    "\n",
    "Set items can appear in a different order every time you use them, and cannot be referred to by index or key.\n",
    "\n",
    "**Unchangeable**\n",
    "Set items are `unchangeable`, meaning that we cannot change the items after the set has been created.\n",
    "\n",
    "Once a set is created, you cannot change its items, but you can remove items and add new items.\n",
    "\n",
    "**Duplicates Not Allowed**\n",
    "Sets `cannot have two items with the same value`."
   ]
  },
  {
   "cell_type": "code",
   "execution_count": 2,
   "id": "2766c325-c5d9-45b4-88fd-5e231fd3e38e",
   "metadata": {},
   "outputs": [
    {
     "name": "stdout",
     "output_type": "stream",
     "text": [
      "{'apple', 'banana', 'cherry'}\n"
     ]
    }
   ],
   "source": [
    "# Example - Duplicate values will be ignored:\n",
    "\n",
    "thisset = {\"apple\", \"banana\", \"cherry\", \"apple\"}\n",
    "print(thisset)"
   ]
  },
  {
   "cell_type": "markdown",
   "id": "45b1e9f3-c553-4c45-aaa5-739b7892ef8a",
   "metadata": {},
   "source": [
    "**Note**: \n",
    "\n",
    "The values True and 1 are considered the same value in sets, and are treated as duplicates:"
   ]
  },
  {
   "cell_type": "code",
   "execution_count": 4,
   "id": "88bcb54b-45fa-45ea-b0db-14369e1c1020",
   "metadata": {},
   "outputs": [
    {
     "name": "stdout",
     "output_type": "stream",
     "text": [
      "{True, 2, 'apple', 'banana', 'cherry'}\n"
     ]
    }
   ],
   "source": [
    "# Example - True and 1 is considered the same value:\n",
    "\n",
    "thisset = {\"apple\", \"banana\", \"cherry\", True, 1, 2}\n",
    "\n",
    "print(thisset)"
   ]
  },
  {
   "cell_type": "markdown",
   "id": "1b96266c-d33d-4c43-be3f-55819f747f4a",
   "metadata": {},
   "source": [
    "**Note**: \n",
    "\n",
    "The values False and 0 are considered the same value in sets, and are treated as duplicates:"
   ]
  },
  {
   "cell_type": "code",
   "execution_count": 5,
   "id": "c1385079-82d2-4b8d-87a9-ea45df3b771f",
   "metadata": {},
   "outputs": [
    {
     "name": "stdout",
     "output_type": "stream",
     "text": [
      "{False, True, 'apple', 'banana', 'cherry'}\n"
     ]
    }
   ],
   "source": [
    "# Example - False and 0 is considered the same value:\n",
    "\n",
    "thisset = {\"apple\", \"banana\", \"cherry\", False, True, 0}\n",
    "\n",
    "print(thisset)"
   ]
  },
  {
   "cell_type": "markdown",
   "id": "7c320b58-49c6-42ca-8182-d0f6a13b9b02",
   "metadata": {},
   "source": [
    "**Get the Length of a Set**\n",
    "\n",
    "To determine how many items a set has, use the len() function."
   ]
  },
  {
   "cell_type": "code",
   "execution_count": 6,
   "id": "2292ac8f-1d6f-4434-9c11-365b299f37e0",
   "metadata": {},
   "outputs": [
    {
     "name": "stdout",
     "output_type": "stream",
     "text": [
      "3\n"
     ]
    }
   ],
   "source": [
    "# Example Get the number of items in a set:\n",
    "\n",
    "thisset = {\"apple\", \"banana\", \"cherry\"}\n",
    "\n",
    "print(len(thisset))"
   ]
  },
  {
   "cell_type": "markdown",
   "id": "99bd2465-8d8a-478b-a4c6-3fc71322de9a",
   "metadata": {},
   "source": [
    "#### Set Items - Data Types\n",
    "\n",
    "Set items can be of any data type:"
   ]
  },
  {
   "cell_type": "code",
   "execution_count": 7,
   "id": "25d984f1-d86e-4b85-a8c8-d4f2acca74c0",
   "metadata": {},
   "outputs": [],
   "source": [
    "# Example - String, int and boolean data types:\n",
    "\n",
    "set1 = {\"apple\", \"banana\", \"cherry\"}\n",
    "set2 = {1, 5, 7, 9, 3}\n",
    "set3 = {True, False, False}"
   ]
  },
  {
   "cell_type": "code",
   "execution_count": 12,
   "id": "7b2129f1-0c51-4c6f-bd96-bb596b861cf3",
   "metadata": {},
   "outputs": [
    {
     "data": {
      "text/plain": [
       "({'apple', 'banana', 'cherry'}, {1, 3, 5, 7, 9}, {False, True})"
      ]
     },
     "execution_count": 12,
     "metadata": {},
     "output_type": "execute_result"
    }
   ],
   "source": [
    "set1, set2, set3"
   ]
  },
  {
   "cell_type": "markdown",
   "id": "f9455691-30fd-4bd7-b28f-6f9c208cefd4",
   "metadata": {},
   "source": [
    "**A set can contain different data types:**"
   ]
  },
  {
   "cell_type": "code",
   "execution_count": 14,
   "id": "0a558d10-2ae5-44eb-8280-95cc47a3a93d",
   "metadata": {},
   "outputs": [
    {
     "data": {
      "text/plain": [
       "{34, 40, True, 'abc', 'male'}"
      ]
     },
     "execution_count": 14,
     "metadata": {},
     "output_type": "execute_result"
    }
   ],
   "source": [
    "# Example - A set with strings, integers and boolean values:\n",
    "\n",
    "set1 = {\"abc\", 34, True, 40, \"male\"}\n",
    "set1"
   ]
  },
  {
   "cell_type": "markdown",
   "id": "78c1dbdb-1686-472c-8bcf-5b2f197e9795",
   "metadata": {},
   "source": [
    "#### type()\n",
    "From Python's perspective, sets are defined as objects with the data type 'set':\n",
    "\n",
    "```python\n",
    "<class 'set'>\n",
    "```"
   ]
  },
  {
   "cell_type": "code",
   "execution_count": 16,
   "id": "00e5328f-5dad-4169-b31b-fa8e03edea4f",
   "metadata": {},
   "outputs": [
    {
     "name": "stdout",
     "output_type": "stream",
     "text": [
      "<class 'set'>\n"
     ]
    }
   ],
   "source": [
    "# Example - What is the data type of a set?\n",
    "\n",
    "myset = {\"apple\", \"banana\", \"cherry\"}\n",
    "print(type(myset))"
   ]
  },
  {
   "cell_type": "markdown",
   "id": "05e63c0d-8549-46ee-ade2-fdb5dae682a8",
   "metadata": {},
   "source": [
    "#### The set() Constructor\n",
    "\n",
    "It is also possible to use the set() constructor to make a set."
   ]
  },
  {
   "cell_type": "code",
   "execution_count": 17,
   "id": "20ed236a-a4bb-4b12-bbb5-6c4a4d913181",
   "metadata": {},
   "outputs": [
    {
     "name": "stdout",
     "output_type": "stream",
     "text": [
      "{'apple', 'banana', 'cherry'}\n"
     ]
    }
   ],
   "source": [
    "# Example - Using the set() constructor to make a set:\n",
    "\n",
    "thisset = set((\"apple\", \"banana\", \"cherry\")) # note the double round-brackets\n",
    "print(thisset)"
   ]
  },
  {
   "cell_type": "markdown",
   "id": "1a239629-e438-4c12-9e63-40df843ef3e2",
   "metadata": {},
   "source": [
    "#### Python Collections (Arrays)\n",
    "There are four collection data types in the Python programming language:\n",
    "\n",
    "- `List` is a collection which is ordered and changeable. Allows duplicate members.\n",
    "- `Tuple` is a collection which is ordered and unchangeable. Allows duplicate members.\n",
    "- `Set` is a collection which is unordered, unchangeable*, and unindexed. No duplicate members.\n",
    "- `Dictionary` is a collection which is ordered** and changeable. No duplicate members.\n",
    "\n",
    "\n",
    "`*`Set items are unchangeable, but you can remove items and add new items.\n",
    "\n",
    "`**`As of Python version 3.7, dictionaries are ordered. In Python 3.6 and earlier, dictionaries are unordered.\n",
    "\n",
    "When choosing a collection type, it is useful to understand the properties of that type. Choosing the right type for a particular data set could mean retention of meaning, and, it could mean an increase in efficiency or security."
   ]
  },
  {
   "cell_type": "markdown",
   "id": "405041bf-dc2d-484d-8402-59b499dea03e",
   "metadata": {},
   "source": [
    "#### Add Set Items"
   ]
  },
  {
   "cell_type": "markdown",
   "id": "e876ac52-7a53-4577-a0d5-7024e7526cda",
   "metadata": {},
   "source": [
    "#### Remove Set Items"
   ]
  },
  {
   "cell_type": "markdown",
   "id": "712ad980-f09f-41d0-8cf0-15e5c775b1f5",
   "metadata": {},
   "source": [
    "#### Loop Set "
   ]
  },
  {
   "cell_type": "markdown",
   "id": "79a6247c-c146-4c78-be66-2cae68100d87",
   "metadata": {},
   "source": [
    "#### Join Sets\n",
    "\n",
    "There are several ways to join two or more sets in Python.\n",
    "\n",
    "- The `union()` and `update()` methods joins all items from both sets.\n",
    "\n",
    "- The `intersection()` method keeps ONLY the duplicates.\n",
    "\n",
    "- The `difference()` method keeps the items from the first set that are not in the other set(s).\n",
    "\n",
    "- The `symmetric_difference()` method keeps all items EXCEPT the duplicates."
   ]
  },
  {
   "cell_type": "markdown",
   "id": "87bca4c9-529d-47d7-a817-5eca32cf6a2b",
   "metadata": {},
   "source": [
    "#### Union\n",
    "\n",
    "The union() method returns a new set with all items from both sets.\n"
   ]
  },
  {
   "cell_type": "code",
   "execution_count": 19,
   "id": "f0afcc6f-3ca6-4696-8b8e-5f8a4c82bb3c",
   "metadata": {},
   "outputs": [
    {
     "name": "stdout",
     "output_type": "stream",
     "text": [
      "{1, 2, 3, 'c', 'a', 'b'}\n"
     ]
    }
   ],
   "source": [
    "# Example  - Join set1 and set2 into a new set:\n",
    "\n",
    "set1 = {\"a\", \"b\", \"c\"}\n",
    "set2 = {1, 2, 3}\n",
    "\n",
    "set3 = set1.union(set2)\n",
    "print(set3)"
   ]
  },
  {
   "cell_type": "markdown",
   "id": "90fb2352-caaa-487c-bda1-c22ac948a264",
   "metadata": {},
   "source": [
    "**You can use the | operator instead of the union() method, and you will get the same result.**\n",
    "\n"
   ]
  },
  {
   "cell_type": "code",
   "execution_count": 20,
   "id": "008c3a4b-1292-4233-8e01-16be896e6bec",
   "metadata": {},
   "outputs": [
    {
     "name": "stdout",
     "output_type": "stream",
     "text": [
      "{1, 2, 3, 'c', 'a', 'b'}\n"
     ]
    }
   ],
   "source": [
    "# Example - Use | to join two sets:\n",
    "\n",
    "set1 = {\"a\", \"b\", \"c\"}\n",
    "set2 = {1, 2, 3}\n",
    "\n",
    "set3 = set1 | set2\n",
    "print(set3)"
   ]
  },
  {
   "cell_type": "markdown",
   "id": "d92fc794-bff9-433f-8188-61e208194108",
   "metadata": {},
   "source": [
    "##### Join Multiple Sets\n",
    "\n",
    "All the joining methods and operators can be used to join multiple sets.\n",
    "\n",
    "When using a method, just add more sets in the parentheses, separated by commas:\n",
    "\n"
   ]
  },
  {
   "cell_type": "code",
   "execution_count": 21,
   "id": "4cba8cbd-511d-4124-baeb-28ebca305791",
   "metadata": {},
   "outputs": [
    {
     "name": "stdout",
     "output_type": "stream",
     "text": [
      "{1, 2, 3, 'John', 'apple', 'c', 'a', 'b', 'cherry', 'bananas', 'Elena'}\n"
     ]
    }
   ],
   "source": [
    "# Example - Join multiple sets with the union() method:\n",
    "\n",
    "set1 = {\"a\", \"b\", \"c\"}\n",
    "set2 = {1, 2, 3}\n",
    "set3 = {\"John\", \"Elena\"}\n",
    "set4 = {\"apple\", \"bananas\", \"cherry\"}\n",
    "\n",
    "myset = set1.union(set2, set3, set4)\n",
    "print(myset)"
   ]
  },
  {
   "cell_type": "markdown",
   "id": "8ae14cc1-0940-43e1-ab9a-b5473bff6ec0",
   "metadata": {},
   "source": [
    "When using the **|** operator, separate the sets with **more |** operators:\n"
   ]
  },
  {
   "cell_type": "code",
   "execution_count": 22,
   "id": "65b58f0f-9ab9-47f5-9c74-cd2458bab86d",
   "metadata": {},
   "outputs": [
    {
     "name": "stdout",
     "output_type": "stream",
     "text": [
      "{1, 2, 3, 'John', 'apple', 'c', 'a', 'b', 'cherry', 'bananas', 'Elena'}\n"
     ]
    }
   ],
   "source": [
    "# Example - Use | to join two sets:\n",
    "\n",
    "set1 = {\"a\", \"b\", \"c\"}\n",
    "set2 = {1, 2, 3}\n",
    "set3 = {\"John\", \"Elena\"}\n",
    "set4 = {\"apple\", \"bananas\", \"cherry\"}\n",
    "\n",
    "myset = set1 | set2 | set3 |set4\n",
    "print(myset)"
   ]
  },
  {
   "cell_type": "markdown",
   "id": "909555df-9b1f-4598-a4c0-b63313152102",
   "metadata": {},
   "source": [
    "##### Join a Set and a Tuple\n",
    "\n",
    "The **union()** method allows you to join a set with other data types, like lists or tuples.\n",
    "\n",
    "The result will be a set."
   ]
  },
  {
   "cell_type": "code",
   "execution_count": 23,
   "id": "15fd270c-3edf-46bf-8bb0-5b053ef179fc",
   "metadata": {},
   "outputs": [
    {
     "name": "stdout",
     "output_type": "stream",
     "text": [
      "{1, 2, 3, 'c', 'a', 'b'}\n"
     ]
    }
   ],
   "source": [
    "# Example - Join a set with a tuple:\n",
    "\n",
    "x = {\"a\", \"b\", \"c\"}\n",
    "y = (1, 2, 3)\n",
    "\n",
    "z = x.union(y)\n",
    "print(z)\n"
   ]
  },
  {
   "cell_type": "markdown",
   "id": "21d89445-6621-4acd-9773-1d0094277984",
   "metadata": {},
   "source": [
    "**Note**: The  | operator only allows you to join sets with sets, and not with other data types like you can with the  union() method.\n",
    "\n",
    "##### Update\n",
    "- The **update()** method inserts all items from one set into another.\n",
    "- The **update()** changes the original set, and does not return a new set."
   ]
  },
  {
   "cell_type": "code",
   "execution_count": 24,
   "id": "9d0e7cc2-b76f-41e3-92bd-59ee240c6b09",
   "metadata": {},
   "outputs": [
    {
     "name": "stdout",
     "output_type": "stream",
     "text": [
      "{1, 2, 3, 'c', 'a', 'b'}\n"
     ]
    }
   ],
   "source": [
    "# Example - The update() method inserts the items in set2 into set1:\n",
    "\n",
    "set1 = {\"a\", \"b\" , \"c\"}\n",
    "set2 = {1, 2, 3}\n",
    "\n",
    "set1.update(set2)\n",
    "print(set1)"
   ]
  },
  {
   "cell_type": "markdown",
   "id": "3aefe5fe-4184-42a0-a816-fc8774d83396",
   "metadata": {},
   "source": [
    "#### Intersection\n",
    "\n",
    "Keep ONLY the duplicates\n",
    "\n",
    "The **intersection()** method will return a new set, that only contains the items that are present in both sets."
   ]
  },
  {
   "cell_type": "code",
   "execution_count": 25,
   "id": "8475c9c4-812c-4746-89ad-11dae08674fd",
   "metadata": {},
   "outputs": [
    {
     "name": "stdout",
     "output_type": "stream",
     "text": [
      "{'apple'}\n"
     ]
    }
   ],
   "source": [
    "# Example - Join set1 and set2, but keep only the duplicates:\n",
    "\n",
    "set1 = {\"apple\", \"banana\", \"cherry\"}\n",
    "set2 = {\"google\", \"microsoft\", \"apple\"}\n",
    "\n",
    "set3 = set1.intersection(set2)\n",
    "print(set3)"
   ]
  },
  {
   "cell_type": "markdown",
   "id": "b699379a-0b4e-4e4d-99cd-0ddba8fb6807",
   "metadata": {},
   "source": [
    "You can use the **&** operator instead of the intersection() method, and you will get the same result."
   ]
  },
  {
   "cell_type": "code",
   "execution_count": 26,
   "id": "8411f4f7-3762-40a2-8aab-0637ec5d4397",
   "metadata": {},
   "outputs": [
    {
     "name": "stdout",
     "output_type": "stream",
     "text": [
      "{'apple'}\n"
     ]
    }
   ],
   "source": [
    "# Example - Use & to join two sets:\n",
    "\n",
    "set1 = {\"apple\", \"banana\", \"cherry\"}\n",
    "set2 = {\"google\", \"microsoft\", \"apple\"}\n",
    "\n",
    "set3 = set1 & set2\n",
    "print(set3)"
   ]
  },
  {
   "cell_type": "markdown",
   "id": "b97b852e-88fd-46d0-8aa0-09d6620bc514",
   "metadata": {},
   "source": [
    "The **intersection_update()** method will also keep ONLY the duplicates, but it will change the original set instead of returning a new set."
   ]
  },
  {
   "cell_type": "code",
   "execution_count": 27,
   "id": "907da7a3-457a-49e9-8828-b275c285d060",
   "metadata": {},
   "outputs": [
    {
     "name": "stdout",
     "output_type": "stream",
     "text": [
      "{'apple'}\n"
     ]
    }
   ],
   "source": [
    "# Example - Keep the items that exist in both set1, and set2:\n",
    "\n",
    "set1 = {\"apple\", \"banana\", \"cherry\"}\n",
    "set2 = {\"google\", \"microsoft\", \"apple\"}\n",
    "\n",
    "set1.intersection_update(set2)\n",
    "\n",
    "print(set1)"
   ]
  },
  {
   "cell_type": "markdown",
   "id": "c3ae6df2-f28c-4c88-837e-61f3ba6df810",
   "metadata": {},
   "source": [
    "The values **True** and **1** are considered the same value. The same goes for **False** and **0**."
   ]
  },
  {
   "cell_type": "code",
   "execution_count": 28,
   "id": "866a12ab-2d0d-4518-9beb-00525890a06f",
   "metadata": {},
   "outputs": [
    {
     "name": "stdout",
     "output_type": "stream",
     "text": [
      "{False, 1, 'apple'}\n"
     ]
    }
   ],
   "source": [
    "# Example - Join sets that contains the values True, False, 1, and 0, and see what is considered as duplicates:\n",
    "\n",
    "set1 = {\"apple\", 1,  \"banana\", 0, \"cherry\"}\n",
    "set2 = {False, \"google\", 1, \"apple\", 2, True}\n",
    "\n",
    "set3 = set1.intersection(set2)\n",
    "\n",
    "print(set3)"
   ]
  },
  {
   "cell_type": "markdown",
   "id": "e02da4b6-b524-4ce5-8645-ad8e732f6b92",
   "metadata": {},
   "source": [
    "#### Difference\n",
    "\n",
    "The **difference()** method will return a new set that will contain only the items from the first set that are not present in the other set."
   ]
  },
  {
   "cell_type": "code",
   "execution_count": 29,
   "id": "36d8b9a2-65bc-45f7-b3c1-155c06113b8d",
   "metadata": {},
   "outputs": [
    {
     "name": "stdout",
     "output_type": "stream",
     "text": [
      "{'banana', 'cherry'}\n"
     ]
    }
   ],
   "source": [
    "# Example - Keep all items from set1 that are not in set2:\n",
    "\n",
    "set1 = {\"apple\", \"banana\", \"cherry\"}\n",
    "set2 = {\"google\", \"microsoft\", \"apple\"}\n",
    "\n",
    "set3 = set1.difference(set2)\n",
    "\n",
    "print(set3)"
   ]
  },
  {
   "cell_type": "markdown",
   "id": "a86fdcf7-b246-4983-9e9f-f70e06c3446e",
   "metadata": {},
   "source": [
    "You can use the **-** operator instead of the difference() method, and you will get the same result."
   ]
  },
  {
   "cell_type": "code",
   "execution_count": 30,
   "id": "d304df55-025c-4934-8dca-33dcbc317ddc",
   "metadata": {},
   "outputs": [
    {
     "name": "stdout",
     "output_type": "stream",
     "text": [
      "{'banana', 'cherry'}\n"
     ]
    }
   ],
   "source": [
    "# Example - Use - to join two sets:\n",
    "\n",
    "set1 = {\"apple\", \"banana\", \"cherry\"}\n",
    "set2 = {\"google\", \"microsoft\", \"apple\"}\n",
    "\n",
    "set3 = set1 - set2\n",
    "print(set3)"
   ]
  },
  {
   "cell_type": "markdown",
   "id": "4ba62ee9-c4bd-401e-90dd-f713126fd5c2",
   "metadata": {},
   "source": [
    "**Note**: The **-** operator only allows you to join sets with sets, and not with other data types like you can with the difference() method.\n",
    "\n",
    "The **difference_update()** method will also keep the items from the first set that are not in the other set, but it will change the original set instead of returning a new set."
   ]
  },
  {
   "cell_type": "code",
   "execution_count": 31,
   "id": "f36269ee-b28b-4bad-aad5-a4d45557ff09",
   "metadata": {},
   "outputs": [
    {
     "name": "stdout",
     "output_type": "stream",
     "text": [
      "{'banana', 'cherry'}\n"
     ]
    }
   ],
   "source": [
    "# Example - Use the difference_update() method to keep the items that are not present in both sets:\n",
    "\n",
    "set1 = {\"apple\", \"banana\", \"cherry\"}\n",
    "set2 = {\"google\", \"microsoft\", \"apple\"}\n",
    "\n",
    "set1.difference_update(set2)\n",
    "\n",
    "print(set1)"
   ]
  },
  {
   "cell_type": "markdown",
   "id": "0e512ab6-6dcd-4fda-baa9-7b35867818e3",
   "metadata": {},
   "source": [
    "#### Symmetric Differences\n",
    "\n",
    "The **symmetric_difference()** method will keep only the elements that are NOT present in both sets."
   ]
  },
  {
   "cell_type": "code",
   "execution_count": 32,
   "id": "98623ba1-3d51-487a-9c2b-ea4fdb84296c",
   "metadata": {},
   "outputs": [
    {
     "name": "stdout",
     "output_type": "stream",
     "text": [
      "{'cherry', 'microsoft', 'google', 'banana'}\n"
     ]
    }
   ],
   "source": [
    "# Example - Keep the items that are not present in both sets:\n",
    "\n",
    "set1 = {\"apple\", \"banana\", \"cherry\"}\n",
    "set2 = {\"google\", \"microsoft\", \"apple\"}\n",
    "\n",
    "set3 = set1.symmetric_difference(set2)\n",
    "\n",
    "print(set3)"
   ]
  },
  {
   "cell_type": "markdown",
   "id": "6cd8e151-45ce-4c07-bf96-ced530f276c1",
   "metadata": {},
   "source": [
    "You can use the **^** operator instead of the **symmetric_difference()** method, and you will get the same result."
   ]
  },
  {
   "cell_type": "code",
   "execution_count": 33,
   "id": "6281b4e5-ed84-4899-a03a-893f03e2bc76",
   "metadata": {},
   "outputs": [
    {
     "name": "stdout",
     "output_type": "stream",
     "text": [
      "{'cherry', 'microsoft', 'google', 'banana'}\n"
     ]
    }
   ],
   "source": [
    "# Example - Use ^ to join two sets:\n",
    "\n",
    "set1 = {\"apple\", \"banana\", \"cherry\"}\n",
    "set2 = {\"google\", \"microsoft\", \"apple\"}\n",
    "\n",
    "set3 = set1 ^ set2\n",
    "print(set3)"
   ]
  },
  {
   "cell_type": "markdown",
   "id": "12caceff-fd25-40aa-a7db-1c83b52e93a6",
   "metadata": {},
   "source": [
    "**Note**: The **^** operator only allows you to join sets with sets, and not with other data types like you can with the **symmetric_difference()** method.\n",
    "\n",
    "The symmetric_difference_update() method will also keep all but the duplicates, but it will change the original set instead of returning a new se"
   ]
  },
  {
   "cell_type": "code",
   "execution_count": 34,
   "id": "6c1fa257-3ec5-4537-8f46-e6dd9770636c",
   "metadata": {},
   "outputs": [
    {
     "name": "stdout",
     "output_type": "stream",
     "text": [
      "{'cherry', 'microsoft', 'google', 'banana'}\n"
     ]
    }
   ],
   "source": [
    "# Example - Use the symmetric_difference_update() method to keep the items that are not present in both sets:\n",
    "\n",
    "set1 = {\"apple\", \"banana\", \"cherry\"}\n",
    "set2 = {\"google\", \"microsoft\", \"apple\"}\n",
    "\n",
    "set1.symmetric_difference_update(set2)\n",
    "\n",
    "print(set1)"
   ]
  },
  {
   "cell_type": "markdown",
   "id": "7dec7e47-540e-447d-8426-16ba7de3e735",
   "metadata": {},
   "source": [
    "#### Set Methods\n",
    "\n",
    "| Method                      | Shortcut | Description                                                                                      |\n",
    "|-----------------------------|----------|--------------------------------------------------------------------------------------------------|\n",
    "| `add()`                     |          | Adds an element to the set                                                                       |\n",
    "| `clear()`                   |          | Removes all the elements from the set                                                            |\n",
    "| `copy()`                    |          | Returns a copy of the set                                                                        |\n",
    "| `difference()`              | `-`      | Returns a set containing the difference between two or more sets                                 |\n",
    "| `difference_update()`       | `-=`     | Removes the items in this set that are also included in another, specified set                   |\n",
    "| `discard()`                 |          | Remove the specified item                                                                        |\n",
    "| `intersection()`            | `&`      | Returns a set, that is the intersection of two other sets                                        |\n",
    "| `intersection_update()`     | `&=`     | Removes the items in this set that are not present in other, specified set(s)                    |\n",
    "| `isdisjoint()`              |          | Returns whether two sets have a intersection or not                                              |\n",
    "| `issubset()`                | `<=`     | Returns whether another set contains this set or not                                             |\n",
    "|                             | `<`      | Returns whether all items in this set are present in other, specified set(s)                     |\n",
    "| `issuperset()`              | `>=`     | Returns whether this set contains another set or not                                             |\n",
    "|                             | `>`      | Returns whether all items in other, specified set(s) are present in this set                     |\n",
    "| `pop()`                     |          | Removes an element from the set                                                                  |\n",
    "| `remove()`                  |          | Removes the specified element                                                                    |\n",
    "| `symmetric_difference()`    | `^`      | Returns a set with the symmetric differences of two sets                                         |\n",
    "| `symmetric_difference_update()` | `^=`  | Inserts the symmetric differences from this set and another                                      |\n",
    "| `union()`                   | `|`      | Return a set containing the union of sets                                                        |\n",
    "| `update()`                  | `|=`     | Update the set with the union of this set and others                                             |\n"
   ]
  },
  {
   "cell_type": "markdown",
   "id": "79736057-5371-4f56-b478-1efaaea35be6",
   "metadata": {},
   "source": [
    "#### Set Exercices"
   ]
  },
  {
   "cell_type": "code",
   "execution_count": null,
   "id": "57779fa2-27a3-49a0-b0e3-0361277b1518",
   "metadata": {},
   "outputs": [],
   "source": []
  },
  {
   "cell_type": "markdown",
   "id": "00c60fd0-f6b8-4308-9b00-c74de33bbe05",
   "metadata": {},
   "source": [
    "# Python Dictionaries\n",
    "\n",
    "```python\n",
    "thisdict = {\n",
    "  \"brand\": \"Ford\",\n",
    "  \"model\": \"Mustang\",\n",
    "  \"year\": 1964\n",
    "}\n",
    "```\n",
    "\n",
    "\n",
    "\n",
    "**Dictionaries** are used to store data values in `key:value` pairs.\n",
    "\n",
    "A dictionary is a collection which is ordered*, changeable and do not allow duplicates.\n",
    "\n",
    "`As of Python version 3.7, dictionaries are ordered. In Python 3.6 and earlier, dictionaries are unordered.`"
   ]
  },
  {
   "cell_type": "code",
   "execution_count": 35,
   "id": "447c696a-5f81-43af-8055-810598fc6b35",
   "metadata": {},
   "outputs": [
    {
     "name": "stdout",
     "output_type": "stream",
     "text": [
      "{'brand': 'Ford', 'model': 'Mustang', 'year': 1964}\n"
     ]
    }
   ],
   "source": [
    "# Example - Create and print a dictionary:\n",
    "\n",
    "thisdict = {\n",
    "  \"brand\": \"Ford\",\n",
    "  \"model\": \"Mustang\",\n",
    "  \"year\": 1964\n",
    "}\n",
    "print(thisdict)"
   ]
  },
  {
   "cell_type": "code",
   "execution_count": 36,
   "id": "f5e22609-d206-4e84-99c4-1f9b53711ad1",
   "metadata": {},
   "outputs": [
    {
     "data": {
      "text/plain": [
       "{'brand': 'Ford', 'model': 'Mustang', 'year': 1964}"
      ]
     },
     "execution_count": 36,
     "metadata": {},
     "output_type": "execute_result"
    }
   ],
   "source": [
    "thisdict"
   ]
  },
  {
   "cell_type": "markdown",
   "id": "6f01b679-e5f9-442a-806e-14b35fdd4241",
   "metadata": {},
   "source": [
    "**Dictionary Items**\n",
    "\n",
    "Dictionary items are ordered, changeable, and do not allow duplicates.\n",
    "\n",
    "Dictionary items are presented in key:value pairs, and can be referred to by using the key name.\n",
    "\n"
   ]
  },
  {
   "cell_type": "code",
   "execution_count": 37,
   "id": "383cc369-6bb6-4bd0-831b-b656f97d174b",
   "metadata": {},
   "outputs": [
    {
     "name": "stdout",
     "output_type": "stream",
     "text": [
      "Ford\n"
     ]
    }
   ],
   "source": [
    "# Example - Print the \"brand\" value of the dictionary:\n",
    "\n",
    "thisdict = {\n",
    "  \"brand\": \"Ford\",\n",
    "  \"model\": \"Mustang\",\n",
    "  \"year\": 1964\n",
    "}\n",
    "print(thisdict[\"brand\"])"
   ]
  },
  {
   "cell_type": "code",
   "execution_count": 38,
   "id": "7e2724de-493c-42be-aee5-95fdfaf9416f",
   "metadata": {},
   "outputs": [
    {
     "data": {
      "text/plain": [
       "'Mustang'"
      ]
     },
     "execution_count": 38,
     "metadata": {},
     "output_type": "execute_result"
    }
   ],
   "source": [
    "thisdict[\"model\"]"
   ]
  },
  {
   "cell_type": "code",
   "execution_count": 39,
   "id": "162aaf6d-a59f-480e-8a2a-21e4e6b49f7a",
   "metadata": {},
   "outputs": [
    {
     "data": {
      "text/plain": [
       "1964"
      ]
     },
     "execution_count": 39,
     "metadata": {},
     "output_type": "execute_result"
    }
   ],
   "source": [
    "thisdict[\"year\"]"
   ]
  },
  {
   "cell_type": "markdown",
   "id": "0599c038-2555-4dbb-98a4-80d42d11aaac",
   "metadata": {},
   "source": [
    "**Ordered or Unordered?**\n",
    "As of Python version 3.7, dictionaries are ordered. In Python 3.6 and earlier, dictionaries are unordered.\n",
    "\n",
    "When we say that dictionaries are ordered, it means that the items have a defined order, and that order will not change.\n",
    "\n",
    "Unordered means that the items do not have a defined order, you cannot refer to an item by using an index.\n",
    "\n",
    "**Changeable**\n",
    "Dictionaries are changeable, meaning that we can change, add or remove items after the dictionary has been created.\n",
    "\n",
    "**Duplicates Not Allowed**\n",
    "Dictionaries cannot have two items with the same key:"
   ]
  },
  {
   "cell_type": "code",
   "execution_count": 40,
   "id": "ad1eec82-30d8-478a-9332-9e1047cebca5",
   "metadata": {},
   "outputs": [
    {
     "name": "stdout",
     "output_type": "stream",
     "text": [
      "{'brand': 'Ford', 'model': 'Mustang', 'year': 2020}\n"
     ]
    }
   ],
   "source": [
    "# Example - Duplicate values will overwrite existing values:\n",
    "\n",
    "thisdict = {\n",
    "  \"brand\": \"Ford\",\n",
    "  \"model\": \"Mustang\",\n",
    "  \"year\": 1964,\n",
    "  \"year\": 2020\n",
    "}\n",
    "print(thisdict)"
   ]
  },
  {
   "cell_type": "markdown",
   "id": "b672b76d-bc34-497c-bea4-83ddc207e797",
   "metadata": {},
   "source": [
    "**Dictionary Length**\n",
    "\n",
    "To determine how many items a dictionary has, use the len() function:\n"
   ]
  },
  {
   "cell_type": "code",
   "execution_count": 41,
   "id": "806a221b-23d9-470e-95a6-15408d2b4b29",
   "metadata": {},
   "outputs": [
    {
     "name": "stdout",
     "output_type": "stream",
     "text": [
      "3\n"
     ]
    }
   ],
   "source": [
    "# Example - Print the number of items in the dictionary:\n",
    "\n",
    "print(len(thisdict))"
   ]
  },
  {
   "cell_type": "markdown",
   "id": "43f7250c-8fa8-4f26-8d82-e93e336ed428",
   "metadata": {},
   "source": [
    "**Dictionary Items - Data Types**\n",
    "\n",
    "The values in dictionary items can be of any data type:\n"
   ]
  },
  {
   "cell_type": "code",
   "execution_count": 42,
   "id": "8c04a73b-5393-4bc6-aeb1-5fe444e3f25d",
   "metadata": {},
   "outputs": [
    {
     "data": {
      "text/plain": [
       "{'brand': 'Ford',\n",
       " 'electric': False,\n",
       " 'year': 1964,\n",
       " 'colors': ['red', 'white', 'blue']}"
      ]
     },
     "execution_count": 42,
     "metadata": {},
     "output_type": "execute_result"
    }
   ],
   "source": [
    "# Example - String, int, boolean, and list data types:\n",
    "\n",
    "thisdict = {\n",
    "  \"brand\": \"Ford\",\n",
    "  \"electric\": False,\n",
    "  \"year\": 1964,\n",
    "  \"colors\": [\"red\", \"white\", \"blue\"]\n",
    "}\n",
    "\n",
    "thisdict"
   ]
  },
  {
   "cell_type": "markdown",
   "id": "dd6d7bec-250b-46a5-9fcc-eb83c92662ec",
   "metadata": {},
   "source": [
    "**type()**\n",
    "\n",
    "From Python's perspective, dictionaries are defined as objects with the data type 'dict':\n",
    "\n",
    "```python\n",
    "<class 'dict'>\n",
    "```"
   ]
  },
  {
   "cell_type": "code",
   "execution_count": 43,
   "id": "579357f5-1133-4dfa-9e34-2f95af650e3d",
   "metadata": {},
   "outputs": [
    {
     "name": "stdout",
     "output_type": "stream",
     "text": [
      "<class 'dict'>\n"
     ]
    }
   ],
   "source": [
    "# Example - Print the data type of a dictionary:\n",
    "\n",
    "thisdict = {\n",
    "  \"brand\": \"Ford\",\n",
    "  \"model\": \"Mustang\",\n",
    "  \"year\": 1964\n",
    "}\n",
    "print(type(thisdict))"
   ]
  },
  {
   "cell_type": "code",
   "execution_count": 44,
   "id": "c32c6eb9-78ff-43c9-925e-77d51b06b0a7",
   "metadata": {},
   "outputs": [
    {
     "data": {
      "text/plain": [
       "dict"
      ]
     },
     "execution_count": 44,
     "metadata": {},
     "output_type": "execute_result"
    }
   ],
   "source": [
    "type(thisdict)"
   ]
  },
  {
   "cell_type": "markdown",
   "id": "aab9ca0e-fe70-4986-984d-3a75151a7f47",
   "metadata": {},
   "source": [
    "***The dict() Constructor***\n",
    "\n",
    "It is also possible to use the dict() constructor to make a dictionary."
   ]
  },
  {
   "cell_type": "code",
   "execution_count": 45,
   "id": "66a05753-cbbc-4d1a-a428-d0874ba4de70",
   "metadata": {},
   "outputs": [
    {
     "name": "stdout",
     "output_type": "stream",
     "text": [
      "{'name': 'John', 'age': 36, 'country': 'Norway'}\n"
     ]
    }
   ],
   "source": [
    "# Example - Using the dict() method to make a dictionary:\n",
    "\n",
    "thisdict = dict(name = \"John\", age = 36, country = \"Norway\")\n",
    "print(thisdict)"
   ]
  },
  {
   "cell_type": "markdown",
   "id": "610ba140-5644-418d-b3c8-b213f9a9d613",
   "metadata": {},
   "source": [
    "#### Python Collections (Arrays)\n",
    "\n",
    "There are **four collection** data types in the Python programming language:\n",
    "\n",
    "- List is a collection which is ordered and changeable. Allows duplicate members.\n",
    "- Tuple is a collection which is ordered and unchangeable. Allows duplicate members.\n",
    "- Set is a collection which is unordered, unchangeable*, and unindexed. No duplicate members.\n",
    "- Dictionary is a collection which is ordered** and changeable. No duplicate members.\n",
    "\n",
    "\n",
    "`*`Set items are unchangeable, but you can remove and/or add items whenever you like.\n",
    "\n",
    "`**`As of Python version 3.7, dictionaries are ordered. In Python 3.6 and earlier, dictionaries are unordered.\n",
    "\n",
    "When choosing a collection type, it is useful to understand the properties of that type. Choosing the right type for a particular data set could mean retention of meaning, and, it could mean an increase in efficiency or security"
   ]
  },
  {
   "cell_type": "markdown",
   "id": "065af16e-bc16-4294-8336-c3f056e13c71",
   "metadata": {},
   "source": [
    "### Access Items\n",
    "\n",
    "You can access the items of a dictionary by referring to its key name, inside square brackets:"
   ]
  },
  {
   "cell_type": "code",
   "execution_count": 6,
   "id": "203012cd-fc3b-446e-b5bb-d53f48f1062e",
   "metadata": {},
   "outputs": [
    {
     "data": {
      "text/plain": [
       "'Mustang'"
      ]
     },
     "execution_count": 6,
     "metadata": {},
     "output_type": "execute_result"
    }
   ],
   "source": [
    "# Example - Get the value of the \"model\" key:\n",
    "\n",
    "thisdict = {\n",
    "  \"brand\": \"Ford\",\n",
    "  \"model\": \"Mustang\",\n",
    "  \"year\": 1964\n",
    "}\n",
    "\n",
    "x = thisdict[\"model\"]\n",
    "x "
   ]
  },
  {
   "cell_type": "markdown",
   "id": "ba24db98-f0e0-4227-a7a0-c5e7798932f5",
   "metadata": {},
   "source": [
    "There is also a method called **get()** that will give you the same result:"
   ]
  },
  {
   "cell_type": "code",
   "execution_count": 9,
   "id": "07f28d60-701d-4d1b-abc5-bc434502daf3",
   "metadata": {},
   "outputs": [
    {
     "data": {
      "text/plain": [
       "'Mustang'"
      ]
     },
     "execution_count": 9,
     "metadata": {},
     "output_type": "execute_result"
    }
   ],
   "source": [
    "# Example - Get the value of the \"model\" key:\n",
    "\n",
    "x = thisdict.get(\"model\")\n",
    "x "
   ]
  },
  {
   "cell_type": "markdown",
   "id": "5c7d3d51-dc92-4783-bcde-371de93f074f",
   "metadata": {},
   "source": [
    "**Get Keys**\n",
    "\n",
    "The keys() method will return a list of all the keys in the dictionary.\n",
    "\n"
   ]
  },
  {
   "cell_type": "code",
   "execution_count": 12,
   "id": "c7f6408c-d32a-4554-8d94-bbbad92a9800",
   "metadata": {},
   "outputs": [
    {
     "data": {
      "text/plain": [
       "dict_keys(['brand', 'model', 'year'])"
      ]
     },
     "execution_count": 12,
     "metadata": {},
     "output_type": "execute_result"
    }
   ],
   "source": [
    "# Example - Get a list of the keys:\n",
    "\n",
    "x = thisdict.keys()\n",
    "x"
   ]
  },
  {
   "cell_type": "code",
   "execution_count": 13,
   "id": "e6a6ca93-7c9a-4a5b-a8a0-022cd3e1abc3",
   "metadata": {},
   "outputs": [
    {
     "name": "stdout",
     "output_type": "stream",
     "text": [
      "brand\n",
      "model\n",
      "year\n"
     ]
    }
   ],
   "source": [
    "for key in thisdict.keys():\n",
    "    print(key)"
   ]
  },
  {
   "cell_type": "code",
   "execution_count": 11,
   "id": "561eafa0-cd08-421b-8407-34522d5b8347",
   "metadata": {},
   "outputs": [
    {
     "data": {
      "text/plain": [
       "['brand', 'model', 'year']"
      ]
     },
     "execution_count": 11,
     "metadata": {},
     "output_type": "execute_result"
    }
   ],
   "source": [
    "list(x)"
   ]
  },
  {
   "cell_type": "markdown",
   "id": "4a860ae3-9794-4311-a73c-eb86eb171a12",
   "metadata": {},
   "source": [
    "`The list of the keys is a view of the dictionary, meaning that any changes done to the dictionary will be reflected in the keys list.`"
   ]
  },
  {
   "cell_type": "code",
   "execution_count": 14,
   "id": "5fffb2fd-4234-43bb-8754-c957ecc7f107",
   "metadata": {},
   "outputs": [
    {
     "name": "stdout",
     "output_type": "stream",
     "text": [
      "dict_keys(['brand', 'model', 'year'])\n",
      "dict_keys(['brand', 'model', 'year', 'color'])\n"
     ]
    }
   ],
   "source": [
    "# Example - Add a new item to the original dictionary, and see that the keys list gets updated as well:\n",
    "\n",
    "car = {\n",
    "\"brand\": \"Ford\",\n",
    "\"model\": \"Mustang\",\n",
    "\"year\": 1964\n",
    "}\n",
    "\n",
    "x = car.keys()\n",
    "\n",
    "print(x) #before the change\n",
    "\n",
    "car[\"color\"] = \"white\"\n",
    "\n",
    "print(x) #after the change"
   ]
  },
  {
   "cell_type": "markdown",
   "id": "827f22f4-a4c6-4957-881e-e96a9e9e8108",
   "metadata": {},
   "source": [
    "**Get Values**\n",
    "\n",
    "The `values() method` will return a list of all the values in the dictionary."
   ]
  },
  {
   "cell_type": "code",
   "execution_count": 15,
   "id": "f2317989-78c9-4c1d-86dc-3513b215100a",
   "metadata": {},
   "outputs": [
    {
     "data": {
      "text/plain": [
       "dict_values(['Ford', 'Mustang', 1964])"
      ]
     },
     "execution_count": 15,
     "metadata": {},
     "output_type": "execute_result"
    }
   ],
   "source": [
    "# Example - Get a list of the values:\n",
    "\n",
    "x = thisdict.values()\n",
    "x"
   ]
  },
  {
   "cell_type": "markdown",
   "id": "324524f1-ad06-4f17-ad3a-b61ebc5133e7",
   "metadata": {},
   "source": [
    "The list of the values is a view of the dictionary, meaning that any changes done to the dictionary will be reflected in the values list."
   ]
  },
  {
   "cell_type": "code",
   "execution_count": 16,
   "id": "fdc86e58-7d45-46f8-94a6-d6a6bbfe1391",
   "metadata": {},
   "outputs": [
    {
     "name": "stdout",
     "output_type": "stream",
     "text": [
      "dict_values(['Ford', 'Mustang', 1964])\n",
      "dict_values(['Ford', 'Mustang', 2020])\n"
     ]
    }
   ],
   "source": [
    "# Example - Make a change in the original dictionary, and see that the values list gets updated as well:\n",
    "\n",
    "car = {\n",
    "\"brand\": \"Ford\",\n",
    "\"model\": \"Mustang\",\n",
    "\"year\": 1964\n",
    "}\n",
    "\n",
    "x = car.values()\n",
    "\n",
    "print(x) #before the change\n",
    "\n",
    "car[\"year\"] = 2020\n",
    "\n",
    "print(x) #after the change"
   ]
  },
  {
   "cell_type": "code",
   "execution_count": 17,
   "id": "683ac176-1e4b-4d54-9db5-c27e0e80b736",
   "metadata": {},
   "outputs": [
    {
     "name": "stdout",
     "output_type": "stream",
     "text": [
      "dict_values(['Ford', 'Mustang', 1964])\n",
      "dict_values(['Ford', 'Mustang', 1964, 'red'])\n"
     ]
    }
   ],
   "source": [
    "# Example - Add a new item to the original dictionary, and see that the values list gets updated as well:\n",
    "\n",
    "car = {\n",
    "\"brand\": \"Ford\",\n",
    "\"model\": \"Mustang\",\n",
    "\"year\": 1964\n",
    "}\n",
    "\n",
    "x = car.values()\n",
    "\n",
    "print(x) #before the change\n",
    "\n",
    "car[\"color\"] = \"red\"\n",
    "\n",
    "print(x) #after the change"
   ]
  },
  {
   "cell_type": "markdown",
   "id": "d2ef8ee7-4d9c-49b5-9061-f8ab8589ceef",
   "metadata": {},
   "source": [
    "**Get Items**\n",
    "\n",
    "The `items() method` will return each item in a dictionary, as tuples in a list."
   ]
  },
  {
   "cell_type": "code",
   "execution_count": 18,
   "id": "9404b2df-7679-4848-b9c1-2e6fd302bc19",
   "metadata": {},
   "outputs": [
    {
     "data": {
      "text/plain": [
       "dict_items([('brand', 'Ford'), ('model', 'Mustang'), ('year', 1964)])"
      ]
     },
     "execution_count": 18,
     "metadata": {},
     "output_type": "execute_result"
    }
   ],
   "source": [
    "# Example - Get a list of the key:value pairs\n",
    "\n",
    "x = thisdict.items()\n",
    "x"
   ]
  },
  {
   "cell_type": "code",
   "execution_count": 19,
   "id": "b6d26f47-4535-4271-acb6-401bad583494",
   "metadata": {},
   "outputs": [
    {
     "data": {
      "text/plain": [
       "dict_items([('brand', 'Ford'), ('model', 'Mustang'), ('year', 1964), ('color', 'red')])"
      ]
     },
     "execution_count": 19,
     "metadata": {},
     "output_type": "execute_result"
    }
   ],
   "source": [
    "car.items()"
   ]
  },
  {
   "cell_type": "markdown",
   "id": "fece4346-ecd3-4997-a821-ebb61bbc7904",
   "metadata": {},
   "source": [
    "`The returned list is a view of the items of the dictionary, meaning that any changes done to the dictionary will be reflected in the items list`."
   ]
  },
  {
   "cell_type": "code",
   "execution_count": 20,
   "id": "4e3715b9-8d90-4706-bbab-3d7edf70a91d",
   "metadata": {},
   "outputs": [
    {
     "name": "stdout",
     "output_type": "stream",
     "text": [
      "dict_items([('brand', 'Ford'), ('model', 'Mustang'), ('year', 1964)])\n",
      "dict_items([('brand', 'Ford'), ('model', 'Mustang'), ('year', 2020)])\n"
     ]
    }
   ],
   "source": [
    "# Example - Make a change in the original dictionary, and see that the items list gets updated as well:\n",
    "\n",
    "car = {\n",
    "\"brand\": \"Ford\",\n",
    "\"model\": \"Mustang\",\n",
    "\"year\": 1964\n",
    "}\n",
    "\n",
    "x = car.items()\n",
    "\n",
    "print(x) #before the change\n",
    "\n",
    "car[\"year\"] = 2020\n",
    "\n",
    "print(x) #after the change"
   ]
  },
  {
   "cell_type": "code",
   "execution_count": 21,
   "id": "af5f2eb1-5d61-4541-9eb6-b030cbad4218",
   "metadata": {},
   "outputs": [
    {
     "name": "stdout",
     "output_type": "stream",
     "text": [
      "dict_items([('brand', 'Ford'), ('model', 'Mustang'), ('year', 1964)])\n",
      "dict_items([('brand', 'Ford'), ('model', 'Mustang'), ('year', 1964), ('color', 'red')])\n"
     ]
    }
   ],
   "source": [
    "# Example - Add a new item to the original dictionary, and see that the items list gets updated as well:\n",
    "\n",
    "car = {\n",
    "\"brand\": \"Ford\",\n",
    "\"model\": \"Mustang\",\n",
    "\"year\": 1964\n",
    "}\n",
    "\n",
    "x = car.items()\n",
    "\n",
    "print(x) #before the change\n",
    "\n",
    "car[\"color\"] = \"red\"\n",
    "\n",
    "print(x) #after the change"
   ]
  },
  {
   "cell_type": "markdown",
   "id": "fe56e464-0bca-4a65-a2d4-dc6247bf6458",
   "metadata": {},
   "source": [
    "**Check if Key Exists**\n",
    "\n",
    "To determine if a specified key is present **in** a dictionary use the in keyword:"
   ]
  },
  {
   "cell_type": "code",
   "execution_count": 22,
   "id": "0cbc2971-9f4d-498b-8d7c-649c5eec17bb",
   "metadata": {},
   "outputs": [
    {
     "name": "stdout",
     "output_type": "stream",
     "text": [
      "Yes, 'model' is one of the keys in the thisdict dictionary\n"
     ]
    }
   ],
   "source": [
    "# Example - Check if \"model\" is present in the dictionary:\n",
    "\n",
    "thisdict = {\n",
    "  \"brand\": \"Ford\",\n",
    "  \"model\": \"Mustang\",\n",
    "  \"year\": 1964\n",
    "}\n",
    "\n",
    "if \"model\" in thisdict:\n",
    "  print(\"Yes, 'model' is one of the keys in the thisdict dictionary\")"
   ]
  },
  {
   "cell_type": "markdown",
   "id": "1c789679-684c-4c88-bbcf-b97991142891",
   "metadata": {},
   "source": [
    "### Change Items\n",
    "\n",
    "You can change the value of a specific item by referring to its key name:"
   ]
  },
  {
   "cell_type": "code",
   "execution_count": 24,
   "id": "8ff88be5-6778-42d6-b73b-1d9cf8592639",
   "metadata": {},
   "outputs": [
    {
     "data": {
      "text/plain": [
       "{'brand': 'Ford', 'model': 'Mustang', 'year': 2018}"
      ]
     },
     "execution_count": 24,
     "metadata": {},
     "output_type": "execute_result"
    }
   ],
   "source": [
    "# Example - Change the \"year\" to 2018:\n",
    "\n",
    "thisdict = {\n",
    "  \"brand\": \"Ford\",\n",
    "  \"model\": \"Mustang\",\n",
    "  \"year\": 1964\n",
    "}\n",
    "thisdict[\"year\"] = 2018\n",
    "\n",
    "thisdict"
   ]
  },
  {
   "cell_type": "markdown",
   "id": "36d09b24-16a9-499b-9720-0252fbb9de52",
   "metadata": {},
   "source": [
    "**Update Dictionary**\n",
    "\n",
    "The `update() method` will update the dictionary with the items from the given argument.\n",
    "\n",
    "The argument must be a dictionary, or an iterable object with key:value pairs.\n"
   ]
  },
  {
   "cell_type": "code",
   "execution_count": 25,
   "id": "78eb069f-3057-47ce-9f63-5d4f714393c5",
   "metadata": {},
   "outputs": [
    {
     "data": {
      "text/plain": [
       "{'brand': 'Ford', 'model': 'Mustang', 'year': 2020}"
      ]
     },
     "execution_count": 25,
     "metadata": {},
     "output_type": "execute_result"
    }
   ],
   "source": [
    "# Example - Update the \"year\" of the car by using the update() method:\n",
    "\n",
    "thisdict = {\n",
    "  \"brand\": \"Ford\",\n",
    "  \"model\": \"Mustang\",\n",
    "  \"year\": 1964\n",
    "}\n",
    "\n",
    "thisdict.update({\"year\": 2020})\n",
    "\n",
    "thisdict"
   ]
  },
  {
   "cell_type": "markdown",
   "id": "5874948d-d3ab-4f9c-bd35-c2c93e33ba8d",
   "metadata": {},
   "source": [
    "### Add Items\n",
    "\n",
    "Adding an item to the dictionary is done by using a new index key and assigning a value to it:"
   ]
  },
  {
   "cell_type": "code",
   "execution_count": 32,
   "id": "5defd2e1-62ea-4716-b849-375bcf44a647",
   "metadata": {},
   "outputs": [
    {
     "name": "stdout",
     "output_type": "stream",
     "text": [
      "{'brand': 'Ford', 'model': 'Mustang', 'year': 1964, 'color': 'red'}\n"
     ]
    }
   ],
   "source": [
    "# Example\n",
    "\n",
    "thisdict = {\n",
    "  \"brand\": \"Ford\",\n",
    "  \"model\": \"Mustang\",\n",
    "  \"year\": 1964\n",
    "}\n",
    "thisdict[\"color\"] = \"red\"\n",
    "print(thisdict)"
   ]
  },
  {
   "cell_type": "markdown",
   "id": "2098ff49-625e-4970-a428-cf912d511783",
   "metadata": {},
   "source": [
    "**Update Dictionary**\n",
    "\n",
    "The `update() method` will update the dictionary with the items from a given argument. If the item does not exist, the item will be added.\n",
    "\n",
    "The argument must be a dictionary, or an iterable object with key:value pair"
   ]
  },
  {
   "cell_type": "code",
   "execution_count": 27,
   "id": "f3cdae9b-6f08-4ed3-a2da-cd40d113c5d2",
   "metadata": {},
   "outputs": [
    {
     "data": {
      "text/plain": [
       "{'brand': 'Ford', 'model': 'Mustang', 'year': 1964, 'color': 'red'}"
      ]
     },
     "execution_count": 27,
     "metadata": {},
     "output_type": "execute_result"
    }
   ],
   "source": [
    "# Example - Add a color item to the dictionary by using the update() method:\n",
    "\n",
    "thisdict = {\n",
    "  \"brand\": \"Ford\",\n",
    "  \"model\": \"Mustang\",\n",
    "  \"year\": 1964\n",
    "}\n",
    "thisdict.update({\"color\": \"red\"})\n",
    "thisdict"
   ]
  },
  {
   "cell_type": "markdown",
   "id": "c47e5eee-19ba-4f40-b775-d8f0c5f1ba2d",
   "metadata": {},
   "source": [
    "### Remove Items\n",
    "\n",
    "There are several methods to remove items from a dictionary:"
   ]
  },
  {
   "cell_type": "code",
   "execution_count": 28,
   "id": "c9f787ec-2b34-4ff6-b707-a8308375ffe8",
   "metadata": {},
   "outputs": [
    {
     "name": "stdout",
     "output_type": "stream",
     "text": [
      "{'brand': 'Ford', 'year': 1964}\n"
     ]
    }
   ],
   "source": [
    "# Example - The pop() method removes the item with the specified key name:\n",
    "\n",
    "thisdict = {\n",
    "  \"brand\": \"Ford\",\n",
    "  \"model\": \"Mustang\",\n",
    "  \"year\": 1964\n",
    "}\n",
    "thisdict.pop(\"model\")\n",
    "print(thisdict)"
   ]
  },
  {
   "cell_type": "code",
   "execution_count": 29,
   "id": "001195a5-ea61-41d0-8ee3-8e3db7eadcaf",
   "metadata": {},
   "outputs": [
    {
     "name": "stdout",
     "output_type": "stream",
     "text": [
      "{'brand': 'Ford', 'model': 'Mustang'}\n"
     ]
    }
   ],
   "source": [
    "# Example - The popitem() method removes the last inserted item (in versions before 3.7, a random item is removed instead):\n",
    "\n",
    "thisdict = {\n",
    "  \"brand\": \"Ford\",\n",
    "  \"model\": \"Mustang\",\n",
    "  \"year\": 1964\n",
    "}\n",
    "thisdict.popitem()\n",
    "print(thisdict)"
   ]
  },
  {
   "cell_type": "code",
   "execution_count": 30,
   "id": "261fe22e-ddf8-4f53-9cca-c42c9eccc07d",
   "metadata": {},
   "outputs": [
    {
     "name": "stdout",
     "output_type": "stream",
     "text": [
      "{'brand': 'Ford', 'year': 1964}\n"
     ]
    }
   ],
   "source": [
    "# Example - The del keyword removes the item with the specified key name:\n",
    "\n",
    "thisdict = {\n",
    "  \"brand\": \"Ford\",\n",
    "  \"model\": \"Mustang\",\n",
    "  \"year\": 1964\n",
    "}\n",
    "del thisdict[\"model\"]\n",
    "print(thisdict)"
   ]
  },
  {
   "cell_type": "code",
   "execution_count": 31,
   "id": "648f7955-c704-4ee8-94cf-2fb6b2f30362",
   "metadata": {},
   "outputs": [
    {
     "ename": "NameError",
     "evalue": "name 'thisdict' is not defined",
     "output_type": "error",
     "traceback": [
      "\u001b[0;31m---------------------------------------------------------------------------\u001b[0m",
      "\u001b[0;31mNameError\u001b[0m                                 Traceback (most recent call last)",
      "Cell \u001b[0;32mIn[31], line 9\u001b[0m\n\u001b[1;32m      3\u001b[0m thisdict \u001b[38;5;241m=\u001b[39m {\n\u001b[1;32m      4\u001b[0m   \u001b[38;5;124m\"\u001b[39m\u001b[38;5;124mbrand\u001b[39m\u001b[38;5;124m\"\u001b[39m: \u001b[38;5;124m\"\u001b[39m\u001b[38;5;124mFord\u001b[39m\u001b[38;5;124m\"\u001b[39m,\n\u001b[1;32m      5\u001b[0m   \u001b[38;5;124m\"\u001b[39m\u001b[38;5;124mmodel\u001b[39m\u001b[38;5;124m\"\u001b[39m: \u001b[38;5;124m\"\u001b[39m\u001b[38;5;124mMustang\u001b[39m\u001b[38;5;124m\"\u001b[39m,\n\u001b[1;32m      6\u001b[0m   \u001b[38;5;124m\"\u001b[39m\u001b[38;5;124myear\u001b[39m\u001b[38;5;124m\"\u001b[39m: \u001b[38;5;241m1964\u001b[39m\n\u001b[1;32m      7\u001b[0m }\n\u001b[1;32m      8\u001b[0m \u001b[38;5;28;01mdel\u001b[39;00m thisdict\n\u001b[0;32m----> 9\u001b[0m \u001b[38;5;28mprint\u001b[39m(\u001b[43mthisdict\u001b[49m) \u001b[38;5;66;03m#this will cause an error because \"thisdict\" no longer exists.\u001b[39;00m\n",
      "\u001b[0;31mNameError\u001b[0m: name 'thisdict' is not defined"
     ]
    }
   ],
   "source": [
    "# Example - The del keyword can also delete the dictionary completely:\n",
    "\n",
    "thisdict = {\n",
    "  \"brand\": \"Ford\",\n",
    "  \"model\": \"Mustang\",\n",
    "  \"year\": 1964\n",
    "}\n",
    "del thisdict\n",
    "print(thisdict) #this will cause an error because \"thisdict\" no longer exists."
   ]
  },
  {
   "cell_type": "code",
   "execution_count": 33,
   "id": "42aabbfb-9d1d-4928-9a71-19d8631f288c",
   "metadata": {},
   "outputs": [
    {
     "name": "stdout",
     "output_type": "stream",
     "text": [
      "{}\n"
     ]
    }
   ],
   "source": [
    "# Example - The clear() method empties the dictionary:\n",
    "\n",
    "thisdict = {\n",
    "  \"brand\": \"Ford\",\n",
    "  \"model\": \"Mustang\",\n",
    "  \"year\": 1964\n",
    "}\n",
    "thisdict.clear()\n",
    "print(thisdict)"
   ]
  },
  {
   "cell_type": "markdown",
   "id": "518aaef9-35a5-4c8c-b2c7-8ff18c275496",
   "metadata": {},
   "source": [
    "### Loop Through a Dictionary\n",
    "\n",
    "You can loop through a dictionary by using a for loop.\n",
    "\n",
    "When looping through a dictionary, the return value are the keys of the dictionary, but there are methods to return the values as well."
   ]
  },
  {
   "cell_type": "code",
   "execution_count": 35,
   "id": "8ab2364a-af34-4b1e-8fe0-8138469bb9be",
   "metadata": {},
   "outputs": [
    {
     "name": "stdout",
     "output_type": "stream",
     "text": [
      "{'brand': 'Ford', 'model': 'Mustang', 'year': 1964, 'color': 'red'}\n"
     ]
    }
   ],
   "source": [
    "thisdict = {\n",
    "  \"brand\": \"Ford\",\n",
    "  \"model\": \"Mustang\",\n",
    "  \"year\": 1964\n",
    "}\n",
    "thisdict[\"color\"] = \"red\"\n",
    "print(thisdict)"
   ]
  },
  {
   "cell_type": "code",
   "execution_count": 36,
   "id": "4cc67c8c-b873-4d61-818b-6d3b418b637e",
   "metadata": {},
   "outputs": [
    {
     "name": "stdout",
     "output_type": "stream",
     "text": [
      "brand\n",
      "model\n",
      "year\n",
      "color\n"
     ]
    }
   ],
   "source": [
    "# Example - Print all key names in the dictionary, one by one:\n",
    "\n",
    "for x in thisdict:\n",
    "  print(x)"
   ]
  },
  {
   "cell_type": "code",
   "execution_count": 37,
   "id": "c3482741-84b8-45e3-8682-eb6db69bd1a2",
   "metadata": {},
   "outputs": [
    {
     "name": "stdout",
     "output_type": "stream",
     "text": [
      "Ford\n",
      "Mustang\n",
      "1964\n",
      "red\n"
     ]
    }
   ],
   "source": [
    "# Example- Print all values in the dictionary, one by one:\n",
    "\n",
    "for x in thisdict:\n",
    "  print(thisdict[x])"
   ]
  },
  {
   "cell_type": "code",
   "execution_count": 38,
   "id": "60c3f7d7-2807-489b-a0f1-2dd3e7c8d2d6",
   "metadata": {},
   "outputs": [
    {
     "name": "stdout",
     "output_type": "stream",
     "text": [
      "Ford\n",
      "Mustang\n",
      "1964\n",
      "red\n"
     ]
    }
   ],
   "source": [
    "# Example - You can also use the values() method to return values of a dictionary:\n",
    "\n",
    "for x in thisdict.values():\n",
    "  print(x)"
   ]
  },
  {
   "cell_type": "code",
   "execution_count": 39,
   "id": "c01a3cc4-b426-437a-8355-69d01059670f",
   "metadata": {},
   "outputs": [
    {
     "name": "stdout",
     "output_type": "stream",
     "text": [
      "brand\n",
      "model\n",
      "year\n",
      "color\n"
     ]
    }
   ],
   "source": [
    "# Example - You can use the keys() method to return the keys of a dictionary:\n",
    "\n",
    "for x in thisdict.keys():\n",
    "  print(x)"
   ]
  },
  {
   "cell_type": "code",
   "execution_count": 40,
   "id": "bb50858f-f11c-460e-9bee-ab872dea6022",
   "metadata": {},
   "outputs": [
    {
     "name": "stdout",
     "output_type": "stream",
     "text": [
      "brand Ford\n",
      "model Mustang\n",
      "year 1964\n",
      "color red\n"
     ]
    }
   ],
   "source": [
    "# Example - Loop through both keys and values, by using the items() method:\n",
    "\n",
    "for x, y in thisdict.items():\n",
    "  print(x, y)"
   ]
  },
  {
   "cell_type": "markdown",
   "id": "b7c30db6-4818-4731-9434-1f434305a363",
   "metadata": {},
   "source": [
    "### Copy a Dictionary\n",
    "\n",
    "You cannot copy a dictionary simply by typing `dict2 = dict1`, because: dict2 will only be a reference to dict1, and changes made in dict1 will automatically also be made in dict2.\n",
    "\n",
    "There are ways to make a copy, one way is to use the built-in Dictionary method **copy()**."
   ]
  },
  {
   "cell_type": "code",
   "execution_count": 41,
   "id": "bf42ca65-93bd-47b2-a542-08aa8b6f123a",
   "metadata": {},
   "outputs": [
    {
     "name": "stdout",
     "output_type": "stream",
     "text": [
      "{'brand': 'Ford', 'model': 'Mustang', 'year': 1964}\n"
     ]
    }
   ],
   "source": [
    "# Example - Make a copy of a dictionary with the copy() method:\n",
    "\n",
    "thisdict = {\n",
    "  \"brand\": \"Ford\",\n",
    "  \"model\": \"Mustang\",\n",
    "  \"year\": 1964\n",
    "}\n",
    "mydict = thisdict.copy()\n",
    "print(mydict)"
   ]
  },
  {
   "cell_type": "markdown",
   "id": "7b1e5b32-07ab-4ebc-a954-addc91875357",
   "metadata": {},
   "source": [
    "Another way to make a copy is to use the `built-in function dict()`."
   ]
  },
  {
   "cell_type": "code",
   "execution_count": 42,
   "id": "f27b5694-85bd-4078-b9cf-58d0c88ad63b",
   "metadata": {},
   "outputs": [
    {
     "name": "stdout",
     "output_type": "stream",
     "text": [
      "{'brand': 'Ford', 'model': 'Mustang', 'year': 1964}\n"
     ]
    }
   ],
   "source": [
    "# Example - Make a copy of a dictionary with the dict() function:\n",
    "\n",
    "thisdict = {\n",
    "  \"brand\": \"Ford\",\n",
    "  \"model\": \"Mustang\",\n",
    "  \"year\": 1964\n",
    "}\n",
    "mydict = dict(thisdict)\n",
    "print(mydict)"
   ]
  },
  {
   "cell_type": "markdown",
   "id": "60a2aacb-e1e1-4dd3-ac76-37dba5493cf0",
   "metadata": {},
   "source": [
    "### Nested Dictionaries\n",
    "\n",
    "A dictionary can contain dictionaries, this is called nested dictionaries."
   ]
  },
  {
   "cell_type": "code",
   "execution_count": 43,
   "id": "09eec4d4-594f-4e56-82bd-0ba4eb95e1ea",
   "metadata": {},
   "outputs": [
    {
     "data": {
      "text/plain": [
       "{'child1': {'name': 'Emil', 'year': 2004},\n",
       " 'child2': {'name': 'Tobias', 'year': 2007},\n",
       " 'child3': {'name': 'Linus', 'year': 2011}}"
      ]
     },
     "execution_count": 43,
     "metadata": {},
     "output_type": "execute_result"
    }
   ],
   "source": [
    "# Example  - Create a dictionary that contain three dictionaries:\n",
    "\n",
    "myfamily = {\n",
    "  \"child1\" : {\n",
    "    \"name\" : \"Emil\",\n",
    "    \"year\" : 2004\n",
    "  },\n",
    "  \"child2\" : {\n",
    "    \"name\" : \"Tobias\",\n",
    "    \"year\" : 2007\n",
    "  },\n",
    "  \"child3\" : {\n",
    "    \"name\" : \"Linus\",\n",
    "    \"year\" : 2011\n",
    "  }\n",
    "}\n",
    "\n",
    "myfamily"
   ]
  },
  {
   "cell_type": "markdown",
   "id": "f8f30ec4-cc1f-495a-89d7-b6c78a29a75c",
   "metadata": {},
   "source": [
    "Or, if you want to add three dictionaries into a new dictionary:"
   ]
  },
  {
   "cell_type": "code",
   "execution_count": 45,
   "id": "1afc49dd-3212-4386-b8bf-b0cf91c2a103",
   "metadata": {},
   "outputs": [
    {
     "data": {
      "text/plain": [
       "{'child1': {'name': 'Emil', 'year': 2004},\n",
       " 'child2': {'name': 'Tobias', 'year': 2007},\n",
       " 'child3': {'name': 'Linus', 'year': 2011}}"
      ]
     },
     "execution_count": 45,
     "metadata": {},
     "output_type": "execute_result"
    }
   ],
   "source": [
    "# Example - Create three dictionaries, then create one dictionary that will contain the other three dictionaries:\n",
    "\n",
    "child1 = {\n",
    "  \"name\" : \"Emil\",\n",
    "  \"year\" : 2004\n",
    "}\n",
    "\n",
    "child2 = {\n",
    "  \"name\" : \"Tobias\",\n",
    "  \"year\" : 2007\n",
    "}\n",
    "\n",
    "child3 = {\n",
    "  \"name\" : \"Linus\",\n",
    "  \"year\" : 2011\n",
    "}\n",
    "\n",
    "myfamily = {\n",
    "  \"child1\" : child1,\n",
    "  \"child2\" : child2,\n",
    "  \"child3\" : child3\n",
    "}\n",
    "myfamily"
   ]
  },
  {
   "cell_type": "markdown",
   "id": "7e7e83c8-542c-4c9a-9a60-229cdc15c65e",
   "metadata": {},
   "source": [
    "#### Access Items in Nested Dictionaries\n",
    "\n",
    "To access items from a nested dictionary, you use the name of the dictionaries, starting with the outer dictionary:"
   ]
  },
  {
   "cell_type": "code",
   "execution_count": 46,
   "id": "91ec1d80-b88c-4cad-a06e-dad9a831d883",
   "metadata": {},
   "outputs": [
    {
     "name": "stdout",
     "output_type": "stream",
     "text": [
      "Tobias\n"
     ]
    }
   ],
   "source": [
    "# Example - Print the name of child 2:\n",
    "\n",
    "print(myfamily[\"child2\"][\"name\"])"
   ]
  },
  {
   "cell_type": "markdown",
   "id": "c3d1d3ea-ff09-42c1-abdb-af0d5c1b41b5",
   "metadata": {},
   "source": [
    "#### Loop Through Nested Dictionaries\n",
    "\n",
    "You can loop through a dictionary by using the **items() method** like this:"
   ]
  },
  {
   "cell_type": "code",
   "execution_count": 54,
   "id": "b453a94a-487f-44b2-ad8f-90c5fde777d5",
   "metadata": {},
   "outputs": [
    {
     "name": "stdout",
     "output_type": "stream",
     "text": [
      "child1\n",
      "- name: Emil\n",
      "- year: 2004\n",
      "child2\n",
      "- name: Tobias\n",
      "- year: 2007\n",
      "child3\n",
      "- name: Linus\n",
      "- year: 2011\n"
     ]
    }
   ],
   "source": [
    "for x, obj in myfamily.items():\n",
    "    print(x)\n",
    "    #print(obj)\n",
    "    for y in obj:\n",
    "        print(\"-\", y + \":\", obj[y])"
   ]
  },
  {
   "cell_type": "markdown",
   "id": "31671785-80df-403d-98be-946a8e37b661",
   "metadata": {},
   "source": [
    "### Dictionary Methods\n",
    "\n",
    "Python has a set of built-in methods that you can use on dictionaries.\n",
    "\n",
    "\n",
    "\n",
    "| Method      | Description                                                                        |\n",
    "|-------------|------------------------------------------------------------------------------------|\n",
    "| `clear()`   | Removes all the elements from the dictionary                                       |\n",
    "| `copy()`    | Returns a copy of the dictionary                                                   |\n",
    "| `fromkeys()`| Returns a dictionary with the specified keys and value                             |\n",
    "| `get()`     | Returns the value of the specified key                                             |\n",
    "| `items()`   | Returns a list containing a tuple for each key value pair                          |\n",
    "| `keys()`    | Returns a list containing the dictionary's keys                                    |\n",
    "| `pop()`     | Removes the element with the specified key                                         |\n",
    "| `popitem()` | Removes the last inserted key-value pair                                           |\n",
    "| `setdefault()` | Returns the value of the specified key. If the key does not exist: insert the key, with the specified value |\n",
    "| `update()`  | Updates the dictionary with the specified key-value pairs                          |\n",
    "| `values()`  | Returns a list of all the values in the dictionary                                 |\n"
   ]
  },
  {
   "cell_type": "markdown",
   "id": "f182f519-a726-4090-bcc6-a6c3f8c1fcfe",
   "metadata": {},
   "source": [
    "### Dictionary Exercises"
   ]
  },
  {
   "cell_type": "code",
   "execution_count": 56,
   "id": "22ada43f-1cba-4a64-b272-7851cde3aee3",
   "metadata": {},
   "outputs": [
    {
     "name": "stdout",
     "output_type": "stream",
     "text": [
      "Mustang\n"
     ]
    }
   ],
   "source": [
    "# 1. Use the get method to print the value of the \"model\" key of the car dictionary.\n",
    "\n",
    "\n",
    "car =\t{\n",
    "  \"brand\": \"Ford\",\n",
    "  \"model\": \"Mustang\",\n",
    "  \"year\": 1964\n",
    "}\n",
    "\n",
    "print(car.get(\"model\"))"
   ]
  },
  {
   "cell_type": "code",
   "execution_count": 57,
   "id": "eea45b6d-8fba-49e5-b140-be416a6e5d96",
   "metadata": {},
   "outputs": [
    {
     "data": {
      "text/plain": [
       "{'brand': 'Ford', 'model': 'Mustang', 'year': 2020}"
      ]
     },
     "execution_count": 57,
     "metadata": {},
     "output_type": "execute_result"
    }
   ],
   "source": [
    "# 2. Change the \"year\" value from 1964 to 2020.\n",
    "\n",
    "\n",
    "car =\t{\n",
    "  \"brand\": \"Ford\",\n",
    "  \"model\": \"Mustang\",\n",
    "  \"year\": 1964\n",
    "}\n",
    " \n",
    "car[\"year\"]= 2020 \n",
    "car"
   ]
  },
  {
   "cell_type": "code",
   "execution_count": 58,
   "id": "326bb8ae-2298-4b0a-9439-770edf29c112",
   "metadata": {},
   "outputs": [
    {
     "data": {
      "text/plain": [
       "{'brand': 'Ford', 'model': 'Mustang', 'year': 1964, 'color': 'red'}"
      ]
     },
     "execution_count": 58,
     "metadata": {},
     "output_type": "execute_result"
    }
   ],
   "source": [
    "# 3. Add the key/value pair \"color\" : \"red\" to the car dictionary.\n",
    "\n",
    "\n",
    "car =\t{\n",
    "  \"brand\": \"Ford\",\n",
    "  \"model\": \"Mustang\",\n",
    "  \"year\": 1964\n",
    "}\n",
    " \n",
    "car[\"color\"] = \"red\" \n",
    "car"
   ]
  },
  {
   "cell_type": "code",
   "execution_count": 59,
   "id": "7457e076-7042-480f-a1fd-5a12ba2d9834",
   "metadata": {},
   "outputs": [
    {
     "data": {
      "text/plain": [
       "{'brand': 'Ford', 'year': 1964}"
      ]
     },
     "execution_count": 59,
     "metadata": {},
     "output_type": "execute_result"
    }
   ],
   "source": [
    "# 4. Use the pop method to remove \"model\" from the car dictionary.\n",
    "\n",
    "\n",
    "car =\t{\n",
    "  \"brand\": \"Ford\",\n",
    "  \"model\": \"Mustang\",\n",
    "  \"year\": 1964\n",
    "}\n",
    "\n",
    "car.pop(\"model\")\n",
    "car"
   ]
  },
  {
   "cell_type": "code",
   "execution_count": 61,
   "id": "88a7e810-d660-4bd9-833a-cee0c5976fae",
   "metadata": {},
   "outputs": [
    {
     "data": {
      "text/plain": [
       "{}"
      ]
     },
     "execution_count": 61,
     "metadata": {},
     "output_type": "execute_result"
    }
   ],
   "source": [
    "# 5. Use the clear method to empty the car dictionary.\n",
    "\n",
    "\n",
    "car =\t{\n",
    "  \"brand\": \"Ford\",\n",
    "  \"model\": \"Mustang\",\n",
    "  \"year\": 1964\n",
    "}\n",
    "\n",
    "car.clear()\n",
    "car"
   ]
  },
  {
   "cell_type": "code",
   "execution_count": null,
   "id": "e051efb9-68d9-41c8-a304-92b389029a93",
   "metadata": {},
   "outputs": [],
   "source": []
  }
 ],
 "metadata": {
  "kernelspec": {
   "display_name": "Python 3 (ipykernel)",
   "language": "python",
   "name": "python3"
  },
  "language_info": {
   "codemirror_mode": {
    "name": "ipython",
    "version": 3
   },
   "file_extension": ".py",
   "mimetype": "text/x-python",
   "name": "python",
   "nbconvert_exporter": "python",
   "pygments_lexer": "ipython3",
   "version": "3.10.13"
  }
 },
 "nbformat": 4,
 "nbformat_minor": 5
}
