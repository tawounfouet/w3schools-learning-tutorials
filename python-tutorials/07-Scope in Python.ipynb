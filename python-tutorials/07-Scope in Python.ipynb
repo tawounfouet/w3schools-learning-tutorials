{
 "cells": [
  {
   "cell_type": "markdown",
   "id": "b2ccf784-fc5d-4fc0-ab94-4afd3fd59491",
   "metadata": {},
   "source": [
    "# Python Scope"
   ]
  },
  {
   "cell_type": "markdown",
   "id": "30434302-114e-4be0-b7b4-c433a193b633",
   "metadata": {
    "jp-MarkdownHeadingCollapsed": true
   },
   "source": [
    "`A variable is only available from inside the region it is created`. \n",
    "This is called **scope**.\n"
   ]
  },
  {
   "cell_type": "markdown",
   "id": "5f815a2f-8d8b-4639-8fe7-795e2d92118f",
   "metadata": {},
   "source": [
    "## Local Scope\n",
    "\n",
    "A `variable created inside a function` belongs to the **local scope** of that function, and can only be used inside that function."
   ]
  },
  {
   "cell_type": "code",
   "execution_count": 1,
   "id": "7a7ebee6-6a4c-43cc-b134-b5d729e0ad42",
   "metadata": {},
   "outputs": [
    {
     "name": "stdout",
     "output_type": "stream",
     "text": [
      "300\n"
     ]
    }
   ],
   "source": [
    "# Example - A variable created inside a function is available inside that function:\n",
    "\n",
    "def myfunc():\n",
    "  x = 300\n",
    "  print(x)\n",
    "\n",
    "myfunc()"
   ]
  },
  {
   "cell_type": "markdown",
   "id": "1a67da75-e9dd-4e80-9cb0-c780f972d7f2",
   "metadata": {},
   "source": [
    "## Function Inside Function\n",
    "As explained in the example above, the variable **x** is not available outside the function, but it is available for any function inside the function:\n",
    "\n"
   ]
  },
  {
   "cell_type": "code",
   "execution_count": 2,
   "id": "76705255-cd19-4486-82fd-b80107a3fcf8",
   "metadata": {},
   "outputs": [
    {
     "name": "stdout",
     "output_type": "stream",
     "text": [
      "300\n"
     ]
    }
   ],
   "source": [
    "# Example - The local variable can be accessed from a function within the function:\n",
    "\n",
    "def myfunc():\n",
    "  x = 300\n",
    "  def myinnerfunc():\n",
    "    print(x)\n",
    "  myinnerfunc()\n",
    "\n",
    "myfunc()"
   ]
  },
  {
   "cell_type": "markdown",
   "id": "7213caa9-18ae-46ba-a851-f77d002fe2f2",
   "metadata": {},
   "source": [
    "## Global Scope\n",
    "\n",
    "A variable created in the **main body** of the Python code is a global variable and belongs to the global scope.\n",
    "\n",
    "`Global variables are available from within any scope, global and local`."
   ]
  },
  {
   "cell_type": "code",
   "execution_count": 3,
   "id": "ee2d9d66-1967-43a9-99b9-b3c4730fc646",
   "metadata": {},
   "outputs": [
    {
     "name": "stdout",
     "output_type": "stream",
     "text": [
      "300\n",
      "300\n"
     ]
    }
   ],
   "source": [
    "# Example - A variable created outside of a function is global and can be used by anyone:\n",
    "\n",
    "x = 300\n",
    "\n",
    "def myfunc():\n",
    "  print(x)\n",
    "\n",
    "myfunc()\n",
    "\n",
    "print(x)"
   ]
  },
  {
   "cell_type": "markdown",
   "id": "5c9277de-08fc-4154-bfff-86f64342d28e",
   "metadata": {},
   "source": [
    "## Naming Variables\n",
    "If you operate with the same variable name inside and outside of a function, Python will treat them as two separate variables, one available in the global scope (outside the function) and one available in the local scope (inside the function):\n",
    "\n"
   ]
  },
  {
   "cell_type": "code",
   "execution_count": 4,
   "id": "1e8233ce-074c-4257-8769-2699bbbc92ad",
   "metadata": {},
   "outputs": [
    {
     "name": "stdout",
     "output_type": "stream",
     "text": [
      "200\n",
      "300\n"
     ]
    }
   ],
   "source": [
    "# Example - The function will print the local x, and then the code will print the global x:\n",
    "\n",
    "x = 300\n",
    "\n",
    "def myfunc():\n",
    "  x = 200\n",
    "  print(x)\n",
    "\n",
    "myfunc()\n",
    "\n",
    "print(x)"
   ]
  },
  {
   "cell_type": "markdown",
   "id": "22f1ce3c-1006-4184-bfe4-75b8719ee497",
   "metadata": {},
   "source": [
    "## Global Keyword\n",
    "\n",
    "If you need to create a `global variable`, but are stuck in the local scope, you can use the **global** keyword.\n",
    "\n",
    "- The **global** keyword makes the variable global."
   ]
  },
  {
   "cell_type": "code",
   "execution_count": 5,
   "id": "052b415b-5999-45a0-8e2f-c692895c989e",
   "metadata": {},
   "outputs": [
    {
     "name": "stdout",
     "output_type": "stream",
     "text": [
      "300\n"
     ]
    }
   ],
   "source": [
    "def myfunc():\n",
    "  global x\n",
    "  x = 300\n",
    "\n",
    "myfunc()\n",
    "\n",
    "print(x)"
   ]
  },
  {
   "cell_type": "markdown",
   "id": "6055c97c-b4fd-46f8-ace9-93237ad92fbc",
   "metadata": {},
   "source": [
    "- Also, use the **global** keyword if you want to make a change to a global variable inside a function.\n",
    "\n"
   ]
  },
  {
   "cell_type": "markdown",
   "id": "f25c79b8-ff0c-4c25-949a-433ab836f1ee",
   "metadata": {},
   "source": [
    "## Nonlocal Keyword\n",
    "\n",
    "- The **nonlocal** keyword is used to work with variables inside nested functions.\n",
    "\n",
    "- The nonlocal keyword `makes the variable belong to the outer function`."
   ]
  },
  {
   "cell_type": "code",
   "execution_count": 6,
   "id": "8edfe4c1-4682-4bd0-adca-f0d686b8916c",
   "metadata": {},
   "outputs": [
    {
     "name": "stdout",
     "output_type": "stream",
     "text": [
      "hello\n"
     ]
    }
   ],
   "source": [
    "# Example - If you use the nonlocal keyword, the variable will belong to the outer function:\n",
    "\n",
    "def myfunc1():\n",
    "  x = \"Jane\"\n",
    "  def myfunc2():\n",
    "    nonlocal x\n",
    "    x = \"hello\"\n",
    "  myfunc2()\n",
    "  return x\n",
    "\n",
    "print(myfunc1())"
   ]
  },
  {
   "cell_type": "code",
   "execution_count": null,
   "id": "8acbffc8-cc23-41e8-856c-5f5930825e3e",
   "metadata": {},
   "outputs": [],
   "source": []
  },
  {
   "cell_type": "code",
   "execution_count": 7,
   "id": "249d53fc-bffe-42ca-aa19-bf4f10b09f0b",
   "metadata": {},
   "outputs": [
    {
     "name": "stdout",
     "output_type": "stream",
     "text": [
      "Darwin\n"
     ]
    }
   ],
   "source": [
    "# Import and use the platform module:\n",
    "\n",
    "import platform\n",
    "\n",
    "x = platform.system()\n",
    "print(x)"
   ]
  },
  {
   "cell_type": "code",
   "execution_count": 22,
   "id": "c0f9eec4-ceb4-4e2e-b5fb-548c93499617",
   "metadata": {},
   "outputs": [
    {
     "name": "stdout",
     "output_type": "stream",
     "text": [
      "['_Processor', '_WIN32_CLIENT_RELEASES', '_WIN32_SERVER_RELEASES', '__builtins__', '__cached__', '__copyright__', '__doc__', '__file__', '__loader__', '__name__', '__package__', '__spec__', '__version__', '_comparable_version', '_component_re', '_default_architecture', '_follow_symlinks', '_get_machine_win32', '_ironpython26_sys_version_parser', '_ironpython_sys_version_parser', '_java_getprop', '_libc_search', '_mac_ver_xml', '_node', '_norm_version', '_os_release_cache', '_os_release_candidates', '_os_release_line', '_os_release_unescape', '_parse_os_release', '_platform', '_platform_cache', '_pypy_sys_version_parser', '_sys_version', '_sys_version_cache', '_sys_version_parser', '_syscmd_file', '_syscmd_ver', '_uname_cache', '_unknown_as_blank', '_ver_output', '_ver_stages', 'architecture', 'collections', 'freedesktop_os_release', 'functools', 'itertools', 'java_ver', 'libc_ver', 'mac_ver', 'machine', 'node', 'os', 'platform', 'processor', 'python_branch', 'python_build', 'python_compiler', 'python_implementation', 'python_revision', 'python_version', 'python_version_tuple', 're', 'release', 'subprocess', 'sys', 'system', 'system_alias', 'uname', 'uname_result', 'version', 'win32_edition', 'win32_is_iot', 'win32_ver']\n"
     ]
    }
   ],
   "source": [
    "# What is the correct syntax of printing all variables and function names of the \"mymodule\" platform?\n",
    "\n",
    "\n",
    "x = dir(platform)\n",
    "print(x)"
   ]
  },
  {
   "cell_type": "code",
   "execution_count": 9,
   "id": "b0fe6893-4df8-4e6a-954e-916ed0fd7116",
   "metadata": {},
   "outputs": [
    {
     "data": {
      "text/plain": [
       "('64bit', '')"
      ]
     },
     "execution_count": 9,
     "metadata": {},
     "output_type": "execute_result"
    }
   ],
   "source": [
    "platform.architecture()"
   ]
  },
  {
   "cell_type": "code",
   "execution_count": 11,
   "id": "9f2d054f-70fc-412e-aacb-fc7a8a1b4196",
   "metadata": {},
   "outputs": [
    {
     "data": {
      "text/plain": [
       "<module 'sys' (built-in)>"
      ]
     },
     "execution_count": 11,
     "metadata": {},
     "output_type": "execute_result"
    }
   ],
   "source": [
    "platform.sys"
   ]
  },
  {
   "cell_type": "code",
   "execution_count": 12,
   "id": "47e1d42e-bf4c-4325-91ff-f91f00df5d11",
   "metadata": {},
   "outputs": [
    {
     "data": {
      "text/plain": [
       "'i386'"
      ]
     },
     "execution_count": 12,
     "metadata": {},
     "output_type": "execute_result"
    }
   ],
   "source": [
    "platform.processor()"
   ]
  },
  {
   "cell_type": "code",
   "execution_count": 15,
   "id": "f55fa59e-f3cf-4785-ad31-ef65adb2cc3d",
   "metadata": {},
   "outputs": [
    {
     "data": {
      "text/plain": [
       "<module 'subprocess' from '/Users/awf/.pyenv/versions/3.10.13/lib/python3.10/subprocess.py'>"
      ]
     },
     "execution_count": 15,
     "metadata": {},
     "output_type": "execute_result"
    }
   ],
   "source": [
    "platform.subprocess"
   ]
  },
  {
   "cell_type": "code",
   "execution_count": 13,
   "id": "55d6e81a-fd8b-45e4-96ce-d86409a5ede6",
   "metadata": {},
   "outputs": [
    {
     "data": {
      "text/plain": [
       "''"
      ]
     },
     "execution_count": 13,
     "metadata": {},
     "output_type": "execute_result"
    }
   ],
   "source": [
    "platform.python_branch()"
   ]
  },
  {
   "cell_type": "code",
   "execution_count": 16,
   "id": "70184b19-8640-4cf6-a958-8bf9377e76b3",
   "metadata": {},
   "outputs": [
    {
     "data": {
      "text/plain": [
       "'Clang 15.0.0 (clang-1500.3.9.4)'"
      ]
     },
     "execution_count": 16,
     "metadata": {},
     "output_type": "execute_result"
    }
   ],
   "source": [
    "platform.python_compiler()"
   ]
  },
  {
   "cell_type": "code",
   "execution_count": 17,
   "id": "14b64b33-4c66-4f82-9f1b-e7f8d241bc07",
   "metadata": {},
   "outputs": [
    {
     "data": {
      "text/plain": [
       "'CPython'"
      ]
     },
     "execution_count": 17,
     "metadata": {},
     "output_type": "execute_result"
    }
   ],
   "source": [
    "platform.python_implementation()"
   ]
  },
  {
   "cell_type": "code",
   "execution_count": 18,
   "id": "e1b9f906-37df-40da-bb39-e8992b8ba5fe",
   "metadata": {},
   "outputs": [
    {
     "data": {
      "text/plain": [
       "''"
      ]
     },
     "execution_count": 18,
     "metadata": {},
     "output_type": "execute_result"
    }
   ],
   "source": [
    "platform.python_revision()"
   ]
  },
  {
   "cell_type": "code",
   "execution_count": 19,
   "id": "55b8f007-e1e2-4f67-90f1-c403827731bd",
   "metadata": {},
   "outputs": [
    {
     "data": {
      "text/plain": [
       "'3.10.13'"
      ]
     },
     "execution_count": 19,
     "metadata": {},
     "output_type": "execute_result"
    }
   ],
   "source": [
    "platform.python_version()"
   ]
  },
  {
   "cell_type": "code",
   "execution_count": 20,
   "id": "15791e89-f28e-424c-aa81-50bb78a169cf",
   "metadata": {},
   "outputs": [
    {
     "data": {
      "text/plain": [
       "('3', '10', '13')"
      ]
     },
     "execution_count": 20,
     "metadata": {},
     "output_type": "execute_result"
    }
   ],
   "source": [
    "platform.python_version_tuple()"
   ]
  },
  {
   "cell_type": "code",
   "execution_count": 21,
   "id": "5eb4612e-d9b9-4ea5-bc72-61bb6486e5ea",
   "metadata": {},
   "outputs": [
    {
     "data": {
      "text/plain": [
       "'23.4.0'"
      ]
     },
     "execution_count": 21,
     "metadata": {},
     "output_type": "execute_result"
    }
   ],
   "source": [
    "platform.release()"
   ]
  },
  {
   "cell_type": "code",
   "execution_count": 23,
   "id": "2ca2bb4b-531f-4f29-873a-376d75b1204e",
   "metadata": {},
   "outputs": [
    {
     "name": "stdout",
     "output_type": "stream",
     "text": [
      "['MAXYEAR', 'MINYEAR', '__all__', '__builtins__', '__cached__', '__doc__', '__file__', '__loader__', '__name__', '__package__', '__spec__', 'date', 'datetime', 'datetime_CAPI', 'sys', 'time', 'timedelta', 'timezone', 'tzinfo']\n"
     ]
    }
   ],
   "source": [
    "import datetime\n",
    "\n",
    "\n",
    "x = dir(datetime)\n",
    "print(x)"
   ]
  },
  {
   "cell_type": "code",
   "execution_count": null,
   "id": "419b1e6b-3733-47d7-8dd7-f66e8f764992",
   "metadata": {},
   "outputs": [],
   "source": []
  }
 ],
 "metadata": {
  "kernelspec": {
   "display_name": "Python 3 (ipykernel)",
   "language": "python",
   "name": "python3"
  },
  "language_info": {
   "codemirror_mode": {
    "name": "ipython",
    "version": 3
   },
   "file_extension": ".py",
   "mimetype": "text/x-python",
   "name": "python",
   "nbconvert_exporter": "python",
   "pygments_lexer": "ipython3",
   "version": "3.10.13"
  }
 },
 "nbformat": 4,
 "nbformat_minor": 5
}
