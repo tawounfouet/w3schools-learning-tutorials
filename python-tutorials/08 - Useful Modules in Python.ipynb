{
 "cells": [
  {
   "cell_type": "markdown",
   "id": "cbeddd83-c95d-4978-bd04-9a91e17eda21",
   "metadata": {},
   "source": [
    "# Python Modules\n",
    "\n",
    "## What is a Module?\n",
    "Consider a module to be the same as a code library.\n",
    "\n",
    "A file containing a set of functions you want to include in your application."
   ]
  },
  {
   "cell_type": "markdown",
   "id": "bc597645-a39c-4ec2-b0e7-2fd9bae74b6c",
   "metadata": {},
   "source": [
    "## Create a Module\n",
    "To create a module just save the code you want in a file with the file `extension .py`:\n"
   ]
  },
  {
   "cell_type": "code",
   "execution_count": 1,
   "id": "dd57bbfa-c457-4479-a930-fa4e3709e4d9",
   "metadata": {},
   "outputs": [],
   "source": [
    "# Example - Save this code in a file named mymodule.py\n",
    "\n",
    "def greeting(name):\n",
    "  print(\"Hello, \" + name)"
   ]
  },
  {
   "cell_type": "markdown",
   "id": "6fc897a8-f812-4b2c-87ce-20b5d002e53d",
   "metadata": {},
   "source": [
    "## Use a Module\n",
    "\n",
    "Now we can use the module we just created, by using the import statement:\n"
   ]
  },
  {
   "cell_type": "code",
   "execution_count": null,
   "id": "8ba05c60-aad7-4374-bbd7-0f4d4d2a44a1",
   "metadata": {},
   "outputs": [],
   "source": [
    "# Example - Import the module named mymodule, and call the greeting function:\n",
    "\n",
    "import mymodule\n",
    "\n",
    "mymodule.greeting(\"Jonathan\")"
   ]
  },
  {
   "cell_type": "markdown",
   "id": "6c4f09fe-7b01-482f-a24c-3d41b566bc59",
   "metadata": {},
   "source": [
    "## Re-naming a Module\n",
    "\n",
    "You can create an alias when you import a module, by using the **as** keyword:"
   ]
  },
  {
   "cell_type": "code",
   "execution_count": null,
   "id": "22c65b70-09cb-477b-992f-8c84827e0804",
   "metadata": {},
   "outputs": [],
   "source": [
    "# Example - Create an alias for mymodule called mx:\n",
    "\n",
    "import mymodule as mx\n",
    "\n",
    "a = mx.person1[\"age\"]\n",
    "print(a)"
   ]
  },
  {
   "cell_type": "markdown",
   "id": "da88ca56-516c-44f6-b54b-a99d5222c8f9",
   "metadata": {},
   "source": [
    "## Built-in Modules\n",
    "\n",
    "There are several built-in modules in Python, which you can import whenever you like.\n"
   ]
  },
  {
   "cell_type": "code",
   "execution_count": 2,
   "id": "581bae56-83af-49f1-a4e9-e320b6abbadc",
   "metadata": {},
   "outputs": [
    {
     "name": "stdout",
     "output_type": "stream",
     "text": [
      "Darwin\n"
     ]
    }
   ],
   "source": [
    "# Example - Import and use the platform module:\n",
    "\n",
    "import platform\n",
    "\n",
    "x = platform.system()\n",
    "print(x)"
   ]
  },
  {
   "cell_type": "markdown",
   "id": "c6177c21-8aef-43e0-a895-04aa0054872d",
   "metadata": {},
   "source": [
    "## Using the dir() Function\n",
    "\n",
    "There is a `built-in function to list all the function names` (or variable names) in a module. The **dir()** function:"
   ]
  },
  {
   "cell_type": "code",
   "execution_count": 3,
   "id": "03ad060c-4d9f-4285-bdda-57a8974613ea",
   "metadata": {},
   "outputs": [
    {
     "name": "stdout",
     "output_type": "stream",
     "text": [
      "['_Processor', '_WIN32_CLIENT_RELEASES', '_WIN32_SERVER_RELEASES', '__builtins__', '__cached__', '__copyright__', '__doc__', '__file__', '__loader__', '__name__', '__package__', '__spec__', '__version__', '_comparable_version', '_component_re', '_default_architecture', '_follow_symlinks', '_get_machine_win32', '_ironpython26_sys_version_parser', '_ironpython_sys_version_parser', '_java_getprop', '_libc_search', '_mac_ver_xml', '_node', '_norm_version', '_os_release_cache', '_os_release_candidates', '_os_release_line', '_os_release_unescape', '_parse_os_release', '_platform', '_platform_cache', '_pypy_sys_version_parser', '_sys_version', '_sys_version_cache', '_sys_version_parser', '_syscmd_file', '_syscmd_ver', '_uname_cache', '_unknown_as_blank', '_ver_output', '_ver_stages', 'architecture', 'collections', 'freedesktop_os_release', 'functools', 'itertools', 'java_ver', 'libc_ver', 'mac_ver', 'machine', 'node', 'os', 'platform', 'processor', 'python_branch', 'python_build', 'python_compiler', 'python_implementation', 'python_revision', 'python_version', 'python_version_tuple', 're', 'release', 'subprocess', 'sys', 'system', 'system_alias', 'uname', 'uname_result', 'version', 'win32_edition', 'win32_is_iot', 'win32_ver']\n"
     ]
    }
   ],
   "source": [
    "# Example - List all the defined names belonging to the platform module:\n",
    "\n",
    "import platform\n",
    "\n",
    "x = dir(platform)\n",
    "print(x)"
   ]
  },
  {
   "cell_type": "markdown",
   "id": "a07402be-12ce-434b-bcb0-529f5468e883",
   "metadata": {},
   "source": [
    "## Import From Module\n",
    "\n",
    "You can choose to import only parts from a module, by using the from keyword."
   ]
  },
  {
   "cell_type": "code",
   "execution_count": 4,
   "id": "aba45916-e7a1-4420-99d2-417f09336616",
   "metadata": {},
   "outputs": [],
   "source": [
    "# Example - The module named mymodule has one function and one dictionary:\n",
    "\n",
    "def greeting(name):\n",
    "  print(\"Hello, \" + name)\n",
    "\n",
    "person1 = {\n",
    "  \"name\": \"John\",\n",
    "  \"age\": 36,\n",
    "  \"country\": \"Norway\"\n",
    "}"
   ]
  },
  {
   "cell_type": "code",
   "execution_count": null,
   "id": "ec1894cd-e16c-45cd-895c-673ff241e8d7",
   "metadata": {},
   "outputs": [],
   "source": [
    "# Example - Import only the person1 dictionary from the module:\n",
    "\n",
    "from mymodule import person1\n",
    "\n",
    "print (person1[\"age\"])"
   ]
  },
  {
   "cell_type": "markdown",
   "id": "fdcb7496-9a61-4dba-ad2b-7bd8b6e395b7",
   "metadata": {},
   "source": []
  },
  {
   "cell_type": "markdown",
   "id": "83e31fb0-ffa2-4928-aec0-eb1a034a71fc",
   "metadata": {},
   "source": [
    "# Python Datetime"
   ]
  },
  {
   "cell_type": "code",
   "execution_count": 66,
   "id": "d72dbb40-5e3d-4361-ba17-5e34310ff310",
   "metadata": {},
   "outputs": [
    {
     "name": "stdout",
     "output_type": "stream",
     "text": [
      "['MAXYEAR', 'MINYEAR', '__all__', '__builtins__', '__cached__', '__doc__', '__file__', '__loader__', '__name__', '__package__', '__spec__', 'date', 'datetime', 'datetime_CAPI', 'sys', 'time', 'timedelta', 'timezone', 'tzinfo']\n"
     ]
    }
   ],
   "source": [
    "import datetime\n",
    "\n",
    "x = dir(datetime)\n",
    "print(x)"
   ]
  },
  {
   "cell_type": "markdown",
   "id": "33613290-b7f2-46ec-87b7-dc4bf027a12f",
   "metadata": {},
   "source": [
    "### Python Dates\n",
    "\n",
    "A date in Python is not a data type of its own, but we can import a module named **datetime** to work with dates as date objects."
   ]
  },
  {
   "cell_type": "code",
   "execution_count": 5,
   "id": "594287b6-ebd2-4cd7-acbf-ed7ecb0889c7",
   "metadata": {},
   "outputs": [
    {
     "name": "stdout",
     "output_type": "stream",
     "text": [
      "2024-05-15 13:13:49.293990\n"
     ]
    }
   ],
   "source": [
    "# Example - Import the datetime module and display the current date:\n",
    "\n",
    "import datetime\n",
    "\n",
    "x = datetime.datetime.now()\n",
    "print(x)"
   ]
  },
  {
   "cell_type": "code",
   "execution_count": 71,
   "id": "f84d7b63-e891-487d-b08e-3519fa6e5740",
   "metadata": {},
   "outputs": [
    {
     "name": "stdout",
     "output_type": "stream",
     "text": [
      "2024-05-15 13:50:27.572002\n"
     ]
    }
   ],
   "source": [
    "import datetime as dt\n",
    "\n",
    "x = dt.datetime.now()\n",
    "print(x)"
   ]
  },
  {
   "cell_type": "code",
   "execution_count": 74,
   "id": "c587f240-25a2-487b-8ebb-d3278aa6a679",
   "metadata": {},
   "outputs": [
    {
     "data": {
      "text/plain": [
       "datetime.date(2024, 5, 15)"
      ]
     },
     "execution_count": 74,
     "metadata": {},
     "output_type": "execute_result"
    }
   ],
   "source": [
    "x.date()"
   ]
  },
  {
   "cell_type": "code",
   "execution_count": 75,
   "id": "aac6fab5-19be-49e4-8e9a-105ecd162e10",
   "metadata": {},
   "outputs": [
    {
     "data": {
      "text/plain": [
       "datetime.time(13, 50, 27, 572002)"
      ]
     },
     "execution_count": 75,
     "metadata": {},
     "output_type": "execute_result"
    }
   ],
   "source": [
    "x.time()"
   ]
  },
  {
   "cell_type": "code",
   "execution_count": 78,
   "id": "d4174773-dc8d-4d1c-95c2-6bfe4e8eeb5d",
   "metadata": {},
   "outputs": [],
   "source": [
    "#x.timezone()"
   ]
  },
  {
   "cell_type": "markdown",
   "id": "a36be543-b303-406d-9cae-ebcc3df702cb",
   "metadata": {},
   "source": [
    "### Date Output\n",
    "\n",
    "When we execute the code from the example above the result will be:\n",
    "\n",
    "`2024-05-15 13:14:16.129195`\n",
    "\n",
    "The date contains: \n",
    "- year,\n",
    "- month,\n",
    "- day,\n",
    "- hour,\n",
    "- minute,\n",
    "- second,\n",
    "- microsecond.\n",
    "\n",
    "The **datetime** module has many methods to return information about the date object.\n",
    "\n",
    "Here are a few examples, you will learn more about them later in this chapter:\n",
    "\n"
   ]
  },
  {
   "cell_type": "code",
   "execution_count": 8,
   "id": "0cb240e4-ac96-4c32-8e88-c1b0fdfc3a19",
   "metadata": {},
   "outputs": [
    {
     "name": "stdout",
     "output_type": "stream",
     "text": [
      "2024\n",
      "Wednesday\n"
     ]
    }
   ],
   "source": [
    "# Example - Return the year and name of weekday:\n",
    "\n",
    "import datetime\n",
    "\n",
    "x = datetime.datetime.now()\n",
    "\n",
    "print(x.year)\n",
    "print(x.strftime(\"%A\"))"
   ]
  },
  {
   "cell_type": "markdown",
   "id": "6b84e6a3-4ed1-4d93-b160-0ab5e3c8b75e",
   "metadata": {},
   "source": [
    "### Creating Date Objects\n",
    "\n",
    "To create a date, we can use the `datetime() class` (constructor) of the **datetime** module.\n",
    "\n",
    "The datetime() class requires three parameters to create a date: year, month, day.\n"
   ]
  },
  {
   "cell_type": "code",
   "execution_count": 81,
   "id": "c3e5d785-2bd7-46a9-95e3-879177d9cca7",
   "metadata": {},
   "outputs": [
    {
     "name": "stdout",
     "output_type": "stream",
     "text": [
      "2020-05-17 00:00:00\n"
     ]
    }
   ],
   "source": [
    "# Example - Create a date object:\n",
    "\n",
    "import datetime as dt\n",
    "\n",
    "d = dt.datetime(2020, 5, 17)\n",
    "\n",
    "print(d)"
   ]
  },
  {
   "cell_type": "code",
   "execution_count": 82,
   "id": "f4885bec-f7d4-4dca-a9c0-4bebc583a29e",
   "metadata": {},
   "outputs": [
    {
     "data": {
      "text/plain": [
       "datetime.date(2020, 5, 17)"
      ]
     },
     "execution_count": 82,
     "metadata": {},
     "output_type": "execute_result"
    }
   ],
   "source": [
    "d.date()"
   ]
  },
  {
   "cell_type": "code",
   "execution_count": 83,
   "id": "3973e687-bc78-4977-a85d-3ea8b142bba3",
   "metadata": {},
   "outputs": [
    {
     "data": {
      "text/plain": [
       "datetime.time(0, 0)"
      ]
     },
     "execution_count": 83,
     "metadata": {},
     "output_type": "execute_result"
    }
   ],
   "source": [
    "d.time()"
   ]
  },
  {
   "cell_type": "markdown",
   "id": "4656cb96-4f8f-47c1-97f3-1b0cc838bfa6",
   "metadata": {},
   "source": [
    "The **datetime() class** also takes parameters for time and timezone (hour, minute, second, microsecond, tzone), but they are optional, and has a default value of 0, (None for timezone)."
   ]
  },
  {
   "cell_type": "markdown",
   "id": "087fb0d5-91e8-4eb8-bc05-e2d62ab3a48b",
   "metadata": {},
   "source": [
    "### The strftime() Method\n",
    "\n",
    "The datetime object has a `method for formatting date objects into readable strings`.\n",
    "\n",
    "The method is called **strftime()**, and takes one parameter, `format`, to specify the format of the returned string:\n",
    "\n"
   ]
  },
  {
   "cell_type": "code",
   "execution_count": 10,
   "id": "4617e83e-b9d7-4b8b-ae15-6df03bcb30d2",
   "metadata": {},
   "outputs": [
    {
     "name": "stdout",
     "output_type": "stream",
     "text": [
      "June\n"
     ]
    }
   ],
   "source": [
    "# Example - Display the name of the month:\n",
    "\n",
    "import datetime\n",
    "\n",
    "x = datetime.datetime(2018, 6, 1)\n",
    "\n",
    "print(x.strftime(\"%B\"))"
   ]
  },
  {
   "cell_type": "markdown",
   "id": "cfc2dc28-0163-4a2e-a5f1-ae7d04aaf1a2",
   "metadata": {},
   "source": [
    "### A reference of all the legal format codes:\n",
    "\n",
    "| Directive | Description                                                          | Example                    |\n",
    "|-----------|----------------------------------------------------------------------|----------------------------|\n",
    "| %a        | Weekday, short version                                               | Wed                        |\n",
    "| %A        | Weekday, full version                                                | Wednesday                  |\n",
    "| %w        | Weekday as a number 0-6, 0 is Sunday                                 | 3                          |\n",
    "| %d        | Day of month 01-31                                                   | 31                         |\n",
    "| %b        | Month name, short version                                            | Dec                        |\n",
    "| %B        | Month name, full version                                             | December                   |\n",
    "| %m        | Month as a number 01-12                                              | 12                         |\n",
    "| %y        | Year, short version, without century                                 | 18                         |\n",
    "| %Y        | Year, full version                                                   | 2018                       |\n",
    "| %H        | Hour 00-23                                                           | 17                         |\n",
    "| %I        | Hour 00-12                                                           | 05                         |\n",
    "| %p        | AM/PM                                                                | PM                         |\n",
    "| %M        | Minute 00-59                                                         | 41                         |\n",
    "| %S        | Second 00-59                                                         | 08                         |\n",
    "| %f        | Microsecond 000000-999999                                            | 548513                     |\n",
    "| %z        | UTC offset                                                           | +0100                      |\n",
    "| %Z        | Timezone                                                             | CST                        |\n",
    "| %j        | Day number of year 001-366                                           | 365                        |\n",
    "| %U        | Week number of year, Sunday as the first day of week, 00-53          | 52                         |\n",
    "| %W        | Week number of year, Monday as the first day of week, 00-53          | 52                         |\n",
    "| %c        | Local version of date and time                                       | Mon Dec 31 17:41:00 2018   |\n",
    "| %C        | Century                                                              | 20                         |\n",
    "| %x        | Local version of date                                                | 12/31/18                   |\n",
    "| %X        | Local version of time                                                | 17:41:00                   |\n",
    "| %%        | A % character                                                        | %                          |\n",
    "| %G        | ISO 8601 year                                                        | 2018                       |\n",
    "| %u        | ISO 8601 weekday (1-7)                                               | 1                          |\n",
    "| %V        | ISO 8601 week number (01-53)                                         | 01                         |\n"
   ]
  },
  {
   "cell_type": "code",
   "execution_count": 12,
   "id": "5b3afd8f-3ac5-405f-8ed6-49e1326a68f5",
   "metadata": {},
   "outputs": [
    {
     "name": "stdout",
     "output_type": "stream",
     "text": [
      "2024-05-15 13:24:34.179885\n"
     ]
    }
   ],
   "source": [
    "import datetime as dt\n",
    "\n",
    "t = dt.datetime.now()\n",
    "print(t)"
   ]
  },
  {
   "cell_type": "code",
   "execution_count": 13,
   "id": "d0f4c914-1a13-4d43-a208-918dfb8b1027",
   "metadata": {},
   "outputs": [
    {
     "name": "stdout",
     "output_type": "stream",
     "text": [
      "May\n"
     ]
    }
   ],
   "source": [
    "print(t.strftime(\"%B\"))"
   ]
  },
  {
   "cell_type": "code",
   "execution_count": 25,
   "id": "dd1ca1fc-1ce7-49a4-a72a-17bdcc294e21",
   "metadata": {},
   "outputs": [
    {
     "name": "stdout",
     "output_type": "stream",
     "text": [
      "2024 05 15 Wednesday\n",
      "13 24 34 179885\n"
     ]
    }
   ],
   "source": [
    "print(t.strftime(\"%Y\"), t.strftime(\"%m\"), t.strftime(\"%d\"), t.strftime(\"%A\"))\n",
    "print(t.strftime(\"%H\"), t.strftime(\"%M\"), t.strftime(\"%S\"), t.strftime(\"%f\"))"
   ]
  },
  {
   "cell_type": "code",
   "execution_count": 39,
   "id": "294900bc-3d1c-406e-9604-db03a770cd73",
   "metadata": {},
   "outputs": [
    {
     "name": "stdout",
     "output_type": "stream",
     "text": [
      "15-05-2024\n",
      "13:24:34.179885\n"
     ]
    }
   ],
   "source": [
    "print(f\"{t.strftime('%d')}-{t.strftime('%m')}-{t.strftime('%Y')}\" )\n",
    "\n",
    "print(f\"{t.strftime('%H')}:{t.strftime('%M')}:{t.strftime('%S')}.{t.strftime('%f')}\" )"
   ]
  },
  {
   "cell_type": "code",
   "execution_count": 54,
   "id": "bbce4892-c29a-440a-9eef-0568ddcfe70c",
   "metadata": {},
   "outputs": [
    {
     "name": "stdout",
     "output_type": "stream",
     "text": [
      "Nous somme le 15-05-2024    et il est  13:40:22.814671    \n"
     ]
    }
   ],
   "source": [
    "def current_time():\n",
    "    import datetime as dt\n",
    "\n",
    "    t = dt.datetime.now()\n",
    "\n",
    "    print(f\"Nous somme le {t.strftime('%d')}-{t.strftime('%m')}-{t.strftime('%Y')}\\\n",
    "    et il est  {t.strftime('%H')}:{t.strftime('%M')}:{t.strftime('%S')}.{t.strftime('%f')}\\\n",
    "    \") \n",
    "\n",
    "current_time()"
   ]
  },
  {
   "cell_type": "code",
   "execution_count": 43,
   "id": "1f1ddfe1-f3f5-4c7a-a5a4-3e2201fd9d62",
   "metadata": {},
   "outputs": [
    {
     "name": "stdout",
     "output_type": "stream",
     "text": [
      "Nous somme le  15-05-2024\n"
     ]
    }
   ],
   "source": []
  },
  {
   "cell_type": "code",
   "execution_count": 48,
   "id": "a539c655-5d6e-4092-a08a-3d7995a64009",
   "metadata": {},
   "outputs": [],
   "source": [
    "def current_time():\n",
    "    import datetime as dt\n",
    "\n",
    "    t = dt.datetime.now()\n",
    "\n",
    "    # Using a single call to strftime for the entire format string\n",
    "    print(t.strftime(\"Nous sommes le %d-%m-%Y et il est %H:%M:%S.%f\"))"
   ]
  },
  {
   "cell_type": "code",
   "execution_count": 49,
   "id": "4ab6b6f6-8546-4af0-a5db-974c6f08a05e",
   "metadata": {},
   "outputs": [
    {
     "name": "stdout",
     "output_type": "stream",
     "text": [
      "Nous sommes le 15-05-2024 et il est 13:39:09.993620\n"
     ]
    }
   ],
   "source": [
    "current_time()"
   ]
  },
  {
   "cell_type": "code",
   "execution_count": 58,
   "id": "bce33f1d-be2f-421c-9211-8522809f91d8",
   "metadata": {},
   "outputs": [
    {
     "name": "stdout",
     "output_type": "stream",
     "text": [
      "Requirement already satisfied: colorama in /Users/awf/.pyenv/versions/3.10.13/lib/python3.10/site-packages (0.4.6)\n",
      "\n",
      "[notice] A new release of pip is available: 23.0.1 -> 24.0\n",
      "[notice] To update, run: pip install --upgrade pip\n"
     ]
    }
   ],
   "source": [
    "!pip install colorama"
   ]
  },
  {
   "cell_type": "code",
   "execution_count": 60,
   "id": "d78862ab-a975-4b89-9388-f40269e15864",
   "metadata": {},
   "outputs": [
    {
     "name": "stdout",
     "output_type": "stream",
     "text": [
      "Nous sommes le 15-05-2024 et il est 13:42:48.659187\n"
     ]
    }
   ],
   "source": [
    "from colorama import Fore, Style, init\n",
    "import datetime as dt\n",
    "\n",
    "# Initialize colorama\n",
    "init(autoreset=True)\n",
    "\n",
    "def current_time():\n",
    "    t = dt.datetime.now()\n",
    "\n",
    "    day = t.strftime('%d')\n",
    "    month = t.strftime('%m')\n",
    "    year = t.strftime('%Y')\n",
    "    hour = t.strftime('%H')\n",
    "    minute = t.strftime('%M')\n",
    "    second = t.strftime('%S')\n",
    "    microsecond = t.strftime('%f')\n",
    "\n",
    "    print(f\"{Fore.BLUE}Nous sommes le {Fore.RED}{day}-{month}-{year} \"\n",
    "          f\"{Fore.BLUE}et il est {Fore.GREEN}{hour}:{minute}:{second}.{microsecond}\")\n",
    "\n",
    "# Call the function\n",
    "current_time()"
   ]
  },
  {
   "cell_type": "code",
   "execution_count": null,
   "id": "827a93b7-9d3d-490d-a26f-91fbcc145cba",
   "metadata": {},
   "outputs": [],
   "source": []
  },
  {
   "cell_type": "code",
   "execution_count": 62,
   "id": "c0e98a9e-9e40-44f1-bbc4-f79740f6b6cf",
   "metadata": {},
   "outputs": [
    {
     "data": {
      "text/html": [
       "\n",
       "    <p style=\"color: blue;\">Nous sommes le \n",
       "        <span style=\"color: red;\">15-05-2024</span> \n",
       "        et il est \n",
       "        <span style=\"color: green;\">13:45:01.066544</span>\n",
       "    </p>\n",
       "    "
      ],
      "text/plain": [
       "<IPython.core.display.HTML object>"
      ]
     },
     "metadata": {},
     "output_type": "display_data"
    }
   ],
   "source": [
    "from IPython.display import HTML, display\n",
    "import datetime as dt\n",
    "\n",
    "def current_time():\n",
    "    t = dt.datetime.now()\n",
    "\n",
    "    day = t.strftime('%d')\n",
    "    month = t.strftime('%m')\n",
    "    year = t.strftime('%Y')\n",
    "    hour = t.strftime('%H')\n",
    "    minute = t.strftime('%M')\n",
    "    second = t.strftime('%S')\n",
    "    microsecond = t.strftime('%f')\n",
    "\n",
    "    html_content = f\"\"\"\n",
    "    <p style=\"color: blue;\">Nous sommes le \n",
    "        <span style=\"color: red;\">{day}-{month}-{year}</span> \n",
    "        et il est \n",
    "        <span style=\"color: green;\">{hour}:{minute}:{second}.{microsecond}</span>\n",
    "    </p>\n",
    "    \"\"\"\n",
    "    \n",
    "    display(HTML(html_content))\n",
    "\n",
    "# Call the function\n",
    "current_time()\n"
   ]
  },
  {
   "cell_type": "code",
   "execution_count": 65,
   "id": "a6e8076a-506b-4f4b-85d8-c25b1428fe08",
   "metadata": {},
   "outputs": [],
   "source": [
    "#!pip install rich"
   ]
  },
  {
   "cell_type": "code",
   "execution_count": 64,
   "id": "b3b932d5-6cb3-4baa-98f7-3ad9a008f87f",
   "metadata": {},
   "outputs": [
    {
     "data": {
      "text/html": [
       "<pre style=\"white-space:pre;overflow-x:auto;line-height:normal;font-family:Menlo,'DejaVu Sans Mono',consolas,'Courier New',monospace\"><span style=\"color: #000080; text-decoration-color: #000080\">Nous sommes le </span><span style=\"color: #800000; text-decoration-color: #800000\">15-05-2024 </span><span style=\"color: #000080; text-decoration-color: #000080\">et il est </span><span style=\"color: #008000; text-decoration-color: #008000\">13:46:28.355935</span>\n",
       "</pre>\n"
      ],
      "text/plain": [
       "\u001b[34mNous sommes le \u001b[0m\u001b[31m15-05-2024 \u001b[0m\u001b[34met il est \u001b[0m\u001b[32m13:46:28.355935\u001b[0m\n"
      ]
     },
     "metadata": {},
     "output_type": "display_data"
    }
   ],
   "source": [
    "from rich.console import Console\n",
    "from rich.text import Text\n",
    "import datetime as dt\n",
    "\n",
    "# Create a Console instance\n",
    "console = Console()\n",
    "\n",
    "def current_time():\n",
    "    t = dt.datetime.now()\n",
    "\n",
    "    day = t.strftime('%d')\n",
    "    month = t.strftime('%m')\n",
    "    year = t.strftime('%Y')\n",
    "    hour = t.strftime('%H')\n",
    "    minute = t.strftime('%M')\n",
    "    second = t.strftime('%S')\n",
    "    microsecond = t.strftime('%f')\n",
    "\n",
    "    text = Text()\n",
    "    text.append(\"Nous sommes le \", style=\"blue\")\n",
    "    text.append(f\"{day}-{month}-{year} \", style=\"red\")\n",
    "    text.append(\"et il est \", style=\"blue\")\n",
    "    text.append(f\"{hour}:{minute}:{second}.{microsecond}\", style=\"green\")\n",
    "\n",
    "    console.print(text)\n",
    "\n",
    "# Call the function\n",
    "current_time()\n"
   ]
  },
  {
   "cell_type": "code",
   "execution_count": null,
   "id": "b1e3c5f8-1310-4323-831c-7be1365ca795",
   "metadata": {},
   "outputs": [],
   "source": []
  }
 ],
 "metadata": {
  "kernelspec": {
   "display_name": "Python 3 (ipykernel)",
   "language": "python",
   "name": "python3"
  },
  "language_info": {
   "codemirror_mode": {
    "name": "ipython",
    "version": 3
   },
   "file_extension": ".py",
   "mimetype": "text/x-python",
   "name": "python",
   "nbconvert_exporter": "python",
   "pygments_lexer": "ipython3",
   "version": "3.10.13"
  }
 },
 "nbformat": 4,
 "nbformat_minor": 5
}
