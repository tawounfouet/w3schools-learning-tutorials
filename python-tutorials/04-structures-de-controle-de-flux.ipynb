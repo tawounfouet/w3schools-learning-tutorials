{
 "cells": [
  {
   "cell_type": "code",
   "execution_count": null,
   "id": "04b11684-a4c4-4215-bfe5-4d945e5fc44a",
   "metadata": {},
   "outputs": [],
   "source": []
  },
  {
   "cell_type": "markdown",
   "id": "e3c41363-55ac-4f87-8386-4e2cff8aa3c9",
   "metadata": {},
   "source": [
    "En Python, les **structures de contrôle de flux** que sont if-else, while, et for sont appelées :\n",
    "\n",
    "1. Instructions conditionnelles pour **if-else**:\n",
    "    - `if` :  permet de tester une condition et d'exécuter un bloc de code si la condition est vraie.\n",
    "    - `else` : est optionnel et permet d'exécuter un bloc de code si la condition testée par if est fausse.\n",
    "    - `elif` : (abréviation de \"else if\") permet de tester une condition supplémentaire si les conditions précédentes sont fausses.\n",
    "\n",
    "2. Boucles pour **while et for**:\n",
    "    - `while` est une boucle qui exécute répétitivement un bloc de code tant que la condition est vraie.\n",
    "    - `for` est une boucle qui itère sur les éléments d'une séquence (comme une liste, un tuple ou une chaîne de caractères), ou tout autre objet itérable.\n",
    "\n",
    "      \n",
    "Ces éléments sont fondamentaux pour contrôler le déroulement d'un programme en Python. Ils permettent de prendre des décisions (avec **if-else**) ou de répéter des actions (avec **while et for**)."
   ]
  },
  {
   "cell_type": "markdown",
   "id": "c7876961-19ec-4ce6-8d58-f41032f487b0",
   "metadata": {},
   "source": [
    "# Python If ... Else"
   ]
  },
  {
   "cell_type": "markdown",
   "id": "281a73eb-47a7-47c6-87fa-243d8dd12e4f",
   "metadata": {},
   "source": [
    "## Python Conditions and If statements\n",
    "\n",
    "Python supports the usual logical conditions from mathematics:\n",
    "\n",
    "- Equals: `a == b`\n",
    "- Not Equals: `a != b`\n",
    "- Less than: `a < b`\n",
    "- Less than or equal to: `a <= b`\n",
    "- Greater than: `a > b`\n",
    "- Greater than or equal to: `a >= b`\n",
    "\n",
    "These conditions can be used in several ways, most commonly in **\"if statements\"** and **loops**.\n",
    "\n",
    "An **\"if statement\"** is written by using the if keyword.\n"
   ]
  },
  {
   "cell_type": "code",
   "execution_count": 2,
   "id": "86dc6088-dec8-4437-8a7a-d28db369e845",
   "metadata": {},
   "outputs": [
    {
     "name": "stdout",
     "output_type": "stream",
     "text": [
      "b is greater than a\n"
     ]
    }
   ],
   "source": [
    "# Example - If statement:\n",
    "\n",
    "a = 33\n",
    "b = 200\n",
    "\n",
    "if b > a:\n",
    "  print(\"b is greater than a\")"
   ]
  },
  {
   "cell_type": "markdown",
   "id": "f4f15933-10d5-47c0-96c2-5f18b7776793",
   "metadata": {},
   "source": [
    "In this example we use two variables, `a and b`, which are used as part of the if statement to test whether b is greater than a. As a is 33, and b is 200, we know that 200 is greater than 33, and so we print to screen that \"b is greater than a\".\n",
    "\n",
    "## Indentation\n",
    "\n",
    "Python relies on indentation (whitespace at the beginning of a line) to define scope in the code. Other programming languages often use curly-brackets for this purpose.\n"
   ]
  },
  {
   "cell_type": "code",
   "execution_count": 3,
   "id": "29dd7ac9-ccee-4cb2-ac07-ab3850201138",
   "metadata": {},
   "outputs": [
    {
     "ename": "IndentationError",
     "evalue": "expected an indented block after 'if' statement on line 5 (1735459951.py, line 6)",
     "output_type": "error",
     "traceback": [
      "\u001b[0;36m  Cell \u001b[0;32mIn[3], line 6\u001b[0;36m\u001b[0m\n\u001b[0;31m    print(\"b is greater than a\") # you will get an error\u001b[0m\n\u001b[0m    ^\u001b[0m\n\u001b[0;31mIndentationError\u001b[0m\u001b[0;31m:\u001b[0m expected an indented block after 'if' statement on line 5\n"
     ]
    }
   ],
   "source": [
    "# Example - If statement, without indentation (will raise an error):\n",
    "\n",
    "a = 33\n",
    "b = 200\n",
    "if b > a:\n",
    "print(\"b is greater than a\") # you will get an error"
   ]
  },
  {
   "cell_type": "markdown",
   "id": "71fc5767-7a26-42a9-a184-f8a0a19fb374",
   "metadata": {},
   "source": [
    "## Elif\n",
    "\n",
    "The `elif`keyword is Python's way of saying \"if the previous conditions were not true, then try this condition\".\n"
   ]
  },
  {
   "cell_type": "code",
   "execution_count": 4,
   "id": "f0f843d5-f1bc-4b26-b2aa-ff6ed45809f6",
   "metadata": {},
   "outputs": [
    {
     "name": "stdout",
     "output_type": "stream",
     "text": [
      "a and b are equal\n"
     ]
    }
   ],
   "source": [
    "# Example\n",
    "\n",
    "a = 33\n",
    "b = 33\n",
    "if b > a:\n",
    "  print(\"b is greater than a\")\n",
    "elif a == b:\n",
    "  print(\"a and b are equal\")"
   ]
  },
  {
   "cell_type": "markdown",
   "id": "2e0bb1e4-3fb8-4852-98de-9660c54abdec",
   "metadata": {},
   "source": [
    "In this example a is equal to b, so the first condition is not true, but the elif condition is true, so we print to screen that \"a and b are equal\".\n"
   ]
  },
  {
   "cell_type": "markdown",
   "id": "2b9f1e19-5384-47c5-9ca3-b5db6b4adafb",
   "metadata": {},
   "source": [
    "## Else\n",
    "\n",
    "The else keyword catches anything which isn't caught by the preceding conditions."
   ]
  },
  {
   "cell_type": "code",
   "execution_count": 5,
   "id": "13095d0a-ffba-4468-b455-d945238c3183",
   "metadata": {},
   "outputs": [
    {
     "name": "stdout",
     "output_type": "stream",
     "text": [
      "a is greater than b\n"
     ]
    }
   ],
   "source": [
    "# Example\n",
    "\n",
    "a = 200\n",
    "b = 33\n",
    "\n",
    "if b > a:\n",
    "  print(\"b is greater than a\")\n",
    "elif a == b:\n",
    "  print(\"a and b are equal\")\n",
    "else:\n",
    "  print(\"a is greater than b\")"
   ]
  },
  {
   "cell_type": "markdown",
   "id": "739d96fa-ac3e-4e17-8cd2-bd1646c2ffcd",
   "metadata": {},
   "source": [
    "In this example a is greater than b, so the first condition is not true, also the elif condition is not true, so we go to the else condition and print to screen that \"a is greater than b\".\n",
    "\n",
    "You can also have an else without the elif:\n"
   ]
  },
  {
   "cell_type": "code",
   "execution_count": 6,
   "id": "035fa34a-76d8-4b35-9313-9373117e2248",
   "metadata": {},
   "outputs": [
    {
     "name": "stdout",
     "output_type": "stream",
     "text": [
      "b is not greater than a\n"
     ]
    }
   ],
   "source": [
    "# Example\n",
    "\n",
    "a = 200\n",
    "b = 33\n",
    "if b > a:\n",
    "  print(\"b is greater than a\")\n",
    "else:\n",
    "  print(\"b is not greater than a\")"
   ]
  },
  {
   "cell_type": "markdown",
   "id": "23a512da-6437-4c66-8470-2182eb7240a1",
   "metadata": {},
   "source": [
    "## Short Hand If\n",
    "\n",
    "If you have only one statement to execute, you can put it on the same line as the if statement."
   ]
  },
  {
   "cell_type": "code",
   "execution_count": 8,
   "id": "ea45376f-2be9-4ffc-b42c-43348f662d52",
   "metadata": {},
   "outputs": [
    {
     "name": "stdout",
     "output_type": "stream",
     "text": [
      "a is greater than b\n"
     ]
    }
   ],
   "source": [
    "# Example - One line if statement:\n",
    "\n",
    "a = 200\n",
    "b = 33\n",
    "\n",
    "if a > b: print(\"a is greater than b\")"
   ]
  },
  {
   "cell_type": "markdown",
   "id": "4af3a6a5-0d7a-4597-8a69-6f0e09a1ce55",
   "metadata": {},
   "source": [
    "## Short Hand If ... Else\n",
    "\n",
    "If you have only one statement to execute, one for if, and one for else, you can put it all on the same line:\n"
   ]
  },
  {
   "cell_type": "code",
   "execution_count": 9,
   "id": "908ddede-84c4-4718-9b21-475f27d1f0b3",
   "metadata": {},
   "outputs": [
    {
     "name": "stdout",
     "output_type": "stream",
     "text": [
      "B\n"
     ]
    }
   ],
   "source": [
    "# Example - One line if else statement:\n",
    "\n",
    "a = 2\n",
    "b = 330\n",
    "\n",
    "print(\"A\") if a > b else print(\"B\")"
   ]
  },
  {
   "cell_type": "markdown",
   "id": "56211a9a-0fd9-499e-a104-804f09ae2e92",
   "metadata": {},
   "source": [
    "`This technique is known as Ternary Operators, or Conditional Expressions.`\n",
    "\n",
    "You can also have multiple else statements on the same line:"
   ]
  },
  {
   "cell_type": "code",
   "execution_count": 10,
   "id": "a10eae95-1939-400e-b781-32f63787cbc8",
   "metadata": {},
   "outputs": [
    {
     "name": "stdout",
     "output_type": "stream",
     "text": [
      "=\n"
     ]
    }
   ],
   "source": [
    "# Example - One line if else statement, with 3 conditions:\n",
    "\n",
    "a = 330\n",
    "b = 330\n",
    "print(\"A\") if a > b else print(\"=\") if a == b else print(\"B\")"
   ]
  },
  {
   "cell_type": "markdown",
   "id": "cfa3c35d-ebfe-4253-8813-4169ca55f252",
   "metadata": {},
   "source": [
    "## And\n",
    "\n",
    "The and keyword is a logical operator, and is used to combine conditional statements:\n",
    "\n"
   ]
  },
  {
   "cell_type": "code",
   "execution_count": 11,
   "id": "d1b4a54c-a74a-4442-a1c6-6992bd7f6625",
   "metadata": {},
   "outputs": [
    {
     "name": "stdout",
     "output_type": "stream",
     "text": [
      "Both conditions are True\n"
     ]
    }
   ],
   "source": [
    "# Example - Test if a is greater than b, AND if c is greater than a:\n",
    "\n",
    "a = 200\n",
    "b = 33\n",
    "c = 500\n",
    "\n",
    "if a > b and c > a:\n",
    "  print(\"Both conditions are True\")"
   ]
  },
  {
   "cell_type": "markdown",
   "id": "30da7174-9a7d-472f-8f73-01c2ac97e16b",
   "metadata": {},
   "source": [
    "## Or\n",
    "\n",
    "The or keyword is a logical operator, and is used to combine conditional statements:"
   ]
  },
  {
   "cell_type": "code",
   "execution_count": 12,
   "id": "1fbe3ecb-5d3e-4c32-934c-4e6662e6daf8",
   "metadata": {},
   "outputs": [
    {
     "name": "stdout",
     "output_type": "stream",
     "text": [
      "At least one of the conditions is True\n"
     ]
    }
   ],
   "source": [
    "# Example - Test if a is greater than b, OR if a is greater than c:\n",
    "\n",
    "a = 200\n",
    "b = 33\n",
    "c = 500\n",
    "\n",
    "if a > b or a > c:\n",
    "  print(\"At least one of the conditions is True\")"
   ]
  },
  {
   "cell_type": "markdown",
   "id": "4ee81568-cb1e-45b7-a65f-d10d8c538a46",
   "metadata": {},
   "source": [
    "## Not\n",
    "The `not` keyword is a logical operator, and is used to reverse the result of the conditional statement:"
   ]
  },
  {
   "cell_type": "code",
   "execution_count": 13,
   "id": "ad2cb9b8-2db8-4d31-8043-384bcd2eb55f",
   "metadata": {},
   "outputs": [
    {
     "name": "stdout",
     "output_type": "stream",
     "text": [
      "a is NOT greater than b\n"
     ]
    }
   ],
   "source": [
    "#Example - Test if a is NOT greater than b:\n",
    "\n",
    "a = 33\n",
    "b = 200\n",
    "\n",
    "if not a > b:\n",
    "  print(\"a is NOT greater than b\")"
   ]
  },
  {
   "cell_type": "markdown",
   "id": "d8701bc1-0e7d-4098-ac8a-b225d630d05a",
   "metadata": {},
   "source": [
    "## Nested If\n",
    "\n",
    "You can have `if statements inside if statements`, this is called **nested if statements**."
   ]
  },
  {
   "cell_type": "code",
   "execution_count": 14,
   "id": "2be8a538-e075-4ecb-9991-a26de9458023",
   "metadata": {},
   "outputs": [
    {
     "name": "stdout",
     "output_type": "stream",
     "text": [
      "Above ten,\n",
      "and also above 20!\n"
     ]
    }
   ],
   "source": [
    "x = 41\n",
    "\n",
    "if x > 10:\n",
    "  print(\"Above ten,\")\n",
    "  if x > 20:\n",
    "    print(\"and also above 20!\")\n",
    "  else:\n",
    "    print(\"but not above 20.\")"
   ]
  },
  {
   "cell_type": "markdown",
   "id": "fcde518c-3a6e-48f6-aeaf-82341f25d6d7",
   "metadata": {},
   "source": [
    "## The pass Statement\n",
    "\n",
    "if statements `cannot be empty`, but if you for some reason have an if statement with no content, put in the pass statement to avoid getting an error."
   ]
  },
  {
   "cell_type": "code",
   "execution_count": 15,
   "id": "28c0f939-76ae-4c9b-98c9-0bdd3d45304e",
   "metadata": {},
   "outputs": [],
   "source": [
    "a = 33\n",
    "b = 200\n",
    "\n",
    "if b > a:\n",
    "  pass"
   ]
  },
  {
   "cell_type": "markdown",
   "id": "ca4127b4-d47c-4020-80e9-249da8cf79d1",
   "metadata": {},
   "source": [
    "## Exercises"
   ]
  },
  {
   "cell_type": "code",
   "execution_count": 16,
   "id": "d8e0cf72-df37-4d08-b25a-9fe873faa09c",
   "metadata": {},
   "outputs": [
    {
     "name": "stdout",
     "output_type": "stream",
     "text": [
      "2\n"
     ]
    }
   ],
   "source": [
    "# Print \"1\" if a is equal to b, print \"2\" if a is greater than b, otherwise print \"3\".\n",
    "\n",
    "\n",
    "a = 50\n",
    "b = 10\n",
    "\n",
    "if a == b:\n",
    "  print(\"1\")\n",
    "elif a > b:\n",
    "  print(\"2\")\n",
    "else:\n",
    "  print(\"3\")"
   ]
  },
  {
   "cell_type": "code",
   "execution_count": 20,
   "id": "8eb3cfa3-3a11-460a-be4d-93ed23651770",
   "metadata": {},
   "outputs": [],
   "source": [
    "# Print \"Hello\" if a is equal to b, and c is equal to d.\n",
    "\n",
    "a = 50\n",
    "b = 10\n",
    "\n",
    "if a == b and c == d:\n",
    "  print(\"Hello\")"
   ]
  },
  {
   "cell_type": "code",
   "execution_count": 22,
   "id": "5d8660a7-d151-4e71-a3a0-3d6ed841265a",
   "metadata": {},
   "outputs": [
    {
     "name": "stdout",
     "output_type": "stream",
     "text": [
      "Hello\n"
     ]
    }
   ],
   "source": [
    "#Print \"Hello\" if a is equal to b, or if c is equal to d.\n",
    "\n",
    "a = 50\n",
    "b = 10\n",
    "c = 20\n",
    "d = 20\n",
    "\n",
    "if a == b  or c == d:\n",
    "  print(\"Hello\")"
   ]
  },
  {
   "cell_type": "code",
   "execution_count": 25,
   "id": "e3d18332-3008-40f0-8674-a40f673cb44d",
   "metadata": {},
   "outputs": [
    {
     "name": "stdout",
     "output_type": "stream",
     "text": [
      "YES\n"
     ]
    }
   ],
   "source": [
    "# Complete the code block, print \"YES\" if 5 is larger than 2.\n",
    "\n",
    "#Hint: remember the indentation.\n",
    "\n",
    "\n",
    "if 5 > 2:\n",
    "    print(\"YES\")"
   ]
  },
  {
   "cell_type": "code",
   "execution_count": 27,
   "id": "a9f8ff58-4a66-4c20-a4ff-7ced8ebcdf03",
   "metadata": {},
   "outputs": [
    {
     "name": "stdout",
     "output_type": "stream",
     "text": [
      "NO\n"
     ]
    }
   ],
   "source": [
    "# Use the correct one line short hand syntax to print \"YES\" if a is equal to b, otherwise print(\"NO\").\n",
    "\n",
    "\n",
    "a = 2\n",
    "b = 5\n",
    "\n",
    "print(\"YES\") if a == b else print(\"NO\")"
   ]
  },
  {
   "cell_type": "code",
   "execution_count": 28,
   "id": "e223a4fe-0805-4e25-8c9c-3e00ade13212",
   "metadata": {},
   "outputs": [
    {
     "name": "stdout",
     "output_type": "stream",
     "text": [
      "YES\n"
     ]
    }
   ],
   "source": [
    "# Use an if statement to print \"YES\" if either a or b is equal to c.\n",
    "\n",
    "\n",
    "a = 2\n",
    "b = 50\n",
    "c = 2\n",
    "\n",
    "if a == c or b == c:\n",
    "  print(\"YES\")"
   ]
  },
  {
   "cell_type": "markdown",
   "id": "b5031ab9-4b49-4c99-a962-854948884baf",
   "metadata": {},
   "source": [
    "# Python While Loops\n",
    "\n",
    "Python has two primitive loop commands:\n",
    "\n",
    "while loops\n",
    "for loops\n",
    "\n",
    "## The while Loop\n",
    "With the while loop we can execute a set of statements as long as a condition is true."
   ]
  },
  {
   "cell_type": "code",
   "execution_count": 29,
   "id": "dfaea384-e132-4ddb-bf24-ec375b8c6e80",
   "metadata": {},
   "outputs": [
    {
     "name": "stdout",
     "output_type": "stream",
     "text": [
      "1\n",
      "2\n",
      "3\n",
      "4\n",
      "5\n"
     ]
    }
   ],
   "source": [
    "# Example - Print i as long as i is less than 6:\n",
    "\n",
    "i = 1\n",
    "\n",
    "while i < 6:\n",
    "  print(i)\n",
    "  i += 1"
   ]
  },
  {
   "cell_type": "markdown",
   "id": "7794752b-9c3e-4103-a67a-26383cb3b552",
   "metadata": {},
   "source": [
    "`Note: remember to increment i, or else the loop will continue forever.`\n",
    "\n",
    "The while loop requires relevant variables to be ready, in this example we need to define an indexing variable, i, which we set to 1.\n",
    "\n",
    "\n",
    "## The break Statement\n",
    "\n",
    "With the break statement we can stop the loop even if the while condition is true:"
   ]
  },
  {
   "cell_type": "code",
   "execution_count": 30,
   "id": "6d0dcf77-c624-456c-a91e-eb5687e6b6a1",
   "metadata": {},
   "outputs": [
    {
     "name": "stdout",
     "output_type": "stream",
     "text": [
      "1\n",
      "2\n",
      "3\n"
     ]
    }
   ],
   "source": [
    "# Example - Exit the loop when i is 3:\n",
    "\n",
    "i = 1\n",
    "\n",
    "while i < 6:\n",
    "  print(i)\n",
    "  if i == 3:\n",
    "    break\n",
    "  i += 1"
   ]
  },
  {
   "cell_type": "markdown",
   "id": "f04389e0-68b5-4b69-87e7-23635a36eb8a",
   "metadata": {},
   "source": [
    "## The continue Statement\n",
    "\n",
    "With the continue statement we can stop the current iteration, and continue with the next:"
   ]
  },
  {
   "cell_type": "code",
   "execution_count": 31,
   "id": "083f1438-32c3-49dd-a591-b62ab76fdd45",
   "metadata": {},
   "outputs": [
    {
     "name": "stdout",
     "output_type": "stream",
     "text": [
      "1\n",
      "2\n",
      "4\n",
      "5\n",
      "6\n"
     ]
    }
   ],
   "source": [
    "# Example - Continue to the next iteration if i is 3:\n",
    "\n",
    "i = 0\n",
    "\n",
    "while i < 6:\n",
    "  i += 1\n",
    "  if i == 3:\n",
    "    continue\n",
    "  print(i)"
   ]
  },
  {
   "cell_type": "markdown",
   "id": "c32868dd-6770-4a7b-9c09-b48498afb5a9",
   "metadata": {},
   "source": [
    "## The else Statement\n",
    "\n",
    "With the else statement we can run a block of code once when the condition no longer is true:"
   ]
  },
  {
   "cell_type": "code",
   "execution_count": 32,
   "id": "17c99656-8a83-4e14-9f02-a36648dd7b96",
   "metadata": {},
   "outputs": [
    {
     "name": "stdout",
     "output_type": "stream",
     "text": [
      "1\n",
      "2\n",
      "3\n",
      "4\n",
      "5\n",
      "i is no longer less than 6\n"
     ]
    }
   ],
   "source": [
    "# Example - Print a message once the condition is false:\n",
    "\n",
    "i = 1\n",
    "\n",
    "while i < 6:\n",
    "  print(i)\n",
    "  i += 1\n",
    "else:\n",
    "  print(\"i is no longer less than 6\")"
   ]
  },
  {
   "cell_type": "markdown",
   "id": "41607a2f-9717-4f42-89e2-899c9ebe3630",
   "metadata": {},
   "source": [
    "# Python For Loops\n",
    "\n",
    "A `for loop` is used for iterating over a sequence (that is either a list, a tuple, a dictionary, a set, or a string).\n",
    "\n",
    "This is less like the for keyword in other programming languages, and works more like an iterator method as found in other object-orientated programming languages.\n",
    "\n",
    "With the for loop we can execute a set of statements, once for each item in a list, tuple, set etc."
   ]
  },
  {
   "cell_type": "code",
   "execution_count": 33,
   "id": "756aa699-a316-4517-b239-99e15a0cfb2d",
   "metadata": {},
   "outputs": [
    {
     "name": "stdout",
     "output_type": "stream",
     "text": [
      "apple\n",
      "banana\n",
      "cherry\n"
     ]
    }
   ],
   "source": [
    "# Example - Print each fruit in a fruit list:\n",
    "\n",
    "fruits = [\"apple\", \"banana\", \"cherry\"]\n",
    "\n",
    "for x in fruits:\n",
    "  print(x)"
   ]
  },
  {
   "cell_type": "markdown",
   "id": "c421e162-429e-4826-853b-ce324878479f",
   "metadata": {},
   "source": [
    "`The for loop does not require an indexing variable to set beforehand.`\n",
    "\n",
    "## Looping Through a String\n",
    "Even strings are iterable objects, they contain a sequence of characters:"
   ]
  },
  {
   "cell_type": "code",
   "execution_count": 34,
   "id": "f52d14ef-a1ae-4576-b3fb-33e2b0b1592b",
   "metadata": {},
   "outputs": [
    {
     "name": "stdout",
     "output_type": "stream",
     "text": [
      "b\n",
      "a\n",
      "n\n",
      "a\n",
      "n\n",
      "a\n"
     ]
    }
   ],
   "source": [
    "# Example - Loop through the letters in the word \"banana\":\n",
    "\n",
    "for x in \"banana\":\n",
    "  print(x)"
   ]
  },
  {
   "cell_type": "markdown",
   "id": "aa2a17d4-d56b-4817-acf7-d7872af69f36",
   "metadata": {},
   "source": [
    "## The break Statement\n",
    "\n",
    "With the break statement we can stop the loop before it has looped through all the items:"
   ]
  },
  {
   "cell_type": "code",
   "execution_count": 35,
   "id": "723dac2c-6850-47fb-b9c7-cf412b46bd00",
   "metadata": {},
   "outputs": [
    {
     "name": "stdout",
     "output_type": "stream",
     "text": [
      "apple\n",
      "banana\n"
     ]
    }
   ],
   "source": [
    "# Example - Exit the loop when x is \"banana\":\n",
    "\n",
    "fruits = [\"apple\", \"banana\", \"cherry\"]\n",
    "\n",
    "for x in fruits:\n",
    "  print(x)\n",
    "  if x == \"banana\":\n",
    "    break"
   ]
  },
  {
   "cell_type": "code",
   "execution_count": 36,
   "id": "8b299d7e-6d55-482a-a7f9-86ccea2481fb",
   "metadata": {},
   "outputs": [
    {
     "name": "stdout",
     "output_type": "stream",
     "text": [
      "apple\n"
     ]
    }
   ],
   "source": [
    "# Example - Exit the loop when x is \"banana\", but this time the break comes before the print:\n",
    "\n",
    "fruits = [\"apple\", \"banana\", \"cherry\"]\n",
    "\n",
    "for x in fruits:\n",
    "  if x == \"banana\":\n",
    "    break\n",
    "  print(x)"
   ]
  },
  {
   "cell_type": "markdown",
   "id": "7c70fa11-afdc-4cbe-ba1f-5b817fe513a7",
   "metadata": {},
   "source": [
    "## The continue Statement\n",
    "\n",
    "With the continue statement we can stop the current iteration of the loop, and continue with the next:"
   ]
  },
  {
   "cell_type": "code",
   "execution_count": 37,
   "id": "43382785-111e-4d7b-b496-1a2dffe83de3",
   "metadata": {},
   "outputs": [
    {
     "name": "stdout",
     "output_type": "stream",
     "text": [
      "apple\n",
      "cherry\n"
     ]
    }
   ],
   "source": [
    "# Example - Do not print banana:\n",
    "\n",
    "fruits = [\"apple\", \"banana\", \"cherry\"]\n",
    "\n",
    "for x in fruits:\n",
    "  if x == \"banana\":\n",
    "    continue\n",
    "  print(x)"
   ]
  },
  {
   "cell_type": "markdown",
   "id": "4cf58802-93f5-486b-87c9-1131508f89c0",
   "metadata": {},
   "source": [
    "## The range() Function\n",
    "\n",
    "To loop through a set of code a specified number of times, we can use the `range() function`,\n",
    "\n",
    "The range() function returns a sequence of numbers, starting from 0 by default, and increments by 1 (by default), and ends at a specified number."
   ]
  },
  {
   "cell_type": "code",
   "execution_count": 38,
   "id": "77ea4373-d828-4cc6-ac0e-fd9a1ce43f2c",
   "metadata": {},
   "outputs": [
    {
     "name": "stdout",
     "output_type": "stream",
     "text": [
      "0\n",
      "1\n",
      "2\n",
      "3\n",
      "4\n",
      "5\n"
     ]
    }
   ],
   "source": [
    "# Example - Using the range() function:\n",
    "\n",
    "for x in range(6):\n",
    "  print(x)"
   ]
  },
  {
   "cell_type": "markdown",
   "id": "c27282a5-1e6e-418a-ad33-cd12441dfab6",
   "metadata": {},
   "source": [
    "`Note that range(6) is not the values of 0 to 6, but the values 0 to 5`\n",
    "\n",
    "The range() function defaults to 0 as a starting value, however it is possible to specify the starting value by adding a parameter: range(2, 6), which means values from 2 to 6 (but not including 6):"
   ]
  },
  {
   "cell_type": "code",
   "execution_count": 39,
   "id": "b4954e2e-ec5a-4e1f-ad14-55445c2eff64",
   "metadata": {},
   "outputs": [
    {
     "name": "stdout",
     "output_type": "stream",
     "text": [
      "2\n",
      "3\n",
      "4\n",
      "5\n"
     ]
    }
   ],
   "source": [
    "# Example - Using the start parameter:\n",
    "\n",
    "for x in range(2, 6):\n",
    "  print(x)"
   ]
  },
  {
   "cell_type": "markdown",
   "id": "ef45ed8f-7380-4a82-9ec3-dd243e85ff5f",
   "metadata": {},
   "source": [
    "The `range()` function defaults to increment the sequence by 1, however it is possible to specify the increment value by adding a third parameter: range(2, 30, 3):\n",
    "\n"
   ]
  },
  {
   "cell_type": "code",
   "execution_count": 40,
   "id": "376306ca-7eb2-46a4-9fa1-f0c18550466f",
   "metadata": {},
   "outputs": [
    {
     "name": "stdout",
     "output_type": "stream",
     "text": [
      "2\n",
      "5\n",
      "8\n",
      "11\n",
      "14\n",
      "17\n",
      "20\n",
      "23\n",
      "26\n",
      "29\n"
     ]
    }
   ],
   "source": [
    "# Example - Increment the sequence with 3 (default is 1):\n",
    "\n",
    "for x in range(2, 30, 3):\n",
    "  print(x)"
   ]
  },
  {
   "cell_type": "markdown",
   "id": "06af49d4-00c3-4969-8b9f-08b66851588f",
   "metadata": {},
   "source": [
    "##  Else in For Loop\n",
    "\n",
    "The else keyword in a for loop specifies a block of code to be executed when the loop is finished:"
   ]
  },
  {
   "cell_type": "code",
   "execution_count": 41,
   "id": "d869926e-70c0-44d1-a1ef-22876951e33c",
   "metadata": {},
   "outputs": [
    {
     "name": "stdout",
     "output_type": "stream",
     "text": [
      "0\n",
      "1\n",
      "2\n",
      "3\n",
      "4\n",
      "5\n",
      "Finally finished!\n"
     ]
    }
   ],
   "source": [
    "# Example- Print all numbers from 0 to 5, and print a message when the loop has ended:\n",
    "\n",
    "for x in range(6):\n",
    "  print(x)\n",
    "else:\n",
    "  print(\"Finally finished!\")"
   ]
  },
  {
   "cell_type": "markdown",
   "id": "b944e0b5-9513-4f31-b296-731eeeea7d25",
   "metadata": {},
   "source": [
    "`Note: The else block will NOT be executed if the loop is stopped by a break statement.`"
   ]
  },
  {
   "cell_type": "code",
   "execution_count": 42,
   "id": "dea361f9-b4f0-4bbe-8d02-d458b3d0dcaf",
   "metadata": {},
   "outputs": [
    {
     "name": "stdout",
     "output_type": "stream",
     "text": [
      "0\n",
      "1\n",
      "2\n"
     ]
    }
   ],
   "source": [
    "# Example - Break the loop when x is 3, and see what happens with the else block:\n",
    "\n",
    "for x in range(6):\n",
    "  if x == 3: break\n",
    "  print(x)\n",
    "else:\n",
    "  print(\"Finally finished!\")"
   ]
  },
  {
   "cell_type": "markdown",
   "id": "f8b29dda-6d9c-494d-af14-2ed2eb64e224",
   "metadata": {},
   "source": [
    "## Nested Loops\n",
    "\n",
    "A nested loop is a loop inside a loop.\n",
    "\n",
    "The **\"inner loop\"** will be executed one time for each iteration of the \"outer loop\":"
   ]
  },
  {
   "cell_type": "code",
   "execution_count": 52,
   "id": "03b7d6e4-b2c1-428b-9405-2f09963c3f95",
   "metadata": {},
   "outputs": [
    {
     "name": "stdout",
     "output_type": "stream",
     "text": [
      "red apple\n",
      "red banana\n",
      "red cherry\n",
      "big apple\n",
      "big banana\n",
      "big cherry\n",
      "tasty apple\n",
      "tasty banana\n",
      "tasty cherry\n"
     ]
    }
   ],
   "source": [
    "# Example - Print each adjective for every fruit:\n",
    "\n",
    "adj = [\"red\", \"big\", \"tasty\"]\n",
    "fruits = [\"apple\", \"banana\", \"cherry\"]\n",
    "\n",
    "for x in adj:\n",
    "    #print(x)\n",
    "    for y in fruits:\n",
    "        #print(y)\n",
    "        print(x, y)"
   ]
  },
  {
   "cell_type": "markdown",
   "id": "58b29e4f-4d2a-4c78-b797-ce6b895f3611",
   "metadata": {},
   "source": [
    "## The pass Statement\n",
    "\n",
    "for loops cannot be empty, but if you for some reason have a for loop with no content, put in the pass statement to avoid getting an error."
   ]
  },
  {
   "cell_type": "code",
   "execution_count": 53,
   "id": "4edc2d2b-22a4-44c9-afdb-37fe265a43fe",
   "metadata": {},
   "outputs": [],
   "source": [
    "# Example\n",
    "\n",
    "for x in [0, 1, 2]:\n",
    "  pass"
   ]
  },
  {
   "cell_type": "code",
   "execution_count": null,
   "id": "bc1767d3-2100-4983-9709-2d83253b7f2c",
   "metadata": {},
   "outputs": [],
   "source": []
  }
 ],
 "metadata": {
  "kernelspec": {
   "display_name": "Python 3 (ipykernel)",
   "language": "python",
   "name": "python3"
  },
  "language_info": {
   "codemirror_mode": {
    "name": "ipython",
    "version": 3
   },
   "file_extension": ".py",
   "mimetype": "text/x-python",
   "name": "python",
   "nbconvert_exporter": "python",
   "pygments_lexer": "ipython3",
   "version": "3.10.13"
  }
 },
 "nbformat": 4,
 "nbformat_minor": 5
}
